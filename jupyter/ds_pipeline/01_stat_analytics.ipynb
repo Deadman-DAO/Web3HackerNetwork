{
 "cells": [
  {
   "cell_type": "code",
   "execution_count": 1,
   "id": "e63d86b5-4a5b-41a7-ab7b-9ba1b019e63b",
   "metadata": {},
   "outputs": [],
   "source": [
    "import sys\n",
    "project_root_path = '../..'\n",
    "python_lib_path = project_root_path + '/python/lib'\n",
    "sys.path.append(python_lib_path)\n",
    "import commit_stats"
   ]
  },
  {
   "cell_type": "code",
   "execution_count": 2,
   "id": "fcc54849-08bf-4c0f-a304-2901fc47bc70",
   "metadata": {},
   "outputs": [],
   "source": [
    "import json\n",
    "in_path = project_root_path + '/python/cfg/ds_pipeline.json'\n",
    "config_map = json.loads(open(in_path, 'r').read())\n",
    "config_map\n",
    "\n",
    "cfg = config_map['matt_language_analyzer'] # 99_problems"
   ]
  },
  {
   "cell_type": "code",
   "execution_count": 3,
   "id": "817954d0-b45c-4338-9b8a-b410ed615768",
   "metadata": {},
   "outputs": [
    {
     "data": {
      "text/plain": "[{'commit': 'd91d238c18dd8794a1031ed2f66d0a1591f88212',\n  'Author': 'Bacon Huang <bacon_huang@migocorp.com>',\n  'Date': '2020-08-26T11:11:48+00:00',\n  'orig_timezone': 'UTC+08:00',\n  'fileTypes': {'py': {'inserts': 4, 'deletes': 3, 'occurrences': 1}},\n  'file_list': {'sklearn/ensemble/_forest.py\\n': {'binary': 0,\n    'inserts': 4,\n    'deletes': 3}},\n  'seen_in': ['../active'],\n  'author_hash': '67657c47c7f9e3f85e81a33947f91931',\n  'iso_datetime': '2020-08-26T11:11:48+00:00',\n  'utc_datetime': '2020-08-26T11:11:48'},\n {'commit': '8ba49f628092fe3fb1deea101910006aa6c76d49',\n  'Author': 'Venkatachalam N <venky.yuvy@gmail.com>',\n  'Date': '2020-08-26T09:10:24+00:00',\n  'orig_timezone': 'UTC+05:30',\n  'fileTypes': {'rst': {'inserts': 13, 'deletes': 0, 'occurrences': 1},\n   'py': {'inserts': 101, 'deletes': 12, 'occurrences': 6}},\n  'file_list': {'doc/whats_new/v0.24.rst\\n': {'binary': 0,\n    'inserts': 13,\n    'deletes': 0},\n   'sklearn/ensemble/tests/test_common.py\\n': {'binary': 0,\n    'inserts': 33,\n    'deletes': 1},\n   'sklearn/multiclass.py\\n': {'binary': 0, 'inserts': 7, 'deletes': 5},\n   'sklearn/multioutput.py\\n': {'binary': 0, 'inserts': 5, 'deletes': 2},\n   'sklearn/tests/test_multiclass.py\\n': {'binary': 0,\n    'inserts': 20,\n    'deletes': 1},\n   'sklearn/tests/test_multioutput.py\\n': {'binary': 0,\n    'inserts': 25,\n    'deletes': 3},\n   'sklearn/tests/test_pipeline.py\\n': {'binary': 0,\n    'inserts': 11,\n    'deletes': 0}},\n  'seen_in': ['../active'],\n  'author_hash': '9a2909fc52050d244aec37d62a02ae00',\n  'iso_datetime': '2020-08-26T09:10:24+00:00',\n  'utc_datetime': '2020-08-26T09:10:24'}]"
     },
     "execution_count": 3,
     "metadata": {},
     "output_type": "execute_result"
    }
   ],
   "source": [
    "\n",
    "path = project_root_path + '/' + cfg['stats_dir']\n",
    "all_commit_stats = commit_stats.load_commit_stats(cfg['stat_file_name'], path)\n",
    "all_commit_stats[slice(0,2)]"
   ]
  },
  {
   "cell_type": "code",
   "execution_count": 4,
   "id": "3ae78256-aa44-40c3-bc42-ec3b72e4f486",
   "metadata": {},
   "outputs": [],
   "source": [
    "ft_dicts = []\n",
    "ft_dict_dict = {}\n",
    "for stats in all_commit_stats:\n",
    "    for file_type in stats['fileTypes']:\n",
    "        commit_ft_dict = stats['fileTypes'][file_type]\n",
    "        if file_type not in ft_dict_dict:\n",
    "            ft_dict = {}\n",
    "            ft_dicts.append(ft_dict)\n",
    "            ft_dict_dict[file_type] = ft_dict\n",
    "            ft_dict['type'] = file_type\n",
    "            ft_dict['lines'] = 0\n",
    "            ft_dict['files'] = 0\n",
    "            ft_dict['commits'] = 0\n",
    "            ft_dict['repos'] = {}\n",
    "        ft_dict = ft_dict_dict[file_type]\n",
    "        ft_dict['commits'] += 1\n",
    "        ft_dict['lines'] += commit_ft_dict['inserts']\n",
    "        ft_dict['files'] += commit_ft_dict['occurrences']\n",
    "        #seen_in = commit_ft_dict['seen_in']\n",
    "        #for project in seen_in:\n",
    "        #    ft_dict['repos'][project] = 1\n"
   ]
  },
  {
   "cell_type": "code",
   "execution_count": 5,
   "id": "2d37565e-4312-40ca-a7f6-b9663630172d",
   "metadata": {},
   "outputs": [
    {
     "name": "stdout",
     "output_type": "stream",
     "text": [
      "45\n"
     ]
    },
    {
     "data": {
      "text/plain": "[{'type': 'py',\n  'lines': 86964899,\n  'files': 3453687,\n  'commits': 1378129,\n  'repos': {}},\n {'type': 'rst',\n  'lines': 9566242,\n  'files': 451594,\n  'commits': 283764,\n  'repos': {}},\n {'type': 'noexttext',\n  'lines': 2949579,\n  'files': 231112,\n  'commits': 119625,\n  'repos': {}},\n {'type': 'c',\n  'lines': 97977422,\n  'files': 244157,\n  'commits': 107309,\n  'repos': {}},\n {'type': 'ts',\n  'lines': 18043586,\n  'files': 436344,\n  'commits': 105336,\n  'repos': {}},\n {'type': 'js',\n  'lines': 18375143,\n  'files': 416885,\n  'commits': 100878,\n  'repos': {}},\n {'type': 'json',\n  'lines': 29318839,\n  'files': 228660,\n  'commits': 84893,\n  'repos': {}},\n {'type': 'yml',\n  'lines': 1574446,\n  'files': 107468,\n  'commits': 83802,\n  'repos': {}},\n {'type': 'md',\n  'lines': 3479046,\n  'files': 176274,\n  'commits': 80210,\n  'repos': {}},\n {'type': 'txt',\n  'lines': 4629208,\n  'files': 136620,\n  'commits': 78553,\n  'repos': {}},\n {'type': 'pyx',\n  'lines': 4347258,\n  'files': 104400,\n  'commits': 69815,\n  'repos': {}},\n {'type': 'vue',\n  'lines': 3751362,\n  'files': 177696,\n  'commits': 44876,\n  'repos': {}},\n {'type': 'h',\n  'lines': 9556640,\n  'files': 132990,\n  'commits': 44253,\n  'repos': {}},\n {'type': 'tsx',\n  'lines': 3418212,\n  'files': 159416,\n  'commits': 35133,\n  'repos': {}},\n {'type': 'html',\n  'lines': 67110742,\n  'files': 88930,\n  'commits': 32177,\n  'repos': {}},\n {'type': 'yaml',\n  'lines': 1038421,\n  'files': 45063,\n  'commits': 31836,\n  'repos': {}},\n {'type': 'sh',\n  'lines': 554761,\n  'files': 41900,\n  'commits': 28556,\n  'repos': {}},\n {'type': 'src',\n  'lines': 2373477,\n  'files': 36621,\n  'commits': 27870,\n  'repos': {}},\n {'type': 'png', 'lines': 152, 'files': 214191, 'commits': 24508, 'repos': {}},\n {'type': 'cpp',\n  'lines': 5491284,\n  'files': 36481,\n  'commits': 20278,\n  'repos': {}},\n {'type': 'lock',\n  'lines': 5686827,\n  'files': 13554,\n  'commits': 12914,\n  'repos': {}},\n {'type': 'css',\n  'lines': 1231773,\n  'files': 19811,\n  'commits': 12147,\n  'repos': {}},\n {'type': 'pxd',\n  'lines': 238320,\n  'files': 17154,\n  'commits': 11197,\n  'repos': {}},\n {'type': 'svg',\n  'lines': 56475252,\n  'files': 98155,\n  'commits': 10959,\n  'repos': {}},\n {'type': 'scss',\n  'lines': 712260,\n  'files': 32307,\n  'commits': 9597,\n  'repos': {}},\n {'type': 'tag',\n  'lines': 798348,\n  'files': 50508,\n  'commits': 9444,\n  'repos': {}},\n {'type': 'in', 'lines': 333188, 'files': 10411, 'commits': 7929, 'repos': {}},\n {'type': 'swift',\n  'lines': 1097642,\n  'files': 43651,\n  'commits': 7639,\n  'repos': {}},\n {'type': 'mdx',\n  'lines': 1146100,\n  'files': 28644,\n  'commits': 7232,\n  'repos': {}},\n {'type': 'pdf',\n  'lines': 1957076,\n  'files': 54771,\n  'commits': 6854,\n  'repos': {}},\n {'type': 'cu', 'lines': 644995, 'files': 13254, 'commits': 5802, 'repos': {}},\n {'type': 'bat', 'lines': 56919, 'files': 9367, 'commits': 5631, 'repos': {}},\n {'type': 'hpp',\n  'lines': 615829,\n  'files': 24717,\n  'commits': 5041,\n  'repos': {}},\n {'type': 'template',\n  'lines': 46613,\n  'files': 5090,\n  'commits': 4993,\n  'repos': {}},\n {'type': 'cfg', 'lines': 34687, 'files': 4732, 'commits': 4501, 'repos': {}},\n {'type': 'patch',\n  'lines': 427934,\n  'files': 7917,\n  'commits': 4302,\n  'repos': {}},\n {'type': 'css_t',\n  'lines': 111956,\n  'files': 4389,\n  'commits': 4160,\n  'repos': {}},\n {'type': 'csv',\n  'lines': 8819718,\n  'files': 94154,\n  'commits': 4031,\n  'repos': {}},\n {'type': 'po',\n  'lines': 5121785,\n  'files': 14630,\n  'commits': 3830,\n  'repos': {}},\n {'type': 'vim',\n  'lines': 1541016,\n  'files': 25562,\n  'commits': 3782,\n  'repos': {}},\n {'type': 'm', 'lines': 277872, 'files': 6468, 'commits': 3310, 'repos': {}},\n {'type': 'ini', 'lines': 31767, 'files': 3287, 'commits': 2990, 'repos': {}},\n {'type': 'cc',\n  'lines': 5828594,\n  'files': 24225,\n  'commits': 2505,\n  'repos': {}},\n {'type': 'go',\n  'lines': 5181745,\n  'files': 35360,\n  'commits': 2397,\n  'repos': {}},\n {'type': 'pxi', 'lines': 353188, 'files': 2843, 'commits': 2373, 'repos': {}}]"
     },
     "execution_count": 5,
     "metadata": {},
     "output_type": "execute_result"
    }
   ],
   "source": [
    "by_commit_count = sorted(ft_dicts, key=lambda d: d['commits'])\n",
    "by_commit_count.reverse()\n",
    "# if your odds of being in a commit are < 1/1000, you don't matter\n",
    "main_type_stats = [stats for stats in by_commit_count if stats['commits'] > (len(all_commit_stats) / 1000)]\n",
    "print(len(main_type_stats))\n",
    "main_type_stats"
   ]
  },
  {
   "cell_type": "code",
   "execution_count": null,
   "id": "4e051aa4-6e70-47b2-8fed-d59cee2b74f4",
   "metadata": {},
   "outputs": [],
   "source": [
    "import pandas as pd\n",
    "\n",
    "main_types = [stat['type'] for stat in main_type_stats]\n",
    "main_types.index('json')\n",
    "rows = []\n",
    "for commit_stats in all_commit_stats:\n",
    "    row = [0]*len(main_types)\n",
    "    rows.append(row)\n",
    "    for file_type in commit_stats['fileTypes']:\n",
    "        commit_ft_dict = commit_stats['fileTypes'][file_type]\n",
    "        if file_type in main_types:\n",
    "            position = main_types.index(file_type)\n",
    "            row[position] = commit_ft_dict['inserts']\n",
    "type_df = pd.DataFrame(rows, columns=main_types) # index=commit_ids,\n",
    "type_df"
   ]
  },
  {
   "cell_type": "code",
   "execution_count": null,
   "id": "03cf76fd-208e-49e5-a49e-0b3c65ce86ff",
   "metadata": {},
   "outputs": [],
   "source": [
    "type_corr = type_df.corr()\n",
    "print(str(type_corr))"
   ]
  },
  {
   "cell_type": "code",
   "execution_count": null,
   "id": "34817218-721a-41e8-98c7-1472227571d2",
   "metadata": {},
   "outputs": [],
   "source": [
    "for i in range(len(main_types)):\n",
    "    for j in range(len(main_types)):\n",
    "        if i < j:\n",
    "            val = type_corr.iat[i, j]\n",
    "            if val > 0.2:\n",
    "                print(main_types[i] + \", \" + main_types[j] + \": \" + str(val))"
   ]
  },
  {
   "cell_type": "code",
   "execution_count": null,
   "id": "c0542da5-c029-4836-81a8-8bbe8036f08c",
   "metadata": {},
   "outputs": [],
   "source": []
  }
 ],
 "metadata": {
  "kernelspec": {
   "display_name": "Python 3 (ipykernel)",
   "language": "python",
   "name": "python3"
  },
  "language_info": {
   "codemirror_mode": {
    "name": "ipython",
    "version": 3
   },
   "file_extension": ".py",
   "mimetype": "text/x-python",
   "name": "python",
   "nbconvert_exporter": "python",
   "pygments_lexer": "ipython3",
   "version": "3.8.10"
  }
 },
 "nbformat": 4,
 "nbformat_minor": 5
}