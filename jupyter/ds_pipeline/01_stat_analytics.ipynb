{
 "cells": [
  {
   "cell_type": "code",
   "execution_count": 6,
   "id": "e63d86b5-4a5b-41a7-ab7b-9ba1b019e63b",
   "metadata": {},
   "outputs": [],
   "source": [
    "import sys\n",
    "project_root_path = '../..'\n",
    "python_lib_path = project_root_path + '/python/lib'\n",
    "sys.path.append(python_lib_path)\n",
    "import commit_stats"
   ]
  },
  {
   "cell_type": "code",
   "execution_count": 7,
   "id": "fcc54849-08bf-4c0f-a304-2901fc47bc70",
   "metadata": {},
   "outputs": [],
   "source": [
    "import json\n",
    "in_path = project_root_path + '/python/cfg/ds_pipeline.json'\n",
    "config_map = json.loads(open(in_path, 'r').read())\n",
    "config_map\n",
    "\n",
    "cfg = config_map['matt_language_analyzer'] # 99_problems"
   ]
  },
  {
   "cell_type": "code",
   "execution_count": 8,
   "id": "817954d0-b45c-4338-9b8a-b410ed615768",
   "metadata": {},
   "outputs": [
    {
     "data": {
      "text/plain": "[{'commit': 'f397110afc44e27afc9eeaaf9b5ced3e3d5cc231',\n  'Author': 'Navin Moorthy <navin007.a@gmail.com>',\n  'Date': '2022-06-29T00:31:28-07:00',\n  'orig_timezone': 'UTC+05:30',\n  'fileTypes': {'js': {'inserts': 0, 'deletes': 4, 'occurrences': 1},\n   'json': {'inserts': 1, 'deletes': 2, 'occurrences': 1},\n   'lock': {'inserts': 254, 'deletes': 122, 'occurrences': 1}},\n  'file_list': {'.storybook/preview.js': {'binary': 0,\n    'inserts': 0,\n    'deletes': 4},\n   'package.json': {'binary': 0, 'inserts': 1, 'deletes': 2},\n   'yarn.lock': {'binary': 0, 'inserts': 254, 'deletes': 122}},\n  'seen_in': ['../active'],\n  'author_hash': '5fe5c185c7ecd8af13b2c6049ab7a6ac',\n  'iso_datetime': '2022-06-29T00:31:28-07:00',\n  'utc_datetime': '2022-06-29T07:31:28'},\n {'commit': '151a07655991f3aeff23c1d4096d3eaa4753d71e',\n  'Author': 'mcnaveen <8493007+mcnaveen@users.noreply.github.com>',\n  'Date': '2022-06-29T00:24:38-07:00',\n  'orig_timezone': 'UTC+05:30',\n  'fileTypes': {'tsx': {'inserts': 6, 'deletes': 5, 'occurrences': 1}},\n  'file_list': {'src/slider/stories/SliderSingleVertical.component.tsx': {'binary': 0,\n    'inserts': 6,\n    'deletes': 5}},\n  'seen_in': ['../active'],\n  'author_hash': '7c49a3573c4a60b9f7bea2633a6aa0b8',\n  'iso_datetime': '2022-06-29T00:24:38-07:00',\n  'utc_datetime': '2022-06-29T07:24:38'}]"
     },
     "execution_count": 8,
     "metadata": {},
     "output_type": "execute_result"
    }
   ],
   "source": [
    "\n",
    "path = project_root_path + '/' + cfg['stats_dir']\n",
    "all_commit_stats = commit_stats.load_commit_stats(cfg['stat_file_name'], path)\n",
    "all_commit_stats[slice(0,2)]"
   ]
  },
  {
   "cell_type": "code",
   "execution_count": 9,
   "id": "3ae78256-aa44-40c3-bc42-ec3b72e4f486",
   "metadata": {},
   "outputs": [],
   "source": [
    "ft_dicts = []\n",
    "ft_dict_dict = {}\n",
    "for stats in all_commit_stats:\n",
    "    for file_type in stats['fileTypes']:\n",
    "        commit_ft_dict = stats['fileTypes'][file_type]\n",
    "        if file_type not in ft_dict_dict:\n",
    "            ft_dict = {}\n",
    "            ft_dicts.append(ft_dict)\n",
    "            ft_dict_dict[file_type] = ft_dict\n",
    "            ft_dict['type'] = file_type\n",
    "            ft_dict['lines'] = 0\n",
    "            ft_dict['files'] = 0\n",
    "            ft_dict['commits'] = 0\n",
    "            ft_dict['repos'] = {}\n",
    "        ft_dict = ft_dict_dict[file_type]\n",
    "        ft_dict['commits'] += 1\n",
    "        ft_dict['lines'] += commit_ft_dict['inserts']\n",
    "        ft_dict['files'] += commit_ft_dict['occurrences']\n",
    "        #seen_in = commit_ft_dict['seen_in']\n",
    "        #for project in seen_in:\n",
    "        #    ft_dict['repos'][project] = 1\n"
   ]
  },
  {
   "cell_type": "code",
   "execution_count": 10,
   "id": "2d37565e-4312-40ca-a7f6-b9663630172d",
   "metadata": {},
   "outputs": [
    {
     "name": "stdout",
     "output_type": "stream",
     "text": [
      "65\n"
     ]
    },
    {
     "data": {
      "text/plain": "[{'type': 'js',\n  'lines': 2769798,\n  'files': 22882,\n  'commits': 3806,\n  'repos': {}},\n {'type': 'cpp',\n  'lines': 503682,\n  'files': 14745,\n  'commits': 3764,\n  'repos': {}},\n {'type': 'noexttext',\n  'lines': 41641,\n  'files': 5299,\n  'commits': 3681,\n  'repos': {}},\n {'type': 'md', 'lines': 191608, 'files': 6200, 'commits': 3267, 'repos': {}},\n {'type': 'php',\n  'lines': 775800,\n  'files': 17278,\n  'commits': 3261,\n  'repos': {}},\n {'type': 'h', 'lines': 503516, 'files': 8951, 'commits': 2785, 'repos': {}},\n {'type': 'c', 'lines': 378934, 'files': 5470, 'commits': 2688, 'repos': {}},\n {'type': 'py', 'lines': 347350, 'files': 6117, 'commits': 2447, 'repos': {}},\n {'type': 'txt', 'lines': 233308, 'files': 7220, 'commits': 1919, 'repos': {}},\n {'type': 'gdoc',\n  'lines': 289925,\n  'files': 14561,\n  'commits': 1616,\n  'repos': {}},\n {'type': 'ts', 'lines': 170667, 'files': 8357, 'commits': 1612, 'repos': {}},\n {'type': 'json',\n  'lines': 579827,\n  'files': 4275,\n  'commits': 1394,\n  'repos': {}},\n {'type': 'yaml',\n  'lines': 145528,\n  'files': 5132,\n  'commits': 1316,\n  'repos': {}},\n {'type': 'cc', 'lines': 154622, 'files': 3289, 'commits': 1290, 'repos': {}},\n {'type': 'hpp', 'lines': 189809, 'files': 6479, 'commits': 1229, 'repos': {}},\n {'type': 'yml', 'lines': 13529, 'files': 943, 'commits': 759, 'repos': {}},\n {'type': 'hh', 'lines': 43949, 'files': 2309, 'commits': 736, 'repos': {}},\n {'type': 'rst', 'lines': 39591, 'files': 2444, 'commits': 687, 'repos': {}},\n {'type': 'lock', 'lines': 259956, 'files': 585, 'commits': 573, 'repos': {}},\n {'type': 'html', 'lines': 131437, 'files': 2673, 'commits': 499, 'repos': {}},\n {'type': 'adoc', 'lines': 48162, 'files': 2770, 'commits': 400, 'repos': {}},\n {'type': 'dig', 'lines': 9809, 'files': 678, 'commits': 338, 'repos': {}},\n {'type': 'tsx', 'lines': 47637, 'files': 1943, 'commits': 323, 'repos': {}},\n {'type': 'lua', 'lines': 15379, 'files': 396, 'commits': 314, 'repos': {}},\n {'type': 'css', 'lines': 677012, 'files': 3920, 'commits': 307, 'repos': {}},\n {'type': 'sh', 'lines': 5563, 'files': 519, 'commits': 305, 'repos': {}},\n {'type': 'png', 'lines': 328, 'files': 1543, 'commits': 296, 'repos': {}},\n {'type': 'tex', 'lines': 8330, 'files': 403, 'commits': 291, 'repos': {}},\n {'type': 'build', 'lines': 2895, 'files': 388, 'commits': 266, 'repos': {}},\n {'type': 'properties',\n  'lines': 441,\n  'files': 241,\n  'commits': 238,\n  'repos': {}},\n {'type': 'sql', 'lines': 16202, 'files': 1038, 'commits': 216, 'repos': {}},\n {'type': 'java', 'lines': 9083, 'files': 355, 'commits': 214, 'repos': {}},\n {'type': 'pbxproj', 'lines': 7794, 'files': 222, 'commits': 187, 'repos': {}},\n {'type': 'gradle', 'lines': 1717, 'files': 212, 'commits': 179, 'repos': {}},\n {'type': 'mk', 'lines': 1137, 'files': 302, 'commits': 174, 'repos': {}},\n {'type': 'cmake', 'lines': 5711, 'files': 306, 'commits': 172, 'repos': {}},\n {'type': 'hbs', 'lines': 5425, 'files': 301, 'commits': 152, 'repos': {}},\n {'type': 'R', 'lines': 1863, 'files': 196, 'commits': 144, 'repos': {}},\n {'type': 'sbt', 'lines': 818, 'files': 134, 'commits': 125, 'repos': {}},\n {'type': 'in', 'lines': 8221, 'files': 131, 'commits': 113, 'repos': {}},\n {'type': 'cfg', 'lines': 548, 'files': 112, 'commits': 108, 'repos': {}},\n {'type': 'xml', 'lines': 19541, 'files': 207, 'commits': 106, 'repos': {}},\n {'type': 'scala', 'lines': 2668, 'files': 124, 'commits': 104, 'repos': {}},\n {'type': 'bib', 'lines': 37612, 'files': 104, 'commits': 102, 'repos': {}},\n {'type': 'ini', 'lines': 392, 'files': 93, 'commits': 89, 'repos': {}},\n {'type': 'gd', 'lines': 40973, 'files': 408, 'commits': 88, 'repos': {}},\n {'type': '2', 'lines': 895, 'files': 80, 'commits': 77, 'repos': {}},\n {'type': '3', 'lines': 3866, 'files': 351, 'commits': 77, 'repos': {}},\n {'type': 'ipynb', 'lines': 50094, 'files': 180, 'commits': 68, 'repos': {}},\n {'type': 'tpl', 'lines': 1296, 'files': 63, 'commits': 63, 'repos': {}},\n {'type': 'jpg', 'lines': 0, 'files': 171, 'commits': 61, 'repos': {}},\n {'type': 'svg', 'lines': 18644, 'files': 808, 'commits': 55, 'repos': {}},\n {'type': 'pdf', 'lines': 0, 'files': 164, 'commits': 50, 'repos': {}},\n {'type': 'groovy', 'lines': 1911, 'files': 67, 'commits': 48, 'repos': {}},\n {'type': 'Rd', 'lines': 620, 'files': 57, 'commits': 47, 'repos': {}},\n {'type': 'scss', 'lines': 127000, 'files': 1045, 'commits': 47, 'repos': {}},\n {'type': 'toml', 'lines': 236, 'files': 45, 'commits': 45, 'repos': {}},\n {'type': 'plist', 'lines': 408, 'files': 64, 'commits': 41, 'repos': {}},\n {'type': 'vcxproj', 'lines': 2056, 'files': 44, 'commits': 36, 'repos': {}},\n {'type': 'common', 'lines': 354, 'files': 35, 'commits': 35, 'repos': {}},\n {'type': 'vcproj', 'lines': 17052, 'files': 169, 'commits': 35, 'repos': {}},\n {'type': 'cmake_in', 'lines': 2722, 'files': 40, 'commits': 34, 'repos': {}},\n {'type': 'conf', 'lines': 3215, 'files': 64, 'commits': 34, 'repos': {}},\n {'type': 'tscn', 'lines': 9360, 'files': 190, 'commits': 33, 'repos': {}},\n {'type': 'Rmd', 'lines': 1042, 'files': 44, 'commits': 32, 'repos': {}}]"
     },
     "execution_count": 10,
     "metadata": {},
     "output_type": "execute_result"
    }
   ],
   "source": [
    "by_commit_count = sorted(ft_dicts, key=lambda d: d['commits'])\n",
    "by_commit_count.reverse()\n",
    "# if your odds of being in a commit are < 1/1000, you don't matter\n",
    "main_type_stats = [stats for stats in by_commit_count if stats['commits'] > (len(all_commit_stats) / 1000)]\n",
    "print(len(main_type_stats))\n",
    "main_type_stats"
   ]
  },
  {
   "cell_type": "code",
   "execution_count": 11,
   "id": "4e051aa4-6e70-47b2-8fed-d59cee2b74f4",
   "metadata": {},
   "outputs": [
    {
     "data": {
      "text/plain": "       js  cpp  noexttext  md  php  h  c  py  txt  gdoc  ...  scss  toml  \\\n0       0    0          0   0    0  0  0   0    0     0  ...     0     0   \n1       0    0          0   0    0  0  0   0    0     0  ...     0     0   \n2       3    0          0   0    0  0  0   0    0     0  ...     0     0   \n3       0    0          0   0    0  0  0   0    0     0  ...     0     0   \n4       0    0          0   0    0  0  0   0    0     0  ...     0     0   \n...    ..  ...        ...  ..  ... .. ..  ..  ...   ...  ...   ...   ...   \n31290   0    0          0   0    6  0  0   0    0     0  ...     0     0   \n31291   0    0          0   0    1  0  0   0    0     0  ...     0     0   \n31292   0    0          0   0    2  0  0   0    0     0  ...     0     0   \n31293   0    0          0   0    9  0  0   0    3     0  ...     0     0   \n31294   0    0          0   0   30  0  0   0    0     0  ...     0     0   \n\n       plist  vcxproj  common  vcproj  cmake_in  conf  tscn  Rmd  \n0          0        0       0       0         0     0     0    0  \n1          0        0       0       0         0     0     0    0  \n2          0        0       0       0         0     0     0    0  \n3          0        0       0       0         0     0     0    0  \n4          0        0       0       0         0     0     0    0  \n...      ...      ...     ...     ...       ...   ...   ...  ...  \n31290      0        0       0       0         0     0     0    0  \n31291      0        0       0       0         0     0     0    0  \n31292      0        0       0       0         0     0     0    0  \n31293      0        0       0       0         0     0     0    0  \n31294      0        0       0       0         0     0     0    0  \n\n[31295 rows x 65 columns]",
      "text/html": "<div>\n<style scoped>\n    .dataframe tbody tr th:only-of-type {\n        vertical-align: middle;\n    }\n\n    .dataframe tbody tr th {\n        vertical-align: top;\n    }\n\n    .dataframe thead th {\n        text-align: right;\n    }\n</style>\n<table border=\"1\" class=\"dataframe\">\n  <thead>\n    <tr style=\"text-align: right;\">\n      <th></th>\n      <th>js</th>\n      <th>cpp</th>\n      <th>noexttext</th>\n      <th>md</th>\n      <th>php</th>\n      <th>h</th>\n      <th>c</th>\n      <th>py</th>\n      <th>txt</th>\n      <th>gdoc</th>\n      <th>...</th>\n      <th>scss</th>\n      <th>toml</th>\n      <th>plist</th>\n      <th>vcxproj</th>\n      <th>common</th>\n      <th>vcproj</th>\n      <th>cmake_in</th>\n      <th>conf</th>\n      <th>tscn</th>\n      <th>Rmd</th>\n    </tr>\n  </thead>\n  <tbody>\n    <tr>\n      <th>0</th>\n      <td>0</td>\n      <td>0</td>\n      <td>0</td>\n      <td>0</td>\n      <td>0</td>\n      <td>0</td>\n      <td>0</td>\n      <td>0</td>\n      <td>0</td>\n      <td>0</td>\n      <td>...</td>\n      <td>0</td>\n      <td>0</td>\n      <td>0</td>\n      <td>0</td>\n      <td>0</td>\n      <td>0</td>\n      <td>0</td>\n      <td>0</td>\n      <td>0</td>\n      <td>0</td>\n    </tr>\n    <tr>\n      <th>1</th>\n      <td>0</td>\n      <td>0</td>\n      <td>0</td>\n      <td>0</td>\n      <td>0</td>\n      <td>0</td>\n      <td>0</td>\n      <td>0</td>\n      <td>0</td>\n      <td>0</td>\n      <td>...</td>\n      <td>0</td>\n      <td>0</td>\n      <td>0</td>\n      <td>0</td>\n      <td>0</td>\n      <td>0</td>\n      <td>0</td>\n      <td>0</td>\n      <td>0</td>\n      <td>0</td>\n    </tr>\n    <tr>\n      <th>2</th>\n      <td>3</td>\n      <td>0</td>\n      <td>0</td>\n      <td>0</td>\n      <td>0</td>\n      <td>0</td>\n      <td>0</td>\n      <td>0</td>\n      <td>0</td>\n      <td>0</td>\n      <td>...</td>\n      <td>0</td>\n      <td>0</td>\n      <td>0</td>\n      <td>0</td>\n      <td>0</td>\n      <td>0</td>\n      <td>0</td>\n      <td>0</td>\n      <td>0</td>\n      <td>0</td>\n    </tr>\n    <tr>\n      <th>3</th>\n      <td>0</td>\n      <td>0</td>\n      <td>0</td>\n      <td>0</td>\n      <td>0</td>\n      <td>0</td>\n      <td>0</td>\n      <td>0</td>\n      <td>0</td>\n      <td>0</td>\n      <td>...</td>\n      <td>0</td>\n      <td>0</td>\n      <td>0</td>\n      <td>0</td>\n      <td>0</td>\n      <td>0</td>\n      <td>0</td>\n      <td>0</td>\n      <td>0</td>\n      <td>0</td>\n    </tr>\n    <tr>\n      <th>4</th>\n      <td>0</td>\n      <td>0</td>\n      <td>0</td>\n      <td>0</td>\n      <td>0</td>\n      <td>0</td>\n      <td>0</td>\n      <td>0</td>\n      <td>0</td>\n      <td>0</td>\n      <td>...</td>\n      <td>0</td>\n      <td>0</td>\n      <td>0</td>\n      <td>0</td>\n      <td>0</td>\n      <td>0</td>\n      <td>0</td>\n      <td>0</td>\n      <td>0</td>\n      <td>0</td>\n    </tr>\n    <tr>\n      <th>...</th>\n      <td>...</td>\n      <td>...</td>\n      <td>...</td>\n      <td>...</td>\n      <td>...</td>\n      <td>...</td>\n      <td>...</td>\n      <td>...</td>\n      <td>...</td>\n      <td>...</td>\n      <td>...</td>\n      <td>...</td>\n      <td>...</td>\n      <td>...</td>\n      <td>...</td>\n      <td>...</td>\n      <td>...</td>\n      <td>...</td>\n      <td>...</td>\n      <td>...</td>\n      <td>...</td>\n    </tr>\n    <tr>\n      <th>31290</th>\n      <td>0</td>\n      <td>0</td>\n      <td>0</td>\n      <td>0</td>\n      <td>6</td>\n      <td>0</td>\n      <td>0</td>\n      <td>0</td>\n      <td>0</td>\n      <td>0</td>\n      <td>...</td>\n      <td>0</td>\n      <td>0</td>\n      <td>0</td>\n      <td>0</td>\n      <td>0</td>\n      <td>0</td>\n      <td>0</td>\n      <td>0</td>\n      <td>0</td>\n      <td>0</td>\n    </tr>\n    <tr>\n      <th>31291</th>\n      <td>0</td>\n      <td>0</td>\n      <td>0</td>\n      <td>0</td>\n      <td>1</td>\n      <td>0</td>\n      <td>0</td>\n      <td>0</td>\n      <td>0</td>\n      <td>0</td>\n      <td>...</td>\n      <td>0</td>\n      <td>0</td>\n      <td>0</td>\n      <td>0</td>\n      <td>0</td>\n      <td>0</td>\n      <td>0</td>\n      <td>0</td>\n      <td>0</td>\n      <td>0</td>\n    </tr>\n    <tr>\n      <th>31292</th>\n      <td>0</td>\n      <td>0</td>\n      <td>0</td>\n      <td>0</td>\n      <td>2</td>\n      <td>0</td>\n      <td>0</td>\n      <td>0</td>\n      <td>0</td>\n      <td>0</td>\n      <td>...</td>\n      <td>0</td>\n      <td>0</td>\n      <td>0</td>\n      <td>0</td>\n      <td>0</td>\n      <td>0</td>\n      <td>0</td>\n      <td>0</td>\n      <td>0</td>\n      <td>0</td>\n    </tr>\n    <tr>\n      <th>31293</th>\n      <td>0</td>\n      <td>0</td>\n      <td>0</td>\n      <td>0</td>\n      <td>9</td>\n      <td>0</td>\n      <td>0</td>\n      <td>0</td>\n      <td>3</td>\n      <td>0</td>\n      <td>...</td>\n      <td>0</td>\n      <td>0</td>\n      <td>0</td>\n      <td>0</td>\n      <td>0</td>\n      <td>0</td>\n      <td>0</td>\n      <td>0</td>\n      <td>0</td>\n      <td>0</td>\n    </tr>\n    <tr>\n      <th>31294</th>\n      <td>0</td>\n      <td>0</td>\n      <td>0</td>\n      <td>0</td>\n      <td>30</td>\n      <td>0</td>\n      <td>0</td>\n      <td>0</td>\n      <td>0</td>\n      <td>0</td>\n      <td>...</td>\n      <td>0</td>\n      <td>0</td>\n      <td>0</td>\n      <td>0</td>\n      <td>0</td>\n      <td>0</td>\n      <td>0</td>\n      <td>0</td>\n      <td>0</td>\n      <td>0</td>\n    </tr>\n  </tbody>\n</table>\n<p>31295 rows × 65 columns</p>\n</div>"
     },
     "execution_count": 11,
     "metadata": {},
     "output_type": "execute_result"
    }
   ],
   "source": [
    "import pandas as pd\n",
    "\n",
    "main_types = [stat['type'] for stat in main_type_stats]\n",
    "main_types.index('json')\n",
    "rows = []\n",
    "for commit_stats in all_commit_stats:\n",
    "    row = [0]*len(main_types)\n",
    "    rows.append(row)\n",
    "    for file_type in commit_stats['fileTypes']:\n",
    "        commit_ft_dict = commit_stats['fileTypes'][file_type]\n",
    "        if file_type in main_types:\n",
    "            position = main_types.index(file_type)\n",
    "            row[position] = commit_ft_dict['inserts']\n",
    "type_df = pd.DataFrame(rows, columns=main_types) # index=commit_ids,\n",
    "type_df"
   ]
  },
  {
   "cell_type": "code",
   "execution_count": 12,
   "id": "03cf76fd-208e-49e5-a49e-0b3c65ce86ff",
   "metadata": {},
   "outputs": [
    {
     "name": "stdout",
     "output_type": "stream",
     "text": [
      "                 js       cpp  noexttext        md       php         h  \\\n",
      "js         1.000000 -0.000600   0.716697  0.985517  0.000112 -0.000480   \n",
      "cpp       -0.000600  1.000000   0.004428 -0.000217 -0.000491  0.508307   \n",
      "noexttext  0.716697  0.004428   1.000000  0.713219  0.016528  0.005950   \n",
      "md         0.985517 -0.000217   0.713219  1.000000 -0.000238  0.001778   \n",
      "php        0.000112 -0.000491   0.016528 -0.000238  1.000000 -0.000483   \n",
      "...             ...       ...        ...       ...       ...       ...   \n",
      "vcproj    -0.000181  0.013439   0.000609 -0.000240 -0.000148  0.003814   \n",
      "cmake_in  -0.000092 -0.000244  -0.000281 -0.000121 -0.000075 -0.000218   \n",
      "conf       0.005596  0.003934   0.006943  0.005785 -0.000091 -0.000292   \n",
      "tscn      -0.000149 -0.000397   0.000758  0.003237 -0.000122 -0.000390   \n",
      "Rmd        0.000581 -0.000523  -0.000268 -0.000163 -0.000180 -0.000576   \n",
      "\n",
      "                  c        py       txt      gdoc  ...      scss      toml  \\\n",
      "js        -0.000612  0.958320  0.011181 -0.000341  ...  0.996026 -0.000263   \n",
      "cpp        0.152285 -0.000910  0.003513 -0.000906  ... -0.000471 -0.000699   \n",
      "noexttext  0.009452  0.691357  0.074528 -0.000928  ...  0.718097  0.007506   \n",
      "md         0.000916  0.952405  0.013760 -0.000451  ...  0.988430 -0.000323   \n",
      "php       -0.000499 -0.000308  0.060572 -0.000278  ... -0.000144 -0.000215   \n",
      "...             ...       ...       ...       ...  ...       ...       ...   \n",
      "vcproj     0.008096 -0.000302 -0.000345 -0.000273  ... -0.000142 -0.000210   \n",
      "cmake_in  -0.000214 -0.000152 -0.000096 -0.000138  ... -0.000072 -0.000106   \n",
      "conf      -0.000302  0.005702  0.000319 -0.000168  ...  0.005632 -0.000130   \n",
      "tscn      -0.000403 -0.000017 -0.000263 -0.000224  ... -0.000117 -0.000173   \n",
      "Rmd       -0.000595 -0.000367 -0.000420 -0.000332  ... -0.000172 -0.000256   \n",
      "\n",
      "              plist   vcxproj    common    vcproj  cmake_in      conf  \\\n",
      "js        -0.000263 -0.000163 -0.000213 -0.000181 -0.000092  0.005596   \n",
      "cpp       -0.000347  0.007808  0.001525  0.013439 -0.000244  0.003934   \n",
      "noexttext -0.000324  0.016270  0.015756  0.000609 -0.000281  0.006943   \n",
      "md        -0.000347  0.000296 -0.000231 -0.000240 -0.000121  0.005785   \n",
      "php       -0.000214 -0.000133 -0.000174 -0.000148 -0.000075 -0.000091   \n",
      "...             ...       ...       ...       ...       ...       ...   \n",
      "vcproj    -0.000210 -0.000131 -0.000171  1.000000 -0.000073 -0.000089   \n",
      "cmake_in  -0.000106 -0.000066 -0.000086 -0.000073  1.000000 -0.000045   \n",
      "conf      -0.000130 -0.000081 -0.000105 -0.000089 -0.000045  1.000000   \n",
      "tscn      -0.000173 -0.000108 -0.000141 -0.000119 -0.000060 -0.000074   \n",
      "Rmd       -0.000255 -0.000159 -0.000208 -0.000176 -0.000089 -0.000109   \n",
      "\n",
      "               tscn       Rmd  \n",
      "js        -0.000149  0.000581  \n",
      "cpp       -0.000397 -0.000523  \n",
      "noexttext  0.000758 -0.000268  \n",
      "md         0.003237 -0.000163  \n",
      "php       -0.000122 -0.000180  \n",
      "...             ...       ...  \n",
      "vcproj    -0.000119 -0.000176  \n",
      "cmake_in  -0.000060 -0.000089  \n",
      "conf      -0.000074 -0.000109  \n",
      "tscn       1.000000 -0.000145  \n",
      "Rmd       -0.000145  1.000000  \n",
      "\n",
      "[65 rows x 65 columns]\n"
     ]
    }
   ],
   "source": [
    "type_corr = type_df.corr()\n",
    "print(str(type_corr))"
   ]
  },
  {
   "cell_type": "code",
   "execution_count": 13,
   "id": "34817218-721a-41e8-98c7-1472227571d2",
   "metadata": {},
   "outputs": [
    {
     "name": "stdout",
     "output_type": "stream",
     "text": [
      "js, noexttext: 0.7166967463468783\n",
      "js, md: 0.985516999667076\n",
      "js, py: 0.9583197840907771\n",
      "js, json: 0.23691106535167572\n",
      "js, rst: 0.9854641393752397\n",
      "js, html: 0.9051583956310943\n",
      "js, css: 0.9961492114503521\n",
      "js, sh: 0.9058727002927767\n",
      "js, png: 0.9960087710642974\n",
      "js, svg: 0.4800205840443674\n",
      "js, scss: 0.9960261766372768\n",
      "cpp, h: 0.5083074651699927\n",
      "cpp, hpp: 0.3172439433628845\n",
      "cpp, lua: 0.298729015284515\n",
      "noexttext, md: 0.7132188088567121\n",
      "noexttext, py: 0.6913572100603381\n",
      "noexttext, rst: 0.7114341360337113\n",
      "noexttext, html: 0.653882912200029\n",
      "noexttext, css: 0.7185540251938758\n",
      "noexttext, sh: 0.6780248120860033\n",
      "noexttext, png: 0.7185167540654768\n",
      "noexttext, svg: 0.3408580296635438\n",
      "noexttext, scss: 0.7180967771478263\n",
      "md, py: 0.9524054844480578\n",
      "md, ts: 0.20359893771530307\n",
      "md, json: 0.23532271327778206\n",
      "md, rst: 0.9787428040104424\n",
      "md, html: 0.8988479823088071\n",
      "md, css: 0.9881721633462345\n",
      "md, sh: 0.9083595636894067\n",
      "md, png: 0.9892436951811204\n",
      "md, svg: 0.463793436620774\n",
      "md, scss: 0.9884302278299489\n",
      "h, c: 0.6930216679875731\n",
      "h, lua: 0.45662915419172206\n",
      "py, json: 0.2287299636200147\n",
      "py, rst: 0.9590990604043292\n",
      "py, html: 0.8742417922827297\n",
      "py, css: 0.9611582934100373\n",
      "py, sh: 0.8781025606739605\n",
      "py, png: 0.9622032524774483\n",
      "py, svg: 0.45088356381104955\n",
      "py, scss: 0.9614013564414029\n",
      "txt, xml: 0.2751217793531062\n",
      "gdoc, yml: 0.8550826030770113\n",
      "ts, tsx: 0.22293237395793097\n",
      "json, rst: 0.2350705852077568\n",
      "json, html: 0.21644496806413913\n",
      "json, css: 0.23750725208134363\n",
      "json, sh: 0.2160039129267561\n",
      "json, png: 0.23767972377710395\n",
      "json, scss: 0.23747539144158106\n",
      "cc, hh: 0.6598208092405774\n",
      "cc, mk: 0.3965757572621567\n",
      "hh, mk: 0.26213274744085974\n",
      "rst, html: 0.898930093641158\n",
      "rst, css: 0.988364789432288\n",
      "rst, sh: 0.8997570063756122\n",
      "rst, png: 0.9894416362814997\n",
      "rst, svg: 0.46377696209357033\n",
      "rst, scss: 0.9886203724816505\n",
      "html, css: 0.9080578025710551\n",
      "html, sh: 0.8263147837656029\n",
      "html, png: 0.9085570168143864\n",
      "html, svg: 0.42750870841842403\n",
      "html, scss: 0.907892670722569\n",
      "dig, sql: 0.789130282034635\n",
      "css, sh: 0.9085252903089407\n",
      "css, png: 0.9989132201139859\n",
      "css, svg: 0.48815513393586857\n",
      "css, scss: 0.9993507917261039\n",
      "sh, png: 0.9094939259368924\n",
      "sh, svg: 0.42612394636919554\n",
      "sh, scss: 0.9087338183376934\n",
      "png, svg: 0.46878959966834294\n",
      "png, scss: 0.9991735549448094\n",
      "build, in: 0.55053210755968\n",
      "R, Rmd: 0.25385358895428806\n",
      "sbt, scala: 0.2718114641795038\n",
      "cfg, ini: 0.3041464869464142\n",
      "cfg, gd: 0.2138382585060462\n",
      "cfg, tscn: 0.32052245402458823\n",
      "gd, tscn: 0.7956306942171693\n",
      "svg, scss: 0.4826815181137842\n"
     ]
    }
   ],
   "source": [
    "for i in range(len(main_types)):\n",
    "    for j in range(len(main_types)):\n",
    "        if i < j:\n",
    "            val = type_corr.iat[i, j]\n",
    "            if val > 0.2:\n",
    "                print(main_types[i] + \", \" + main_types[j] + \": \" + str(val))"
   ]
  },
  {
   "cell_type": "code",
   "execution_count": 13,
   "id": "c0542da5-c029-4836-81a8-8bbe8036f08c",
   "metadata": {},
   "outputs": [],
   "source": []
  }
 ],
 "metadata": {
  "kernelspec": {
   "display_name": "Python 3 (ipykernel)",
   "language": "python",
   "name": "python3"
  },
  "language_info": {
   "codemirror_mode": {
    "name": "ipython",
    "version": 3
   },
   "file_extension": ".py",
   "mimetype": "text/x-python",
   "name": "python",
   "nbconvert_exporter": "python",
   "pygments_lexer": "ipython3",
   "version": "3.8.10"
  }
 },
 "nbformat": 4,
 "nbformat_minor": 5
}