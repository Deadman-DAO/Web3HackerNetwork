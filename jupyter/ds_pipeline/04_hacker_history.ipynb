{
 "cells": [
  {
   "cell_type": "markdown",
   "id": "9610a4cf-b430-4648-83d6-c60659d111f4",
   "metadata": {},
   "source": [
    "### Load the Commit Features"
   ]
  },
  {
   "cell_type": "code",
   "execution_count": 1,
   "id": "6fa2545b-7983-43c7-8690-c46cea777289",
   "metadata": {},
   "outputs": [],
   "source": [
    "project_root_path = '../..'\n",
    "lib_path = project_root_path + '/python/lib/'\n",
    "import json\n",
    "import sys\n",
    "sys.path.append(lib_path)\n",
    "import commit_features"
   ]
  },
  {
   "cell_type": "code",
   "execution_count": 2,
   "id": "d6a0145a-6156-4114-a996-c65bd08ff1b5",
   "metadata": {},
   "outputs": [],
   "source": [
    "import json\n",
    "in_path = project_root_path + '/python/cfg/ds_pipeline.json'\n",
    "config_map = json.loads(open(in_path, 'r').read())\n",
    "config_map\n",
    "\n",
    "cfg = config_map['r17_01']\n",
    "cfg2 = config_map['r17_02']"
   ]
  },
  {
   "cell_type": "code",
   "execution_count": 3,
   "id": "57d3d205-7b80-4cbb-ba88-21a135092460",
   "metadata": {},
   "outputs": [],
   "source": [
    "project_stats_dir = project_root_path + '/' + cfg['stats_dir']\n",
    "file_name = cfg['stat_file_name']\n",
    "all_commit_features = commit_features.load_all(project_root_path, project_stats_dir, file_name)"
   ]
  },
  {
   "cell_type": "code",
   "execution_count": 4,
   "id": "36c9b35d-e570-4881-8335-debe311abefb",
   "metadata": {},
   "outputs": [],
   "source": [
    "X = commit_features.make_matrix(all_commit_features, cfg['classifier']['features'])"
   ]
  },
  {
   "cell_type": "markdown",
   "id": "b54e23da-8e01-4351-8d23-f7dbff400377",
   "metadata": {},
   "source": [
    "### Load the Trained Model"
   ]
  },
  {
   "cell_type": "code",
   "execution_count": 5,
   "id": "a5141a76-8957-4b6e-a083-0b40d95f0e0e",
   "metadata": {},
   "outputs": [
    {
     "name": "stdout",
     "output_type": "stream",
     "text": [
      "477520\n"
     ]
    }
   ],
   "source": [
    "import pickle\n",
    "model_path = project_root_path + '/' + cfg['classifier']['model_path']\n",
    "fin = open(model_path, 'rb')\n",
    "model_deserial = pickle.load(fin)\n",
    "fin.close()\n",
    "y_pred = model_deserial.predict(X)\n",
    "print(len(y_pred))"
   ]
  },
  {
   "cell_type": "code",
   "execution_count": 7,
   "id": "d37a53a1-54be-4c7a-ba08-824657091de3",
   "metadata": {},
   "outputs": [
    {
     "name": "stdout",
     "output_type": "stream",
     "text": [
      "477520\n"
     ]
    }
   ],
   "source": [
    "model2_path = project_root_path + '/' + cfg2['classifier']['model_path']\n",
    "fin2 = open(model2_path, 'rb')\n",
    "model2 = pickle.load(fin2)\n",
    "fin2.close()\n",
    "y2_pred = model2.predict(X)\n",
    "print(len(y2_pred))"
   ]
  },
  {
   "cell_type": "markdown",
   "id": "efb08b61-c79a-462c-bb20-263165bd4475",
   "metadata": {},
   "source": [
    "### Compile Hacker Histories"
   ]
  },
  {
   "cell_type": "code",
   "execution_count": 8,
   "id": "757799ef-8ffc-4ae7-9d77-fda7d8a05a8a",
   "metadata": {},
   "outputs": [],
   "source": [
    "hacker_histories = {}\n",
    "for i in range(len(y_pred)):\n",
    "    features = all_commit_features[i]\n",
    "    pred = y_pred[i]\n",
    "    pred2 = y2_pred[i]\n",
    "    author = features['author']\n",
    "    features['predicted_action'] = pred\n",
    "    features['predicted_scope'] = pred2\n",
    "    if author not in hacker_histories: hacker_histories[author] = []\n",
    "    hacker_commits = hacker_histories[author]\n",
    "    hacker_commits.append(features)"
   ]
  },
  {
   "cell_type": "markdown",
   "id": "1894fcc7-10c2-4c40-8839-422e3bc37392",
   "metadata": {},
   "source": [
    "### Show Hacker Commit Types"
   ]
  },
  {
   "cell_type": "code",
   "execution_count": 11,
   "id": "7c7eec33-e7f7-46dd-a38a-91396ee107f8",
   "metadata": {},
   "outputs": [
    {
     "name": "stdout",
     "output_type": "stream",
     "text": [
      "Pradyun Gedam <pradyunsg@gmail.com>\n",
      "5994\tPython\n",
      "1174\tOther\n",
      "1173\tPydata\n",
      "285\tText\n",
      "275\tYarn\n",
      "188\tMarkdown\n",
      "2\tInterface\n",
      "\n"
     ]
    }
   ],
   "source": [
    "import matplotlib.pyplot as plt\n",
    "\n",
    "hacker_histograms = []\n",
    "hacker_commit_counts = {}\n",
    "for hacker in hacker_histories.keys():\n",
    "    commits = hacker_histories[hacker]\n",
    "    commit_actions = [commit['predicted_action'] for commit in commits]\n",
    "    commit_scopes = [commit['predicted_scope'] for commit in commits]\n",
    "    observed_actions = list(set(commit_actions))\n",
    "    observed_scopes = list(set(commit_scopes))\n",
    "    hacker_commit_actions = []\n",
    "    hacker_commit_scopes = []\n",
    "    action_count = 0\n",
    "    for observed_action in observed_actions:\n",
    "        observations = [1 for commit_action in commit_actions if commit_action == observed_action]\n",
    "        count = len(observations)\n",
    "        hacker_commit_actions.append(dict(num_commits=count, commit_action=observed_action))\n",
    "        action_count += count\n",
    "    scope_count = 0\n",
    "    for observed_scope in observed_scopes:\n",
    "        observations = [1 for commit_scope in commit_scopes if commit_scope == observed_scope]\n",
    "        count = len(observations)\n",
    "        hacker_commit_scopes.append(dict(num_commits=count, commit_scope=observed_scope))\n",
    "        scope_count += count\n",
    "    hacker_commit_counts[hacker] = action_count\n",
    "    sorted_list = sorted(hacker_commit_actions, key=lambda d: d['num_commits'])\n",
    "    sorted_list.reverse()\n",
    "    hacker_histograms.append(dict(hacker=hacker, commit_count=action_count, commit_stats=sorted_list))\n",
    "\n",
    "sorted_histograms = sorted(hacker_histograms, key=lambda d: d['commit_count'])\n",
    "sorted_histograms.reverse()\n",
    "for histo in sorted_histograms:\n",
    "    if histo['commit_stats'][0]['num_commits'] > 2000:\n",
    "        print(histo['hacker'])\n",
    "        for row in histo['commit_stats']:\n",
    "            print(str(row['num_commits']) + \"\\t\" + str(row['commit_action']))\n",
    "        print()\n",
    "        break"
   ]
  },
  {
   "cell_type": "code",
   "execution_count": 14,
   "id": "a882a6f6-06d2-49a8-ac23-e7fb02f9793c",
   "metadata": {},
   "outputs": [],
   "source": [
    "import json\n",
    "\n",
    "do_write = False\n",
    "if do_write:\n",
    "    out_path = project_root_path + '/sandbox/data/bob/hacker_history-2022-05-21.json'\n",
    "    out_handle = open(out_path, \"w\");\n",
    "    out_handle.write(json.dumps(sorted_histograms, indent=2));\n",
    "    out_handle.flush()\n",
    "    out_handle.close()"
   ]
  }
 ],
 "metadata": {
  "kernelspec": {
   "display_name": "Python 3 (ipykernel)",
   "language": "python",
   "name": "python3"
  },
  "language_info": {
   "codemirror_mode": {
    "name": "ipython",
    "version": 3
   },
   "file_extension": ".py",
   "mimetype": "text/x-python",
   "name": "python",
   "nbconvert_exporter": "python",
   "pygments_lexer": "ipython3",
   "version": "3.8.10"
  }
 },
 "nbformat": 4,
 "nbformat_minor": 5
}
