{
 "cells": [
  {
   "cell_type": "code",
   "execution_count": 1,
   "id": "c7c91641-2c6d-4d06-81a6-aad466fd8e85",
   "metadata": {},
   "outputs": [],
   "source": [
    "project_root_path = '../../..'\n",
    "lib_path = project_root_path + '/python/lib/'\n",
    "import json\n",
    "import sys\n",
    "sys.path.append(lib_path)\n",
    "import commit_features"
   ]
  },
  {
   "cell_type": "code",
   "execution_count": 2,
   "id": "a7bda67f-1c67-423c-b19e-8ea4881fdf3e",
   "metadata": {},
   "outputs": [],
   "source": [
    "import json\n",
    "in_path = project_root_path + '/python/cfg/ds_pipeline.json'\n",
    "config_map = json.loads(open(in_path, 'r').read())\n",
    "config_map\n",
    "\n",
    "cfg = config_map['99_problems']"
   ]
  },
  {
   "cell_type": "code",
   "execution_count": 3,
   "id": "7135de09-8a16-4b03-af7d-411fc3c7cbfe",
   "metadata": {},
   "outputs": [],
   "source": [
    "def elapsed(start, end):\n",
    "    seconds = str(int((end - start)*100)/100)\n",
    "    minutes = str(int((end - start)*10/6)/100)\n",
    "    print(seconds + ' seconds == ' + minutes + ' minutes elapsed')"
   ]
  },
  {
   "cell_type": "code",
   "execution_count": 4,
   "id": "d53586bb-2750-49e8-9c35-f5dd94568768",
   "metadata": {},
   "outputs": [
    {
     "name": "stdout",
     "output_type": "stream",
     "text": [
      "5.18 seconds == 0.08 minutes elapsed\n",
      "477520\n"
     ]
    }
   ],
   "source": [
    "import commit_stats\n",
    "import feature_map\n",
    "import time\n",
    "\n",
    "stat_path = project_root_path + '/' + cfg['stats_dir']\n",
    "start = time.time()\n",
    "all_commit_stats = commit_stats.load_commit_stats(cfg['stat_file_name'], stat_path)\n",
    "end = time.time()\n",
    "elapsed(start, end)\n",
    "print(len(all_commit_stats))"
   ]
  },
  {
   "cell_type": "code",
   "execution_count": 5,
   "id": "ee2bdbe6-283f-4b34-a6df-5e5c18107ce1",
   "metadata": {},
   "outputs": [
    {
     "name": "stdout",
     "output_type": "stream",
     "text": [
      "31.18 seconds == 0.51 minutes elapsed\n"
     ]
    }
   ],
   "source": [
    "start = time.time()\n",
    "all_commit_features = feature_map.get_commit_features(project_root_path, all_commit_stats)\n",
    "end = time.time()\n",
    "elapsed(start, end)"
   ]
  },
  {
   "cell_type": "code",
   "execution_count": 6,
   "id": "498b9b31-601d-497c-82d1-a6721bdcca6a",
   "metadata": {},
   "outputs": [
    {
     "data": {
      "text/plain": [
       "[{'commit': 'c9373f51b1e2b7a788d66a0b3227a3a2dd6f19f3',\n",
       "  'Author': 'mayeut <mayeut@users.noreply.github.com>',\n",
       "  'Date': '2022-05-17T00:43:38-07:00',\n",
       "  'orig_timezone': 'UTC+02:00',\n",
       "  'fileTypes': {'csv': {'inserts': 1673, 'deletes': 0, 'occurrences': 1},\n",
       "   'json': {'inserts': 1, 'deletes': 1, 'occurrences': 1}},\n",
       "  'seen_in': ['mayeut/manylinux-timeline'],\n",
       "  'author_hash': '664c9ab4c1158071f49982a184a7758b',\n",
       "  'iso_datetime': '2022-05-17T00:43:38-07:00',\n",
       "  'utc_datetime': '2022-05-17T07:43:38'},\n",
       " {'commit': '05758ef3bd61056497bcfb1217528af4639cc033',\n",
       "  'Author': 'mayeut <mayeut@users.noreply.github.com>',\n",
       "  'Date': '2022-05-16T15:15:25-07:00',\n",
       "  'orig_timezone': 'UTC',\n",
       "  'fileTypes': {'json': {'inserts': 1, 'deletes': 0, 'occurrences': 1}},\n",
       "  'seen_in': ['mayeut/manylinux-timeline'],\n",
       "  'author_hash': '664c9ab4c1158071f49982a184a7758b',\n",
       "  'iso_datetime': '2022-05-16T15:15:25-07:00',\n",
       "  'utc_datetime': '2022-05-16T22:15:25'},\n",
       " {'commit': '44ed13963ea38e665d6bd93779e76298334375d5',\n",
       "  'Author': 'mayeut <mayeut@users.noreply.github.com>',\n",
       "  'Date': '2022-05-16T02:02:03-07:00',\n",
       "  'orig_timezone': 'UTC+02:00',\n",
       "  'fileTypes': {'csv': {'inserts': 1380, 'deletes': 0, 'occurrences': 1}},\n",
       "  'seen_in': ['mayeut/manylinux-timeline'],\n",
       "  'author_hash': '664c9ab4c1158071f49982a184a7758b',\n",
       "  'iso_datetime': '2022-05-16T02:02:03-07:00',\n",
       "  'utc_datetime': '2022-05-16T09:02:03'}]"
      ]
     },
     "execution_count": 6,
     "metadata": {},
     "output_type": "execute_result"
    }
   ],
   "source": [
    "all_commit_stats[slice(3)]"
   ]
  },
  {
   "cell_type": "code",
   "execution_count": 7,
   "id": "1474f4f6-1b74-41d7-af09-8f6feab1d22f",
   "metadata": {},
   "outputs": [
    {
     "data": {
      "text/plain": [
       "['../../../sandbox/notebooks/matt/results/mayeut/manylinux-timeline/commit_stat_log.json',\n",
       " '../../../sandbox/notebooks/matt/results/wayveai/freedesktop-sdk/commit_stat_log.json',\n",
       " '../../../sandbox/notebooks/matt/results/adrianmcli/web3-vs-ethers/commit_stat_log.json']"
      ]
     },
     "execution_count": 7,
     "metadata": {},
     "output_type": "execute_result"
    }
   ],
   "source": [
    "files = commit_stats.find_files(cfg['stat_file_name'], stat_path)\n",
    "files[slice(3)]"
   ]
  },
  {
   "cell_type": "code",
   "execution_count": 8,
   "id": "335a24dd-7480-4f6e-bef6-c4481fd8a8af",
   "metadata": {},
   "outputs": [
    {
     "name": "stdout",
     "output_type": "stream",
     "text": [
      "mayeut/manylinux-timeline\n"
     ]
    }
   ],
   "source": [
    "#first = files[0]\n",
    "#pos = first.find(cfg['stat_file_name'])\n",
    "#head = first[:pos]\n",
    "#print(head)\n",
    "#parts = head.split('/')\n",
    "#print(parts)\n",
    "#print(len(parts))\n",
    "#print(parts[7:9])\n",
    "file_path = files[0]\n",
    "pos = file_path.find(cfg['stat_file_name'])\n",
    "parts = file_path[:pos].split('/')\n",
    "print('/'.join(parts[len(parts) - 3:len(parts) - 1]))"
   ]
  },
  {
   "cell_type": "code",
   "execution_count": 9,
   "id": "11b96844-a8e8-495f-a6a9-2cccc2db17b0",
   "metadata": {},
   "outputs": [
    {
     "data": {
      "text/plain": [
       "['foo']"
      ]
     },
     "execution_count": 9,
     "metadata": {},
     "output_type": "execute_result"
    }
   ],
   "source": [
    "['foo']"
   ]
  },
  {
   "cell_type": "code",
   "execution_count": 10,
   "id": "8fb4938b-2a53-417b-9c9e-e808ba3fb8ab",
   "metadata": {},
   "outputs": [
    {
     "name": "stdout",
     "output_type": "stream",
     "text": [
      "31.18 seconds == 0.51 minutes elapsed\n"
     ]
    }
   ],
   "source": [
    "import json\n",
    "\n",
    "start_time = time.time()\n",
    "out_path = project_root_path + '/sandbox/data/bob/untracked/all_commits.json'\n",
    "out_handle = open(out_path, 'w');\n",
    "out_handle.write(json.dumps(all_commit_stats, indent=2));\n",
    "out_handle.flush()\n",
    "out_handle.close()\n",
    "end_time = time.time()\n",
    "elapsed(start, end)"
   ]
  },
  {
   "cell_type": "code",
   "execution_count": 11,
   "id": "54027609-2bac-4fe9-b619-c96aa9112fc1",
   "metadata": {},
   "outputs": [
    {
     "name": "stdout",
     "output_type": "stream",
     "text": [
      "3.66 seconds == 0.06 minutes elapsed\n"
     ]
    }
   ],
   "source": [
    "start = time.time()\n",
    "in_path = out_path\n",
    "in_stats = json.loads(open(in_path, 'r').read());\n",
    "end = time.time()\n",
    "elapsed(start, end)"
   ]
  },
  {
   "cell_type": "code",
   "execution_count": 12,
   "id": "4204b7f1-47b1-4e78-a3e1-747d9b0193f9",
   "metadata": {},
   "outputs": [
    {
     "name": "stdout",
     "output_type": "stream",
     "text": [
      "1b1bb7287a59a90f7f871a565899ea13\n",
      "abcecd1cf363980c36758c6a6ba631d2c0e295df97bde658cb0969024302d70d\n"
     ]
    }
   ],
   "source": [
    "import hashlib\n",
    "print(hashlib.md5(bytes('biscuits!', 'utf-8')).hexdigest())\n",
    "print(hashlib.sha256(bytes('biscuits!', 'utf-8')).hexdigest())"
   ]
  },
  {
   "cell_type": "code",
   "execution_count": 13,
   "id": "0d556330-9237-4540-803e-bd78eec82c4e",
   "metadata": {},
   "outputs": [
    {
     "data": {
      "text/plain": [
       "'1b'"
      ]
     },
     "execution_count": 13,
     "metadata": {},
     "output_type": "execute_result"
    }
   ],
   "source": [
    "hashlib.md5(bytes('biscuits!', 'utf-8')).hexdigest()[0:2]"
   ]
  },
  {
   "cell_type": "code",
   "execution_count": 14,
   "id": "f6b02183-1c7e-4e20-b3b0-34762626270c",
   "metadata": {},
   "outputs": [
    {
     "name": "stdout",
     "output_type": "stream",
     "text": [
      "664c9ab4c1158071f49982a184a7758b\n",
      "66\n",
      "664c9ab4c1158071f49982a184a7758b\n",
      "66\n",
      "664c9ab4c1158071f49982a184a7758b\n",
      "66\n"
     ]
    }
   ],
   "source": [
    "for commit in all_commit_stats[:3]:\n",
    "    print(commit['author_hash'])\n",
    "    print(commit['author_hash'][:2])"
   ]
  },
  {
   "cell_type": "code",
   "execution_count": 15,
   "id": "71ecc12a-dace-4829-8a31-8729a79b9527",
   "metadata": {},
   "outputs": [
    {
     "name": "stdout",
     "output_type": "stream",
     "text": [
      "477520\n",
      "387181\n"
     ]
    },
    {
     "data": {
      "text/plain": [
       "{'commit': 'ff3e15eb4372647a4c558dcd2e212c210bc6adb8',\n",
       " 'Author': 'Matthias Kretschmann <m@kretschmann.io>',\n",
       " 'Date': '2020-07-13T02:35:24-07:00',\n",
       " 'orig_timezone': 'UTC+02:00',\n",
       " 'fileTypes': {'tsx': {'inserts': 5, 'deletes': 1, 'occurrences': 1}},\n",
       " 'seen_in': ['deltaDAO/portal-safeFBDC',\n",
       "  'datalatte-ai/Datalatte-marketplace',\n",
       "  'deltaDAO/mvg-portal',\n",
       "  'opscientia/commons',\n",
       "  'jamiehewitt15/cryptophotos',\n",
       "  'oceanprotocol/market',\n",
       "  'deltaDAO/portal-udl',\n",
       "  'deltaDAO/portal-euprogigant',\n",
       "  'deltaDAO/market-foreverontheblockchain'],\n",
       " 'author_hash': 'aed73c61a223cc42b991dadad6d7f9ba',\n",
       " 'iso_datetime': '2020-07-13T02:35:24-07:00',\n",
       " 'utc_datetime': '2020-07-13T09:35:24'}"
      ]
     },
     "execution_count": 15,
     "metadata": {},
     "output_type": "execute_result"
    }
   ],
   "source": [
    "hash_dict = {}\n",
    "for commit in all_commit_stats:\n",
    "    key = commit['commit']\n",
    "    if key in hash_dict:\n",
    "        seen_in = list(set(hash_dict[key]['seen_in'] + commit['seen_in']))\n",
    "        commit['seen_in'] = seen_in\n",
    "    hash_dict[key] = commit\n",
    "print(len(all_commit_stats))\n",
    "print(len(hash_dict))\n",
    "hash_dict['ff3e15eb4372647a4c558dcd2e212c210bc6adb8']"
   ]
  },
  {
   "cell_type": "code",
   "execution_count": 16,
   "id": "59fbd21d-70c3-40e2-9109-04fab9f75146",
   "metadata": {},
   "outputs": [
    {
     "name": "stdout",
     "output_type": "stream",
     "text": [
      "2020-07-13T02:35:24-07:00\n"
     ]
    }
   ],
   "source": [
    "from datetime import datetime, timezone\n",
    "commit = hash_dict['ff3e15eb4372647a4c558dcd2e212c210bc6adb8']\n",
    "dtstring = commit['Date']\n",
    "print(dtstring)\n",
    "#dt = datetime.strptime(dtstring, 'Date:   %a %b %d %H:%M:%S %Y %z')\n",
    "#dt.isoformat()\n",
    "#datetime.utcfromtimestamp(dt.timestamp()).isoformat()"
   ]
  },
  {
   "cell_type": "code",
   "execution_count": 17,
   "id": "1d707e1e-f6e0-4b9c-bd14-0f81fa138b31",
   "metadata": {
    "tags": []
   },
   "outputs": [
    {
     "data": {
      "text/plain": [
       "'2020-07-13T11:35:24+02:00'"
      ]
     },
     "execution_count": 17,
     "metadata": {},
     "output_type": "execute_result"
    }
   ],
   "source": [
    "example_json = \" 'Date': 'Date:   Mon Jul 13 11:35:24 2020 +0200',\"\n",
    "example_dtstring = 'Date:   Mon Jul 13 11:35:24 2020 +0200'\n",
    "\n",
    "from datetime import datetime\n",
    "dt = datetime.strptime(example_dtstring, 'Date:   %a %b %d %H:%M:%S %Y %z')\n",
    "dt.isoformat()\n",
    "dt.isoformat()"
   ]
  },
  {
   "cell_type": "code",
   "execution_count": 18,
   "id": "aa9e3c9d-5be3-472b-8800-f43394c4d220",
   "metadata": {},
   "outputs": [],
   "source": [
    "in_path = '../../../untracked/maria_db.w3hn.txt'\n",
    "content = open(in_path).read()\n",
    "dbpass = content[0:len(content) - 1]\n",
    "\n",
    "create_commit_table_sql = \"\"\"\n",
    "create table if not exists github_analytics.gh_commit (\n",
    "    id varchar(128) not null unique primary key,\n",
    "    author varchar(1024) not null,\n",
    "    commit_dt datetime not null\n",
    ") character set 'utf8'\n",
    "\"\"\"\n",
    "\n",
    "import mariadb\n",
    "dbconn = mariadb.connect(user='w3hn', password=dbpass,\n",
    "                         host='localhost', database='github_analytics')\n",
    "curs = dbconn.cursor()\n",
    "try:\n",
    "    curs.execute(create_commit_table_sql)\n",
    "    curs.execute('create index if not exists authx on gh_commit (author)')\n",
    "finally:\n",
    "    curs.close()\n"
   ]
  },
  {
   "cell_type": "code",
   "execution_count": 19,
   "id": "b3b92efc-28ad-4f33-a801-40357850bfcf",
   "metadata": {},
   "outputs": [],
   "source": [
    "create_commit_project_table_sql = \"\"\"\n",
    "create table if not exists commit_project (\n",
    "    commit_id varchar(128) not null,\n",
    "    project varchar(4096) not null\n",
    ") character set 'utf8'\n",
    "\"\"\"\n",
    "\n",
    "import mariadb\n",
    "dbconn = mariadb.connect(user='w3hn', password=dbpass,\n",
    "                         host='localhost', database='github_analytics')\n",
    "curs = dbconn.cursor()\n",
    "try:\n",
    "    curs.execute(create_commit_project_table_sql)\n",
    "    curs.execute('create index if not exists projectx on commit_project (project)')\n",
    "    curs.execute('create index if not exists commitx on commit_project (commit_id)')\n",
    "finally:\n",
    "    curs.close()\n"
   ]
  },
  {
   "cell_type": "code",
   "execution_count": 20,
   "id": "64f81bed-354a-46cd-b0b1-12d27eacf855",
   "metadata": {},
   "outputs": [
    {
     "name": "stdout",
     "output_type": "stream",
     "text": [
      "83.91 seconds == 1.39 minutes elapsed\n"
     ]
    }
   ],
   "source": [
    "insert_commit_sql = \"\"\"\n",
    "insert into gh_commit (id, author, commit_dt) values (?, ?, ?)\n",
    "\"\"\"\n",
    "insert_cp_sql = \"\"\"\n",
    "insert into commit_project (commit_id, project) values (?, ?)\n",
    "\"\"\"\n",
    "\n",
    "import mariadb\n",
    "dbconn = mariadb.connect(user='w3hn', password=dbpass,\n",
    "                         host='localhost', database='github_analytics',\n",
    "                        autocommit=False)\n",
    "curs = dbconn.cursor()\n",
    "start_time = time.time()\n",
    "insert_num = 0\n",
    "try:\n",
    "    for commit_id in list(hash_dict.keys()):\n",
    "        commit = hash_dict[commit_id]\n",
    "        author = commit['Author']\n",
    "        commit_dt = commit['utc_datetime']\n",
    "        #print(str(commit_id) + ', ' + str(author) + ', ' + str(commit_dt))\n",
    "        #sql = \"insert into gh_commit (id, author, commit_dt) values ('\"+str(commit_id)+\"', '\"+str(author)+\"', '\"+str(commit_dt)+\"')\"\n",
    "        #sql = \"insert into gh_commit (id, author, commit_dt) values ('abc', 'def', '2022-05-17T07:43:38')\"\n",
    "        #print(sql)\n",
    "        #curs.execute(sql)\n",
    "        curs.execute(insert_commit_sql, (commit_id, author, commit_dt))\n",
    "        #curs.commit()\n",
    "        #print(\"hello\")\n",
    "        for project in commit['seen_in']:\n",
    "            curs.execute(insert_cp_sql, (commit_id, project))\n",
    "        if (insert_num % 10000 == 0):\n",
    "            dbconn.commit()\n",
    "        insert_num += 1\n",
    "finally:\n",
    "    try:\n",
    "        dbconn.commit()\n",
    "        curs.close()\n",
    "    finally:\n",
    "        dbconn.close()\n",
    "end_time = time.time()\n",
    "elapsed(start_time, end_time)"
   ]
  }
 ],
 "metadata": {
  "kernelspec": {
   "display_name": "Python 3 (ipykernel)",
   "language": "python",
   "name": "python3"
  },
  "language_info": {
   "codemirror_mode": {
    "name": "ipython",
    "version": 3
   },
   "file_extension": ".py",
   "mimetype": "text/x-python",
   "name": "python",
   "nbconvert_exporter": "python",
   "pygments_lexer": "ipython3",
   "version": "3.8.10"
  }
 },
 "nbformat": 4,
 "nbformat_minor": 5
}
