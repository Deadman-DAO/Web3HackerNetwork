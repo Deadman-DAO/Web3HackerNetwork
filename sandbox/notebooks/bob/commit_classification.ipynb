{
 "cells": [
  {
   "cell_type": "markdown",
   "id": "9610a4cf-b430-4648-83d6-c60659d111f4",
   "metadata": {},
   "source": [
    "### Load the Commit Statistics"
   ]
  },
  {
   "cell_type": "code",
   "execution_count": 1,
   "id": "f8b0fe3f-b091-44c9-84e6-4641cf623c1c",
   "metadata": {
    "tags": []
   },
   "outputs": [],
   "source": [
    "project_root_path = '../../..'\n",
    "lib_path = project_root_path + '/python/lib/'\n",
    "import json\n",
    "import sys\n",
    "sys.path.append(lib_path)\n",
    "import commit_features\n",
    "\n",
    "dataset_dir = project_root_path + '/data/github/2022-04-07-marine-search'\n",
    "project_stats_dir = dataset_dir + '/projects'\n",
    "all_commit_features = commit_features.load_all(project_stats_dir, 'commit-stat.log.json')"
   ]
  },
  {
   "cell_type": "markdown",
   "id": "9546a463-9563-49e6-8783-dfbadbc802d8",
   "metadata": {},
   "source": [
    "### Load the Manual Labels\n",
    "commit_labelling.csv is a manual labelling of 160 commits, done with an assist from the output of the clustering notebook."
   ]
  },
  {
   "cell_type": "code",
   "execution_count": 2,
   "id": "b2d9cb57-c542-4de4-b7e8-d3f591a16468",
   "metadata": {},
   "outputs": [],
   "source": [
    "import commit_features\n",
    "\n",
    "classifier_features = [\n",
    "    'binFiles','textFiles','textLines','javascriptLines','rustLines',\n",
    "    'lockLines','htmlLines','jsonLines','markdownLines','imgFiles'\n",
    "]\n",
    "\n",
    "labeling_path = project_root_path + '/sandbox/data/bob/commit_labeling.csv'\n",
    "X, y = commit_features.make_training_set(labeling_path, all_commit_features, classifier_features)"
   ]
  },
  {
   "cell_type": "code",
   "execution_count": 3,
   "id": "39fcef56-5bf5-4da6-b44c-3454f1017b81",
   "metadata": {},
   "outputs": [
    {
     "data": {
      "text/html": [
       "<div>\n",
       "<style scoped>\n",
       "    .dataframe tbody tr th:only-of-type {\n",
       "        vertical-align: middle;\n",
       "    }\n",
       "\n",
       "    .dataframe tbody tr th {\n",
       "        vertical-align: top;\n",
       "    }\n",
       "\n",
       "    .dataframe thead th {\n",
       "        text-align: right;\n",
       "    }\n",
       "</style>\n",
       "<table border=\"1\" class=\"dataframe\">\n",
       "  <thead>\n",
       "    <tr style=\"text-align: right;\">\n",
       "      <th></th>\n",
       "      <th>label</th>\n",
       "      <th>clstr</th>\n",
       "      <th>binF</th>\n",
       "      <th>txtF</th>\n",
       "      <th>txt</th>\n",
       "      <th>js</th>\n",
       "      <th>rust</th>\n",
       "      <th>md</th>\n",
       "      <th>json</th>\n",
       "      <th>img</th>\n",
       "      <th>lock</th>\n",
       "      <th>html</th>\n",
       "    </tr>\n",
       "  </thead>\n",
       "  <tbody>\n",
       "    <tr>\n",
       "      <th>ab05ef8f08f34b3b39585c0367afb83b9d658f9c</th>\n",
       "      <td>bulk</td>\n",
       "      <td>1</td>\n",
       "      <td>82</td>\n",
       "      <td>39069</td>\n",
       "      <td>5658518</td>\n",
       "      <td>66.62</td>\n",
       "      <td>0.00</td>\n",
       "      <td>6.43</td>\n",
       "      <td>16.36</td>\n",
       "      <td>25</td>\n",
       "      <td>0.44</td>\n",
       "      <td>0.30</td>\n",
       "    </tr>\n",
       "    <tr>\n",
       "      <th>48fb8bb782cd493cb4b41e1e21488ba8acd3b507</th>\n",
       "      <td>bulk</td>\n",
       "      <td>1</td>\n",
       "      <td>0</td>\n",
       "      <td>38948</td>\n",
       "      <td>5636363</td>\n",
       "      <td>66.74</td>\n",
       "      <td>0.00</td>\n",
       "      <td>6.45</td>\n",
       "      <td>16.42</td>\n",
       "      <td>15</td>\n",
       "      <td>0.21</td>\n",
       "      <td>0.30</td>\n",
       "    </tr>\n",
       "    <tr>\n",
       "      <th>5629c4b1eae0d9db3dd25e5ada2d91393005a3d0</th>\n",
       "      <td>bulk</td>\n",
       "      <td>1</td>\n",
       "      <td>62</td>\n",
       "      <td>789</td>\n",
       "      <td>402917</td>\n",
       "      <td>2.46</td>\n",
       "      <td>2.09</td>\n",
       "      <td>1.45</td>\n",
       "      <td>91.66</td>\n",
       "      <td>48</td>\n",
       "      <td>0.00</td>\n",
       "      <td>0.84</td>\n",
       "    </tr>\n",
       "    <tr>\n",
       "      <th>fdb28fe4084b7f182c3da9a8966d6142dd96dfe1</th>\n",
       "      <td>bulk</td>\n",
       "      <td>1</td>\n",
       "      <td>31</td>\n",
       "      <td>411</td>\n",
       "      <td>220745</td>\n",
       "      <td>2.38</td>\n",
       "      <td>1.92</td>\n",
       "      <td>1.27</td>\n",
       "      <td>92.19</td>\n",
       "      <td>23</td>\n",
       "      <td>0.00</td>\n",
       "      <td>0.87</td>\n",
       "    </tr>\n",
       "    <tr>\n",
       "      <th>0730644dc859d5395f1ab8f614bbc83903a5d6e0</th>\n",
       "      <td>bulk</td>\n",
       "      <td>1</td>\n",
       "      <td>28</td>\n",
       "      <td>389</td>\n",
       "      <td>201204</td>\n",
       "      <td>2.46</td>\n",
       "      <td>2.07</td>\n",
       "      <td>1.40</td>\n",
       "      <td>91.76</td>\n",
       "      <td>21</td>\n",
       "      <td>0.00</td>\n",
       "      <td>0.85</td>\n",
       "    </tr>\n",
       "    <tr>\n",
       "      <th>...</th>\n",
       "      <td>...</td>\n",
       "      <td>...</td>\n",
       "      <td>...</td>\n",
       "      <td>...</td>\n",
       "      <td>...</td>\n",
       "      <td>...</td>\n",
       "      <td>...</td>\n",
       "      <td>...</td>\n",
       "      <td>...</td>\n",
       "      <td>...</td>\n",
       "      <td>...</td>\n",
       "      <td>...</td>\n",
       "    </tr>\n",
       "    <tr>\n",
       "      <th>29f15f2b4e404816ea805b610c7ad3432127fdad</th>\n",
       "      <td>rust_pack</td>\n",
       "      <td>3</td>\n",
       "      <td>0</td>\n",
       "      <td>5</td>\n",
       "      <td>75</td>\n",
       "      <td>0.00</td>\n",
       "      <td>64.00</td>\n",
       "      <td>0.00</td>\n",
       "      <td>0.00</td>\n",
       "      <td>0</td>\n",
       "      <td>29.33</td>\n",
       "      <td>0.00</td>\n",
       "    </tr>\n",
       "    <tr>\n",
       "      <th>01cdb26c2cb0207abb915703b203fca8fae114dd</th>\n",
       "      <td>rust_pack</td>\n",
       "      <td>3</td>\n",
       "      <td>0</td>\n",
       "      <td>2</td>\n",
       "      <td>56</td>\n",
       "      <td>0.00</td>\n",
       "      <td>3.57</td>\n",
       "      <td>0.00</td>\n",
       "      <td>0.00</td>\n",
       "      <td>0</td>\n",
       "      <td>96.42</td>\n",
       "      <td>0.00</td>\n",
       "    </tr>\n",
       "    <tr>\n",
       "      <th>8eb4a1da7c024d1fd9261b4da1a68f0c40d4e375</th>\n",
       "      <td>rust_pack</td>\n",
       "      <td>3</td>\n",
       "      <td>0</td>\n",
       "      <td>7</td>\n",
       "      <td>52</td>\n",
       "      <td>0.00</td>\n",
       "      <td>42.30</td>\n",
       "      <td>0.00</td>\n",
       "      <td>0.00</td>\n",
       "      <td>0</td>\n",
       "      <td>42.30</td>\n",
       "      <td>0.00</td>\n",
       "    </tr>\n",
       "    <tr>\n",
       "      <th>6df4e470d37bdbfeb128e55815e73f7ab34fbaeb</th>\n",
       "      <td>rust_pack</td>\n",
       "      <td>3</td>\n",
       "      <td>0</td>\n",
       "      <td>4</td>\n",
       "      <td>51</td>\n",
       "      <td>0.00</td>\n",
       "      <td>7.84</td>\n",
       "      <td>21.56</td>\n",
       "      <td>0.00</td>\n",
       "      <td>0</td>\n",
       "      <td>70.58</td>\n",
       "      <td>0.00</td>\n",
       "    </tr>\n",
       "    <tr>\n",
       "      <th>3219570006b7d361969177fa05f488a238e206a7</th>\n",
       "      <td>rust_pack</td>\n",
       "      <td>3</td>\n",
       "      <td>0</td>\n",
       "      <td>2</td>\n",
       "      <td>36</td>\n",
       "      <td>0.00</td>\n",
       "      <td>11.11</td>\n",
       "      <td>0.00</td>\n",
       "      <td>0.00</td>\n",
       "      <td>0</td>\n",
       "      <td>88.88</td>\n",
       "      <td>0.00</td>\n",
       "    </tr>\n",
       "  </tbody>\n",
       "</table>\n",
       "<p>320 rows × 12 columns</p>\n",
       "</div>"
      ],
      "text/plain": [
       "                                              label  clstr  binF   txtF  \\\n",
       "ab05ef8f08f34b3b39585c0367afb83b9d658f9c       bulk      1    82  39069   \n",
       "48fb8bb782cd493cb4b41e1e21488ba8acd3b507       bulk      1     0  38948   \n",
       "5629c4b1eae0d9db3dd25e5ada2d91393005a3d0       bulk      1    62    789   \n",
       "fdb28fe4084b7f182c3da9a8966d6142dd96dfe1       bulk      1    31    411   \n",
       "0730644dc859d5395f1ab8f614bbc83903a5d6e0       bulk      1    28    389   \n",
       "...                                             ...    ...   ...    ...   \n",
       "29f15f2b4e404816ea805b610c7ad3432127fdad  rust_pack      3     0      5   \n",
       "01cdb26c2cb0207abb915703b203fca8fae114dd  rust_pack      3     0      2   \n",
       "8eb4a1da7c024d1fd9261b4da1a68f0c40d4e375  rust_pack      3     0      7   \n",
       "6df4e470d37bdbfeb128e55815e73f7ab34fbaeb  rust_pack      3     0      4   \n",
       "3219570006b7d361969177fa05f488a238e206a7  rust_pack      3     0      2   \n",
       "\n",
       "                                              txt     js   rust     md   json  \\\n",
       "ab05ef8f08f34b3b39585c0367afb83b9d658f9c  5658518  66.62   0.00   6.43  16.36   \n",
       "48fb8bb782cd493cb4b41e1e21488ba8acd3b507  5636363  66.74   0.00   6.45  16.42   \n",
       "5629c4b1eae0d9db3dd25e5ada2d91393005a3d0   402917   2.46   2.09   1.45  91.66   \n",
       "fdb28fe4084b7f182c3da9a8966d6142dd96dfe1   220745   2.38   1.92   1.27  92.19   \n",
       "0730644dc859d5395f1ab8f614bbc83903a5d6e0   201204   2.46   2.07   1.40  91.76   \n",
       "...                                           ...    ...    ...    ...    ...   \n",
       "29f15f2b4e404816ea805b610c7ad3432127fdad       75   0.00  64.00   0.00   0.00   \n",
       "01cdb26c2cb0207abb915703b203fca8fae114dd       56   0.00   3.57   0.00   0.00   \n",
       "8eb4a1da7c024d1fd9261b4da1a68f0c40d4e375       52   0.00  42.30   0.00   0.00   \n",
       "6df4e470d37bdbfeb128e55815e73f7ab34fbaeb       51   0.00   7.84  21.56   0.00   \n",
       "3219570006b7d361969177fa05f488a238e206a7       36   0.00  11.11   0.00   0.00   \n",
       "\n",
       "                                          img   lock  html  \n",
       "ab05ef8f08f34b3b39585c0367afb83b9d658f9c   25   0.44  0.30  \n",
       "48fb8bb782cd493cb4b41e1e21488ba8acd3b507   15   0.21  0.30  \n",
       "5629c4b1eae0d9db3dd25e5ada2d91393005a3d0   48   0.00  0.84  \n",
       "fdb28fe4084b7f182c3da9a8966d6142dd96dfe1   23   0.00  0.87  \n",
       "0730644dc859d5395f1ab8f614bbc83903a5d6e0   21   0.00  0.85  \n",
       "...                                       ...    ...   ...  \n",
       "29f15f2b4e404816ea805b610c7ad3432127fdad    0  29.33  0.00  \n",
       "01cdb26c2cb0207abb915703b203fca8fae114dd    0  96.42  0.00  \n",
       "8eb4a1da7c024d1fd9261b4da1a68f0c40d4e375    0  42.30  0.00  \n",
       "6df4e470d37bdbfeb128e55815e73f7ab34fbaeb    0  70.58  0.00  \n",
       "3219570006b7d361969177fa05f488a238e206a7    0  88.88  0.00  \n",
       "\n",
       "[320 rows x 12 columns]"
      ]
     },
     "execution_count": 3,
     "metadata": {},
     "output_type": "execute_result"
    }
   ],
   "source": [
    "import pandas as pd\n",
    "\n",
    "labeling_path = project_root_path + '/sandbox/data/bob/commit_labeling.csv'\n",
    "data_df = pd.read_csv(labeling_path, sep='\\t', index_col=0)\n",
    "data_df"
   ]
  },
  {
   "cell_type": "markdown",
   "id": "5e265b05-91d4-48c6-b0a3-a15d59ea4f8a",
   "metadata": {
    "tags": []
   },
   "source": [
    "### Link Manual Labels to Feature Stats\n",
    "Supervised learning traditionally uses X for features and y for targets. Matrices are notated in capital letters, vectors in lowercase.\n",
    "\n",
    "X is the matrix of input features, with one row per observation and one column per feature.\n",
    "\n",
    "y is the vector of labeled target values with one value for each observation. In some multiclass and multioutput cases, we would use a matrix Y instead."
   ]
  },
  {
   "cell_type": "code",
   "execution_count": 4,
   "id": "c1334520-578f-4b66-9d2a-b7bff76e97ba",
   "metadata": {},
   "outputs": [],
   "source": [
    "import numpy as np\n",
    "\n",
    "features = ['binFiles','textFiles','textLines','javascriptLines','rustLines',\n",
    "            'lockLines','htmlLines','jsonLines','markdownLines','imgFiles']\n",
    "\n",
    "def make_feature_vector(commit_features):\n",
    "    return [np.log1p(commit_features[feature]) for feature in features]\n",
    "\n",
    "features_dict = {}\n",
    "X_full = []\n",
    "for commit_features in all_commit_features:\n",
    "    commit_id = commit_features['commit']\n",
    "    features_dict[commit_id] = commit_features\n",
    "    feature_vector = make_feature_vector(commit_features)\n",
    "    X_full.append(feature_vector)\n",
    "\n",
    "X = []\n",
    "y = []\n",
    "for commit_id, labelling_spreadsheet_row in data_df.iterrows():\n",
    "    commit_features = features_dict[commit_id]\n",
    "    feature_vector = make_feature_vector(commit_features)\n",
    "    target_label = labelling_spreadsheet_row[0]\n",
    "    X.append(feature_vector)\n",
    "    y.append(target_label)"
   ]
  },
  {
   "cell_type": "markdown",
   "id": "5e14acfe-a4e4-4a28-bb66-12cb38a9200f",
   "metadata": {},
   "source": [
    "### Neural Network Classifier\n",
    "Multilayer Perceptrons (MLPs) are cool. They are neural networks with hidden layers that identify subtle patterns in data across multiple input features. Think about looking at multiple pixels in an image simultaneously to recognize a shape, like a wheel. That is the kind of problem at which neural networks justify their high training cost.\n",
    "\n",
    "This is not that kind of problem. But NNs are fun, so I'm training one anyway. :)"
   ]
  },
  {
   "cell_type": "code",
   "execution_count": 5,
   "id": "593b2d65-48cd-4bad-94d7-253edd7ffd8e",
   "metadata": {},
   "outputs": [
    {
     "name": "stdout",
     "output_type": "stream",
     "text": [
      "Score: 0.8679245283018868\n"
     ]
    }
   ],
   "source": [
    "from sklearn.model_selection import train_test_split\n",
    "from sklearn.neural_network import MLPClassifier\n",
    "\n",
    "random_state = 0\n",
    "split = train_test_split(X, y, test_size=0.33, random_state=random_state)\n",
    "X_train, X_test, y_train, y_test = split\n",
    "clf = MLPClassifier(solver='lbfgs', alpha=1e-3,\n",
    "                    hidden_layer_sizes=(20,20,20,20),\n",
    "                    random_state=random_state, max_iter=10000)\n",
    "clf.fit(X_train, y_train)\n",
    "score = clf.score(X_test, y_test)\n",
    "y_pred = clf.predict(X)\n",
    "print('Score: ' + str(score))"
   ]
  },
  {
   "cell_type": "markdown",
   "id": "8d6d61b5-04a6-4e7e-bf71-9f0c35805855",
   "metadata": {},
   "source": [
    "### Reliable Workhorse Classifier\n",
    "If neural networks are the awesome hotness of ML algorithms, Linear Regression and it's classifier sibling, Logistic Regression (sometimes abbreviated as Logit), are the reliable workhorses. Even in data science projects that end with a more advanced classifier, Logit is frequently used to give a baseline score during early analysis.\n",
    "\n",
    "In cases like we have here, with independent features that are mostly correlated to one or two classes, LogisticRegression gets a good answer with very little compute."
   ]
  },
  {
   "cell_type": "code",
   "execution_count": 6,
   "id": "e1e51094-3c18-4f3b-a122-3c8db06d1ca0",
   "metadata": {},
   "outputs": [
    {
     "name": "stdout",
     "output_type": "stream",
     "text": [
      "Score: 0.8867924528301887\n",
      "size: 320\n"
     ]
    }
   ],
   "source": [
    "from sklearn.linear_model import LogisticRegression\n",
    "from sklearn.model_selection import train_test_split\n",
    "\n",
    "random_state = 0\n",
    "split = train_test_split(X, y, test_size=0.33, random_state=random_state)\n",
    "X_train, X_test, y_train, y_test = split\n",
    "clf = LogisticRegression(random_state=random_state, max_iter=10000)\n",
    "clf.fit(X_train, y_train)\n",
    "score = clf.score(X_test, y_test)\n",
    "y_pred = clf.predict(X_test)\n",
    "print('Score: ' + str(score))\n",
    "print('size: ' + str(len(X)))"
   ]
  },
  {
   "cell_type": "markdown",
   "id": "3259839f-8aab-4725-a50f-5b76485d20ae",
   "metadata": {},
   "source": [
    "### Cross Validation"
   ]
  },
  {
   "cell_type": "code",
   "execution_count": 7,
   "id": "6214c62b-0110-463a-bae7-15d831ebe6fe",
   "metadata": {},
   "outputs": [
    {
     "data": {
      "text/plain": [
       "array([0.828125, 0.890625, 0.921875, 0.96875 , 0.796875])"
      ]
     },
     "execution_count": 7,
     "metadata": {},
     "output_type": "execute_result"
    }
   ],
   "source": [
    "from sklearn.linear_model import LogisticRegression\n",
    "from sklearn.model_selection import cross_validate\n",
    "random_state = 0\n",
    "clf = LogisticRegression(random_state = random_state, max_iter=10000)\n",
    "cv_results = cross_validate(clf, X, y, cv=5)\n",
    "cv_results['test_score']"
   ]
  },
  {
   "cell_type": "markdown",
   "id": "529eea39-77f7-4711-8bf3-fd84c4736755",
   "metadata": {},
   "source": [
    "### Confusion Matrix\n",
    "Each row of a confusion matrix shows statistics about one of the target classes. The values in the columns show the number of times that the classifier thought a commit of that type was something else."
   ]
  },
  {
   "cell_type": "code",
   "execution_count": 8,
   "id": "4d7a42a0-8cc9-4c26-9d29-5514a26db069",
   "metadata": {},
   "outputs": [
    {
     "name": "stdout",
     "output_type": "stream",
     "text": [
      "['bulk', 'json', 'rust_pack', 'other', 'documentation', 'interface', 'minor', 'rust', 'javascript', 'json_big']\n"
     ]
    },
    {
     "data": {
      "text/plain": [
       "array([[30,  1,  0,  0,  0,  1,  0,  0,  0,  1],\n",
       "       [ 0,  1,  0,  0,  0,  0,  0,  0,  0,  0],\n",
       "       [ 0,  0,  8,  0,  0,  0,  0,  0,  0,  0],\n",
       "       [ 0,  0,  0,  3,  1,  0,  1,  2,  0,  0],\n",
       "       [ 0,  0,  0,  0,  8,  0,  0,  0,  0,  0],\n",
       "       [ 0,  0,  0,  0,  0, 16,  0,  0,  0,  0],\n",
       "       [ 0,  0,  0,  0,  1,  2,  7,  1,  0,  0],\n",
       "       [ 0,  0,  0,  0,  0,  0,  0, 11,  0,  0],\n",
       "       [ 0,  0,  0,  0,  0,  0,  0,  0,  6,  0],\n",
       "       [ 1,  0,  0,  0,  0,  0,  0,  0,  0,  4]])"
      ]
     },
     "execution_count": 8,
     "metadata": {},
     "output_type": "execute_result"
    }
   ],
   "source": [
    "from sklearn.metrics import confusion_matrix\n",
    "target_names = list(set(y))\n",
    "y_test_numeric = [target_names.index(prediction) for prediction in y_test]\n",
    "y_pred_numeric = [target_names.index(prediction) for prediction in y_pred]\n",
    "confusion_mx = confusion_matrix(y_test_numeric, y_pred_numeric)\n",
    "print(target_names)\n",
    "confusion_mx"
   ]
  },
  {
   "cell_type": "markdown",
   "id": "88467589-5008-41ab-9587-fd9fcefb7ab2",
   "metadata": {},
   "source": [
    "### Beautiful Confusion\n",
    "The numbers above are fine if you want something that can be sent over telex, but we can make it a bit prettier.\n",
    "\n",
    "The diagonal of accurate predictions is nice and solid. The confusion points are reasonable and we're not seeing major errors, like confusing Rust commits with Javascript. This result is very good. We can proceed to adding a broader selection of project types in the next iteration."
   ]
  },
  {
   "cell_type": "code",
   "execution_count": 9,
   "id": "595590e4-81f7-488f-80e5-e8d5e9edb9f5",
   "metadata": {},
   "outputs": [
    {
     "data": {
      "image/png": "[encoded data removed]",
      "text/plain": [
       "<Figure size 504x216 with 2 Axes>"
      ]
     },
     "metadata": {
      "needs_background": "light"
     },
     "output_type": "display_data"
    }
   ],
   "source": [
    "import seaborn as sn\n",
    "import pandas as pd\n",
    "import matplotlib.pyplot as plt\n",
    "confusion_df = pd.DataFrame(confusion_mx, index=target_names, columns=target_names)\n",
    "plt.figure(figsize = (7,3))\n",
    "ax = sn.heatmap(confusion_df, annot=True)\n",
    "ax.set_xlabel(\"\\nPredicted Class\")\n",
    "ax.set_ylabel(\"Actual Class\\n\")\n",
    "plt.show()"
   ]
  },
  {
   "cell_type": "code",
   "execution_count": 10,
   "id": "6f700c90-3bed-4642-9d9f-ca2d8f62b2a2",
   "metadata": {},
   "outputs": [
    {
     "name": "stdout",
     "output_type": "stream",
     "text": [
      "2629\n"
     ]
    }
   ],
   "source": [
    "from sklearn.linear_model import LogisticRegression\n",
    "import pickle\n",
    "\n",
    "random_state = 0\n",
    "clf = LogisticRegression(random_state=random_state, max_iter=10000)\n",
    "clf.fit(X, y)\n",
    "y_pred = clf.predict(X_full)\n",
    "print(len(y_pred))\n",
    "model_path = project_root_path + '/sandbox/data/bob/logit-clf.dat'\n",
    "fout = open(model_path, 'wb')\n",
    "model_serial = pickle.dump(clf, fout)\n",
    "fout.close()"
   ]
  },
  {
   "cell_type": "code",
   "execution_count": 11,
   "id": "26ade470-2733-400a-90ab-ed9a7eb9c96e",
   "metadata": {},
   "outputs": [
    {
     "name": "stdout",
     "output_type": "stream",
     "text": [
      "2629\n"
     ]
    }
   ],
   "source": [
    "fin = open(model_path, 'rb')\n",
    "model_deserial = pickle.load(fin)\n",
    "fin.close()\n",
    "y_pred = clf.predict(X_full)\n",
    "print(len(y_pred))"
   ]
  }
 ],
 "metadata": {
  "kernelspec": {
   "display_name": "Python 3 (ipykernel)",
   "language": "python",
   "name": "python3"
  },
  "language_info": {
   "codemirror_mode": {
    "name": "ipython",
    "version": 3
   },
   "file_extension": ".py",
   "mimetype": "text/x-python",
   "name": "python",
   "nbconvert_exporter": "python",
   "pygments_lexer": "ipython3",
   "version": "3.8.10"
  }
 },
 "nbformat": 4,
 "nbformat_minor": 5
}
