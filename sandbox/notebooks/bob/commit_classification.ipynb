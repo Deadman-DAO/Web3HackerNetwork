{
 "cells": [
  {
   "cell_type": "markdown",
   "id": "9610a4cf-b430-4648-83d6-c60659d111f4",
   "metadata": {},
   "source": [
    "### Load the Commit Statistics\n",
    "For this clustering we examined 39 GitHub projects containing a total of 2,629 commits. The projects all included the Fluence Marine library. Code for Fluence is generally written in React and Rust."
   ]
  },
  {
   "cell_type": "code",
   "execution_count": 1,
   "id": "f8b0fe3f-b091-44c9-84e6-4641cf623c1c",
   "metadata": {
    "tags": []
   },
   "outputs": [],
   "source": [
    "project_root_path = '../../..'\n",
    "\n",
    "import sys\n",
    "bob_lib_path = project_root_path + \"/sandbox/python/bob/\"\n",
    "sys.path.append(bob_lib_path)\n",
    "\n",
    "import commit_stat_engineering\n",
    "import json\n",
    "\n",
    "dataset_dir = project_root_path + '/data/github/2022-04-07-marine-search'\n",
    "project_stats_dir = dataset_dir + '/projects'\n",
    "all_commit_logs = commit_stat_engineering.find_files('commit-stat.log.json', project_stats_dir)\n",
    "all_stats = commit_stat_engineering.get_stats_for_all_commits(all_commit_logs)"
   ]
  },
  {
   "cell_type": "markdown",
   "id": "a91ccece-ba1d-4a6f-8085-df2c8024e22d",
   "metadata": {},
   "source": [
    "### Commit Stats\n"
   ]
  },
  {
   "cell_type": "code",
   "execution_count": 2,
   "id": "6a810952-dbb6-4681-b5d0-ebc90465ef7b",
   "metadata": {},
   "outputs": [
    {
     "name": "stdout",
     "output_type": "stream",
     "text": [
      "dict_keys(['commit', 'totalFiles', 'binFiles', 'textFiles', 'textLines', 'javascriptFiles', 'javascriptLines', 'javascriptFilePct', 'javascriptLinePct', 'rustFiles', 'rustLines', 'rustFilePct', 'rustLinePct', 'markdownFiles', 'markdownLines', 'markdownFilePct', 'markdownLinePct', 'jsonFiles', 'jsonLines', 'jsonFilePct', 'jsonLinePct', 'imgFiles', 'imgFilePct', 'lockFiles', 'lockLines', 'lockFilePct', 'lockLinePct', 'yarnFiles', 'yarnLines', 'yarnFilePct', 'yarnLinePct', 'htmlFiles', 'htmlLines', 'htmlFilePct', 'htmlLinePct', 'clojureFiles', 'clojureLines', 'clojureFilePct', 'clojureLinePct', 'shellFiles', 'shellLines', 'shellFilePct', 'shellLinePct', 'gitignoreFiles', 'gitignoreLines', 'gitignoreFilePct', 'gitignoreLinePct', 'noextbinFiles', 'noextbinFilePct', 'noexttextFiles', 'noexttextLines', 'noexttextFilePct', 'noexttextLinePct'])\n"
     ]
    }
   ],
   "source": [
    "print(all_stats[0].keys())"
   ]
  },
  {
   "cell_type": "markdown",
   "id": "9546a463-9563-49e6-8783-dfbadbc802d8",
   "metadata": {},
   "source": [
    "### Load Labels"
   ]
  },
  {
   "cell_type": "code",
   "execution_count": 1,
   "id": "39fcef56-5bf5-4da6-b44c-3454f1017b81",
   "metadata": {},
   "outputs": [
    {
     "ename": "NameError",
     "evalue": "name 'project_root_path' is not defined",
     "output_type": "error",
     "traceback": [
      "\u001b[0;31m---------------------------------------------------------------------------\u001b[0m",
      "\u001b[0;31mNameError\u001b[0m                                 Traceback (most recent call last)",
      "Input \u001b[0;32mIn [1]\u001b[0m, in \u001b[0;36m<cell line: 3>\u001b[0;34m()\u001b[0m\n\u001b[1;32m      1\u001b[0m \u001b[38;5;28;01mimport\u001b[39;00m \u001b[38;5;21;01mpandas\u001b[39;00m \u001b[38;5;28;01mas\u001b[39;00m \u001b[38;5;21;01mpd\u001b[39;00m\n\u001b[0;32m----> 3\u001b[0m data \u001b[38;5;241m=\u001b[39m pd\u001b[38;5;241m.\u001b[39mread_csv(\u001b[43mproject_root_path\u001b[49m \u001b[38;5;241m+\u001b[39m \u001b[38;5;124m'\u001b[39m\u001b[38;5;124m/sandbox/data/bob/commit_labeling.csv\u001b[39m\u001b[38;5;124m'\u001b[39m, sep\u001b[38;5;241m=\u001b[39m\u001b[38;5;124m'\u001b[39m\u001b[38;5;130;01m\\t\u001b[39;00m\u001b[38;5;124m'\u001b[39m)\n\u001b[1;32m      4\u001b[0m data\n",
      "\u001b[0;31mNameError\u001b[0m: name 'project_root_path' is not defined"
     ]
    }
   ],
   "source": [
    "import pandas as pd\n",
    "\n",
    "data = pd.read_csv(project_root_path + '/sandbox/data/bob/commit_labeling.csv', sep='\\t')\n",
    "data"
   ]
  },
  {
   "cell_type": "markdown",
   "id": "5e265b05-91d4-48c6-b0a3-a15d59ea4f8a",
   "metadata": {
    "tags": []
   },
   "source": [
    "### Link Labels to Stats"
   ]
  },
  {
   "cell_type": "code",
   "execution_count": 4,
   "id": "c1334520-578f-4b66-9d2a-b7bff76e97ba",
   "metadata": {},
   "outputs": [],
   "source": [
    "import numpy as np\n",
    "def make_x(commit_stats):\n",
    "    return [\n",
    "        np.log1p(commit_stats['binFiles']),\n",
    "        np.log1p(commit_stats['textFiles']),\n",
    "        np.log1p(commit_stats['textLines']),\n",
    "        np.log1p(commit_stats['javascriptFiles']),\n",
    "        np.log1p(commit_stats['javascriptLines']),\n",
    "        commit_stats['javascriptLinePct'],\n",
    "        np.log1p(commit_stats['rustFiles']),\n",
    "        np.log1p(commit_stats['rustLines']),\n",
    "        commit_stats['rustLinePct'],\n",
    "        np.log1p(commit_stats['markdownFiles']),\n",
    "        np.log1p(commit_stats['markdownLines']),\n",
    "        commit_stats['markdownLinePct'],\n",
    "        np.log1p(commit_stats['jsonFiles']),\n",
    "        np.log1p(commit_stats['jsonLines']),\n",
    "        commit_stats['jsonLinePct'],\n",
    "        np.log1p(commit_stats['imgFiles']),\n",
    "        np.log1p(commit_stats['lockFiles']),\n",
    "        np.log1p(commit_stats['lockLines']),\n",
    "        commit_stats['lockLinePct'],\n",
    "        np.log1p(commit_stats['yarnFiles']),\n",
    "        np.log1p(commit_stats['yarnLines']),\n",
    "        commit_stats['yarnLinePct'],\n",
    "        np.log1p(commit_stats['htmlFiles']),\n",
    "        np.log1p(commit_stats['htmlLines']),\n",
    "        commit_stats['htmlLinePct'],\n",
    "        np.log1p(commit_stats['clojureFiles']),\n",
    "        np.log1p(commit_stats['clojureLines']),\n",
    "        commit_stats['clojureLinePct'],\n",
    "        np.log1p(commit_stats['shellFiles']),\n",
    "        np.log1p(commit_stats['shellLines']),\n",
    "        commit_stats['shellLinePct'],\n",
    "        np.log1p(commit_stats['gitignoreFiles']),\n",
    "        np.log1p(commit_stats['gitignoreLines']),\n",
    "        commit_stats['gitignoreLinePct']\n",
    "    ]\n"
   ]
  },
  {
   "cell_type": "code",
   "execution_count": 10,
   "id": "17524daf-12da-49b3-9902-09d55687ca36",
   "metadata": {},
   "outputs": [],
   "source": [
    "stats = {}\n",
    "for commit in all_stats:\n",
    "    stats[commit['commit']] = commit\n",
    "\n",
    "X = []\n",
    "Y = []\n",
    "a = 0\n",
    "for row in data.to_numpy():\n",
    "    commit_id = row[0]\n",
    "    row_labels = row[slice(2, 12)]\n",
    "    x = make_x(stats[commit_id])\n",
    "    #print(x)\n",
    "    #print(a)\n",
    "    X.append(make_x(stats[commit_id]))\n",
    "    Y.append(row_labels.tolist())\n",
    "    a += 1\n",
    "#print(a)\n",
    "\n",
    "#print(Y[slice(2)])\n",
    "#print(Y[0][0])\n",
    "#print(X[slice(2)])"
   ]
  },
  {
   "cell_type": "code",
   "execution_count": 11,
   "id": "31b79435-cfe4-45b3-820c-7f779fb120cb",
   "metadata": {},
   "outputs": [
    {
     "name": "stdout",
     "output_type": "stream",
     "text": [
      "[[0 1 0]\n",
      " [0 1 0]]\n",
      "[[0, 0, 0, 0, 0, 1, 0, 0, 0, 0], [0, 0, 0, 0, 0, 1, 0, 0, 0, 0]]\n"
     ]
    }
   ],
   "source": [
    "from sklearn.datasets import make_multilabel_classification\n",
    "\n",
    "sample_X, sample_y = make_multilabel_classification(n_classes=3, random_state=0)\n",
    "print(sample_y[slice(2)])\n",
    "print(Y[slice(2)])"
   ]
  },
  {
   "cell_type": "code",
   "execution_count": 13,
   "id": "d2d0b4ba-7769-4d6b-a8b0-d52194a13b06",
   "metadata": {},
   "outputs": [
    {
     "name": "stdout",
     "output_type": "stream",
     "text": [
      "140\n",
      "140\n",
      "0.7214285714285714\n"
     ]
    },
    {
     "name": "stderr",
     "output_type": "stream",
     "text": [
      "/home/bob/.local/lib/python3.8/site-packages/sklearn/neural_network/_multilayer_perceptron.py:549: ConvergenceWarning: lbfgs failed to converge (status=1):\n",
      "STOP: TOTAL NO. of ITERATIONS REACHED LIMIT.\n",
      "\n",
      "Increase the number of iterations (max_iter) or scale the data as shown in:\n",
      "    https://scikit-learn.org/stable/modules/preprocessing.html\n",
      "  self.n_iter_ = _check_optimize_result(\"lbfgs\", opt_res, self.max_iter)\n"
     ]
    }
   ],
   "source": [
    "from sklearn.linear_model import LogisticRegression\n",
    "from sklearn.neural_network import MLPClassifier\n",
    "from sklearn.multioutput import MultiOutputClassifier\n",
    "\n",
    "print(len(X))\n",
    "print(len(Y))\n",
    "\n",
    "clf = MLPClassifier(solver='lbfgs', alpha=1e-5,\n",
    "                    hidden_layer_sizes=(7, 8), random_state = 1)\n",
    "clf.fit(X, Y)\n",
    "score = clf.score(X, Y)\n",
    "Y_pred = clf.predict(X)\n",
    "print(score)\n",
    "# print(Y_pred)"
   ]
  },
  {
   "cell_type": "code",
   "execution_count": 14,
   "id": "593b2d65-48cd-4bad-94d7-253edd7ffd8e",
   "metadata": {},
   "outputs": [
    {
     "name": "stdout",
     "output_type": "stream",
     "text": [
      "0.5957446808510638\n"
     ]
    },
    {
     "name": "stderr",
     "output_type": "stream",
     "text": [
      "/home/bob/.local/lib/python3.8/site-packages/sklearn/neural_network/_multilayer_perceptron.py:549: ConvergenceWarning: lbfgs failed to converge (status=1):\n",
      "STOP: TOTAL NO. of ITERATIONS REACHED LIMIT.\n",
      "\n",
      "Increase the number of iterations (max_iter) or scale the data as shown in:\n",
      "    https://scikit-learn.org/stable/modules/preprocessing.html\n",
      "  self.n_iter_ = _check_optimize_result(\"lbfgs\", opt_res, self.max_iter)\n"
     ]
    }
   ],
   "source": [
    "from sklearn.model_selection import train_test_split\n",
    "X_train, X_test, Y_train, Y_test = \\\n",
    "    train_test_split(X, Y, test_size=0.33, random_state=3)\n",
    "\n",
    "clf = MLPClassifier(solver='lbfgs', alpha=1e-5,\n",
    "                    hidden_layer_sizes=(7, 8), random_state = 1)\n",
    "clf.fit(X_train, Y_train)\n",
    "score = clf.score(X_test, Y_test)\n",
    "# Y_pred = clf.predict(X)\n",
    "print(score)\n",
    "# print(Y_pred)"
   ]
  },
  {
   "cell_type": "code",
   "execution_count": 9,
   "id": "b02d311c-5a18-451d-b22f-28a27eaac1c6",
   "metadata": {},
   "outputs": [
    {
     "name": "stdout",
     "output_type": "stream",
     "text": [
      "93\n"
     ]
    }
   ],
   "source": [
    "#print(X_test)\n",
    "#print(Y_pred)\n",
    "pairs = []\n",
    "for i in range(0,len(X_test)):\n",
    "    #print(Y_pred[i].tolist())\n",
    "    pairs.append(Y_pred[i].tolist() + X_test[i])\n",
    "# print(pairs)\n",
    "\n",
    "print(len(X_train))\n",
    "import pandas as pd\n",
    "pd.DataFrame(pairs).to_csv(\"/home/bob/test.tsv\", sep=\"\\t\")"
   ]
  }
 ],
 "metadata": {
  "kernelspec": {
   "display_name": "Python 3 (ipykernel)",
   "language": "python",
   "name": "python3"
  },
  "language_info": {
   "codemirror_mode": {
    "name": "ipython",
    "version": 3
   },
   "file_extension": ".py",
   "mimetype": "text/x-python",
   "name": "python",
   "nbconvert_exporter": "python",
   "pygments_lexer": "ipython3",
   "version": "3.8.10"
  }
 },
 "nbformat": 4,
 "nbformat_minor": 5
}
