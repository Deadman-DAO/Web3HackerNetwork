{
 "cells": [
  {
   "cell_type": "markdown",
   "id": "9610a4cf-b430-4648-83d6-c60659d111f4",
   "metadata": {},
   "source": [
    "### Load the Commit Statistics"
   ]
  },
  {
   "cell_type": "code",
   "execution_count": 1,
   "id": "f8b0fe3f-b091-44c9-84e6-4641cf623c1c",
   "metadata": {
    "tags": []
   },
   "outputs": [],
   "source": [
    "project_root_path = '../../..'\n",
    "\n",
    "import sys\n",
    "lib_path = project_root_path + \"/jupyter/lib/\"\n",
    "sys.path.append(lib_path)\n",
    "\n",
    "import commit_stat_engineering\n",
    "import json\n",
    "\n",
    "dataset_dir = project_root_path + '/data/github/2022-04-07-marine-search'\n",
    "project_stats_dir = dataset_dir + '/projects'\n",
    "all_commit_logs = commit_stat_engineering.find_files('commit-stat.log.json', project_stats_dir)\n",
    "all_stats = commit_stat_engineering.get_stats_for_all_commits(all_commit_logs)"
   ]
  },
  {
   "cell_type": "markdown",
   "id": "9546a463-9563-49e6-8783-dfbadbc802d8",
   "metadata": {},
   "source": [
    "### Load the Manual Labels\n",
    "commit_labelling.csv is a manual labelling of 160 rows, done with an assist from the output of the clustering notebook."
   ]
  },
  {
   "cell_type": "code",
   "execution_count": 2,
   "id": "39fcef56-5bf5-4da6-b44c-3454f1017b81",
   "metadata": {},
   "outputs": [
    {
     "data": {
      "text/html": [
       "<div>\n",
       "<style scoped>\n",
       "    .dataframe tbody tr th:only-of-type {\n",
       "        vertical-align: middle;\n",
       "    }\n",
       "\n",
       "    .dataframe tbody tr th {\n",
       "        vertical-align: top;\n",
       "    }\n",
       "\n",
       "    .dataframe thead th {\n",
       "        text-align: right;\n",
       "    }\n",
       "</style>\n",
       "<table border=\"1\" class=\"dataframe\">\n",
       "  <thead>\n",
       "    <tr style=\"text-align: right;\">\n",
       "      <th></th>\n",
       "      <th>wtf</th>\n",
       "      <th>rust_development</th>\n",
       "      <th>cluster</th>\n",
       "      <th>binFiles</th>\n",
       "      <th>textFiles</th>\n",
       "      <th>textLines</th>\n",
       "      <th>javascriptLinePct</th>\n",
       "      <th>rustLinePct</th>\n",
       "      <th>markdownLinePct</th>\n",
       "      <th>jsonLinePct</th>\n",
       "      <th>imgFiles</th>\n",
       "      <th>lockLinePct</th>\n",
       "      <th>yarnLinePct</th>\n",
       "      <th>htmlLinePct</th>\n",
       "    </tr>\n",
       "  </thead>\n",
       "  <tbody>\n",
       "    <tr>\n",
       "      <th>12074a45bc9b22dfffbf433bb73dde6aad88e2be</th>\n",
       "      <td>0</td>\n",
       "      <td>minor_commit</td>\n",
       "      <td>7</td>\n",
       "      <td>0</td>\n",
       "      <td>0</td>\n",
       "      <td>0</td>\n",
       "      <td>0.00</td>\n",
       "      <td>0.0</td>\n",
       "      <td>0.00</td>\n",
       "      <td>0.00</td>\n",
       "      <td>2</td>\n",
       "      <td>0.00</td>\n",
       "      <td>0.0</td>\n",
       "      <td>0.00</td>\n",
       "    </tr>\n",
       "    <tr>\n",
       "      <th>e190bc9dcda78b5688b25154c1eb6e2e1febfd1c</th>\n",
       "      <td>0</td>\n",
       "      <td>minor_commit</td>\n",
       "      <td>7</td>\n",
       "      <td>0</td>\n",
       "      <td>0</td>\n",
       "      <td>0</td>\n",
       "      <td>0.00</td>\n",
       "      <td>0.0</td>\n",
       "      <td>0.00</td>\n",
       "      <td>0.00</td>\n",
       "      <td>0</td>\n",
       "      <td>0.00</td>\n",
       "      <td>0.0</td>\n",
       "      <td>0.00</td>\n",
       "    </tr>\n",
       "    <tr>\n",
       "      <th>e4807d4413c12c4b9a4600736ebd3642a8e8b2ce</th>\n",
       "      <td>0</td>\n",
       "      <td>minor_commit</td>\n",
       "      <td>7</td>\n",
       "      <td>1</td>\n",
       "      <td>0</td>\n",
       "      <td>0</td>\n",
       "      <td>0.00</td>\n",
       "      <td>0.0</td>\n",
       "      <td>0.00</td>\n",
       "      <td>0.00</td>\n",
       "      <td>1</td>\n",
       "      <td>0.00</td>\n",
       "      <td>0.0</td>\n",
       "      <td>0.00</td>\n",
       "    </tr>\n",
       "    <tr>\n",
       "      <th>5b1f6608a3ae88026b9f2bf317a80287f382e9b7</th>\n",
       "      <td>0</td>\n",
       "      <td>minor_commit</td>\n",
       "      <td>7</td>\n",
       "      <td>0</td>\n",
       "      <td>1</td>\n",
       "      <td>1</td>\n",
       "      <td>100.00</td>\n",
       "      <td>0.0</td>\n",
       "      <td>0.00</td>\n",
       "      <td>0.00</td>\n",
       "      <td>0</td>\n",
       "      <td>0.00</td>\n",
       "      <td>0.0</td>\n",
       "      <td>0.00</td>\n",
       "    </tr>\n",
       "    <tr>\n",
       "      <th>dabe94da0d22f41a555012e6ec4ef689a8c1c6e6</th>\n",
       "      <td>0</td>\n",
       "      <td>minor_commit</td>\n",
       "      <td>7</td>\n",
       "      <td>0</td>\n",
       "      <td>1</td>\n",
       "      <td>1</td>\n",
       "      <td>100.00</td>\n",
       "      <td>0.0</td>\n",
       "      <td>0.00</td>\n",
       "      <td>0.00</td>\n",
       "      <td>0</td>\n",
       "      <td>0.00</td>\n",
       "      <td>0.0</td>\n",
       "      <td>0.00</td>\n",
       "    </tr>\n",
       "    <tr>\n",
       "      <th>...</th>\n",
       "      <td>...</td>\n",
       "      <td>...</td>\n",
       "      <td>...</td>\n",
       "      <td>...</td>\n",
       "      <td>...</td>\n",
       "      <td>...</td>\n",
       "      <td>...</td>\n",
       "      <td>...</td>\n",
       "      <td>...</td>\n",
       "      <td>...</td>\n",
       "      <td>...</td>\n",
       "      <td>...</td>\n",
       "      <td>...</td>\n",
       "      <td>...</td>\n",
       "    </tr>\n",
       "    <tr>\n",
       "      <th>768edfc7eb1bd020830f211265da9848de339b3d</th>\n",
       "      <td>0</td>\n",
       "      <td>big_json</td>\n",
       "      <td>2</td>\n",
       "      <td>0</td>\n",
       "      <td>13</td>\n",
       "      <td>10912</td>\n",
       "      <td>5.26</td>\n",
       "      <td>0.0</td>\n",
       "      <td>0.00</td>\n",
       "      <td>78.36</td>\n",
       "      <td>2</td>\n",
       "      <td>15.25</td>\n",
       "      <td>0.0</td>\n",
       "      <td>0.00</td>\n",
       "    </tr>\n",
       "    <tr>\n",
       "      <th>e8e033de75164a99af30c3ab997fb6b028a6ab75</th>\n",
       "      <td>0</td>\n",
       "      <td>big_json</td>\n",
       "      <td>2</td>\n",
       "      <td>0</td>\n",
       "      <td>6</td>\n",
       "      <td>13251</td>\n",
       "      <td>0.35</td>\n",
       "      <td>0.0</td>\n",
       "      <td>0.00</td>\n",
       "      <td>99.64</td>\n",
       "      <td>0</td>\n",
       "      <td>0.00</td>\n",
       "      <td>0.0</td>\n",
       "      <td>0.00</td>\n",
       "    </tr>\n",
       "    <tr>\n",
       "      <th>c991d0d153f6c7d3f94767359043e93cd2136ea0</th>\n",
       "      <td>0</td>\n",
       "      <td>big_json</td>\n",
       "      <td>2</td>\n",
       "      <td>0</td>\n",
       "      <td>23</td>\n",
       "      <td>16797</td>\n",
       "      <td>2.45</td>\n",
       "      <td>0.0</td>\n",
       "      <td>0.08</td>\n",
       "      <td>97.27</td>\n",
       "      <td>0</td>\n",
       "      <td>0.00</td>\n",
       "      <td>0.0</td>\n",
       "      <td>0.00</td>\n",
       "    </tr>\n",
       "    <tr>\n",
       "      <th>f815a4764ab1946106baea984a20fa423e79a8f3</th>\n",
       "      <td>0</td>\n",
       "      <td>big_json</td>\n",
       "      <td>2</td>\n",
       "      <td>3</td>\n",
       "      <td>16</td>\n",
       "      <td>20429</td>\n",
       "      <td>1.20</td>\n",
       "      <td>0.0</td>\n",
       "      <td>0.09</td>\n",
       "      <td>97.56</td>\n",
       "      <td>2</td>\n",
       "      <td>0.00</td>\n",
       "      <td>0.0</td>\n",
       "      <td>0.91</td>\n",
       "    </tr>\n",
       "    <tr>\n",
       "      <th>c8fdf56b928653fe1563857b5f12ff5975ad99c4</th>\n",
       "      <td>0</td>\n",
       "      <td>big_json</td>\n",
       "      <td>2</td>\n",
       "      <td>3</td>\n",
       "      <td>16</td>\n",
       "      <td>27710</td>\n",
       "      <td>0.22</td>\n",
       "      <td>0.0</td>\n",
       "      <td>0.25</td>\n",
       "      <td>99.11</td>\n",
       "      <td>2</td>\n",
       "      <td>0.00</td>\n",
       "      <td>0.0</td>\n",
       "      <td>0.30</td>\n",
       "    </tr>\n",
       "  </tbody>\n",
       "</table>\n",
       "<p>160 rows × 14 columns</p>\n",
       "</div>"
      ],
      "text/plain": [
       "                                          wtf rust_development  cluster  \\\n",
       "12074a45bc9b22dfffbf433bb73dde6aad88e2be    0     minor_commit        7   \n",
       "e190bc9dcda78b5688b25154c1eb6e2e1febfd1c    0     minor_commit        7   \n",
       "e4807d4413c12c4b9a4600736ebd3642a8e8b2ce    0     minor_commit        7   \n",
       "5b1f6608a3ae88026b9f2bf317a80287f382e9b7    0     minor_commit        7   \n",
       "dabe94da0d22f41a555012e6ec4ef689a8c1c6e6    0     minor_commit        7   \n",
       "...                                       ...              ...      ...   \n",
       "768edfc7eb1bd020830f211265da9848de339b3d    0         big_json        2   \n",
       "e8e033de75164a99af30c3ab997fb6b028a6ab75    0         big_json        2   \n",
       "c991d0d153f6c7d3f94767359043e93cd2136ea0    0         big_json        2   \n",
       "f815a4764ab1946106baea984a20fa423e79a8f3    0         big_json        2   \n",
       "c8fdf56b928653fe1563857b5f12ff5975ad99c4    0         big_json        2   \n",
       "\n",
       "                                          binFiles  textFiles  textLines  \\\n",
       "12074a45bc9b22dfffbf433bb73dde6aad88e2be         0          0          0   \n",
       "e190bc9dcda78b5688b25154c1eb6e2e1febfd1c         0          0          0   \n",
       "e4807d4413c12c4b9a4600736ebd3642a8e8b2ce         1          0          0   \n",
       "5b1f6608a3ae88026b9f2bf317a80287f382e9b7         0          1          1   \n",
       "dabe94da0d22f41a555012e6ec4ef689a8c1c6e6         0          1          1   \n",
       "...                                            ...        ...        ...   \n",
       "768edfc7eb1bd020830f211265da9848de339b3d         0         13      10912   \n",
       "e8e033de75164a99af30c3ab997fb6b028a6ab75         0          6      13251   \n",
       "c991d0d153f6c7d3f94767359043e93cd2136ea0         0         23      16797   \n",
       "f815a4764ab1946106baea984a20fa423e79a8f3         3         16      20429   \n",
       "c8fdf56b928653fe1563857b5f12ff5975ad99c4         3         16      27710   \n",
       "\n",
       "                                          javascriptLinePct  rustLinePct  \\\n",
       "12074a45bc9b22dfffbf433bb73dde6aad88e2be               0.00          0.0   \n",
       "e190bc9dcda78b5688b25154c1eb6e2e1febfd1c               0.00          0.0   \n",
       "e4807d4413c12c4b9a4600736ebd3642a8e8b2ce               0.00          0.0   \n",
       "5b1f6608a3ae88026b9f2bf317a80287f382e9b7             100.00          0.0   \n",
       "dabe94da0d22f41a555012e6ec4ef689a8c1c6e6             100.00          0.0   \n",
       "...                                                     ...          ...   \n",
       "768edfc7eb1bd020830f211265da9848de339b3d               5.26          0.0   \n",
       "e8e033de75164a99af30c3ab997fb6b028a6ab75               0.35          0.0   \n",
       "c991d0d153f6c7d3f94767359043e93cd2136ea0               2.45          0.0   \n",
       "f815a4764ab1946106baea984a20fa423e79a8f3               1.20          0.0   \n",
       "c8fdf56b928653fe1563857b5f12ff5975ad99c4               0.22          0.0   \n",
       "\n",
       "                                          markdownLinePct  jsonLinePct  \\\n",
       "12074a45bc9b22dfffbf433bb73dde6aad88e2be             0.00         0.00   \n",
       "e190bc9dcda78b5688b25154c1eb6e2e1febfd1c             0.00         0.00   \n",
       "e4807d4413c12c4b9a4600736ebd3642a8e8b2ce             0.00         0.00   \n",
       "5b1f6608a3ae88026b9f2bf317a80287f382e9b7             0.00         0.00   \n",
       "dabe94da0d22f41a555012e6ec4ef689a8c1c6e6             0.00         0.00   \n",
       "...                                                   ...          ...   \n",
       "768edfc7eb1bd020830f211265da9848de339b3d             0.00        78.36   \n",
       "e8e033de75164a99af30c3ab997fb6b028a6ab75             0.00        99.64   \n",
       "c991d0d153f6c7d3f94767359043e93cd2136ea0             0.08        97.27   \n",
       "f815a4764ab1946106baea984a20fa423e79a8f3             0.09        97.56   \n",
       "c8fdf56b928653fe1563857b5f12ff5975ad99c4             0.25        99.11   \n",
       "\n",
       "                                          imgFiles  lockLinePct  yarnLinePct  \\\n",
       "12074a45bc9b22dfffbf433bb73dde6aad88e2be         2         0.00          0.0   \n",
       "e190bc9dcda78b5688b25154c1eb6e2e1febfd1c         0         0.00          0.0   \n",
       "e4807d4413c12c4b9a4600736ebd3642a8e8b2ce         1         0.00          0.0   \n",
       "5b1f6608a3ae88026b9f2bf317a80287f382e9b7         0         0.00          0.0   \n",
       "dabe94da0d22f41a555012e6ec4ef689a8c1c6e6         0         0.00          0.0   \n",
       "...                                            ...          ...          ...   \n",
       "768edfc7eb1bd020830f211265da9848de339b3d         2        15.25          0.0   \n",
       "e8e033de75164a99af30c3ab997fb6b028a6ab75         0         0.00          0.0   \n",
       "c991d0d153f6c7d3f94767359043e93cd2136ea0         0         0.00          0.0   \n",
       "f815a4764ab1946106baea984a20fa423e79a8f3         2         0.00          0.0   \n",
       "c8fdf56b928653fe1563857b5f12ff5975ad99c4         2         0.00          0.0   \n",
       "\n",
       "                                          htmlLinePct  \n",
       "12074a45bc9b22dfffbf433bb73dde6aad88e2be         0.00  \n",
       "e190bc9dcda78b5688b25154c1eb6e2e1febfd1c         0.00  \n",
       "e4807d4413c12c4b9a4600736ebd3642a8e8b2ce         0.00  \n",
       "5b1f6608a3ae88026b9f2bf317a80287f382e9b7         0.00  \n",
       "dabe94da0d22f41a555012e6ec4ef689a8c1c6e6         0.00  \n",
       "...                                               ...  \n",
       "768edfc7eb1bd020830f211265da9848de339b3d         0.00  \n",
       "e8e033de75164a99af30c3ab997fb6b028a6ab75         0.00  \n",
       "c991d0d153f6c7d3f94767359043e93cd2136ea0         0.00  \n",
       "f815a4764ab1946106baea984a20fa423e79a8f3         0.91  \n",
       "c8fdf56b928653fe1563857b5f12ff5975ad99c4         0.30  \n",
       "\n",
       "[160 rows x 14 columns]"
      ]
     },
     "execution_count": 2,
     "metadata": {},
     "output_type": "execute_result"
    }
   ],
   "source": [
    "import pandas as pd\n",
    "\n",
    "data_df = pd.read_csv(project_root_path + '/sandbox/data/bob/commit_labeling_2.csv', sep='\\t', index_col=0)\n",
    "data_df"
   ]
  },
  {
   "cell_type": "markdown",
   "id": "5e265b05-91d4-48c6-b0a3-a15d59ea4f8a",
   "metadata": {
    "tags": []
   },
   "source": [
    "### Link Manual Labels to Feature Stats"
   ]
  },
  {
   "cell_type": "code",
   "execution_count": 3,
   "id": "c1334520-578f-4b66-9d2a-b7bff76e97ba",
   "metadata": {},
   "outputs": [],
   "source": [
    "import numpy as np\n",
    "\n",
    "features = ['binFiles','textFiles','textLines','javascriptLines','rustLines',\n",
    "            'lockLines','htmlLines','jsonLines','markdownLines','imgFiles','yarnLines']\n",
    "\n",
    "def make_feature_vector(commit_stats):\n",
    "    return [np.log1p(commit_stats[feature]) for feature in features]\n",
    "\n",
    "all_commit_stats = {}\n",
    "for commit in all_stats:\n",
    "    all_commit_stats[commit['commit']] = commit\n",
    "\n",
    "X = []\n",
    "y = []\n",
    "for commit_id, labelling_spreadsheet_row in data_df.iterrows():\n",
    "    commit_stats = all_commit_stats[commit_id]\n",
    "    feature_vector = make_feature_vector(commit_stats)\n",
    "    #commit_labels = labelling_spreadsheet_row[slice(1, 9)]\n",
    "    X.append(feature_vector)\n",
    "    #Y.append(commit_labels.tolist())\n",
    "    y.append(labelling_spreadsheet_row[1])"
   ]
  },
  {
   "cell_type": "markdown",
   "id": "e89cba7f-9ec6-41bb-b9fd-994c35d4347a",
   "metadata": {},
   "source": [
    "### Quick, Dumb, Check"
   ]
  },
  {
   "cell_type": "code",
   "execution_count": 4,
   "id": "d2d0b4ba-7769-4d6b-a8b0-d52194a13b06",
   "metadata": {},
   "outputs": [
    {
     "name": "stdout",
     "output_type": "stream",
     "text": [
      "Look, Ma! I can memorize: 1.0\n"
     ]
    }
   ],
   "source": [
    "from sklearn.linear_model import LogisticRegression\n",
    "from sklearn.neural_network import MLPClassifier\n",
    "\n",
    "clf = MLPClassifier(solver='lbfgs', alpha=1e-5, max_iter=10000,\n",
    "                    hidden_layer_sizes=(20, 20), random_state = 1)\n",
    "clf.fit(X, y)\n",
    "score = clf.score(X, y)\n",
    "y_pred = clf.predict(X)\n",
    "print('Look, Ma! I can memorize: ' + str(score))"
   ]
  },
  {
   "cell_type": "markdown",
   "id": "5e14acfe-a4e4-4a28-bb66-12cb38a9200f",
   "metadata": {},
   "source": [
    "### Neural Network Classifier\n",
    "Multilayer Perceptrons are cool. They are neural networks with hidden layers that identify subtle patterns in data across multiple input features. Think about looking at multiple pixels in an image simultaneously to recognize a shape, like a wheel. That is the kind of problem at which neural networks excel.\n",
    "\n",
    "That is not the kind of problem we have here, but MLPs are hot, so I'm training one anyway. :p"
   ]
  },
  {
   "cell_type": "code",
   "execution_count": 5,
   "id": "593b2d65-48cd-4bad-94d7-253edd7ffd8e",
   "metadata": {},
   "outputs": [
    {
     "name": "stdout",
     "output_type": "stream",
     "text": [
      "Score: 0.8301886792452831\n"
     ]
    }
   ],
   "source": [
    "from sklearn.model_selection import train_test_split\n",
    "\n",
    "random_state = 0\n",
    "\n",
    "X_train, X_test, y_train, y_test = \\\n",
    "    train_test_split(X, y, test_size=0.33, random_state=random_state)\n",
    "\n",
    "clf = MLPClassifier(solver='lbfgs', alpha=1e-3,\n",
    "                    hidden_layer_sizes=(20,20,20,20),\n",
    "                    random_state=random_state, max_iter=10000)\n",
    "clf.fit(X_train, y_train)\n",
    "score = clf.score(X_test, y_test)\n",
    "y_pred = clf.predict(X)\n",
    "print('Score: ' + str(score))"
   ]
  },
  {
   "cell_type": "markdown",
   "id": "8d6d61b5-04a6-4e7e-bf71-9f0c35805855",
   "metadata": {},
   "source": [
    "### Reliable Workhorse Classifier\n",
    "If MLPs are the awesome hotness of ML algorithms, Linear Regression and it's classifier sibling, Logistic Regression (sometimes abbreviated as Logit), are the reliable workhorses. Even in data science projects that end with a more advanced classifier, Logit is frequently used to give a baseline score during early analysis.\n",
    "\n",
    "In cases like we have here, with independent features that are mostly correlated to one or two classes, LogisticRegression works very well."
   ]
  },
  {
   "cell_type": "code",
   "execution_count": 6,
   "id": "e1e51094-3c18-4f3b-a122-3c8db06d1ca0",
   "metadata": {},
   "outputs": [
    {
     "name": "stdout",
     "output_type": "stream",
     "text": [
      "Score: 0.8679245283018868\n"
     ]
    }
   ],
   "source": [
    "from sklearn.linear_model import LogisticRegression\n",
    "\n",
    "random_state = 0\n",
    "X_train, X_test, y_train, y_test = \\\n",
    "    train_test_split(X, y, test_size=0.33, random_state=random_state)\n",
    "clf = LogisticRegression(random_state=random_state, max_iter=10000)\n",
    "clf.fit(X_train, y_train)\n",
    "score = clf.score(X_test, y_test)\n",
    "y_pred = clf.predict(X_test)\n",
    "print('Score: ' + str(score))"
   ]
  },
  {
   "cell_type": "markdown",
   "id": "529eea39-77f7-4711-8bf3-fd84c4736755",
   "metadata": {},
   "source": [
    "### Confusion Matrix\n",
    "Each row of a confusion matrix shows statistics about one of the target classes. The values in the columns show the number of times that the classifier thought a commit of that type was something else."
   ]
  },
  {
   "cell_type": "code",
   "execution_count": 11,
   "id": "4d7a42a0-8cc9-4c26-9d29-5514a26db069",
   "metadata": {},
   "outputs": [
    {
     "name": "stdout",
     "output_type": "stream",
     "text": [
      "['javascript_development', 'minor_commit', 'documentation', 'big_json', 'rust_development', 'rust_packaging', 'interface_development', 'bulk_commit']\n"
     ]
    },
    {
     "data": {
      "text/plain": [
       "array([[ 5,  0,  0,  0,  0,  0,  0,  1],\n",
       "       [ 0,  4,  0,  0,  1,  0,  0,  0],\n",
       "       [ 0,  0, 10,  0,  0,  0,  0,  0],\n",
       "       [ 0,  0,  0,  6,  0,  0,  0,  0],\n",
       "       [ 0,  1,  0,  0,  3,  1,  0,  0],\n",
       "       [ 0,  0,  0,  0,  0,  4,  0,  0],\n",
       "       [ 0,  0,  0,  0,  0,  0,  5,  0],\n",
       "       [ 0,  0,  0,  1,  1,  1,  0,  9]])"
      ]
     },
     "execution_count": 11,
     "metadata": {},
     "output_type": "execute_result"
    }
   ],
   "source": [
    "from sklearn.metrics import confusion_matrix\n",
    "target_names = list(set(y))\n",
    "y_test_numeric = [target_names.index(prediction) for prediction in y_test]\n",
    "y_pred_numeric = [target_names.index(prediction) for prediction in y_pred]\n",
    "confusion_mx = confusion_matrix(y_test_numeric, y_pred_numeric)\n",
    "print(target_names)\n",
    "confusion_mx"
   ]
  },
  {
   "cell_type": "markdown",
   "id": "88467589-5008-41ab-9587-fd9fcefb7ab2",
   "metadata": {},
   "source": [
    "### Beautiful Confusion\n",
    "The numbers are fine if you want something that can be sent over telex, but we can make it a bit prettier."
   ]
  },
  {
   "cell_type": "code",
   "execution_count": 12,
   "id": "595590e4-81f7-488f-80e5-e8d5e9edb9f5",
   "metadata": {},
   "outputs": [
    {
     "name": "stdout",
     "output_type": "stream",
     "text": [
      "actuals on the left, predicteds on the bottom\n"
     ]
    },
    {
     "data": {
      "image/png": "[encoded data removed]",
      "text/plain": [
       "<Figure size 720x504 with 2 Axes>"
      ]
     },
     "metadata": {
      "needs_background": "light"
     },
     "output_type": "display_data"
    }
   ],
   "source": [
    "import seaborn as sn\n",
    "import pandas as pd\n",
    "import matplotlib.pyplot as plt\n",
    "confusion_df = pd.DataFrame(confusion_mx, index = target_names, columns = target_names)\n",
    "plt.figure(figsize = (10,7))\n",
    "sn.heatmap(confusion_df, annot=True)\n",
    "print(\"actuals on the left, predicteds on the bottom\")\n",
    "plt.show()"
   ]
  }
 ],
 "metadata": {
  "kernelspec": {
   "display_name": "Python 3 (ipykernel)",
   "language": "python",
   "name": "python3"
  },
  "language_info": {
   "codemirror_mode": {
    "name": "ipython",
    "version": 3
   },
   "file_extension": ".py",
   "mimetype": "text/x-python",
   "name": "python",
   "nbconvert_exporter": "python",
   "pygments_lexer": "ipython3",
   "version": "3.8.10"
  }
 },
 "nbformat": 4,
 "nbformat_minor": 5
}
