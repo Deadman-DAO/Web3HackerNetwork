{
 "cells": [
  {
   "cell_type": "markdown",
   "id": "9610a4cf-b430-4648-83d6-c60659d111f4",
   "metadata": {},
   "source": [
    "### Load the Commit Statistics\n",
    "For this clustering we examined 39 GitHub projects containing a total of 2,629 commits. The projects all included the Fluence Marine library. Code for Fluence is generally written in React and Rust."
   ]
  },
  {
   "cell_type": "code",
   "execution_count": 1,
   "id": "f8b0fe3f-b091-44c9-84e6-4641cf623c1c",
   "metadata": {
    "tags": []
   },
   "outputs": [],
   "source": [
    "project_root_path = '../../..'\n",
    "\n",
    "import sys\n",
    "lib_path = project_root_path + \"/jupyter/lib/\"\n",
    "sys.path.append(lib_path)\n",
    "\n",
    "import commit_stat_engineering\n",
    "import json\n",
    "\n",
    "dataset_dir = project_root_path + '/data/github/2022-04-07-marine-search'\n",
    "project_stats_dir = dataset_dir + '/projects'\n",
    "all_commit_logs = commit_stat_engineering.find_files('commit-stat.log.json', project_stats_dir)\n",
    "all_stats = commit_stat_engineering.get_stats_for_all_commits(all_commit_logs)"
   ]
  },
  {
   "cell_type": "markdown",
   "id": "a91ccece-ba1d-4a6f-8085-df2c8024e22d",
   "metadata": {},
   "source": [
    "### Commit Stats\n"
   ]
  },
  {
   "cell_type": "code",
   "execution_count": 2,
   "id": "6a810952-dbb6-4681-b5d0-ebc90465ef7b",
   "metadata": {},
   "outputs": [
    {
     "name": "stdout",
     "output_type": "stream",
     "text": [
      "dict_keys(['commit', 'totalFiles', 'binFiles', 'textFiles', 'textLines', 'javascriptFiles', 'javascriptLines', 'javascriptFilePct', 'javascriptLinePct', 'rustFiles', 'rustLines', 'rustFilePct', 'rustLinePct', 'markdownFiles', 'markdownLines', 'markdownFilePct', 'markdownLinePct', 'jsonFiles', 'jsonLines', 'jsonFilePct', 'jsonLinePct', 'imgFiles', 'imgFilePct', 'lockFiles', 'lockLines', 'lockFilePct', 'lockLinePct', 'yarnFiles', 'yarnLines', 'yarnFilePct', 'yarnLinePct', 'htmlFiles', 'htmlLines', 'htmlFilePct', 'htmlLinePct', 'clojureFiles', 'clojureLines', 'clojureFilePct', 'clojureLinePct', 'shellFiles', 'shellLines', 'shellFilePct', 'shellLinePct', 'gitignoreFiles', 'gitignoreLines', 'gitignoreFilePct', 'gitignoreLinePct', 'noextbinFiles', 'noextbinFilePct', 'noexttextFiles', 'noexttextLines', 'noexttextFilePct', 'noexttextLinePct'])\n"
     ]
    }
   ],
   "source": [
    "print(all_stats[0].keys())"
   ]
  },
  {
   "cell_type": "markdown",
   "id": "9546a463-9563-49e6-8783-dfbadbc802d8",
   "metadata": {},
   "source": [
    "### Load Labels"
   ]
  },
  {
   "cell_type": "code",
   "execution_count": 3,
   "id": "39fcef56-5bf5-4da6-b44c-3454f1017b81",
   "metadata": {},
   "outputs": [
    {
     "data": {
      "text/html": [
       "<div>\n",
       "<style scoped>\n",
       "    .dataframe tbody tr th:only-of-type {\n",
       "        vertical-align: middle;\n",
       "    }\n",
       "\n",
       "    .dataframe tbody tr th {\n",
       "        vertical-align: top;\n",
       "    }\n",
       "\n",
       "    .dataframe thead th {\n",
       "        text-align: right;\n",
       "    }\n",
       "</style>\n",
       "<table border=\"1\" class=\"dataframe\">\n",
       "  <thead>\n",
       "    <tr style=\"text-align: right;\">\n",
       "      <th></th>\n",
       "      <th>wtf</th>\n",
       "      <th>rust_development</th>\n",
       "      <th>interface_development</th>\n",
       "      <th>big_json</th>\n",
       "      <th>rust_packaging</th>\n",
       "      <th>documentation</th>\n",
       "      <th>javascript_development</th>\n",
       "      <th>bulk_commit</th>\n",
       "      <th>minor_commit</th>\n",
       "      <th>cluster</th>\n",
       "      <th>...</th>\n",
       "      <th>textFiles</th>\n",
       "      <th>textLines</th>\n",
       "      <th>javascriptLinePct</th>\n",
       "      <th>rustLinePct</th>\n",
       "      <th>markdownLinePct</th>\n",
       "      <th>jsonLinePct</th>\n",
       "      <th>imgFiles</th>\n",
       "      <th>lockLinePct</th>\n",
       "      <th>yarnLinePct</th>\n",
       "      <th>htmlLinePct</th>\n",
       "    </tr>\n",
       "  </thead>\n",
       "  <tbody>\n",
       "    <tr>\n",
       "      <th>12074a45bc9b22dfffbf433bb73dde6aad88e2be</th>\n",
       "      <td>1</td>\n",
       "      <td>0</td>\n",
       "      <td>0</td>\n",
       "      <td>0</td>\n",
       "      <td>0</td>\n",
       "      <td>0</td>\n",
       "      <td>0</td>\n",
       "      <td>0</td>\n",
       "      <td>1</td>\n",
       "      <td>7</td>\n",
       "      <td>...</td>\n",
       "      <td>0</td>\n",
       "      <td>0</td>\n",
       "      <td>0.0</td>\n",
       "      <td>0.00</td>\n",
       "      <td>0.0</td>\n",
       "      <td>0.0</td>\n",
       "      <td>2</td>\n",
       "      <td>0.0</td>\n",
       "      <td>0.00</td>\n",
       "      <td>0.0</td>\n",
       "    </tr>\n",
       "    <tr>\n",
       "      <th>e190bc9dcda78b5688b25154c1eb6e2e1febfd1c</th>\n",
       "      <td>1</td>\n",
       "      <td>0</td>\n",
       "      <td>0</td>\n",
       "      <td>0</td>\n",
       "      <td>0</td>\n",
       "      <td>0</td>\n",
       "      <td>0</td>\n",
       "      <td>0</td>\n",
       "      <td>1</td>\n",
       "      <td>7</td>\n",
       "      <td>...</td>\n",
       "      <td>0</td>\n",
       "      <td>0</td>\n",
       "      <td>0.0</td>\n",
       "      <td>0.00</td>\n",
       "      <td>0.0</td>\n",
       "      <td>0.0</td>\n",
       "      <td>0</td>\n",
       "      <td>0.0</td>\n",
       "      <td>0.00</td>\n",
       "      <td>0.0</td>\n",
       "    </tr>\n",
       "    <tr>\n",
       "      <th>e4807d4413c12c4b9a4600736ebd3642a8e8b2ce</th>\n",
       "      <td>1</td>\n",
       "      <td>0</td>\n",
       "      <td>0</td>\n",
       "      <td>0</td>\n",
       "      <td>0</td>\n",
       "      <td>0</td>\n",
       "      <td>0</td>\n",
       "      <td>0</td>\n",
       "      <td>1</td>\n",
       "      <td>7</td>\n",
       "      <td>...</td>\n",
       "      <td>0</td>\n",
       "      <td>0</td>\n",
       "      <td>0.0</td>\n",
       "      <td>0.00</td>\n",
       "      <td>0.0</td>\n",
       "      <td>0.0</td>\n",
       "      <td>1</td>\n",
       "      <td>0.0</td>\n",
       "      <td>0.00</td>\n",
       "      <td>0.0</td>\n",
       "    </tr>\n",
       "    <tr>\n",
       "      <th>5b1f6608a3ae88026b9f2bf317a80287f382e9b7</th>\n",
       "      <td>1</td>\n",
       "      <td>0</td>\n",
       "      <td>0</td>\n",
       "      <td>0</td>\n",
       "      <td>0</td>\n",
       "      <td>0</td>\n",
       "      <td>0</td>\n",
       "      <td>0</td>\n",
       "      <td>1</td>\n",
       "      <td>7</td>\n",
       "      <td>...</td>\n",
       "      <td>1</td>\n",
       "      <td>1</td>\n",
       "      <td>100.0</td>\n",
       "      <td>0.00</td>\n",
       "      <td>0.0</td>\n",
       "      <td>0.0</td>\n",
       "      <td>0</td>\n",
       "      <td>0.0</td>\n",
       "      <td>0.00</td>\n",
       "      <td>0.0</td>\n",
       "    </tr>\n",
       "    <tr>\n",
       "      <th>dabe94da0d22f41a555012e6ec4ef689a8c1c6e6</th>\n",
       "      <td>1</td>\n",
       "      <td>0</td>\n",
       "      <td>0</td>\n",
       "      <td>0</td>\n",
       "      <td>0</td>\n",
       "      <td>0</td>\n",
       "      <td>0</td>\n",
       "      <td>0</td>\n",
       "      <td>1</td>\n",
       "      <td>7</td>\n",
       "      <td>...</td>\n",
       "      <td>1</td>\n",
       "      <td>1</td>\n",
       "      <td>100.0</td>\n",
       "      <td>0.00</td>\n",
       "      <td>0.0</td>\n",
       "      <td>0.0</td>\n",
       "      <td>0</td>\n",
       "      <td>0.0</td>\n",
       "      <td>0.00</td>\n",
       "      <td>0.0</td>\n",
       "    </tr>\n",
       "    <tr>\n",
       "      <th>...</th>\n",
       "      <td>...</td>\n",
       "      <td>...</td>\n",
       "      <td>...</td>\n",
       "      <td>...</td>\n",
       "      <td>...</td>\n",
       "      <td>...</td>\n",
       "      <td>...</td>\n",
       "      <td>...</td>\n",
       "      <td>...</td>\n",
       "      <td>...</td>\n",
       "      <td>...</td>\n",
       "      <td>...</td>\n",
       "      <td>...</td>\n",
       "      <td>...</td>\n",
       "      <td>...</td>\n",
       "      <td>...</td>\n",
       "      <td>...</td>\n",
       "      <td>...</td>\n",
       "      <td>...</td>\n",
       "      <td>...</td>\n",
       "      <td>...</td>\n",
       "    </tr>\n",
       "    <tr>\n",
       "      <th>088905485b5fcabd7c84fd3a7485993a2c5c3d30</th>\n",
       "      <td>1</td>\n",
       "      <td>1</td>\n",
       "      <td>0</td>\n",
       "      <td>0</td>\n",
       "      <td>0</td>\n",
       "      <td>0</td>\n",
       "      <td>0</td>\n",
       "      <td>0</td>\n",
       "      <td>0</td>\n",
       "      <td>0</td>\n",
       "      <td>...</td>\n",
       "      <td>1</td>\n",
       "      <td>41</td>\n",
       "      <td>0.0</td>\n",
       "      <td>100.00</td>\n",
       "      <td>0.0</td>\n",
       "      <td>0.0</td>\n",
       "      <td>0</td>\n",
       "      <td>0.0</td>\n",
       "      <td>0.00</td>\n",
       "      <td>0.0</td>\n",
       "    </tr>\n",
       "    <tr>\n",
       "      <th>5ff8d2f8d0f6a0241083616b29687a42e3d0964f</th>\n",
       "      <td>1</td>\n",
       "      <td>1</td>\n",
       "      <td>0</td>\n",
       "      <td>0</td>\n",
       "      <td>0</td>\n",
       "      <td>0</td>\n",
       "      <td>0</td>\n",
       "      <td>0</td>\n",
       "      <td>0</td>\n",
       "      <td>0</td>\n",
       "      <td>...</td>\n",
       "      <td>5</td>\n",
       "      <td>59</td>\n",
       "      <td>0.0</td>\n",
       "      <td>100.00</td>\n",
       "      <td>0.0</td>\n",
       "      <td>0.0</td>\n",
       "      <td>0</td>\n",
       "      <td>0.0</td>\n",
       "      <td>0.00</td>\n",
       "      <td>0.0</td>\n",
       "    </tr>\n",
       "    <tr>\n",
       "      <th>91e38c2e82d52be12fb27ece91b4d187ff7540b5</th>\n",
       "      <td>1</td>\n",
       "      <td>1</td>\n",
       "      <td>0</td>\n",
       "      <td>0</td>\n",
       "      <td>0</td>\n",
       "      <td>0</td>\n",
       "      <td>0</td>\n",
       "      <td>0</td>\n",
       "      <td>0</td>\n",
       "      <td>0</td>\n",
       "      <td>...</td>\n",
       "      <td>3</td>\n",
       "      <td>66</td>\n",
       "      <td>0.0</td>\n",
       "      <td>22.72</td>\n",
       "      <td>0.0</td>\n",
       "      <td>0.0</td>\n",
       "      <td>0</td>\n",
       "      <td>0.0</td>\n",
       "      <td>77.27</td>\n",
       "      <td>0.0</td>\n",
       "    </tr>\n",
       "    <tr>\n",
       "      <th>6ad2870fafbea1a580320c0835ac122ccaa7736c</th>\n",
       "      <td>1</td>\n",
       "      <td>1</td>\n",
       "      <td>0</td>\n",
       "      <td>0</td>\n",
       "      <td>0</td>\n",
       "      <td>0</td>\n",
       "      <td>0</td>\n",
       "      <td>0</td>\n",
       "      <td>0</td>\n",
       "      <td>0</td>\n",
       "      <td>...</td>\n",
       "      <td>1</td>\n",
       "      <td>84</td>\n",
       "      <td>0.0</td>\n",
       "      <td>100.00</td>\n",
       "      <td>0.0</td>\n",
       "      <td>0.0</td>\n",
       "      <td>0</td>\n",
       "      <td>0.0</td>\n",
       "      <td>0.00</td>\n",
       "      <td>0.0</td>\n",
       "    </tr>\n",
       "    <tr>\n",
       "      <th>a9d1e72653efc5d7465995f46f96747c066f6922</th>\n",
       "      <td>1</td>\n",
       "      <td>1</td>\n",
       "      <td>0</td>\n",
       "      <td>0</td>\n",
       "      <td>0</td>\n",
       "      <td>0</td>\n",
       "      <td>0</td>\n",
       "      <td>0</td>\n",
       "      <td>0</td>\n",
       "      <td>0</td>\n",
       "      <td>...</td>\n",
       "      <td>4</td>\n",
       "      <td>191</td>\n",
       "      <td>0.0</td>\n",
       "      <td>100.00</td>\n",
       "      <td>0.0</td>\n",
       "      <td>0.0</td>\n",
       "      <td>0</td>\n",
       "      <td>0.0</td>\n",
       "      <td>0.00</td>\n",
       "      <td>0.0</td>\n",
       "    </tr>\n",
       "  </tbody>\n",
       "</table>\n",
       "<p>160 rows × 21 columns</p>\n",
       "</div>"
      ],
      "text/plain": [
       "                                          wtf  rust_development  \\\n",
       "12074a45bc9b22dfffbf433bb73dde6aad88e2be    1                 0   \n",
       "e190bc9dcda78b5688b25154c1eb6e2e1febfd1c    1                 0   \n",
       "e4807d4413c12c4b9a4600736ebd3642a8e8b2ce    1                 0   \n",
       "5b1f6608a3ae88026b9f2bf317a80287f382e9b7    1                 0   \n",
       "dabe94da0d22f41a555012e6ec4ef689a8c1c6e6    1                 0   \n",
       "...                                       ...               ...   \n",
       "088905485b5fcabd7c84fd3a7485993a2c5c3d30    1                 1   \n",
       "5ff8d2f8d0f6a0241083616b29687a42e3d0964f    1                 1   \n",
       "91e38c2e82d52be12fb27ece91b4d187ff7540b5    1                 1   \n",
       "6ad2870fafbea1a580320c0835ac122ccaa7736c    1                 1   \n",
       "a9d1e72653efc5d7465995f46f96747c066f6922    1                 1   \n",
       "\n",
       "                                          interface_development  big_json  \\\n",
       "12074a45bc9b22dfffbf433bb73dde6aad88e2be                      0         0   \n",
       "e190bc9dcda78b5688b25154c1eb6e2e1febfd1c                      0         0   \n",
       "e4807d4413c12c4b9a4600736ebd3642a8e8b2ce                      0         0   \n",
       "5b1f6608a3ae88026b9f2bf317a80287f382e9b7                      0         0   \n",
       "dabe94da0d22f41a555012e6ec4ef689a8c1c6e6                      0         0   \n",
       "...                                                         ...       ...   \n",
       "088905485b5fcabd7c84fd3a7485993a2c5c3d30                      0         0   \n",
       "5ff8d2f8d0f6a0241083616b29687a42e3d0964f                      0         0   \n",
       "91e38c2e82d52be12fb27ece91b4d187ff7540b5                      0         0   \n",
       "6ad2870fafbea1a580320c0835ac122ccaa7736c                      0         0   \n",
       "a9d1e72653efc5d7465995f46f96747c066f6922                      0         0   \n",
       "\n",
       "                                          rust_packaging  documentation  \\\n",
       "12074a45bc9b22dfffbf433bb73dde6aad88e2be               0              0   \n",
       "e190bc9dcda78b5688b25154c1eb6e2e1febfd1c               0              0   \n",
       "e4807d4413c12c4b9a4600736ebd3642a8e8b2ce               0              0   \n",
       "5b1f6608a3ae88026b9f2bf317a80287f382e9b7               0              0   \n",
       "dabe94da0d22f41a555012e6ec4ef689a8c1c6e6               0              0   \n",
       "...                                                  ...            ...   \n",
       "088905485b5fcabd7c84fd3a7485993a2c5c3d30               0              0   \n",
       "5ff8d2f8d0f6a0241083616b29687a42e3d0964f               0              0   \n",
       "91e38c2e82d52be12fb27ece91b4d187ff7540b5               0              0   \n",
       "6ad2870fafbea1a580320c0835ac122ccaa7736c               0              0   \n",
       "a9d1e72653efc5d7465995f46f96747c066f6922               0              0   \n",
       "\n",
       "                                          javascript_development  bulk_commit  \\\n",
       "12074a45bc9b22dfffbf433bb73dde6aad88e2be                       0            0   \n",
       "e190bc9dcda78b5688b25154c1eb6e2e1febfd1c                       0            0   \n",
       "e4807d4413c12c4b9a4600736ebd3642a8e8b2ce                       0            0   \n",
       "5b1f6608a3ae88026b9f2bf317a80287f382e9b7                       0            0   \n",
       "dabe94da0d22f41a555012e6ec4ef689a8c1c6e6                       0            0   \n",
       "...                                                          ...          ...   \n",
       "088905485b5fcabd7c84fd3a7485993a2c5c3d30                       0            0   \n",
       "5ff8d2f8d0f6a0241083616b29687a42e3d0964f                       0            0   \n",
       "91e38c2e82d52be12fb27ece91b4d187ff7540b5                       0            0   \n",
       "6ad2870fafbea1a580320c0835ac122ccaa7736c                       0            0   \n",
       "a9d1e72653efc5d7465995f46f96747c066f6922                       0            0   \n",
       "\n",
       "                                          minor_commit  cluster  ...  \\\n",
       "12074a45bc9b22dfffbf433bb73dde6aad88e2be             1        7  ...   \n",
       "e190bc9dcda78b5688b25154c1eb6e2e1febfd1c             1        7  ...   \n",
       "e4807d4413c12c4b9a4600736ebd3642a8e8b2ce             1        7  ...   \n",
       "5b1f6608a3ae88026b9f2bf317a80287f382e9b7             1        7  ...   \n",
       "dabe94da0d22f41a555012e6ec4ef689a8c1c6e6             1        7  ...   \n",
       "...                                                ...      ...  ...   \n",
       "088905485b5fcabd7c84fd3a7485993a2c5c3d30             0        0  ...   \n",
       "5ff8d2f8d0f6a0241083616b29687a42e3d0964f             0        0  ...   \n",
       "91e38c2e82d52be12fb27ece91b4d187ff7540b5             0        0  ...   \n",
       "6ad2870fafbea1a580320c0835ac122ccaa7736c             0        0  ...   \n",
       "a9d1e72653efc5d7465995f46f96747c066f6922             0        0  ...   \n",
       "\n",
       "                                          textFiles  textLines  \\\n",
       "12074a45bc9b22dfffbf433bb73dde6aad88e2be          0          0   \n",
       "e190bc9dcda78b5688b25154c1eb6e2e1febfd1c          0          0   \n",
       "e4807d4413c12c4b9a4600736ebd3642a8e8b2ce          0          0   \n",
       "5b1f6608a3ae88026b9f2bf317a80287f382e9b7          1          1   \n",
       "dabe94da0d22f41a555012e6ec4ef689a8c1c6e6          1          1   \n",
       "...                                             ...        ...   \n",
       "088905485b5fcabd7c84fd3a7485993a2c5c3d30          1         41   \n",
       "5ff8d2f8d0f6a0241083616b29687a42e3d0964f          5         59   \n",
       "91e38c2e82d52be12fb27ece91b4d187ff7540b5          3         66   \n",
       "6ad2870fafbea1a580320c0835ac122ccaa7736c          1         84   \n",
       "a9d1e72653efc5d7465995f46f96747c066f6922          4        191   \n",
       "\n",
       "                                          javascriptLinePct  rustLinePct  \\\n",
       "12074a45bc9b22dfffbf433bb73dde6aad88e2be                0.0         0.00   \n",
       "e190bc9dcda78b5688b25154c1eb6e2e1febfd1c                0.0         0.00   \n",
       "e4807d4413c12c4b9a4600736ebd3642a8e8b2ce                0.0         0.00   \n",
       "5b1f6608a3ae88026b9f2bf317a80287f382e9b7              100.0         0.00   \n",
       "dabe94da0d22f41a555012e6ec4ef689a8c1c6e6              100.0         0.00   \n",
       "...                                                     ...          ...   \n",
       "088905485b5fcabd7c84fd3a7485993a2c5c3d30                0.0       100.00   \n",
       "5ff8d2f8d0f6a0241083616b29687a42e3d0964f                0.0       100.00   \n",
       "91e38c2e82d52be12fb27ece91b4d187ff7540b5                0.0        22.72   \n",
       "6ad2870fafbea1a580320c0835ac122ccaa7736c                0.0       100.00   \n",
       "a9d1e72653efc5d7465995f46f96747c066f6922                0.0       100.00   \n",
       "\n",
       "                                          markdownLinePct  jsonLinePct  \\\n",
       "12074a45bc9b22dfffbf433bb73dde6aad88e2be              0.0          0.0   \n",
       "e190bc9dcda78b5688b25154c1eb6e2e1febfd1c              0.0          0.0   \n",
       "e4807d4413c12c4b9a4600736ebd3642a8e8b2ce              0.0          0.0   \n",
       "5b1f6608a3ae88026b9f2bf317a80287f382e9b7              0.0          0.0   \n",
       "dabe94da0d22f41a555012e6ec4ef689a8c1c6e6              0.0          0.0   \n",
       "...                                                   ...          ...   \n",
       "088905485b5fcabd7c84fd3a7485993a2c5c3d30              0.0          0.0   \n",
       "5ff8d2f8d0f6a0241083616b29687a42e3d0964f              0.0          0.0   \n",
       "91e38c2e82d52be12fb27ece91b4d187ff7540b5              0.0          0.0   \n",
       "6ad2870fafbea1a580320c0835ac122ccaa7736c              0.0          0.0   \n",
       "a9d1e72653efc5d7465995f46f96747c066f6922              0.0          0.0   \n",
       "\n",
       "                                          imgFiles  lockLinePct  yarnLinePct  \\\n",
       "12074a45bc9b22dfffbf433bb73dde6aad88e2be         2          0.0         0.00   \n",
       "e190bc9dcda78b5688b25154c1eb6e2e1febfd1c         0          0.0         0.00   \n",
       "e4807d4413c12c4b9a4600736ebd3642a8e8b2ce         1          0.0         0.00   \n",
       "5b1f6608a3ae88026b9f2bf317a80287f382e9b7         0          0.0         0.00   \n",
       "dabe94da0d22f41a555012e6ec4ef689a8c1c6e6         0          0.0         0.00   \n",
       "...                                            ...          ...          ...   \n",
       "088905485b5fcabd7c84fd3a7485993a2c5c3d30         0          0.0         0.00   \n",
       "5ff8d2f8d0f6a0241083616b29687a42e3d0964f         0          0.0         0.00   \n",
       "91e38c2e82d52be12fb27ece91b4d187ff7540b5         0          0.0        77.27   \n",
       "6ad2870fafbea1a580320c0835ac122ccaa7736c         0          0.0         0.00   \n",
       "a9d1e72653efc5d7465995f46f96747c066f6922         0          0.0         0.00   \n",
       "\n",
       "                                          htmlLinePct  \n",
       "12074a45bc9b22dfffbf433bb73dde6aad88e2be          0.0  \n",
       "e190bc9dcda78b5688b25154c1eb6e2e1febfd1c          0.0  \n",
       "e4807d4413c12c4b9a4600736ebd3642a8e8b2ce          0.0  \n",
       "5b1f6608a3ae88026b9f2bf317a80287f382e9b7          0.0  \n",
       "dabe94da0d22f41a555012e6ec4ef689a8c1c6e6          0.0  \n",
       "...                                               ...  \n",
       "088905485b5fcabd7c84fd3a7485993a2c5c3d30          0.0  \n",
       "5ff8d2f8d0f6a0241083616b29687a42e3d0964f          0.0  \n",
       "91e38c2e82d52be12fb27ece91b4d187ff7540b5          0.0  \n",
       "6ad2870fafbea1a580320c0835ac122ccaa7736c          0.0  \n",
       "a9d1e72653efc5d7465995f46f96747c066f6922          0.0  \n",
       "\n",
       "[160 rows x 21 columns]"
      ]
     },
     "execution_count": 3,
     "metadata": {},
     "output_type": "execute_result"
    }
   ],
   "source": [
    "import pandas as pd\n",
    "\n",
    "data = pd.read_csv(project_root_path + '/sandbox/data/bob/commit_labeling.csv', sep='\\t', index_col=0)\n",
    "data"
   ]
  },
  {
   "cell_type": "markdown",
   "id": "5e265b05-91d4-48c6-b0a3-a15d59ea4f8a",
   "metadata": {
    "tags": []
   },
   "source": [
    "### Link Labels to Stats"
   ]
  },
  {
   "cell_type": "code",
   "execution_count": 4,
   "id": "c1334520-578f-4b66-9d2a-b7bff76e97ba",
   "metadata": {},
   "outputs": [],
   "source": [
    "import numpy as np\n",
    "\n",
    "features = ['binFiles','textFiles','textLines','javascriptLines','rustLines',\n",
    "            'lockLines','htmlLines','jsonLines','markdownLines','imgFiles','yarnLines']\n",
    "\n",
    "def make_x(commit_stats):\n",
    "    return [np.log1p(commit_stats[feature]) for feature in features]\n"
   ]
  },
  {
   "cell_type": "code",
   "execution_count": 5,
   "id": "17524daf-12da-49b3-9902-09d55687ca36",
   "metadata": {},
   "outputs": [],
   "source": [
    "stats = {}\n",
    "for commit in all_stats:\n",
    "    stats[commit['commit']] = commit\n",
    "\n",
    "X = []\n",
    "Y = []\n",
    "a = 0\n",
    "for index, row in data.iterrows():\n",
    "    #print(index)\n",
    "    row_labels = row[slice(1, 9)]\n",
    "    x = make_x(stats[index])\n",
    "    #print(x)\n",
    "    #print(a)\n",
    "    X.append(make_x(stats[index]))\n",
    "    Y.append(row_labels.tolist())\n",
    "    a += 1\n",
    "#print(a)\n",
    "\n",
    "#print(Y[slice(2)])\n",
    "#print(Y[0][0])\n",
    "#print(X[slice(2)])"
   ]
  },
  {
   "cell_type": "code",
   "execution_count": 6,
   "id": "31b79435-cfe4-45b3-820c-7f779fb120cb",
   "metadata": {},
   "outputs": [
    {
     "name": "stdout",
     "output_type": "stream",
     "text": [
      "[[0 1 0]\n",
      " [0 1 0]]\n",
      "[[0.0, 0.0, 0.0, 0.0, 0.0, 0.0, 0.0, 1.0], [0.0, 0.0, 0.0, 0.0, 0.0, 0.0, 0.0, 1.0]]\n"
     ]
    }
   ],
   "source": [
    "from sklearn.datasets import make_multilabel_classification\n",
    "\n",
    "sample_X, sample_y = make_multilabel_classification(n_classes=3, random_state=0)\n",
    "print(sample_y[slice(2)])\n",
    "print(Y[slice(2)])"
   ]
  },
  {
   "cell_type": "markdown",
   "id": "e89cba7f-9ec6-41bb-b9fd-994c35d4347a",
   "metadata": {},
   "source": [
    "### Quick, Dumb, Check"
   ]
  },
  {
   "cell_type": "code",
   "execution_count": 7,
   "id": "d2d0b4ba-7769-4d6b-a8b0-d52194a13b06",
   "metadata": {},
   "outputs": [
    {
     "name": "stdout",
     "output_type": "stream",
     "text": [
      "Look, Ma! I can memorize: 1.0\n"
     ]
    }
   ],
   "source": [
    "from sklearn.linear_model import LogisticRegression\n",
    "from sklearn.neural_network import MLPClassifier\n",
    "\n",
    "clf = MLPClassifier(solver='lbfgs', alpha=1e-5, max_iter=10000,\n",
    "                    hidden_layer_sizes=(20, 20), random_state = 1)\n",
    "clf.fit(X, Y)\n",
    "score = clf.score(X, Y)\n",
    "Y_pred = clf.predict(X)\n",
    "print('Look, Ma! I can memorize: ' + str(score))"
   ]
  },
  {
   "cell_type": "markdown",
   "id": "5e14acfe-a4e4-4a28-bb66-12cb38a9200f",
   "metadata": {},
   "source": [
    "### Real Performance Test"
   ]
  },
  {
   "cell_type": "code",
   "execution_count": 8,
   "id": "593b2d65-48cd-4bad-94d7-253edd7ffd8e",
   "metadata": {},
   "outputs": [
    {
     "name": "stdout",
     "output_type": "stream",
     "text": [
      "Score: 0.7547169811320755\n"
     ]
    }
   ],
   "source": [
    "from sklearn.model_selection import train_test_split\n",
    "\n",
    "random_state = 6\n",
    "\n",
    "X_train, X_test, Y_train, Y_test = \\\n",
    "    train_test_split(X, Y, test_size=0.33, random_state=random_state)\n",
    "\n",
    "solver = 'sgd'\n",
    "solver = 'lbfgs'\n",
    "clf = MLPClassifier(solver=solver, alpha=1e-1, hidden_layer_sizes=(20,20,20,20),\n",
    "                    random_state=random_state, max_iter=10000)\n",
    "clf.fit(X_train, Y_train)\n",
    "score = clf.score(X_test, Y_test)\n",
    "Y_pred = clf.predict(X)\n",
    "print('Score: ' + str(score))"
   ]
  },
  {
   "cell_type": "markdown",
   "id": "20f9502d-4e5f-4d76-b9da-98dec3aac4c8",
   "metadata": {},
   "source": [
    "### Un-One-Hotting The Classes"
   ]
  },
  {
   "cell_type": "code",
   "execution_count": 9,
   "id": "4101f7ee-fca4-4018-80c7-6e73defbb3bc",
   "metadata": {},
   "outputs": [
    {
     "data": {
      "text/plain": [
       "Index(['rust_development', 'interface_development', 'big_json',\n",
       "       'rust_packaging', 'documentation', 'javascript_development',\n",
       "       'bulk_commit', 'minor_commit'],\n",
       "      dtype='object')"
      ]
     },
     "execution_count": 9,
     "metadata": {},
     "output_type": "execute_result"
    }
   ],
   "source": [
    "rowids = data.index\n",
    "columns = data.columns\n",
    "class_columns = columns[slice(1,9)]\n",
    "class_columns\n",
    "#feature_columns = stat_keys[slice(10,len(stat_keys))]\n",
    "#feature_columns"
   ]
  },
  {
   "cell_type": "code",
   "execution_count": 10,
   "id": "82b14c7c-5151-4fb0-99f5-4247238e894a",
   "metadata": {},
   "outputs": [
    {
     "name": "stdout",
     "output_type": "stream",
     "text": [
      "[0, 3, 6, 6, 7, 5, 6, 6, 4, 1, 1, 1, 6, 5, 5, 2, 3, 3, 7, 2, 7, 6, 3, 3, 2, 0, 1, 2, 5, 4, 0, 2, 3, 2, 7, 2, 2, 6, 6, 2, 1, 3, 0, 4, 6, 6, 0, 6, 7, 0, 6, 6, 6, 2, 6, 6, 6, 4, 0, 7, 1, 5, 7, 1, 4, 0, 5, 5, 6, 2, 4, 0, 6, 7, 6, 6, 6, 1, 4, 5, 5, 1, 0, 0, 1, 2, 4, 7, 1, 1, 6, 1, 7, 5, 2, 6, 4, 4, 7, 6, 5, 4, 0, 4, 2, 2, 1]\n",
      "[7, 7, 2, 4, 6, 0, 7, 7, 2, 6, 4, 6, 2, 6, 1, 0, 5, 3, 0, 4, 4, 7, 4, 6, 2, 1, 2, 1, 6, 5, 6, 5, 6, 6, 6, 7, 3, 1, 7, 7, 1, 3, 3, 6, 3, 5, 7, 6, 4, 1, 6, 4, 0]\n"
     ]
    }
   ],
   "source": [
    "\n",
    "def get_class(Y_row):\n",
    "    for i in range(0, len(Y_row)):\n",
    "        if (Y_row[i] == 1):\n",
    "            #print(i)\n",
    "            return i# class_columns[i]\n",
    "\n",
    "#for row in Y_pred:\n",
    "#    print(get_class(row))\n",
    "X_train, X_test, Y_train, Y_test = \\\n",
    "    train_test_split(X, Y, test_size=0.33, random_state=random_state)\n",
    "y_train = [get_class(Y_row) for Y_row in Y_train]\n",
    "y_test = [get_class(Y_row) for Y_row in Y_test]\n",
    "print(y_train)\n",
    "print(y_test)"
   ]
  },
  {
   "cell_type": "code",
   "execution_count": 11,
   "id": "e1e51094-3c18-4f3b-a122-3c8db06d1ca0",
   "metadata": {},
   "outputs": [
    {
     "name": "stdout",
     "output_type": "stream",
     "text": [
      "Score: 0.8490566037735849\n",
      "[7 7 7 7 7 7 7 7 7 7 7 7 7 7 7 7 7 3 7 0 6 6 6 6 6 6 6 6 6 6 6 6 6 6 6 6 6\n",
      " 6 6 6 6 6 6 6 6 6 6 6 6 6 6 2 6 6 6 6 6 6 5 5 5 5 5 5 5 5 5 5 5 5 5 5 6 4\n",
      " 4 4 4 4 4 4 4 4 4 4 4 4 4 4 4 4 4 4 3 3 3 3 3 3 3 3 6 6 3 3 2 2 2 2 2 2 2\n",
      " 2 2 2 2 2 2 2 2 2 2 2 2 2 1 1 1 1 1 1 1 1 1 1 1 1 1 1 1 1 1 1 1 6 7 7 0 0\n",
      " 0 0 3 0 0 0 0 0 0 0 0 0]\n"
     ]
    }
   ],
   "source": [
    "from sklearn.linear_model import LogisticRegression\n",
    "\n",
    "random_state = 6\n",
    "X_train, X_test, Y_train, Y_test = \\\n",
    "    train_test_split(X, Y, test_size=0.33, random_state=random_state)\n",
    "y_train = [get_class(Y_row) for Y_row in Y_train]\n",
    "y_test = [get_class(Y_row) for Y_row in Y_test]\n",
    "#clf = MLPClassifier(solver=solver, alpha=1e-1, hidden_layer_sizes=(20,20,20,20),\n",
    "#                    random_state=random_state, max_iter=10000)\n",
    "clf = LogisticRegression(random_state=random_state, max_iter=10000)\n",
    "clf.fit(X_train, y_train)\n",
    "score = clf.score(X_test, y_test)\n",
    "y_pred = clf.predict(X)\n",
    "print('Score: ' + str(score))\n",
    "print(y_pred)"
   ]
  },
  {
   "cell_type": "code",
   "execution_count": 12,
   "id": "b39c4312-9b63-4976-9140-e7ca7b13d2d1",
   "metadata": {},
   "outputs": [
    {
     "name": "stdout",
     "output_type": "stream",
     "text": [
      "160\n"
     ]
    },
    {
     "data": {
      "text/plain": [
       "(array([14., 19., 21., 12., 19., 14., 41., 20.]),\n",
       " array([0.   , 0.875, 1.75 , 2.625, 3.5  , 4.375, 5.25 , 6.125, 7.   ]),\n",
       " <BarContainer object of 8 artists>)"
      ]
     },
     "execution_count": 12,
     "metadata": {},
     "output_type": "execute_result"
    },
    {
     "data": {
      "image/png": "[encoded data removed]",
      "text/plain": [
       "<Figure size 1152x432 with 1 Axes>"
      ]
     },
     "metadata": {
      "needs_background": "light"
     },
     "output_type": "display_data"
    }
   ],
   "source": [
    "import matplotlib.pyplot as plt\n",
    "\n",
    "print(len(y_pred))\n",
    "plt.figure(figsize=(16,6))\n",
    "plt.hist(y_pred, 8)"
   ]
  },
  {
   "cell_type": "code",
   "execution_count": 13,
   "id": "77384a18-8c18-43f5-a7f3-c1f2ef6909dc",
   "metadata": {},
   "outputs": [
    {
     "name": "stdout",
     "output_type": "stream",
     "text": [
      "Score: 0.7547169811320755\n"
     ]
    }
   ],
   "source": [
    "from sklearn.linear_model import RidgeClassifier\n",
    "random_state = 2\n",
    "#clf = MLPClassifier(solver=solver, alpha=1e-1, hidden_layer_sizes=(20,20,20,20),\n",
    "#                    random_state=random_state, max_iter=10000)\n",
    "clf = RidgeClassifier(random_state=random_state, alpha=0.5, max_iter=10000)\n",
    "clf.fit(X_train, y_train)\n",
    "score = clf.score(X_test, y_test)\n",
    "print('Score: ' + str(score))"
   ]
  },
  {
   "cell_type": "code",
   "execution_count": 14,
   "id": "10f7b5f4-be15-4a52-9bce-48f9ce484385",
   "metadata": {},
   "outputs": [
    {
     "name": "stdout",
     "output_type": "stream",
     "text": [
      "Score: 0.22102908207005278\n"
     ]
    }
   ],
   "source": [
    "from sklearn.linear_model import Lasso\n",
    "\n",
    "#clf = MLPClassifier(solver=solver, alpha=1e-1, hidden_layer_sizes=(20,20,20,20),\n",
    "#                    random_state=random_state, max_iter=10000)\n",
    "clf = Lasso(random_state=random_state, alpha=0.00001, max_iter=10000)\n",
    "clf.fit(X_train, y_train)\n",
    "score = clf.score(X_test, y_test)\n",
    "print('Score: ' + str(score))"
   ]
  },
  {
   "cell_type": "code",
   "execution_count": 15,
   "id": "b4268360-ff63-4994-a60b-52ffdbd9a781",
   "metadata": {},
   "outputs": [
    {
     "name": "stdout",
     "output_type": "stream",
     "text": [
      "Score: 0.8490566037735849\n"
     ]
    }
   ],
   "source": [
    "from sklearn.linear_model import LogisticRegression\n",
    "\n",
    "#clf = MLPClassifier(solver=solver, alpha=1e-1, hidden_layer_sizes=(20,20,20,20),\n",
    "#                    random_state=random_state, max_iter=10000)\n",
    "clf = LogisticRegression(random_state=random_state, max_iter=10000)\n",
    "clf.fit(X_train, y_train)\n",
    "score = clf.score(X_test, y_test)\n",
    "print('Score: ' + str(score))"
   ]
  },
  {
   "cell_type": "code",
   "execution_count": 19,
   "id": "4d7a42a0-8cc9-4c26-9d29-5514a26db069",
   "metadata": {},
   "outputs": [
    {
     "data": {
      "text/plain": [
       "array([[ 2,  0,  0,  0,  0,  0,  0,  2],\n",
       "       [ 0,  5,  0,  0,  0,  0,  1,  0],\n",
       "       [ 0,  0,  5,  0,  0,  0,  0,  0],\n",
       "       [ 0,  0,  0,  4,  0,  0,  1,  0],\n",
       "       [ 0,  0,  0,  0,  7,  0,  0,  0],\n",
       "       [ 0,  0,  0,  0,  0,  3,  1,  0],\n",
       "       [ 0,  0,  1,  0,  0,  0, 12,  0],\n",
       "       [ 1,  0,  0,  1,  0,  0,  0,  7]])"
      ]
     },
     "execution_count": 19,
     "metadata": {},
     "output_type": "execute_result"
    }
   ],
   "source": [
    "from sklearn.metrics import confusion_matrix\n",
    "y_pred = clf.predict(X_test)\n",
    "conf = confusion_matrix(y_test, y_pred)\n",
    "conf"
   ]
  },
  {
   "cell_type": "code",
   "execution_count": 17,
   "id": "3bf24e7c-3910-4980-8b41-51363e11791b",
   "metadata": {},
   "outputs": [
    {
     "data": {
      "text/plain": [
       "Index(['rust_development', 'interface_development', 'big_json',\n",
       "       'rust_packaging', 'documentation', 'javascript_development',\n",
       "       'bulk_commit', 'minor_commit'],\n",
       "      dtype='object')"
      ]
     },
     "execution_count": 17,
     "metadata": {},
     "output_type": "execute_result"
    }
   ],
   "source": [
    "class_columns"
   ]
  },
  {
   "cell_type": "code",
   "execution_count": 22,
   "id": "595590e4-81f7-488f-80e5-e8d5e9edb9f5",
   "metadata": {},
   "outputs": [
    {
     "data": {
      "image/png": "[encoded data removed]",
      "text/plain": [
       "<Figure size 720x504 with 2 Axes>"
      ]
     },
     "metadata": {
      "needs_background": "light"
     },
     "output_type": "display_data"
    }
   ],
   "source": [
    "import seaborn as sn\n",
    "import pandas as pd\n",
    "import matplotlib.pyplot as plt\n",
    "df_cm = pd.DataFrame(conf, index = class_columns,\n",
    "                  columns = class_columns)\n",
    "plt.figure(figsize = (10,7))\n",
    "sn.heatmap(df_cm, annot=True)\n",
    "plt.show()"
   ]
  }
 ],
 "metadata": {
  "kernelspec": {
   "display_name": "Python 3 (ipykernel)",
   "language": "python",
   "name": "python3"
  },
  "language_info": {
   "codemirror_mode": {
    "name": "ipython",
    "version": 3
   },
   "file_extension": ".py",
   "mimetype": "text/x-python",
   "name": "python",
   "nbconvert_exporter": "python",
   "pygments_lexer": "ipython3",
   "version": "3.8.10"
  }
 },
 "nbformat": 4,
 "nbformat_minor": 5
}
