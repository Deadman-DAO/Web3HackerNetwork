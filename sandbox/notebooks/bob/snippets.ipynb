{
 "cells": [
  {
   "cell_type": "code",
   "execution_count": 2,
   "id": "bb6cbc2b-f1a5-4e10-8aae-8cc9b6ae3084",
   "metadata": {},
   "outputs": [],
   "source": [
    "import sys\n",
    "sys.path.append(\"../../../jupyter/lib/\")\n",
    "import commit_stat_engineering"
   ]
  },
  {
   "cell_type": "code",
   "execution_count": 2,
   "id": "84e0c886-4301-4517-ae8c-37d9e0ea2afc",
   "metadata": {},
   "outputs": [
    {
     "data": {
      "text/plain": [
       "[0, 0, 0, 0, 0, 0, 0]"
      ]
     },
     "execution_count": 2,
     "metadata": {},
     "output_type": "execute_result"
    }
   ],
   "source": [
    "row = [0]*7\n",
    "row"
   ]
  },
  {
   "cell_type": "code",
   "execution_count": 3,
   "id": "7e8ff9c1-d70f-49d8-9c8d-fd2ccd85d05a",
   "metadata": {},
   "outputs": [
    {
     "data": {
      "text/plain": [
       "False"
      ]
     },
     "execution_count": 3,
     "metadata": {},
     "output_type": "execute_result"
    }
   ],
   "source": [
    "foo = ['a', 'b', 'c']\n",
    "'e' in foo"
   ]
  },
  {
   "cell_type": "code",
   "execution_count": 1,
   "id": "2774c1d8-796e-4119-8c8c-4de34598fffd",
   "metadata": {},
   "outputs": [
    {
     "data": {
      "text/html": [
       "<style type=\"text/css\">\n",
       "</style>\n",
       "<table id=\"T_92801\">\n",
       "  <thead>\n",
       "    <tr>\n",
       "      <th class=\"index_name level0\" >Model:</th>\n",
       "      <th id=\"T_92801_level0_col0\" class=\"col_heading level0 col0\" colspan=\"2\">Decision Tree</th>\n",
       "      <th id=\"T_92801_level0_col2\" class=\"col_heading level0 col2\" colspan=\"2\">Regression</th>\n",
       "      <th id=\"T_92801_level0_col4\" class=\"col_heading level0 col4\" colspan=\"2\">Random</th>\n",
       "    </tr>\n",
       "    <tr>\n",
       "      <th class=\"index_name level1\" >Predicted:</th>\n",
       "      <th id=\"T_92801_level1_col0\" class=\"col_heading level1 col0\" >Tumour</th>\n",
       "      <th id=\"T_92801_level1_col1\" class=\"col_heading level1 col1\" >Non-Tumour</th>\n",
       "      <th id=\"T_92801_level1_col2\" class=\"col_heading level1 col2\" >Tumour</th>\n",
       "      <th id=\"T_92801_level1_col3\" class=\"col_heading level1 col3\" >Non-Tumour</th>\n",
       "      <th id=\"T_92801_level1_col4\" class=\"col_heading level1 col4\" >Tumour</th>\n",
       "      <th id=\"T_92801_level1_col5\" class=\"col_heading level1 col5\" >Non-Tumour</th>\n",
       "    </tr>\n",
       "    <tr>\n",
       "      <th class=\"index_name level0\" >Actual Label:</th>\n",
       "      <th class=\"blank col0\" >&nbsp;</th>\n",
       "      <th class=\"blank col1\" >&nbsp;</th>\n",
       "      <th class=\"blank col2\" >&nbsp;</th>\n",
       "      <th class=\"blank col3\" >&nbsp;</th>\n",
       "      <th class=\"blank col4\" >&nbsp;</th>\n",
       "      <th class=\"blank col5\" >&nbsp;</th>\n",
       "    </tr>\n",
       "  </thead>\n",
       "  <tbody>\n",
       "    <tr>\n",
       "      <th id=\"T_92801_level0_row0\" class=\"row_heading level0 row0\" >Tumour (Positive)</th>\n",
       "      <td id=\"T_92801_row0_col0\" class=\"data row0 col0\" >38.000000</td>\n",
       "      <td id=\"T_92801_row0_col1\" class=\"data row0 col1\" >2.000000</td>\n",
       "      <td id=\"T_92801_row0_col2\" class=\"data row0 col2\" >18.000000</td>\n",
       "      <td id=\"T_92801_row0_col3\" class=\"data row0 col3\" >22.000000</td>\n",
       "      <td id=\"T_92801_row0_col4\" class=\"data row0 col4\" >21</td>\n",
       "      <td id=\"T_92801_row0_col5\" class=\"data row0 col5\" >nan</td>\n",
       "    </tr>\n",
       "    <tr>\n",
       "      <th id=\"T_92801_level0_row1\" class=\"row_heading level0 row1\" >Non-Tumour (Negative)</th>\n",
       "      <td id=\"T_92801_row1_col0\" class=\"data row1 col0\" >19.000000</td>\n",
       "      <td id=\"T_92801_row1_col1\" class=\"data row1 col1\" >439.000000</td>\n",
       "      <td id=\"T_92801_row1_col2\" class=\"data row1 col2\" >6.000000</td>\n",
       "      <td id=\"T_92801_row1_col3\" class=\"data row1 col3\" >452.000000</td>\n",
       "      <td id=\"T_92801_row1_col4\" class=\"data row1 col4\" >226</td>\n",
       "      <td id=\"T_92801_row1_col5\" class=\"data row1 col5\" >232.000000</td>\n",
       "    </tr>\n",
       "  </tbody>\n",
       "</table>\n"
      ],
      "text/plain": [
       "<pandas.io.formats.style.Styler at 0x7f258ac750a0>"
      ]
     },
     "execution_count": 1,
     "metadata": {},
     "output_type": "execute_result"
    }
   ],
   "source": [
    "import pandas as pd\n",
    "import numpy as np\n",
    "import matplotlib as mpl\n",
    "\n",
    "index = pd.Index(['Tumour (Positive)', 'Non-Tumour (Negative)'], name='Actual Label:')\n",
    "\n",
    "models = ['Decision Tree', 'Regression', 'Random']\n",
    "predicteds = ['Tumour', 'Non-Tumour']\n",
    "names = ['Model:', 'Predicted:']\n",
    "columns = pd.MultiIndex.from_product([models,predicteds], names=names)\n",
    "\n",
    "df = pd.DataFrame([[38.0, 2.0, 18.0, 22.0, 21, np.nan],[19, 439, 6, 452, 226,232]],\n",
    "                  index=index,\n",
    "                  columns=columns)\n",
    "df.style"
   ]
  }
 ],
 "metadata": {
  "kernelspec": {
   "display_name": "Python 3 (ipykernel)",
   "language": "python",
   "name": "python3"
  },
  "language_info": {
   "codemirror_mode": {
    "name": "ipython",
    "version": 3
   },
   "file_extension": ".py",
   "mimetype": "text/x-python",
   "name": "python",
   "nbconvert_exporter": "python",
   "pygments_lexer": "ipython3",
   "version": "3.8.10"
  }
 },
 "nbformat": 4,
 "nbformat_minor": 5
}
