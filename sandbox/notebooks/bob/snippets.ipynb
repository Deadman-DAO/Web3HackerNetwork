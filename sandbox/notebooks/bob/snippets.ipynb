{
 "cells": [
  {
   "cell_type": "code",
   "execution_count": 2,
   "id": "bb6cbc2b-f1a5-4e10-8aae-8cc9b6ae3084",
   "metadata": {},
   "outputs": [],
   "source": [
    "import sys\n",
    "sys.path.append(\"../../../jupyter/lib/\")\n",
    "import commit_stat_engineering"
   ]
  },
  {
   "cell_type": "code",
   "execution_count": 1,
   "id": "2049af22-e704-44d9-b197-eb88d5358fdb",
   "metadata": {},
   "outputs": [
    {
     "data": {
      "text/plain": [
       "['a', 'b', 'c']"
      ]
     },
     "execution_count": 1,
     "metadata": {},
     "output_type": "execute_result"
    }
   ],
   "source": [
    "import pickle\n",
    "\n",
    "serializable = ['a','b','c']\n",
    "serialize_path = '../../data/bob/test-out.txt'\n",
    "\n",
    "# human-readable-ish\n",
    "#out = open(serialize_path, 'w')\n",
    "#out.write(pickle.dumps(serializable))\n",
    "#out.close();\n",
    "\n",
    "# binary\n",
    "out = open(serialize_path, 'wb')\n",
    "pickle.dump(serializable, out)\n",
    "out.close()\n",
    "\n",
    "fin = open(serialize_path, 'rb')\n",
    "deserialized = pickle.load(fin)\n",
    "fin.close()\n",
    "\n",
    "deserialized\n"
   ]
  },
  {
   "cell_type": "code",
   "execution_count": 2,
   "id": "f1ef95c4-576a-44e0-9b01-b38805cca26f",
   "metadata": {},
   "outputs": [
    {
     "data": {
      "text/plain": [
       "{'bar': 'baz'}"
      ]
     },
     "execution_count": 2,
     "metadata": {},
     "output_type": "execute_result"
    }
   ],
   "source": [
    "import json\n",
    "\n",
    "project_root_path = '../../..'\n",
    "\n",
    "foo = {}\n",
    "foo['bar'] = 'baz'\n",
    "out_path = project_root_path + '/sandbox/data/bob/foo.json'\n",
    "out_handle = open(out_path, 'w');\n",
    "out_handle.write(json.dumps(foo, indent=2));\n",
    "out_handle.flush()\n",
    "out_handle.close()\n",
    "\n",
    "in_path = out_path\n",
    "in_stats = json.loads(open(in_path, 'r').read());\n",
    "in_stats"
   ]
  },
  {
   "cell_type": "code",
   "execution_count": 3,
   "id": "59227f8a-5db9-450b-81b7-26ec5d767148",
   "metadata": {},
   "outputs": [
    {
     "data": {
      "text/plain": [
       "{'ocean': {'stats_dir': 'sandbox/data/bob/ocean_repos',\n",
       "  'stat_file_name': 'commit_stat.json'},\n",
       " 'marine': {'stats_dir': 'data/github/2022-04-07-marine-search/projects',\n",
       "  'stat_file_name': 'commit-stat.log.json'}}"
      ]
     },
     "execution_count": 3,
     "metadata": {},
     "output_type": "execute_result"
    }
   ],
   "source": [
    "project_root_path = '../../..'\n",
    "\n",
    "config_map = {}\n",
    "config_map['ocean'] = {}\n",
    "ocean_cfg = config_map['ocean']\n",
    "ocean_cfg['stats_dir'] = 'sandbox/data/bob/ocean_repos'\n",
    "ocean_cfg['stat_file_name'] = 'commit_stat.json'\n",
    "config_map['marine'] = {}\n",
    "marine_cfg = config_map['marine']\n",
    "marine_cfg['stats_dir'] = 'data/github/2022-04-07-marine-search/projects'\n",
    "marine_cfg['stat_file_name'] = 'commit-stat.log.json'\n",
    "\n",
    "import json\n",
    "out_path = project_root_path + '/sandbox/data/bob/ignore_me_git/sample.cfg'\n",
    "out_handle = open(out_path, \"w\");\n",
    "out_handle.write(json.dumps(config_map, indent=2));\n",
    "out_handle.flush()\n",
    "out_handle.close()\n",
    "\n",
    "import json\n",
    "in_path = project_root_path + '/sandbox/data/bob/ignore_me_git/sample.cfg'\n",
    "config_map = json.loads(open(in_path, 'r').read())\n",
    "config_map"
   ]
  },
  {
   "cell_type": "code",
   "execution_count": 2,
   "id": "84e0c886-4301-4517-ae8c-37d9e0ea2afc",
   "metadata": {},
   "outputs": [
    {
     "data": {
      "text/plain": [
       "[0, 0, 0, 0, 0, 0, 0]"
      ]
     },
     "execution_count": 2,
     "metadata": {},
     "output_type": "execute_result"
    }
   ],
   "source": [
    "row = [0]*7\n",
    "row"
   ]
  },
  {
   "cell_type": "code",
   "execution_count": 3,
   "id": "7e8ff9c1-d70f-49d8-9c8d-fd2ccd85d05a",
   "metadata": {},
   "outputs": [
    {
     "data": {
      "text/plain": [
       "False"
      ]
     },
     "execution_count": 3,
     "metadata": {},
     "output_type": "execute_result"
    }
   ],
   "source": [
    "foo = ['a', 'b', 'c']\n",
    "'e' in foo"
   ]
  },
  {
   "cell_type": "code",
   "execution_count": 1,
   "id": "2774c1d8-796e-4119-8c8c-4de34598fffd",
   "metadata": {},
   "outputs": [
    {
     "data": {
      "text/html": [
       "<style type=\"text/css\">\n",
       "</style>\n",
       "<table id=\"T_92801\">\n",
       "  <thead>\n",
       "    <tr>\n",
       "      <th class=\"index_name level0\" >Model:</th>\n",
       "      <th id=\"T_92801_level0_col0\" class=\"col_heading level0 col0\" colspan=\"2\">Decision Tree</th>\n",
       "      <th id=\"T_92801_level0_col2\" class=\"col_heading level0 col2\" colspan=\"2\">Regression</th>\n",
       "      <th id=\"T_92801_level0_col4\" class=\"col_heading level0 col4\" colspan=\"2\">Random</th>\n",
       "    </tr>\n",
       "    <tr>\n",
       "      <th class=\"index_name level1\" >Predicted:</th>\n",
       "      <th id=\"T_92801_level1_col0\" class=\"col_heading level1 col0\" >Tumour</th>\n",
       "      <th id=\"T_92801_level1_col1\" class=\"col_heading level1 col1\" >Non-Tumour</th>\n",
       "      <th id=\"T_92801_level1_col2\" class=\"col_heading level1 col2\" >Tumour</th>\n",
       "      <th id=\"T_92801_level1_col3\" class=\"col_heading level1 col3\" >Non-Tumour</th>\n",
       "      <th id=\"T_92801_level1_col4\" class=\"col_heading level1 col4\" >Tumour</th>\n",
       "      <th id=\"T_92801_level1_col5\" class=\"col_heading level1 col5\" >Non-Tumour</th>\n",
       "    </tr>\n",
       "    <tr>\n",
       "      <th class=\"index_name level0\" >Actual Label:</th>\n",
       "      <th class=\"blank col0\" >&nbsp;</th>\n",
       "      <th class=\"blank col1\" >&nbsp;</th>\n",
       "      <th class=\"blank col2\" >&nbsp;</th>\n",
       "      <th class=\"blank col3\" >&nbsp;</th>\n",
       "      <th class=\"blank col4\" >&nbsp;</th>\n",
       "      <th class=\"blank col5\" >&nbsp;</th>\n",
       "    </tr>\n",
       "  </thead>\n",
       "  <tbody>\n",
       "    <tr>\n",
       "      <th id=\"T_92801_level0_row0\" class=\"row_heading level0 row0\" >Tumour (Positive)</th>\n",
       "      <td id=\"T_92801_row0_col0\" class=\"data row0 col0\" >38.000000</td>\n",
       "      <td id=\"T_92801_row0_col1\" class=\"data row0 col1\" >2.000000</td>\n",
       "      <td id=\"T_92801_row0_col2\" class=\"data row0 col2\" >18.000000</td>\n",
       "      <td id=\"T_92801_row0_col3\" class=\"data row0 col3\" >22.000000</td>\n",
       "      <td id=\"T_92801_row0_col4\" class=\"data row0 col4\" >21</td>\n",
       "      <td id=\"T_92801_row0_col5\" class=\"data row0 col5\" >nan</td>\n",
       "    </tr>\n",
       "    <tr>\n",
       "      <th id=\"T_92801_level0_row1\" class=\"row_heading level0 row1\" >Non-Tumour (Negative)</th>\n",
       "      <td id=\"T_92801_row1_col0\" class=\"data row1 col0\" >19.000000</td>\n",
       "      <td id=\"T_92801_row1_col1\" class=\"data row1 col1\" >439.000000</td>\n",
       "      <td id=\"T_92801_row1_col2\" class=\"data row1 col2\" >6.000000</td>\n",
       "      <td id=\"T_92801_row1_col3\" class=\"data row1 col3\" >452.000000</td>\n",
       "      <td id=\"T_92801_row1_col4\" class=\"data row1 col4\" >226</td>\n",
       "      <td id=\"T_92801_row1_col5\" class=\"data row1 col5\" >232.000000</td>\n",
       "    </tr>\n",
       "  </tbody>\n",
       "</table>\n"
      ],
      "text/plain": [
       "<pandas.io.formats.style.Styler at 0x7f258ac750a0>"
      ]
     },
     "execution_count": 1,
     "metadata": {},
     "output_type": "execute_result"
    }
   ],
   "source": [
    "import pandas as pd\n",
    "import numpy as np\n",
    "import matplotlib as mpl\n",
    "\n",
    "index = pd.Index(['Tumour (Positive)', 'Non-Tumour (Negative)'], name='Actual Label:')\n",
    "\n",
    "models = ['Decision Tree', 'Regression', 'Random']\n",
    "predicteds = ['Tumour', 'Non-Tumour']\n",
    "names = ['Model:', 'Predicted:']\n",
    "columns = pd.MultiIndex.from_product([models,predicteds], names=names)\n",
    "\n",
    "df = pd.DataFrame([[38.0, 2.0, 18.0, 22.0, 21, np.nan],[19, 439, 6, 452, 226,232]],\n",
    "                  index=index,\n",
    "                  columns=columns)\n",
    "df.style"
   ]
  },
  {
   "cell_type": "code",
   "execution_count": 19,
   "id": "6693b7e4-78a5-40a9-8f08-a63792baf1fd",
   "metadata": {},
   "outputs": [
    {
     "name": "stdout",
     "output_type": "stream",
     "text": [
      "<class 'tuple'>\n",
      "(1,)\n",
      "1\n",
      "<class 'int'>\n",
      "<class 'tuple'>\n",
      "(2,)\n",
      "2\n",
      "<class 'int'>\n"
     ]
    }
   ],
   "source": [
    "in_path = '../../../untracked/maria_db.w3hn.txt'\n",
    "content = open(in_path).read()\n",
    "password = content[0:len(content) - 1]\n",
    "password\n",
    "\n",
    "import mariadb\n",
    "dbconn = mariadb.connect(user='w3hn', password=password,\n",
    "                         host='localhost', database='github_analytics',\n",
    "                         autocommit=False)\n",
    "try:\n",
    "    curs = dbconn.cursor()\n",
    "    curs.execute(\"create table if not exists foo ( bar int )\")\n",
    "    curs.execute(\"insert into foo values ( 1 )\")\n",
    "    curs.execute(\"select bar from foo\")\n",
    "    for row in curs:\n",
    "        print(type(row))\n",
    "        print(row)\n",
    "        print(row[0])\n",
    "        print(type(row[0]))\n",
    "    curs.execute(\"select 2 from dual\")\n",
    "    for row in curs:\n",
    "        print(type(row))\n",
    "        print(row)\n",
    "        print(row[0])\n",
    "        print(type(row[0]))\n",
    "    curs.close()\n",
    "finally:\n",
    "    try:\n",
    "        dbconn.commit()\n",
    "    finally:\n",
    "        dbconn.close()\n"
   ]
  },
  {
   "cell_type": "code",
   "execution_count": null,
   "id": "d02be4f5-048a-498b-ba12-8970c3fef5d3",
   "metadata": {},
   "outputs": [],
   "source": []
  }
 ],
 "metadata": {
  "kernelspec": {
   "display_name": "Python 3 (ipykernel)",
   "language": "python",
   "name": "python3"
  },
  "language_info": {
   "codemirror_mode": {
    "name": "ipython",
    "version": 3
   },
   "file_extension": ".py",
   "mimetype": "text/x-python",
   "name": "python",
   "nbconvert_exporter": "python",
   "pygments_lexer": "ipython3",
   "version": "3.8.10"
  }
 },
 "nbformat": 4,
 "nbformat_minor": 5
}
