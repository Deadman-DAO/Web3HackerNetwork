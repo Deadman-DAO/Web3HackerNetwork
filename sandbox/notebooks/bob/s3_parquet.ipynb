{
 "cells": [
  {
   "cell_type": "code",
   "execution_count": 11,
   "id": "7c7ce6f1-a799-40b5-8ce8-f80ed8584c2d",
   "metadata": {},
   "outputs": [
    {
     "name": "stdout",
     "output_type": "stream",
     "text": [
      "/home/bob/projects/Web3HackerNetwork/python\n",
      "/home/bob/projects/Web3HackerNetwork\n",
      "/home/bob/projects/Web3HackerNetwork/python\n"
     ]
    }
   ],
   "source": [
    "import os\n",
    "import sys\n",
    "# ========== Project Root Path =================\n",
    "this_path = os.path.abspath(sys.path[0])\n",
    "print(this_path)\n",
    "project_dir = 'Web3HackerNetwork'\n",
    "w3hndex = this_path.index(project_dir)\n",
    "root_path = this_path[0:w3hndex + len(project_dir)]\n",
    "print(root_path)\n",
    "# ---------- Local Library Path ----------------\n",
    "lib_path = f'{root_path}/python'\n",
    "print(lib_path)\n",
    "if lib_path not in sys.path: sys.path.insert(0, lib_path)\n",
    "# ---------- Local Libraries -------------------\n",
    "from w3hn.datapipe.ingest.file_hacker_commit import FileHackerCommitIngester\n",
    "from w3hn.datapipe.ingest.repo_file import RepoFileIngester\n",
    "from w3hn.aws.aws_util import S3Util\n",
    "import w3hn.hadoop.parquet_util as pq_util\n",
    "# ----------------------------------------------"
   ]
  },
  {
   "cell_type": "code",
   "execution_count": 2,
   "id": "5db4c53f-88dd-4526-9924-a3bc7e3cd124",
   "metadata": {},
   "outputs": [
    {
     "name": "stdout",
     "output_type": "stream",
     "text": [
      "author: string\n",
      "extension: string\n",
      "dependency: string\n",
      "tfidf: double\n",
      "-- schema metadata --\n",
      "org.apache.spark.version: '3.1.1'\n",
      "org.apache.spark.sql.parquet.row.metadata: '{\"type\":\"struct\",\"fields\":[{\"' + 261\n",
      "4030579 x 4\n"
     ]
    }
   ],
   "source": [
    "import pyarrow.parquet as papq\n",
    "\n",
    "path = 'web3hackernetwork/data_pipeline/published/hacker_dependency_tfidf'\n",
    "bucket_path=f'deadmandao/{path}'\n",
    "s3_util = S3Util(bucket_name='deadmandao', profile='w3hn-admin')\n",
    "hacker_dependency_tfidf = s3_util.read_parquet_table(path)\n",
    "print(f'{hacker_dependency_tfidf.schema}')\n",
    "print(f'{hacker_dependency_tfidf.num_rows} x {hacker_dependency_tfidf.num_columns}')\n"
   ]
  },
  {
   "cell_type": "code",
   "execution_count": 3,
   "id": "04396e5f-7b16-4b1b-b51c-c3da9a975de3",
   "metadata": {},
   "outputs": [
    {
     "name": "stdout",
     "output_type": "stream",
     "text": [
      "                                          dependency  tfidf\n",
      "0  org.apache.pig.backend.executionengine.ExecExc...  10.59\n",
      "1                                   org.apache.pig.*   9.68\n",
      "2  org.apache.cassandra.db.marshal.AbstractCompos...   9.68\n",
      "3                   org.apache.pig.Expression.OpType   9.50\n",
      "4              org.apache.hadoop.hdfs.MiniDFSCluster   7.65\n"
     ]
    }
   ],
   "source": [
    "import duckdb\n",
    "con = duckdb.connect()\n",
    "results = con.execute(\"\"\"\n",
    "SELECT dependency, tfidf FROM hacker_dependency_tfidf\n",
    "WHERE author = 'Brandon Williams <brandonwilliams@apache.org>'\n",
    "ORDER BY tfidf DESC\n",
    "\"\"\").arrow()\n",
    "print(str(results.to_pandas()[slice(0,5)]))"
   ]
  },
  {
   "cell_type": "code",
   "execution_count": 5,
   "id": "979e77a1-9c45-4ed8-8864-1bb25ce086f4",
   "metadata": {},
   "outputs": [],
   "source": [
    "path = 'web3hackernetwork/data_pipeline/curated/repo_dependency'\n",
    "curated_repo_dependency = s3_util.read_parquet_table(path)\n",
    "con = duckdb.connect()"
   ]
  },
  {
   "cell_type": "code",
   "execution_count": 42,
   "id": "e2b3e56c-a8c2-43ea-9540-a6521116369a",
   "metadata": {},
   "outputs": [
    {
     "name": "stdout",
     "output_type": "stream",
     "text": [
      "  extension dependency  num_repos num_files\n",
      "0       .py         os       3445     41684\n",
      "1       .py        sys       3224     27653\n",
      "2       .py         re       2542     13752\n",
      "3       .py       json       2105     12461\n",
      "4       .py       time       2037     11874\n",
      "    extension                  dependency  num_repos num_files\n",
      "400       .py           tabulate.tabulate         58       121\n",
      "401       .py                       fcntl         58        94\n",
      "402       .py             fnmatch.fnmatch         58        80\n",
      "403       .py  urllib.request.urlretrieve         58        66\n",
      "404       .py            tensorflow.keras         57       219\n"
     ]
    }
   ],
   "source": [
    "sql = \"\"\"\n",
    "select extension, dependency, count(1) as num_repos, sum(file_count) as num_files\n",
    "from curated_repo_dependency\n",
    "where extension = '.py'\n",
    "group by extension, dependency\n",
    "having num_repos > 50\n",
    "order by num_repos desc\n",
    "\"\"\"\n",
    "dep_popularity = con.execute(sql).arrow()\n",
    "print(str(dep_popularity.to_pandas()[slice(0,5)]))\n",
    "print(str(dep_popularity.to_pandas()[slice(400,405)]))\n"
   ]
  },
  {
   "cell_type": "code",
   "execution_count": 36,
   "id": "f6161d61-e554-4ab1-a196-5f6ef24042de",
   "metadata": {},
   "outputs": [
    {
     "data": {
      "image/png": "[encoded data removed]",
      "text/plain": [
       "<Figure size 432x288 with 1 Axes>"
      ]
     },
     "metadata": {
      "needs_background": "light"
     },
     "output_type": "display_data"
    }
   ],
   "source": [
    "import matplotlib.pyplot as plt\n",
    "\n",
    "# x = dep_popularity.to_pandas()\n",
    "a = plt.hist(dep_popularity.column(2), 100)\n",
    "py_dep_popularity = dep_popularity\n",
    "# dep_popularity.column(2)"
   ]
  },
  {
   "cell_type": "code",
   "execution_count": 26,
   "id": "3030e31d-5002-457f-befe-c28edf50e0a2",
   "metadata": {},
   "outputs": [
    {
     "name": "stdout",
     "output_type": "stream",
     "text": [
      "   count(1)\n",
      "0       464\n"
     ]
    }
   ],
   "source": [
    "sql = \"\"\"\n",
    "SELECT count(1) FROM dep_popularity WHERE extension='.py' AND num_repos > 50\n",
    "\"\"\"\n",
    "num_below_threshold = con.execute(sql).arrow()\n",
    "print(str(num_below_threshold.to_pandas()[slice(0,20)]))"
   ]
  },
  {
   "cell_type": "markdown",
   "id": "8dc1a2e9-6ada-449b-b0ab-7bc8b3055c1f",
   "metadata": {},
   "source": [
    "464 python dependencies have fewer than 50 repos associated with them (that number will climb as we pull more repos).\n",
    "\n",
    "That gives us an idea of our threshold for including libraries in the embedding. The lower the number of repositories using the library, the less is its importance as a comparative metric.\n",
    "\n",
    "The number of libraries also explodes as you go lower on the list. Usage count has an extremely long tail, so raising the threshold just a bit removes a lot of low-signal data from the model.\n"
   ]
  },
  {
   "cell_type": "code",
   "execution_count": 39,
   "id": "2cfc01a9-e2e8-4d6a-8d16-f5fcb1cafdfc",
   "metadata": {},
   "outputs": [
    {
     "name": "stdout",
     "output_type": "stream",
     "text": [
      "  extension           dependency  num_repos num_files\n",
      "0     .java       java.util.List        773     38110\n",
      "1     .java  java.util.ArrayList        759     20480\n",
      "2     .java  java.io.IOException        702     18675\n",
      "3     .java        java.util.Map        670     17353\n",
      "4     .java     java.util.Arrays        653      9852\n",
      "    extension                                         dependency  num_repos  \\\n",
      "300     .java                     android.content.res.TypedArray         68   \n",
      "301     .java                                  android.os.Parcel         68   \n",
      "302     .java                    android.net.ConnectivityManager         68   \n",
      "303     .java  com.fasterxml.jackson.databind.Deserialization...         68   \n",
      "304     .java                          android.view.MenuInflater         67   \n",
      "\n",
      "    num_files  \n",
      "300       321  \n",
      "301       583  \n",
      "302       151  \n",
      "303       153  \n",
      "304       265  \n",
      "   count(1)\n",
      "0       428\n"
     ]
    },
    {
     "data": {
      "image/png": "[encoded data removed]",
      "text/plain": [
       "<Figure size 432x288 with 1 Axes>"
      ]
     },
     "metadata": {
      "needs_background": "light"
     },
     "output_type": "display_data"
    }
   ],
   "source": [
    "sql = \"\"\"\n",
    "select extension, dependency, count(1) as num_repos, sum(file_count) as num_files\n",
    "from curated_repo_dependency\n",
    "where extension = '.java'\n",
    "group by extension, dependency\n",
    "having num_repos > 50\n",
    "order by num_repos desc\n",
    "\"\"\"\n",
    "dep_popularity = con.execute(sql).arrow()\n",
    "print(str(dep_popularity.to_pandas()[slice(0,5)]))\n",
    "print(str(dep_popularity.to_pandas()[slice(300,305)]))\n",
    "a = plt.hist(dep_popularity.column(2), 100)\n",
    "\n",
    "sql = \"\"\"\n",
    "SELECT count(1) FROM dep_popularity WHERE extension='.java' AND num_repos > 50\n",
    "\"\"\"\n",
    "num_below_threshold = con.execute(sql).arrow()\n",
    "print(str(num_below_threshold.to_pandas()[slice(0,20)]))"
   ]
  },
  {
   "cell_type": "code",
   "execution_count": 37,
   "id": "e97a9092-340f-4739-b154-e8df408c40d6",
   "metadata": {},
   "outputs": [
    {
     "data": {
      "image/png": "[encoded data removed]",
      "text/plain": [
       "<Figure size 432x288 with 1 Axes>"
      ]
     },
     "metadata": {
      "needs_background": "light"
     },
     "output_type": "display_data"
    }
   ],
   "source": [
    "a = plt.hist(py_dep_popularity.column(2), 100)"
   ]
  }
 ],
 "metadata": {
  "kernelspec": {
   "display_name": "Python 3 (ipykernel)",
   "language": "python",
   "name": "python3"
  },
  "language_info": {
   "codemirror_mode": {
    "name": "ipython",
    "version": 3
   },
   "file_extension": ".py",
   "mimetype": "text/x-python",
   "name": "python",
   "nbconvert_exporter": "python",
   "pygments_lexer": "ipython3",
   "version": "3.8.10"
  }
 },
 "nbformat": 4,
 "nbformat_minor": 5
}
