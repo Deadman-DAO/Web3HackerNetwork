{
 "cells": [
  {
   "cell_type": "markdown",
   "id": "637ae421-cf52-4108-9d12-68f2385f3196",
   "metadata": {},
   "source": [
    "### set the base params"
   ]
  },
  {
   "cell_type": "code",
   "execution_count": 1,
   "id": "e6387bac-2903-466b-bf65-17a2f184d824",
   "metadata": {},
   "outputs": [],
   "source": [
    "root = '/home/bob/projects/Web3HackerNetwork'\n",
    "dataset_dir = root + \"/data/github/2022-04-07-marine-search\"\n",
    "stats_dir = dataset_dir + \"/projects\""
   ]
  },
  {
   "cell_type": "markdown",
   "id": "eb6fa584-71d1-4a76-8284-faef96dd17a2",
   "metadata": {},
   "source": [
    "### define a method that finds all files with the same name"
   ]
  },
  {
   "cell_type": "code",
   "execution_count": 2,
   "id": "a8e8cf3c-9dae-47d2-ae35-3b2bafdd7c46",
   "metadata": {},
   "outputs": [],
   "source": [
    "import os\n",
    "def find_all(name, path):\n",
    "    result = []\n",
    "    for root, dirs, files in os.walk(path):\n",
    "        if name in files:\n",
    "            result.append(os.path.join(root, name))\n",
    "    return result"
   ]
  },
  {
   "cell_type": "markdown",
   "id": "b4359fab-f784-465e-abe9-35d643509e0f",
   "metadata": {},
   "source": [
    "### find all the commi stat JSON files"
   ]
  },
  {
   "cell_type": "code",
   "execution_count": 3,
   "id": "e987547e-0ca8-48d3-a6be-4f8e184801bf",
   "metadata": {},
   "outputs": [],
   "source": [
    "commit_files = find_all('commit-stat.log.json', stats_dir)"
   ]
  },
  {
   "cell_type": "markdown",
   "id": "2303dea7-4d98-4bb9-b298-c1e5f39f7669",
   "metadata": {},
   "source": [
    "### load all the files"
   ]
  },
  {
   "cell_type": "code",
   "execution_count": 4,
   "id": "f8dd1bca-ea64-423c-bec5-8df18dc64547",
   "metadata": {},
   "outputs": [
    {
     "name": "stdout",
     "output_type": "stream",
     "text": [
      "{'commit': 'fb528905fb6448e2b502f7de8fba877a2a995f6d', 'Author': 'tchataigner <tom.chataigner@yahoo.fr>', 'Date': 'Sun Aug 15 20', 'fileTypes': {'js': {'textLineCount': 26, 'binByteCount': 0, 'inserts': 17, 'deletes': 9, 'occurrences': 2}}, 'files': '2', 'insertions(+)': '17', 'deletions(-)\\n': '9'}\n"
     ]
    }
   ],
   "source": [
    "import json\n",
    "\n",
    "all_logs = []\n",
    "for file in commit_files:\n",
    "    in_stats = json.loads(open(file, 'r').read());\n",
    "    all_logs.append(in_stats)\n",
    "print(all_logs[0][0])"
   ]
  },
  {
   "cell_type": "code",
   "execution_count": 5,
   "id": "518e54d1-bea9-450e-be82-ef47edf4be57",
   "metadata": {},
   "outputs": [],
   "source": [
    "js_commits = []\n",
    "rust_commits = []\n",
    "all_commits = []\n",
    "\n",
    "js_types = ['js', 'jsx', 'ts', 'tsx']\n",
    "rust_types = ['rs', 'toml']\n",
    "\n",
    "for log in all_logs:\n",
    "    #lines.append(\"\\n\")\n",
    "    for commit in log:\n",
    "        #lines.append(str(commit['commit']))\n",
    "        #print(commit['fileTypes'])\n",
    "        for ft in commit['fileTypes']:\n",
    "            all_commits.append(commit)\n",
    "            if ft in js_types:\n",
    "                js_commits.append(commit)\n",
    "            elif ft in rust_types:\n",
    "                rust_commits.append(commit)"
   ]
  },
  {
   "cell_type": "markdown",
   "id": "8d81b0e6-271a-4e38-9351-dc54ec8eac80",
   "metadata": {},
   "source": [
    "### method to extract statistics from the commit data"
   ]
  },
  {
   "cell_type": "code",
   "execution_count": 23,
   "id": "0555de93-9119-4c53-b3aa-18a1abf0c99b",
   "metadata": {},
   "outputs": [],
   "source": [
    "js_types = ['js', 'jsx', 'ts', 'tsx']\n",
    "rust_types = ['rs', 'toml']\n",
    "\n",
    "def percent(numerator, denominator):\n",
    "    if (numerator == 0): return 0\n",
    "    truncated = int(100 * 100 * numerator / denominator)\n",
    "    return truncated / 100\n",
    "\n",
    "def extract_stats(commit):\n",
    "    if 'files' in commit:\n",
    "        num_files = commit['files']\n",
    "    else:\n",
    "        num_files = commit['file']\n",
    "    typeDict = commit['fileTypes']\n",
    "    typeArray = [{'fileType': key, 'stats': typeDict[key]} for key in typeDict.keys()]\n",
    "    textTypeArray = [typeEntry for typeEntry in typeArray if typeEntry['stats']['textLineCount'] > 0]\n",
    "    binTypeArray = [typeEntry for typeEntry in typeArray if typeEntry['stats']['binByteCount'] > 0]\n",
    "    jsTypeArray = [typeEntry for typeEntry in typeArray if typeEntry['fileType'] in js_types]\n",
    "    rsTypeArray = [typeEntry for typeEntry in typeArray if typeEntry['fileType'] in rust_types]\n",
    "    \n",
    "    statDict = {}\n",
    "    statDict['commit'] = commit['commit']\n",
    "    statDict['totalFiles'] = int(num_files)\n",
    "    statDict['binFiles'] = sum([typeEntry['stats']['occurrences'] for typeEntry in binTypeArray])\n",
    "    statDict['textFiles'] = sum([typeEntry['stats']['occurrences'] for typeEntry in textTypeArray])\n",
    "    statDict['rustFiles'] = sum([typeEntry['stats']['occurrences'] for typeEntry in rsTypeArray])\n",
    "    statDict['jsFiles'] = sum([typeEntry['stats']['occurrences'] for typeEntry in jsTypeArray])\n",
    "    statDict['binBytes'] = sum([typeEntry['stats']['binByteCount'] for typeEntry in binTypeArray])\n",
    "    statDict['textLines'] = sum([typeEntry['stats']['textLineCount'] for typeEntry in textTypeArray])\n",
    "    statDict['rustLines'] = sum([typeEntry['stats']['textLineCount'] for typeEntry in rsTypeArray])\n",
    "    statDict['jsLines'] = sum([typeEntry['stats']['textLineCount'] for typeEntry in jsTypeArray])\n",
    "    statDict['totalBytes'] = statDict['textLines'] * 50 + statDict['binBytes']\n",
    "    statDict['pctRustFiles'] = percent(statDict['rustFiles'], statDict['totalFiles'])\n",
    "    statDict['pctJsFiles'] = percent(statDict['jsFiles'], statDict['totalFiles'])\n",
    "    statDict['pctRustLines'] = percent(statDict['rustLines'], statDict['textLines'])\n",
    "    statDict['pctJsLines'] = percent(statDict['jsLines'], statDict['textLines'])\n",
    "    statDict['pctRustBytes'] = percent(statDict['rustLines'] * 50, statDict['totalBytes'])\n",
    "    statDict['pctJsBytes'] = percent(statDict['jsLines'] * 50, statDict['totalBytes'])\n",
    "    statDict['pctBinBytes'] = percent(statDict['binBytes'], statDict['totalBytes'])\n",
    "    statDict['pctTextBytes'] = percent(statDict['textLines'] * 50, statDict['totalBytes'])\n",
    "    return statDict\n",
    "    # fileType['textLineCount'] for fileType in commit['fileTypes']]"
   ]
  },
  {
   "cell_type": "code",
   "execution_count": 24,
   "id": "9c658ed4-5c0e-4075-a6dd-bf2892ab3b50",
   "metadata": {},
   "outputs": [
    {
     "name": "stdout",
     "output_type": "stream",
     "text": [
      "{'commit': '643153483bbb7476897cbb4fc17939560c278b0f', 'Author': 'tchataigner <tom.chataigner@yahoo.fr>', 'Date': 'Sat Aug 14 21', 'fileTypes': {'null': {'textLineCount': 2, 'binByteCount': 0, 'inserts': 2, 'deletes': 0, 'occurrences': 1}, 'toml': {'textLineCount': 11, 'binByteCount': 0, 'inserts': 11, 'deletes': 0, 'occurrences': 1}, 'md': {'textLineCount': 22, 'binByteCount': 0, 'inserts': 22, 'deletes': 0, 'occurrences': 1}, 'json': {'textLineCount': 5, 'binByteCount': 0, 'inserts': 5, 'deletes': 0, 'occurrences': 1}, 'wasm': {'textLineCount': 0, 'binByteCount': 82934, 'inserts': 0, 'deletes': 0, 'occurrences': 1}, 'sh': {'textLineCount': 2, 'binByteCount': 0, 'inserts': 2, 'deletes': 0, 'occurrences': 1}, 'rs': {'textLineCount': 26, 'binByteCount': 0, 'inserts': 26, 'deletes': 0, 'occurrences': 1}}, 'files': '7', 'insertions(+)\\n': '68'}\n",
      "{'commit': '643153483bbb7476897cbb4fc17939560c278b0f', 'totalFiles': 7, 'binFiles': 1, 'textFiles': 6, 'rustFiles': 2, 'jsFiles': 0, 'binBytes': 82934, 'textLines': 68, 'rustLines': 37, 'jsLines': 0, 'totalBytes': 86334, 'pctRustFiles': 28.57, 'pctJsFiles': 0, 'pctRustLines': 54.41, 'pctJsLines': 0, 'pctRustBytes': 2.14, 'pctJsBytes': 0, 'pctBinBytes': 96.06, 'pctTextBytes': 3.93}\n",
      "\n",
      "{'commit': '5629c4b1eae0d9db3dd25e5ada2d91393005a3d0', 'Author': 'amrosaeed <amrosaeed.amin@gmail.com>', 'Date': 'Sat Sep 11 04', 'fileTypes': {'sh': {'textLineCount': 718, 'binByteCount': 0, 'inserts': 52, 'deletes': 0, 'occurrences': 52}, 'yml': {'textLineCount': 233, 'binByteCount': 0, 'inserts': 3, 'deletes': 0, 'occurrences': 3}, 'gitignore': {'textLineCount': 14, 'binByteCount': 0, 'inserts': 1, 'deletes': 0, 'occurrences': 1}, 'null': {'textLineCount': 888, 'binByteCount': 0, 'inserts': 69, 'deletes': 0, 'occurrences': 71}, 'md': {'textLineCount': 5858, 'binByteCount': 0, 'inserts': 36, 'deletes': 0, 'occurrences': 36}, 'aqua': {'textLineCount': 1748, 'binByteCount': 0, 'inserts': 26, 'deletes': 0, 'occurrences': 26}, 'json': {'textLineCount': 369338, 'binByteCount': 0, 'inserts': 275, 'deletes': 0, 'occurrences': 141}, 'ts': {'textLineCount': 4870, 'binByteCount': 0, 'inserts': 54, 'deletes': 0, 'occurrences': 54}, 'toml': {'textLineCount': 1513, 'binByteCount': 0, 'inserts': 110, 'deletes': 0, 'occurrences': 110}, 'rs': {'textLineCount': 6927, 'binByteCount': 0, 'inserts': 99, 'deletes': 0, 'occurrences': 99}, 'png': {'textLineCount': 0, 'binByteCount': 7160304, 'inserts': 0, 'deletes': 0, 'occurrences': 48}, 'ico': {'textLineCount': 0, 'binByteCount': 169540, 'inserts': 0, 'deletes': 0, 'occurrences': 14}, 'html': {'textLineCount': 576, 'binByteCount': 0, 'inserts': 14, 'deletes': 0, 'occurrences': 14}, 'txt': {'textLineCount': 266, 'binByteCount': 0, 'inserts': 16, 'deletes': 0, 'occurrences': 16}, 'scss': {'textLineCount': 2716, 'binByteCount': 0, 'inserts': 18, 'deletes': 0, 'occurrences': 18}, 'tsx': {'textLineCount': 2078, 'binByteCount': 0, 'inserts': 42, 'deletes': 0, 'occurrences': 42}, 'css': {'textLineCount': 130, 'binByteCount': 0, 'inserts': 10, 'deletes': 0, 'occurrences': 10}, 'svg': {'textLineCount': 170, 'binByteCount': 0, 'inserts': 10, 'deletes': 0, 'occurrences': 10}, 'js': {'textLineCount': 2980, 'binByteCount': 0, 'inserts': 18, 'deletes': 0, 'occurrences': 18}, 'clj': {'textLineCount': 1106, 'binByteCount': 0, 'inserts': 46, 'deletes': 0, 'occurrences': 46}, 'air': {'textLineCount': 788, 'binByteCount': 0, 'inserts': 22, 'deletes': 0, 'occurrences': 22}}, 'files': '851', 'insertions(+)\\n': '402917'}\n",
      "{'commit': '5629c4b1eae0d9db3dd25e5ada2d91393005a3d0', 'totalFiles': 851, 'binFiles': 62, 'textFiles': 789, 'rustFiles': 209, 'jsFiles': 114, 'binBytes': 7329844, 'textLines': 402917, 'rustLines': 8440, 'jsLines': 9928, 'totalBytes': 27475694, 'pctRustFiles': 24.55, 'pctJsFiles': 13.39, 'pctRustLines': 2.09, 'pctJsLines': 2.46, 'pctRustBytes': 1.53, 'pctJsBytes': 1.8, 'pctBinBytes': 26.67, 'pctTextBytes': 73.32}\n",
      "\n",
      "{'commit': '277377bbc88f97aa087e14a31b8defed4dbc1af1', 'Author': 'Artyom Lisovskii <artyom@lisovskij.ru>', 'Date': 'Sun Feb 6 10', 'fileTypes': {'null': {'textLineCount': 30, 'binByteCount': 0, 'inserts': 2, 'deletes': 0, 'occurrences': 2}, 'aqua': {'textLineCount': 14, 'binByteCount': 0, 'inserts': 2, 'deletes': 0, 'occurrences': 2}, 'json': {'textLineCount': 8611, 'binByteCount': 0, 'inserts': 23, 'deletes': 0, 'occurrences': 4}, 'ts': {'textLineCount': 75, 'binByteCount': 0, 'inserts': 2, 'deletes': 0, 'occurrences': 2}, 'toml': {'textLineCount': 30, 'binByteCount': 0, 'inserts': 3, 'deletes': 0, 'occurrences': 3}, 'sh': {'textLineCount': 16, 'binByteCount': 0, 'inserts': 1, 'deletes': 0, 'occurrences': 1}, 'lock': {'textLineCount': 2991, 'binByteCount': 0, 'inserts': 7, 'deletes': 0, 'occurrences': 1}, 'rs': {'textLineCount': 219, 'binByteCount': 0, 'inserts': 3, 'deletes': 0, 'occurrences': 3}, 'md': {'textLineCount': 62, 'binByteCount': 0, 'inserts': 1, 'deletes': 0, 'occurrences': 1}}, 'files': '19', 'insertions(+)\\n': '12048'}\n",
      "{'commit': '277377bbc88f97aa087e14a31b8defed4dbc1af1', 'totalFiles': 19, 'binFiles': 0, 'textFiles': 19, 'rustFiles': 6, 'jsFiles': 2, 'binBytes': 0, 'textLines': 12048, 'rustLines': 249, 'jsLines': 75, 'totalBytes': 602400, 'pctRustFiles': 31.57, 'pctJsFiles': 10.52, 'pctRustLines': 2.06, 'pctJsLines': 0.62, 'pctRustBytes': 2.06, 'pctJsBytes': 0.62, 'pctBinBytes': 0, 'pctTextBytes': 100.0}\n",
      "\n",
      "{'commit': 'cbb10508e82e1b6c4758ae98d3424abbe72ba7e1', 'Author': 'SurroundingArt <97761020+SurroundingArt64@users.noreply.github.com>', 'Date': 'Wed Feb 9 20', 'fileTypes': {'null': {'textLineCount': 2, 'binByteCount': 0, 'inserts': 1, 'deletes': 1, 'occurrences': 1}, 'wasm': {'textLineCount': 0, 'binByteCount': 67013, 'inserts': 0, 'deletes': 0, 'occurrences': 1}, 'rs': {'textLineCount': 25, 'binByteCount': 0, 'inserts': 6, 'deletes': 19, 'occurrences': 1}}, 'files': '3', 'insertions(+)': '7', 'deletions(-)\\n': '20'}\n",
      "{'commit': 'cbb10508e82e1b6c4758ae98d3424abbe72ba7e1', 'totalFiles': 3, 'binFiles': 1, 'textFiles': 2, 'rustFiles': 1, 'jsFiles': 0, 'binBytes': 67013, 'textLines': 27, 'rustLines': 25, 'jsLines': 0, 'totalBytes': 68363, 'pctRustFiles': 33.33, 'pctJsFiles': 0, 'pctRustLines': 92.59, 'pctJsLines': 0, 'pctRustBytes': 1.82, 'pctJsBytes': 0, 'pctBinBytes': 98.02, 'pctTextBytes': 1.97}\n",
      "\n",
      "{'commit': '49b2ecd8e05b60a892f0d02e19589a30fe18b172', 'Author': 'SurroundingArt <97761020+SurroundingArt64@users.noreply.github.com>', 'Date': 'Wed Feb 9 19', 'fileTypes': {'tsx': {'textLineCount': 1, 'binByteCount': 0, 'inserts': 0, 'deletes': 1, 'occurrences': 1}, 'lock': {'textLineCount': 106, 'binByteCount': 0, 'inserts': 25, 'deletes': 0, 'occurrences': 1}, 'toml': {'textLineCount': 2, 'binByteCount': 0, 'inserts': 1, 'deletes': 0, 'occurrences': 1}, 'wasm': {'textLineCount': 0, 'binByteCount': -3, 'inserts': 0, 'deletes': 0, 'occurrences': 1}, 'rs': {'textLineCount': 42, 'binByteCount': 0, 'inserts': 10, 'deletes': 0, 'occurrences': 1}}, 'files': '5', 'insertions(+)': '150', 'deletion(-)\\n': '1'}\n",
      "{'commit': '49b2ecd8e05b60a892f0d02e19589a30fe18b172', 'totalFiles': 5, 'binFiles': 0, 'textFiles': 4, 'rustFiles': 2, 'jsFiles': 1, 'binBytes': 0, 'textLines': 151, 'rustLines': 44, 'jsLines': 1, 'totalBytes': 7550, 'pctRustFiles': 40.0, 'pctJsFiles': 20.0, 'pctRustLines': 29.13, 'pctJsLines': 0.66, 'pctRustBytes': 29.13, 'pctJsBytes': 0.66, 'pctBinBytes': 0, 'pctTextBytes': 100.0}\n",
      "\n",
      "{'commit': 'c3603d9be984dd5791d9de48ac38cfa68372e0fa', 'Author': 'SurroundingArt <97761020+SurroundingArt64@users.noreply.github.com>', 'Date': 'Wed Feb 9 16', 'fileTypes': {'aqua': {'textLineCount': 22, 'binByteCount': 0, 'inserts': 4, 'deletes': 4, 'occurrences': 1}, 'tsx': {'textLineCount': 15, 'binByteCount': 0, 'inserts': 3, 'deletes': 3, 'occurrences': 1}, 'ts': {'textLineCount': 69, 'binByteCount': 0, 'inserts': 21, 'deletes': 4, 'occurrences': 1}, 'null': {'textLineCount': 45, 'binByteCount': 0, 'inserts': 13, 'deletes': 3, 'occurrences': 1}, 'wasm': {'textLineCount': 0, 'binByteCount': 3117, 'inserts': 0, 'deletes': 0, 'occurrences': 1}, 'json': {'textLineCount': 6, 'binByteCount': 0, 'inserts': 2, 'deletes': 1, 'occurrences': 1}, 'md': {'textLineCount': 2, 'binByteCount': 0, 'inserts': 1, 'deletes': 1, 'occurrences': 1}, 'rs': {'textLineCount': 12, 'binByteCount': 0, 'inserts': 3, 'deletes': 2, 'occurrences': 1}}, 'files': '8', 'insertions(+)': '131', 'deletions(-)\\n': '40'}\n",
      "{'commit': 'c3603d9be984dd5791d9de48ac38cfa68372e0fa', 'totalFiles': 8, 'binFiles': 1, 'textFiles': 7, 'rustFiles': 1, 'jsFiles': 2, 'binBytes': 3117, 'textLines': 171, 'rustLines': 12, 'jsLines': 84, 'totalBytes': 11667, 'pctRustFiles': 12.5, 'pctJsFiles': 25.0, 'pctRustLines': 7.01, 'pctJsLines': 49.12, 'pctRustBytes': 5.14, 'pctJsBytes': 35.99, 'pctBinBytes': 26.71, 'pctTextBytes': 73.28}\n",
      "\n",
      "{'commit': '8f48f0ef4b75098ae38f1dadf65e8de534364090', 'Author': 'AquaRules <aquarules22@gmail.com>', 'Date': 'Wed Feb 9 16', 'fileTypes': {'rs': {'textLineCount': 30, 'binByteCount': 0, 'inserts': 22, 'deletes': 8, 'occurrences': 1}}, 'file': '1', 'insertions(+)': '22', 'deletions(-)\\n': '8'}\n",
      "{'commit': '8f48f0ef4b75098ae38f1dadf65e8de534364090', 'totalFiles': 1, 'binFiles': 0, 'textFiles': 1, 'rustFiles': 1, 'jsFiles': 0, 'binBytes': 0, 'textLines': 30, 'rustLines': 30, 'jsLines': 0, 'totalBytes': 1500, 'pctRustFiles': 100.0, 'pctJsFiles': 0, 'pctRustLines': 100.0, 'pctJsLines': 0, 'pctRustBytes': 100.0, 'pctJsBytes': 0, 'pctBinBytes': 0, 'pctTextBytes': 100.0}\n",
      "\n",
      "{'commit': 'ecfc0a31ca0ccf1064eb6d487b0bedfbce960a89', 'Author': 'AquaRules <aquarules22@gmail.com>', 'Date': 'Wed Feb 9 15', 'fileTypes': {'rs': {'textLineCount': 6, 'binByteCount': 0, 'inserts': 1, 'deletes': 5, 'occurrences': 1}}, 'file': '1', 'insertion(+)': '1', 'deletions(-)\\n': '5'}\n",
      "{'commit': 'ecfc0a31ca0ccf1064eb6d487b0bedfbce960a89', 'totalFiles': 1, 'binFiles': 0, 'textFiles': 1, 'rustFiles': 1, 'jsFiles': 0, 'binBytes': 0, 'textLines': 6, 'rustLines': 6, 'jsLines': 0, 'totalBytes': 300, 'pctRustFiles': 100.0, 'pctJsFiles': 0, 'pctRustLines': 100.0, 'pctJsLines': 0, 'pctRustBytes': 100.0, 'pctJsBytes': 0, 'pctBinBytes': 0, 'pctTextBytes': 100.0}\n",
      "\n",
      "{'commit': 'db0381b114925165b22a36b91f9774e67e28c648', 'Author': 'AquaRules <aquarules22@gmail.com>', 'Date': 'Wed Feb 9 15', 'fileTypes': {'rs': {'textLineCount': 13, 'binByteCount': 0, 'inserts': 6, 'deletes': 7, 'occurrences': 1}}, 'file': '1', 'insertions(+)': '6', 'deletions(-)\\n': '7'}\n",
      "{'commit': 'db0381b114925165b22a36b91f9774e67e28c648', 'totalFiles': 1, 'binFiles': 0, 'textFiles': 1, 'rustFiles': 1, 'jsFiles': 0, 'binBytes': 0, 'textLines': 13, 'rustLines': 13, 'jsLines': 0, 'totalBytes': 650, 'pctRustFiles': 100.0, 'pctJsFiles': 0, 'pctRustLines': 100.0, 'pctJsLines': 0, 'pctRustBytes': 100.0, 'pctJsBytes': 0, 'pctBinBytes': 0, 'pctTextBytes': 100.0}\n",
      "\n",
      "{'commit': 'af58e00ebc0d7e2caa7c236c691fad22326f332c', 'Author': 'AquaRules <aquarules22@gmail.com>', 'Date': 'Wed Feb 9 15', 'fileTypes': {'rs': {'textLineCount': 25, 'binByteCount': 0, 'inserts': 14, 'deletes': 11, 'occurrences': 1}}, 'file': '1', 'insertions(+)': '14', 'deletions(-)\\n': '11'}\n",
      "{'commit': 'af58e00ebc0d7e2caa7c236c691fad22326f332c', 'totalFiles': 1, 'binFiles': 0, 'textFiles': 1, 'rustFiles': 1, 'jsFiles': 0, 'binBytes': 0, 'textLines': 25, 'rustLines': 25, 'jsLines': 0, 'totalBytes': 1250, 'pctRustFiles': 100.0, 'pctJsFiles': 0, 'pctRustLines': 100.0, 'pctJsLines': 0, 'pctRustBytes': 100.0, 'pctJsBytes': 0, 'pctBinBytes': 0, 'pctTextBytes': 100.0}\n",
      "\n"
     ]
    }
   ],
   "source": [
    "all_stats = []\n",
    "commit_map = {}\n",
    "stat_map = {}\n",
    "\n",
    "for commit in rust_commits:\n",
    "    commit_id = commit['commit']\n",
    "    statDict = extract_stats(commit)\n",
    "    all_stats.append(statDict)\n",
    "    commit_map[commit_id] = commit\n",
    "    stat_map[commit_id] = statDict\n",
    "\n",
    "count = 0\n",
    "for commit_id in stat_map.keys():\n",
    "    count += 1\n",
    "    if count > 10: break\n",
    "    print(commit_map[commit_id])\n",
    "    print(stat_map[commit_id])\n",
    "    print()"
   ]
  }
 ],
 "metadata": {
  "kernelspec": {
   "display_name": "Python 3 (ipykernel)",
   "language": "python",
   "name": "python3"
  },
  "language_info": {
   "codemirror_mode": {
    "name": "ipython",
    "version": 3
   },
   "file_extension": ".py",
   "mimetype": "text/x-python",
   "name": "python",
   "nbconvert_exporter": "python",
   "pygments_lexer": "ipython3",
   "version": "3.8.10"
  }
 },
 "nbformat": 4,
 "nbformat_minor": 5
}
