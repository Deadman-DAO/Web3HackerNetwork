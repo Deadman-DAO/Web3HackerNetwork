{
 "cells": [
  {
   "cell_type": "code",
   "execution_count": 2,
   "id": "e6387bac-2903-466b-bf65-17a2f184d824",
   "metadata": {},
   "outputs": [],
   "source": [
    "root = '/home/bob/projects/Web3HackerNetwork'\n",
    "dataset_dir = root + \"/data/github/2022-04-07-marine-search\"\n",
    "stats_dir = dataset_dir + \"/projects\""
   ]
  },
  {
   "cell_type": "code",
   "execution_count": 7,
   "id": "a8e8cf3c-9dae-47d2-ae35-3b2bafdd7c46",
   "metadata": {},
   "outputs": [],
   "source": [
    "import os\n",
    "def find_all(name, path):\n",
    "    result = []\n",
    "    for root, dirs, files in os.walk(path):\n",
    "        if name in files:\n",
    "            result.append(os.path.join(root, name))\n",
    "    return result"
   ]
  },
  {
   "cell_type": "code",
   "execution_count": 10,
   "id": "e987547e-0ca8-48d3-a6be-4f8e184801bf",
   "metadata": {},
   "outputs": [],
   "source": [
    "commit_files = find_all('commit-stat.log.json', stats_dir)"
   ]
  },
  {
   "cell_type": "code",
   "execution_count": 16,
   "id": "f8dd1bca-ea64-423c-bec5-8df18dc64547",
   "metadata": {},
   "outputs": [
    {
     "name": "stdout",
     "output_type": "stream",
     "text": [
      "{'commit': 'fb528905fb6448e2b502f7de8fba877a2a995f6d', 'Author': 'tchataigner <tom.chataigner@yahoo.fr>', 'Date': 'Sun Aug 15 20', 'fileTypes': {'js': {'textLineCount': 26, 'binByteCount': 0, 'inserts': 17, 'deletes': 9, 'occurrences': 2}}, 'files': '2', 'insertions(+)': '17', 'deletions(-)\\n': '9'}\n"
     ]
    }
   ],
   "source": [
    "import json\n",
    "\n",
    "all_logs = []\n",
    "for file in commit_files:\n",
    "    in_stats = json.loads(open(file, 'r').read());\n",
    "    all_logs.append(in_stats)\n",
    "print(all_logs[0][0])"
   ]
  },
  {
   "cell_type": "code",
   "execution_count": 37,
   "id": "518e54d1-bea9-450e-be82-ef47edf4be57",
   "metadata": {},
   "outputs": [
    {
     "name": "stdout",
     "output_type": "stream",
     "text": [
      "js:{'textLineCount': 100, 'binByteCount': 0, 'inserts': 23, 'deletes': 14, 'occurrences': 4}\n",
      "bb7763dfeb88478c1fcf3e6fb75f8d1929a83255\n",
      "json:{'textLineCount': 1, 'binByteCount': 0, 'inserts': 1, 'deletes': 0, 'occurrences': 1}\n",
      "js:{'textLineCount': 15, 'binByteCount': 0, 'inserts': 15, 'deletes': 0, 'occurrences': 1}\n",
      "bea9e10f6914407a02c0b621bf44063ebff28f5b\n",
      "md:{'textLineCount': 18, 'binByteCount': 0, 'inserts': 18, 'deletes': 0, 'occurrences': 1}\n",
      "ipldsch:{'textLineCount': 45, 'binByteCount': 0, 'inserts': 45, 'deletes': 0, 'occurrences': 1}\n",
      "a7cd974e5d3bd1f61487b21cfa08d270ba264c43\n",
      "wasm:{'textLineCount': 0, 'binByteCount': -82934, 'inserts': 0, 'deletes': 0, 'occurrences': 1}\n",
      "0ff72cb3f28b0f60c3b8c23b00f85f4fee68193b\n",
      "js:{'textLineCount': 2657, 'binByteCount': 0, 'inserts': 0, 'deletes': 104, 'occurrences': 8}\n",
      "b0f14ccc7bda203058f5e2c9c54e4ccc9817ea8d\n",
      "json:{'textLineCount': 1, 'binByteCount': 0, 'inserts': 1, 'deletes': 0, 'occurrences': 1}\n",
      "js:{'textLineCount': 44, 'binByteCount': 0, 'inserts': 18, 'deletes': 13, 'occurrences': 1}\n",
      "846b0e19ebb47e627c511223570b2c26226a7dda\n",
      "js:{'textLineCount': 2, 'binByteCount': 0, 'inserts': 1, 'deletes': 1, 'occurrences': 1}\n",
      "4591a0ef8343b3ddd4e97d36618a7b20206093e0\n",
      "js:{'textLineCount': 3, 'binByteCount': 0, 'inserts': 2, 'deletes': 1, 'occurrences': 1}\n",
      "84887c51e303aa8b656cc41bb9e930abf3550fe3\n",
      "md:{'textLineCount': 26, 'binByteCount': 0, 'inserts': 15, 'deletes': 0, 'occurrences': 1}\n"
     ]
    }
   ],
   "source": [
    "lines = []\n",
    "\n",
    "for log in all_logs:\n",
    "    lines.append(\"\\n\")\n",
    "    for commit in log:\n",
    "        lines.append(str(commit['commit']))\n",
    "        #print(commit['fileTypes'])\n",
    "        for ft in commit['fileTypes']:\n",
    "            lines.append(ft + ':' + str(commit['fileTypes'][ft]))\n",
    "for line in lines[slice(20,40)]:\n",
    "    print(line)"
   ]
  }
 ],
 "metadata": {
  "kernelspec": {
   "display_name": "Python 3 (ipykernel)",
   "language": "python",
   "name": "python3"
  },
  "language_info": {
   "codemirror_mode": {
    "name": "ipython",
    "version": 3
   },
   "file_extension": ".py",
   "mimetype": "text/x-python",
   "name": "python",
   "nbconvert_exporter": "python",
   "pygments_lexer": "ipython3",
   "version": "3.8.10"
  }
 },
 "nbformat": 4,
 "nbformat_minor": 5
}
