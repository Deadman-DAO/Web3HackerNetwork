{
 "cells": [
  {
   "cell_type": "markdown",
   "id": "637ae421-cf52-4108-9d12-68f2385f3196",
   "metadata": {},
   "source": [
    "### set the base params"
   ]
  },
  {
   "cell_type": "code",
   "execution_count": 1,
   "id": "e6387bac-2903-466b-bf65-17a2f184d824",
   "metadata": {},
   "outputs": [],
   "source": [
    "root = '/home/bob/projects/Web3HackerNetwork'\n",
    "dataset_dir = root + \"/data/github/2022-04-07-marine-search\"\n",
    "stats_dir = dataset_dir + \"/projects\""
   ]
  },
  {
   "cell_type": "markdown",
   "id": "eb6fa584-71d1-4a76-8284-faef96dd17a2",
   "metadata": {},
   "source": [
    "### define a method that finds all files with the same name"
   ]
  },
  {
   "cell_type": "code",
   "execution_count": 2,
   "id": "a8e8cf3c-9dae-47d2-ae35-3b2bafdd7c46",
   "metadata": {},
   "outputs": [],
   "source": [
    "import os\n",
    "def find_all(name, path):\n",
    "    result = []\n",
    "    for root, dirs, files in os.walk(path):\n",
    "        if name in files:\n",
    "            result.append(os.path.join(root, name))\n",
    "    return result"
   ]
  },
  {
   "cell_type": "markdown",
   "id": "b4359fab-f784-465e-abe9-35d643509e0f",
   "metadata": {},
   "source": [
    "### find all the commit stat JSON files"
   ]
  },
  {
   "cell_type": "code",
   "execution_count": 3,
   "id": "e987547e-0ca8-48d3-a6be-4f8e184801bf",
   "metadata": {},
   "outputs": [],
   "source": [
    "commit_files = find_all('commit-stat.log.json', stats_dir)"
   ]
  },
  {
   "cell_type": "markdown",
   "id": "2303dea7-4d98-4bb9-b298-c1e5f39f7669",
   "metadata": {},
   "source": [
    "### load all the files"
   ]
  },
  {
   "cell_type": "code",
   "execution_count": 4,
   "id": "f8dd1bca-ea64-423c-bec5-8df18dc64547",
   "metadata": {},
   "outputs": [
    {
     "name": "stdout",
     "output_type": "stream",
     "text": [
      "{'commit': 'fb528905fb6448e2b502f7de8fba877a2a995f6d', 'Author': 'tchataigner <tom.chataigner@yahoo.fr>', 'Date': 'Sun Aug 15 20', 'fileTypes': {'js': {'textLineCount': 26, 'binByteCount': 0, 'inserts': 17, 'deletes': 9, 'occurrences': 2}}, 'files': '2', 'insertions(+)': '17', 'deletions(-)\\n': '9'}\n"
     ]
    }
   ],
   "source": [
    "import json\n",
    "\n",
    "all_logs = []\n",
    "for file in commit_files:\n",
    "    in_stats = json.loads(open(file, 'r').read());\n",
    "    all_logs.append(in_stats)\n",
    "print(all_logs[0][0])"
   ]
  },
  {
   "cell_type": "code",
   "execution_count": 5,
   "id": "518e54d1-bea9-450e-be82-ef47edf4be57",
   "metadata": {},
   "outputs": [],
   "source": [
    "js_commits = []\n",
    "rust_commits = []\n",
    "all_commits = []\n",
    "\n",
    "js_types = ['js', 'jsx', 'ts', 'tsx']\n",
    "rust_types = ['rs', 'toml']\n",
    "\n",
    "for log in all_logs:\n",
    "    #lines.append(\"\\n\")\n",
    "    for commit in log:\n",
    "        #lines.append(str(commit['commit']))\n",
    "        #print(commit['fileTypes'])\n",
    "        for ft in commit['fileTypes']:\n",
    "            all_commits.append(commit)\n",
    "            if ft in js_types:\n",
    "                js_commits.append(commit)\n",
    "            elif ft in rust_types:\n",
    "                rust_commits.append(commit)\n"
   ]
  },
  {
   "cell_type": "markdown",
   "id": "8d81b0e6-271a-4e38-9351-dc54ec8eac80",
   "metadata": {},
   "source": [
    "### method to extract statistics from the commit data"
   ]
  },
  {
   "cell_type": "code",
   "execution_count": 68,
   "id": "0555de93-9119-4c53-b3aa-18a1abf0c99b",
   "metadata": {},
   "outputs": [],
   "source": [
    "js_types = ['js', 'jsx', 'ts', 'tsx']\n",
    "rust_types = ['rs', 'toml']\n",
    "chars_per_text_line = 30 # just a heuristic for approximating relative weight\n",
    "\n",
    "def percent(numerator, denominator):\n",
    "    if (numerator == 0): return 0\n",
    "    truncated = int(100 * 100 * numerator / denominator)\n",
    "    return truncated / 100\n",
    "\n",
    "def extract_stats(commit):\n",
    "    if 'files' in commit:\n",
    "        num_files = commit['files']\n",
    "    else:\n",
    "        num_files = commit['file']\n",
    "    typeDict = commit['fileTypes']\n",
    "    typeArray = [{'fileType': key, 'stats': typeDict[key]} for key in typeDict.keys()]\n",
    "    textTypeArray = [typeEntry for typeEntry in typeArray if typeEntry['stats']['textLineCount'] > 0]\n",
    "    binTypeArray = [typeEntry for typeEntry in typeArray if typeEntry['stats']['binByteCount'] > 0]\n",
    "    jsTypeArray = [typeEntry for typeEntry in typeArray if typeEntry['fileType'] in js_types]\n",
    "    rsTypeArray = [typeEntry for typeEntry in typeArray if typeEntry['fileType'] in rust_types]\n",
    "    \n",
    "    statDict = {}\n",
    "    statDict['commit'] = commit['commit']\n",
    "    \n",
    "    statDict['totalFiles'] = int(num_files)\n",
    "    statDict['binFiles'] = sum([typeEntry['stats']['occurrences'] for typeEntry in binTypeArray])\n",
    "    statDict['textFiles'] = sum([typeEntry['stats']['occurrences'] for typeEntry in textTypeArray])\n",
    "    \n",
    "    statDict['binBytes'] = sum([typeEntry['stats']['binByteCount'] for typeEntry in binTypeArray])\n",
    "    statDict['textLines'] = sum([typeEntry['stats']['textLineCount'] for typeEntry in textTypeArray])\n",
    "    \n",
    "    statDict['totalBytes'] = statDict['textLines'] * chars_per_text_line + statDict['binBytes']\n",
    "    statDict['pctBinBytes'] = percent(statDict['binBytes'], statDict['totalBytes'])\n",
    "    statDict['pctTextBytes'] = percent(statDict['textLines'] * chars_per_text_line, statDict['totalBytes'])\n",
    "    \n",
    "    statDict['jsFiles'] = sum([typeEntry['stats']['occurrences'] for typeEntry in jsTypeArray])\n",
    "    statDict['jsLines'] = sum([typeEntry['stats']['textLineCount'] for typeEntry in jsTypeArray])\n",
    "    statDict['pctJsFiles'] = percent(statDict['jsFiles'], statDict['totalFiles'])\n",
    "    statDict['pctJsLines'] = percent(statDict['jsLines'], statDict['textLines'])\n",
    "    statDict['pctJsBytes'] = percent(statDict['jsLines'] * chars_per_text_line, statDict['totalBytes'])\n",
    "    \n",
    "    statDict['rustFiles'] = sum([typeEntry['stats']['occurrences'] for typeEntry in rsTypeArray])\n",
    "    statDict['rustLines'] = sum([typeEntry['stats']['textLineCount'] for typeEntry in rsTypeArray])\n",
    "    statDict['pctRustFiles'] = percent(statDict['rustFiles'], statDict['totalFiles'])\n",
    "    statDict['pctRustLines'] = percent(statDict['rustLines'], statDict['textLines'])\n",
    "    statDict['pctRustBytes'] = percent(statDict['rustLines'] * chars_per_text_line, statDict['totalBytes'])\n",
    "    \n",
    "    return statDict"
   ]
  },
  {
   "cell_type": "code",
   "execution_count": 75,
   "id": "9c658ed4-5c0e-4075-a6dd-bf2892ab3b50",
   "metadata": {},
   "outputs": [
    {
     "name": "stdout",
     "output_type": "stream",
     "text": [
      "{'pctRustFiles': 0, 'pctJsFiles': 100.0, 'pctRustLines': 0, 'pctJsLines': 100.0, 'pctRustBytes': 0, 'pctJsBytes': 100.0, 'pctBinBytes': 0, 'pctTextBytes': 100.0}\n",
      "{'pctRustFiles': 0, 'pctJsFiles': 0, 'pctRustLines': 0, 'pctJsLines': 0, 'pctRustBytes': 0, 'pctJsBytes': 0, 'pctBinBytes': 0, 'pctTextBytes': 100.0}\n",
      "{'pctRustFiles': 0, 'pctJsFiles': 0, 'pctRustLines': 0, 'pctJsLines': 0, 'pctRustBytes': 0, 'pctJsBytes': 0, 'pctBinBytes': 0, 'pctTextBytes': 100.0}\n",
      "{'pctRustFiles': 0, 'pctJsFiles': 0, 'pctRustLines': 0, 'pctJsLines': 0, 'pctRustBytes': 0, 'pctJsBytes': 0, 'pctBinBytes': 0, 'pctTextBytes': 100.0}\n",
      "{'pctRustFiles': 0, 'pctJsFiles': 0, 'pctRustLines': 0, 'pctJsLines': 0, 'pctRustBytes': 0, 'pctJsBytes': 0, 'pctBinBytes': 0, 'pctTextBytes': 100.0}\n",
      "{'pctRustFiles': 0, 'pctJsFiles': 100.0, 'pctRustLines': 0, 'pctJsLines': 100.0, 'pctRustBytes': 0, 'pctJsBytes': 100.0, 'pctBinBytes': 0, 'pctTextBytes': 100.0}\n",
      "{'pctRustFiles': 0, 'pctJsFiles': 0, 'pctRustLines': 0, 'pctJsLines': 0, 'pctRustBytes': 0, 'pctJsBytes': 0, 'pctBinBytes': 0, 'pctTextBytes': 100.0}\n",
      "{'pctRustFiles': 0, 'pctJsFiles': 100.0, 'pctRustLines': 0, 'pctJsLines': 100.0, 'pctRustBytes': 0, 'pctJsBytes': 100.0, 'pctBinBytes': 0, 'pctTextBytes': 100.0}\n",
      "{'pctRustFiles': 0, 'pctJsFiles': 80.0, 'pctRustLines': 0, 'pctJsLines': 100.0, 'pctRustBytes': 0, 'pctJsBytes': 3.48, 'pctBinBytes': 96.51, 'pctTextBytes': 3.48}\n",
      "{'pctRustFiles': 0, 'pctJsFiles': 50.0, 'pctRustLines': 0, 'pctJsLines': 93.75, 'pctRustBytes': 0, 'pctJsBytes': 93.75, 'pctBinBytes': 0, 'pctTextBytes': 100.0}\n"
     ]
    }
   ],
   "source": [
    "all_stats = []\n",
    "commit_map = {}\n",
    "stat_map = {}\n",
    "\n",
    "for commit in all_commits:\n",
    "    commit_id = commit['commit']\n",
    "    statDict = extract_stats(commit)\n",
    "    all_stats.append(statDict)\n",
    "    commit_map[commit_id] = commit\n",
    "    stat_map[commit_id] = statDict\n",
    "\n",
    "feature_stat_keys = [\n",
    "    'pctRustFiles', 'pctJsFiles',\n",
    "    'pctRustLines', 'pctJsLines',\n",
    "    'pctRustBytes', 'pctJsBytes',\n",
    "    'pctBinBytes', 'pctTextBytes'\n",
    "]\n",
    "\n",
    "feature_stat_map = {}\n",
    "all_feature_stats = []\n",
    "for commit_id in stat_map.keys():\n",
    "    feature_stats = {}\n",
    "    feature_stat_map[commit_id] = feature_stats\n",
    "    for stat_key in feature_stat_keys:\n",
    "        feature_stats[stat_key] = stat_map[commit_id][stat_key]\n",
    "    all_feature_stats.append(feature_stats)\n",
    "\n",
    "count = 0\n",
    "for commit_id in stat_map.keys():\n",
    "    count += 1\n",
    "    if count > 10: break\n",
    "    # print(commit_map[commit_id])\n",
    "    # print(stat_map[commit_id])\n",
    "    print(feature_stat_map[commit_id])\n",
    "    # print()\n"
   ]
  },
  {
   "cell_type": "code",
   "execution_count": 77,
   "id": "e7f32ed5-863f-41bc-83d9-5700cae6d225",
   "metadata": {},
   "outputs": [
    {
     "data": {
      "image/png": "[encoded data removed]",
      "text/plain": [
       "<Figure size 432x288 with 1 Axes>"
      ]
     },
     "metadata": {
      "needs_background": "light"
     },
     "output_type": "display_data"
    }
   ],
   "source": [
    "import matplotlib.pyplot as plt\n",
    "import numpy as np\n",
    "\n",
    "pct_rust_array = [stats['pctRustBytes'] for stats in all_stats]\n",
    "pct_js_array = [stats['pctJsBytes'] for stats in all_stats]\n",
    "xpoints = np.array(pct_rust_array)\n",
    "ypoints = np.array(pct_js_array)\n",
    "\n",
    "plt.scatter(xpoints, ypoints)\n",
    "plt.show()"
   ]
  },
  {
   "cell_type": "markdown",
   "id": "f26b2e5c-7ab9-4034-8693-c0832f8a6ce2",
   "metadata": {},
   "source": [
    "### scatterplot of Rust % versus Javascript % in each commit\n",
    "Conclusion: very few commits have a blend of Javascript and Rust"
   ]
  },
  {
   "cell_type": "code",
   "execution_count": 76,
   "id": "fa81bc22-d9a1-4555-bc13-311b75b14db3",
   "metadata": {},
   "outputs": [
    {
     "data": {
      "image/png": "[encoded data removed]",
      "text/plain": [
       "<Figure size 432x288 with 1 Axes>"
      ]
     },
     "metadata": {
      "needs_background": "light"
     },
     "output_type": "display_data"
    }
   ],
   "source": [
    "import matplotlib.pyplot as plt\n",
    "import numpy as np\n",
    "pct_rust_array = [stats['pctRustBytes'] for stats in all_stats]\n",
    "pct_js_array = [stats['pctJsBytes'] for stats in all_stats]\n",
    "plt.hist([np.array(pct_rust_array), np.array(pct_js_array)], 10)\n",
    "plt.show()"
   ]
  },
  {
   "cell_type": "markdown",
   "id": "a2eae998-6e3d-4c9d-9027-7f35acb373fd",
   "metadata": {},
   "source": [
    "### histogram of commit focus\n",
    "* what percentage of a commit is Rust? (blue)\n",
    "* what percentage of a commit is Javascript? (orange)\n",
    "\n",
    "Conclusion: Most commits are 100% Rust, 100% Javascript, or 0% of Either.\n",
    "\n",
    "Note: change bin count (the \"10\" parameter above) to 100 to see that the concentration is really at the extreme endpoints"
   ]
  },
  {
   "cell_type": "markdown",
   "id": "846c9e03-59a0-40c3-bdc0-eb27467b171c",
   "metadata": {},
   "source": [
    "## Looking for 'Normal' Commits\n",
    "What would a normal commit look like? It would have more than X lines of text and few or no binary files."
   ]
  },
  {
   "cell_type": "code",
   "execution_count": 93,
   "id": "cbac405e-73f6-42ac-8a81-b6e54fab99a0",
   "metadata": {},
   "outputs": [
    {
     "data": {
      "image/png": "[encoded data removed]",
      "text/plain": [
       "<Figure size 432x288 with 1 Axes>"
      ]
     },
     "metadata": {
      "needs_background": "light"
     },
     "output_type": "display_data"
    }
   ],
   "source": [
    "import matplotlib.pyplot as plt\n",
    "import numpy as np\n",
    "\n",
    "stats_set = [stats for stats in all_stats\n",
    "                if stats['binFiles'] == 0\n",
    "                and stats['textLines'] > 5\n",
    "                and stats['pctJsBytes'] > 10]\n",
    "\n",
    "pct_rust_array = [stats['pctRustBytes'] for stats in stats_set]\n",
    "pct_js_array = [stats['pctJsBytes'] for stats in stats_set]\n",
    "\n",
    "plt.hist([np.array(pct_rust_array), np.array(pct_js_array)], 25)\n",
    "plt.show()"
   ]
  },
  {
   "cell_type": "code",
   "execution_count": 120,
   "id": "b131f6f8-917e-4eed-b0b3-c424ca3f9002",
   "metadata": {},
   "outputs": [
    {
     "data": {
      "image/png": "[encoded data removed]",
      "text/plain": [
       "<Figure size 432x288 with 1 Axes>"
      ]
     },
     "metadata": {
      "needs_background": "light"
     },
     "output_type": "display_data"
    }
   ],
   "source": [
    "import matplotlib.pyplot as plt\n",
    "import numpy as np\n",
    "\n",
    "stats_set = [stats for stats in all_stats\n",
    "             if stats['binFiles'] == 0\n",
    "             and stats['textLines'] > 10\n",
    "             and stats['pctRustBytes'] > 20\n",
    "             and stats['pctRustBytes'] < 80\n",
    "            ]\n",
    "\n",
    "pct_rust_array = [stats['pctRustBytes'] for stats in stats_set]\n",
    "pct_js_array = [stats['pctJsBytes'] for stats in stats_set]\n",
    "\n",
    "plt.hist([np.array(pct_rust_array), np.array(pct_js_array)], 2)\n",
    "plt.show()"
   ]
  },
  {
   "cell_type": "code",
   "execution_count": 91,
   "id": "8b3ff5d5-486a-49c7-b9ea-8f5fcf12d430",
   "metadata": {},
   "outputs": [
    {
     "data": {
      "image/png": "[encoded data removed]",
      "text/plain": [
       "<Figure size 432x288 with 1 Axes>"
      ]
     },
     "metadata": {
      "needs_background": "light"
     },
     "output_type": "display_data"
    }
   ],
   "source": [
    "import matplotlib.pyplot as plt\n",
    "import numpy as np\n",
    "\n",
    "stats_set = [stats for stats in all_stats\n",
    "                if stats['binFiles'] == 0\n",
    "                and stats['textLines'] > 5\n",
    "                and (stats['pctRustBytes'] > 1 or stats['pctJsBytes'] > 1)]\n",
    "\n",
    "pct_rust_array = [stats['pctRustBytes'] for stats in stats_set]\n",
    "pct_js_array = [stats['pctJsBytes'] for stats in stats_set]\n",
    "\n",
    "plt.hist([np.array(pct_rust_array), np.array(pct_js_array)], 25)\n",
    "plt.show()"
   ]
  }
 ],
 "metadata": {
  "kernelspec": {
   "display_name": "Python 3 (ipykernel)",
   "language": "python",
   "name": "python3"
  },
  "language_info": {
   "codemirror_mode": {
    "name": "ipython",
    "version": 3
   },
   "file_extension": ".py",
   "mimetype": "text/x-python",
   "name": "python",
   "nbconvert_exporter": "python",
   "pygments_lexer": "ipython3",
   "version": "3.8.10"
  }
 },
 "nbformat": 4,
 "nbformat_minor": 5
}
