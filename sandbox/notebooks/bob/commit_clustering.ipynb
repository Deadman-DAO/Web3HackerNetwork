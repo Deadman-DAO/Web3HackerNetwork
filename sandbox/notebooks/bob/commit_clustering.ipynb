{
 "cells": [
  {
   "cell_type": "markdown",
   "id": "637ae421-cf52-4108-9d12-68f2385f3196",
   "metadata": {},
   "source": [
    "### set the base params"
   ]
  },
  {
   "cell_type": "code",
   "execution_count": 2,
   "id": "e6387bac-2903-466b-bf65-17a2f184d824",
   "metadata": {},
   "outputs": [],
   "source": [
    "root = '/home/bob/projects/Web3HackerNetwork'\n",
    "dataset_dir = root + \"/data/github/2022-04-07-marine-search\"\n",
    "stats_dir = dataset_dir + \"/projects\""
   ]
  },
  {
   "cell_type": "markdown",
   "id": "eb6fa584-71d1-4a76-8284-faef96dd17a2",
   "metadata": {},
   "source": [
    "### define a method that finds all files with the same name"
   ]
  },
  {
   "cell_type": "code",
   "execution_count": 7,
   "id": "a8e8cf3c-9dae-47d2-ae35-3b2bafdd7c46",
   "metadata": {},
   "outputs": [],
   "source": [
    "import os\n",
    "def find_all(name, path):\n",
    "    result = []\n",
    "    for root, dirs, files in os.walk(path):\n",
    "        if name in files:\n",
    "            result.append(os.path.join(root, name))\n",
    "    return result"
   ]
  },
  {
   "cell_type": "markdown",
   "id": "b4359fab-f784-465e-abe9-35d643509e0f",
   "metadata": {},
   "source": [
    "### find all the commi stat JSON files"
   ]
  },
  {
   "cell_type": "code",
   "execution_count": 10,
   "id": "e987547e-0ca8-48d3-a6be-4f8e184801bf",
   "metadata": {},
   "outputs": [],
   "source": [
    "commit_files = find_all('commit-stat.log.json', stats_dir)"
   ]
  },
  {
   "cell_type": "markdown",
   "id": "2303dea7-4d98-4bb9-b298-c1e5f39f7669",
   "metadata": {},
   "source": [
    "### load all the files"
   ]
  },
  {
   "cell_type": "code",
   "execution_count": 16,
   "id": "f8dd1bca-ea64-423c-bec5-8df18dc64547",
   "metadata": {},
   "outputs": [
    {
     "name": "stdout",
     "output_type": "stream",
     "text": [
      "{'commit': 'fb528905fb6448e2b502f7de8fba877a2a995f6d', 'Author': 'tchataigner <tom.chataigner@yahoo.fr>', 'Date': 'Sun Aug 15 20', 'fileTypes': {'js': {'textLineCount': 26, 'binByteCount': 0, 'inserts': 17, 'deletes': 9, 'occurrences': 2}}, 'files': '2', 'insertions(+)': '17', 'deletions(-)\\n': '9'}\n"
     ]
    }
   ],
   "source": [
    "import json\n",
    "\n",
    "all_logs = []\n",
    "for file in commit_files:\n",
    "    in_stats = json.loads(open(file, 'r').read());\n",
    "    all_logs.append(in_stats)\n",
    "print(all_logs[0][0])"
   ]
  },
  {
   "cell_type": "code",
   "execution_count": 43,
   "id": "518e54d1-bea9-450e-be82-ef47edf4be57",
   "metadata": {},
   "outputs": [],
   "source": [
    "js_commits = []\n",
    "\n",
    "for log in all_logs:\n",
    "    #lines.append(\"\\n\")\n",
    "    for commit in log:\n",
    "        #lines.append(str(commit['commit']))\n",
    "        #print(commit['fileTypes'])\n",
    "        for ft in commit['fileTypes']:\n",
    "            if ft == 'js':\n",
    "                js_commits.append(commit)"
   ]
  },
  {
   "cell_type": "markdown",
   "id": "8d81b0e6-271a-4e38-9351-dc54ec8eac80",
   "metadata": {},
   "source": [
    "### method to extract statistics from the commit data"
   ]
  },
  {
   "cell_type": "code",
   "execution_count": 77,
   "id": "0555de93-9119-4c53-b3aa-18a1abf0c99b",
   "metadata": {},
   "outputs": [],
   "source": [
    "def extract_stats(commit):\n",
    "    if 'files' in commit:\n",
    "        num_files = commit['files']\n",
    "    else:\n",
    "        num_files = commit['file']\n",
    "    print(num_files)\n",
    "    typeDict = commit['fileTypes']\n",
    "    # for x in (y for y in items if y > 10):\n",
    "    typeArray = [{'fileType': key, 'stats': typeDict[key]} for key in typeDict.keys()]\n",
    "    textTypeArray = [typeEntry for typeEntry in typeArray if typeEntry['stats']['textLineCount'] > 0]\n",
    "    binTypeArray = [typeEntry for typeEntry in typeArray if typeEntry['stats']['binByteCount'] > 0]\n",
    "    textLineCounts = [typeEntry['stats']['textLineCount'] for typeEntry in textTypeArray]\n",
    "    binByteCounts = [typeEntry['stats']['binByteCount'] for typeEntry in binTypeArray]\n",
    "    numTextFiles = sum([typeEntry['stats']['occurrences'] for typeEntry in textTypeArray])\n",
    "    numBinFiles = sum([typeEntry['stats']['occurrences'] for typeEntry in binTypeArray])\n",
    "    print(\"total text lines: \" + str(sum(textLineCounts)))\n",
    "    print(\"total bin bytes: \" + str(sum(binByteCounts)))\n",
    "    print(\"num text files: \" + str(numTextFiles))\n",
    "    print(\"num bin files: \" + str(numBinFiles))\n",
    "    # fileType['textLineCount'] for fileType in commit['fileTypes']]"
   ]
  },
  {
   "cell_type": "code",
   "execution_count": 78,
   "id": "9c658ed4-5c0e-4075-a6dd-bf2892ab3b50",
   "metadata": {},
   "outputs": [
    {
     "name": "stdout",
     "output_type": "stream",
     "text": [
      "{'commit': 'fb528905fb6448e2b502f7de8fba877a2a995f6d', 'Author': 'tchataigner <tom.chataigner@yahoo.fr>', 'Date': 'Sun Aug 15 20', 'fileTypes': {'js': {'textLineCount': 26, 'binByteCount': 0, 'inserts': 17, 'deletes': 9, 'occurrences': 2}}, 'files': '2', 'insertions(+)': '17', 'deletions(-)\\n': '9'}\n",
      "2\n",
      "total text lines: 26\n",
      "total bin bytes: 0\n",
      "num text files: 2\n",
      "num bin files: 0\n",
      "{'commit': '31ff2b9db37691a15a89a0c324c89f3a30cf403a', 'Author': 'tchataigner <tom.chataigner@yahoo.fr>', 'Date': 'Sun Aug 15 17', 'fileTypes': {'js': {'textLineCount': 4, 'binByteCount': 0, 'inserts': 2, 'deletes': 2, 'occurrences': 1}}, 'file': '1', 'insertions(+)': '2', 'deletions(-)\\n': '2'}\n",
      "1\n",
      "total text lines: 4\n",
      "total bin bytes: 0\n",
      "num text files: 1\n",
      "num bin files: 0\n",
      "{'commit': '6d8a792f9d98776ce2b54bd3664859c48517ce3e', 'Author': 'tchataigner <tom.chataigner@yahoo.fr>', 'Date': 'Sun Aug 15 17', 'fileTypes': {'js': {'textLineCount': 19, 'binByteCount': 0, 'inserts': 13, 'deletes': 6, 'occurrences': 4}}, 'files': '4', 'insertions(+)': '13', 'deletions(-)\\n': '6'}\n",
      "4\n",
      "total text lines: 19\n",
      "total bin bytes: 0\n",
      "num text files: 4\n",
      "num bin files: 0\n",
      "{'commit': 'e39adb589645e71c3fb975f69be3bca76a53f794', 'Author': 'tchataigner <tom.chataigner@yahoo.fr>', 'Date': 'Sun Aug 15 16', 'fileTypes': {'wasm': {'textLineCount': 0, 'binByteCount': 82988, 'inserts': 0, 'deletes': 0, 'occurrences': 1}, 'js': {'textLineCount': 100, 'binByteCount': 0, 'inserts': 23, 'deletes': 14, 'occurrences': 4}}, 'files': '5', 'insertions(+)': '66', 'deletions(-)\\n': '34'}\n",
      "5\n",
      "total text lines: 100\n",
      "total bin bytes: 82988\n",
      "num text files: 4\n",
      "num bin files: 1\n",
      "{'commit': 'bb7763dfeb88478c1fcf3e6fb75f8d1929a83255', 'Author': 'PhilippeMts <phi.metais@gmail.com>', 'Date': 'Sun Aug 15 16', 'fileTypes': {'json': {'textLineCount': 1, 'binByteCount': 0, 'inserts': 1, 'deletes': 0, 'occurrences': 1}, 'js': {'textLineCount': 15, 'binByteCount': 0, 'inserts': 15, 'deletes': 0, 'occurrences': 1}}, 'files': '2', 'insertions(+)\\n': '16'}\n",
      "2\n",
      "total text lines: 16\n",
      "total bin bytes: 0\n",
      "num text files: 2\n",
      "num bin files: 0\n",
      "{'commit': '0ff72cb3f28b0f60c3b8c23b00f85f4fee68193b', 'Author': 'tchataigner <tom.chataigner@yahoo.fr>', 'Date': 'Sun Aug 15 14', 'fileTypes': {'js': {'textLineCount': 2657, 'binByteCount': 0, 'inserts': 0, 'deletes': 104, 'occurrences': 8}}, 'files': '8', 'deletions(-)\\n': '2657'}\n",
      "8\n",
      "total text lines: 2657\n",
      "total bin bytes: 0\n",
      "num text files: 8\n",
      "num bin files: 0\n",
      "{'commit': 'b0f14ccc7bda203058f5e2c9c54e4ccc9817ea8d', 'Author': 'PhilippeMts <phi.metais@gmail.com>', 'Date': 'Sun Aug 15 14', 'fileTypes': {'json': {'textLineCount': 1, 'binByteCount': 0, 'inserts': 1, 'deletes': 0, 'occurrences': 1}, 'js': {'textLineCount': 44, 'binByteCount': 0, 'inserts': 18, 'deletes': 13, 'occurrences': 1}}, 'files': '2', 'insertions(+)': '27', 'deletions(-)\\n': '18'}\n",
      "2\n",
      "total text lines: 45\n",
      "total bin bytes: 0\n",
      "num text files: 2\n",
      "num bin files: 0\n",
      "{'commit': '846b0e19ebb47e627c511223570b2c26226a7dda', 'Author': 'tchataigner <tom.chataigner@yahoo.fr>', 'Date': 'Sun Aug 15 14', 'fileTypes': {'js': {'textLineCount': 2, 'binByteCount': 0, 'inserts': 1, 'deletes': 1, 'occurrences': 1}}, 'file': '1', 'insertion(+)': '1', 'deletion(-)\\n': '1'}\n",
      "1\n",
      "total text lines: 2\n",
      "total bin bytes: 0\n",
      "num text files: 1\n",
      "num bin files: 0\n",
      "{'commit': '4591a0ef8343b3ddd4e97d36618a7b20206093e0', 'Author': 'PhilippeMts <phi.metais@gmail.com>', 'Date': 'Sun Aug 15 13', 'fileTypes': {'js': {'textLineCount': 3, 'binByteCount': 0, 'inserts': 2, 'deletes': 1, 'occurrences': 1}}, 'file': '1', 'insertions(+)': '2', 'deletion(-)\\n': '1'}\n",
      "1\n",
      "total text lines: 3\n",
      "total bin bytes: 0\n",
      "num text files: 1\n",
      "num bin files: 0\n",
      "{'commit': '84887c51e303aa8b656cc41bb9e930abf3550fe3', 'Author': 'PhilippeMts <phi.metais@gmail.com>', 'Date': 'Sun Aug 15 13', 'fileTypes': {'md': {'textLineCount': 26, 'binByteCount': 0, 'inserts': 15, 'deletes': 0, 'occurrences': 1}, 'json': {'textLineCount': 3, 'binByteCount': 0, 'inserts': 2, 'deletes': 0, 'occurrences': 1}, 'js': {'textLineCount': 118, 'binByteCount': 0, 'inserts': 52, 'deletes': 18, 'occurrences': 5}}, 'files': '7', 'insertions(+)': '117', 'deletions(-)\\n': '30'}\n",
      "7\n",
      "total text lines: 147\n",
      "total bin bytes: 0\n",
      "num text files: 7\n",
      "num bin files: 0\n"
     ]
    }
   ],
   "source": [
    "for commit in js_commits[slice(10)]:\n",
    "    print(commit)\n",
    "    extract_stats(commit)"
   ]
  }
 ],
 "metadata": {
  "kernelspec": {
   "display_name": "Python 3 (ipykernel)",
   "language": "python",
   "name": "python3"
  },
  "language_info": {
   "codemirror_mode": {
    "name": "ipython",
    "version": 3
   },
   "file_extension": ".py",
   "mimetype": "text/x-python",
   "name": "python",
   "nbconvert_exporter": "python",
   "pygments_lexer": "ipython3",
   "version": "3.8.10"
  }
 },
 "nbformat": 4,
 "nbformat_minor": 5
}
