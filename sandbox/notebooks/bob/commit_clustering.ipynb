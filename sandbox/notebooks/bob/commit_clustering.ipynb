{
 "cells": [
  {
   "cell_type": "markdown",
   "id": "9610a4cf-b430-4648-83d6-c60659d111f4",
   "metadata": {},
   "source": [
    "### Load the Commit Statistics\n",
    "For this clustering we examined 39 GitHub projects containing a total of 2,629 commits. The projects all included the Fluence Marine library. Code for Fluence is generally written in React and Rust."
   ]
  },
  {
   "cell_type": "code",
   "execution_count": 1,
   "id": "f8b0fe3f-b091-44c9-84e6-4641cf623c1c",
   "metadata": {},
   "outputs": [],
   "source": [
    "project_root_path = '../../..'\n",
    "lib_path = project_root_path + \"/jupyter/lib/\"\n",
    "\n",
    "import json\n",
    "import sys\n",
    "\n",
    "sys.path.append(lib_path)\n",
    "import commit_stat_engineering\n",
    "\n",
    "dataset_dir = project_root_path + '/data/github/2022-04-07-marine-search'\n",
    "project_stats_dir = dataset_dir + '/projects'\n",
    "all_commit_logs = commit_stat_engineering.find_files('commit-stat.log.json', project_stats_dir)\n",
    "all_stats = commit_stat_engineering.get_stats_for_all_commits(all_commit_logs)"
   ]
  },
  {
   "cell_type": "markdown",
   "id": "25983289-e040-4edd-b809-d5bbea12df8a",
   "metadata": {},
   "source": [
    "### Select The Features\n",
    "This clustering is for data analysis, not production. I am intentionally excluding the aggregate statistics - binFiles, textFiles, and textLines - from the list of input features. This prevents the ML model from taking a short-cut with those potentially over-powered statistics. My goal here is to see how effective the finer-grained statistics are.\n",
    "\n",
    "I also tested with binFiles, textFiles, and textLines included. The results are nearly identical and not sufficiently illuminating to warrant inclusion here."
   ]
  },
  {
   "cell_type": "code",
   "execution_count": 2,
   "id": "4df3966a-4a20-4e27-a693-6f98c6cae142",
   "metadata": {},
   "outputs": [],
   "source": [
    "import numpy as np\n",
    "\n",
    "X = [[np.log1p(stat['javascriptLines']),\n",
    "      np.log1p(stat['rustLines']),\n",
    "      np.log1p(stat['markdownLines']),\n",
    "      np.log1p(stat['jsonLines']),\n",
    "      np.log1p(stat['imgFiles']),\n",
    "      np.log1p(stat['lockLines']),\n",
    "      np.log1p(stat['yarnLines']),\n",
    "      np.log1p(stat['clojureLines']),\n",
    "      np.log1p(stat['htmlLines']),] for stat in all_stats]"
   ]
  },
  {
   "cell_type": "markdown",
   "id": "b873c119-752d-4ff1-b8ba-ac65da4323fa",
   "metadata": {},
   "source": [
    "### Clustering with Eight Centers\n",
    "Exploring various numbers of centers, eight gives us a good impression of the quality of information we are getting from this feature set."
   ]
  },
  {
   "cell_type": "code",
   "execution_count": 3,
   "id": "96d9751a-0af8-4e05-a56b-b2a680ecfebc",
   "metadata": {},
   "outputs": [],
   "source": [
    "from sklearn.cluster import KMeans\n",
    "\n",
    "num_clusters = 8\n",
    "random = 0\n",
    "\n",
    "y_pred = KMeans(n_clusters=num_clusters, random_state=random).fit_predict(X)"
   ]
  },
  {
   "cell_type": "markdown",
   "id": "ffdb85d1-d4e3-456c-9320-07272ce5908a",
   "metadata": {},
   "source": [
    "### Histogram of Cluster Sizes\n",
    "Looking at a histogram of cluster sizes can show if there are major anomolies. In this case we have a reasonable distribution of cluster sizes. "
   ]
  },
  {
   "cell_type": "code",
   "execution_count": 4,
   "id": "f60b8c66-8dd5-482c-8413-c6b46b228898",
   "metadata": {},
   "outputs": [
    {
     "data": {
      "image/png": "[encoded data removed]",
      "text/plain": [
       "<Figure size 432x288 with 1 Axes>"
      ]
     },
     "metadata": {
      "needs_background": "light"
     },
     "output_type": "display_data"
    }
   ],
   "source": [
    "import matplotlib.pyplot as plt\n",
    "\n",
    "plt.hist(y_pred, num_clusters)\n",
    "plt.show()"
   ]
  },
  {
   "cell_type": "markdown",
   "id": "da27edfe-6ac5-4af5-bc3c-3ddb265ae465",
   "metadata": {},
   "source": [
    "### Reshape the Stats for Easier Handling"
   ]
  },
  {
   "cell_type": "code",
   "execution_count": 5,
   "id": "9886c76e-f56f-4064-87df-49e7e87d2043",
   "metadata": {},
   "outputs": [],
   "source": [
    "for i in range(0, len(y_pred)):\n",
    "    all_stats[i]['cluster'] = y_pred[i]\n",
    "    \n",
    "clusters = [i for i in range(0, num_clusters)]\n",
    "for i in range(0, num_clusters):\n",
    "    clusters[i] = [stats for stats in all_stats if stats['cluster'] == i]"
   ]
  },
  {
   "cell_type": "markdown",
   "id": "b3f75ac7-8692-4138-877a-105ecea251ac",
   "metadata": {},
   "source": [
    "### Show Median Statistics for Each Cluster\n",
    "The table generated here has median values for each cluster to facilitate interpetation of the data. The output fields shown were not included directly as input features, though they are dependent variables."
   ]
  },
  {
   "cell_type": "code",
   "execution_count": 6,
   "id": "dd562372-4679-4884-bb09-8a53c960be0d",
   "metadata": {},
   "outputs": [
    {
     "data": {
      "text/html": [
       "<div>\n",
       "<style scoped>\n",
       "    .dataframe tbody tr th:only-of-type {\n",
       "        vertical-align: middle;\n",
       "    }\n",
       "\n",
       "    .dataframe tbody tr th {\n",
       "        vertical-align: top;\n",
       "    }\n",
       "\n",
       "    .dataframe thead th {\n",
       "        text-align: right;\n",
       "    }\n",
       "</style>\n",
       "<table border=\"1\" class=\"dataframe\">\n",
       "  <thead>\n",
       "    <tr style=\"text-align: right;\">\n",
       "      <th></th>\n",
       "      <th>#0</th>\n",
       "      <th>#1</th>\n",
       "      <th>#2</th>\n",
       "      <th>#3</th>\n",
       "      <th>#4</th>\n",
       "      <th>#5</th>\n",
       "      <th>#6</th>\n",
       "      <th>#7</th>\n",
       "    </tr>\n",
       "  </thead>\n",
       "  <tbody>\n",
       "    <tr>\n",
       "      <th>numCommits</th>\n",
       "      <td>601</td>\n",
       "      <td>101</td>\n",
       "      <td>131</td>\n",
       "      <td>364</td>\n",
       "      <td>258</td>\n",
       "      <td>282</td>\n",
       "      <td>40</td>\n",
       "      <td>852</td>\n",
       "    </tr>\n",
       "    <tr>\n",
       "      <th>binFiles</th>\n",
       "      <td>0</td>\n",
       "      <td>0</td>\n",
       "      <td>0</td>\n",
       "      <td>0</td>\n",
       "      <td>0</td>\n",
       "      <td>0</td>\n",
       "      <td>3</td>\n",
       "      <td>0</td>\n",
       "    </tr>\n",
       "    <tr>\n",
       "      <th>textFiles</th>\n",
       "      <td>4</td>\n",
       "      <td>1</td>\n",
       "      <td>8</td>\n",
       "      <td>10</td>\n",
       "      <td>1</td>\n",
       "      <td>2</td>\n",
       "      <td>48</td>\n",
       "      <td>1</td>\n",
       "    </tr>\n",
       "    <tr>\n",
       "      <th>textLines</th>\n",
       "      <td>62</td>\n",
       "      <td>41</td>\n",
       "      <td>4920</td>\n",
       "      <td>312</td>\n",
       "      <td>26</td>\n",
       "      <td>88</td>\n",
       "      <td>30194</td>\n",
       "      <td>4</td>\n",
       "    </tr>\n",
       "    <tr>\n",
       "      <th>javascriptLinePct</th>\n",
       "      <td>0</td>\n",
       "      <td>0</td>\n",
       "      <td>2</td>\n",
       "      <td>0</td>\n",
       "      <td>0</td>\n",
       "      <td>100</td>\n",
       "      <td>2</td>\n",
       "      <td>0</td>\n",
       "    </tr>\n",
       "    <tr>\n",
       "      <th>rustLinePct</th>\n",
       "      <td>100</td>\n",
       "      <td>0</td>\n",
       "      <td>0</td>\n",
       "      <td>38</td>\n",
       "      <td>0</td>\n",
       "      <td>0</td>\n",
       "      <td>0</td>\n",
       "      <td>0</td>\n",
       "    </tr>\n",
       "    <tr>\n",
       "      <th>markdownLinePct</th>\n",
       "      <td>0</td>\n",
       "      <td>0</td>\n",
       "      <td>0</td>\n",
       "      <td>0</td>\n",
       "      <td>100</td>\n",
       "      <td>0</td>\n",
       "      <td>0</td>\n",
       "      <td>0</td>\n",
       "    </tr>\n",
       "    <tr>\n",
       "      <th>jsonLinePct</th>\n",
       "      <td>0</td>\n",
       "      <td>0</td>\n",
       "      <td>97</td>\n",
       "      <td>0</td>\n",
       "      <td>0</td>\n",
       "      <td>0</td>\n",
       "      <td>80</td>\n",
       "      <td>0</td>\n",
       "    </tr>\n",
       "    <tr>\n",
       "      <th>imgFilePct</th>\n",
       "      <td>0</td>\n",
       "      <td>0</td>\n",
       "      <td>0</td>\n",
       "      <td>0</td>\n",
       "      <td>0</td>\n",
       "      <td>0</td>\n",
       "      <td>4</td>\n",
       "      <td>0</td>\n",
       "    </tr>\n",
       "    <tr>\n",
       "      <th>lockLinePct</th>\n",
       "      <td>0</td>\n",
       "      <td>0</td>\n",
       "      <td>0</td>\n",
       "      <td>54</td>\n",
       "      <td>0</td>\n",
       "      <td>0</td>\n",
       "      <td>4</td>\n",
       "      <td>0</td>\n",
       "    </tr>\n",
       "    <tr>\n",
       "      <th>yarnLinePct</th>\n",
       "      <td>0</td>\n",
       "      <td>0</td>\n",
       "      <td>0</td>\n",
       "      <td>0</td>\n",
       "      <td>0</td>\n",
       "      <td>0</td>\n",
       "      <td>0</td>\n",
       "      <td>0</td>\n",
       "    </tr>\n",
       "    <tr>\n",
       "      <th>htmlLinePct</th>\n",
       "      <td>0</td>\n",
       "      <td>100</td>\n",
       "      <td>0</td>\n",
       "      <td>0</td>\n",
       "      <td>0</td>\n",
       "      <td>0</td>\n",
       "      <td>0</td>\n",
       "      <td>0</td>\n",
       "    </tr>\n",
       "  </tbody>\n",
       "</table>\n",
       "</div>"
      ],
      "text/plain": [
       "                    #0   #1    #2   #3   #4   #5     #6   #7\n",
       "numCommits         601  101   131  364  258  282     40  852\n",
       "binFiles             0    0     0    0    0    0      3    0\n",
       "textFiles            4    1     8   10    1    2     48    1\n",
       "textLines           62   41  4920  312   26   88  30194    4\n",
       "javascriptLinePct    0    0     2    0    0  100      2    0\n",
       "rustLinePct        100    0     0   38    0    0      0    0\n",
       "markdownLinePct      0    0     0    0  100    0      0    0\n",
       "jsonLinePct          0    0    97    0    0    0     80    0\n",
       "imgFilePct           0    0     0    0    0    0      4    0\n",
       "lockLinePct          0    0     0   54    0    0      4    0\n",
       "yarnLinePct          0    0     0    0    0    0      0    0\n",
       "htmlLinePct          0  100     0    0    0    0      0    0"
      ]
     },
     "execution_count": 6,
     "metadata": {},
     "output_type": "execute_result"
    }
   ],
   "source": [
    "import numpy as np\n",
    "import pandas as pd\n",
    "\n",
    "cluster_names = ['#' + str(i) for i in range(0,len(clusters))]\n",
    "fields = ['numCommits', 'binFiles', 'textFiles', 'textLines',\n",
    "          'javascriptLinePct', 'rustLinePct', 'markdownLinePct', 'jsonLinePct',\n",
    "          'imgFilePct', 'lockLinePct', 'yarnLinePct', 'htmlLinePct']\n",
    "\n",
    "for cluster in clusters:\n",
    "    numCommits = len(cluster)\n",
    "    for stats in cluster:\n",
    "        stats['numCommits'] = numCommits\n",
    "\n",
    "data = [[int(np.round(np.median([stats[field] for stats in cluster]))) for field in fields] for cluster in clusters]\n",
    "cluster_df = pd.DataFrame(data, index=cluster_names, columns=fields)\n",
    "cluster_df.transpose()"
   ]
  },
  {
   "cell_type": "markdown",
   "id": "634f9ec4-08d0-4193-84b5-46998250e064",
   "metadata": {},
   "source": [
    "### Interpreting the Clusters\n",
    "Each datapoint above is a median value of the commits in the cluster.\n",
    "#### Cluster #0: Rust Development Commits\n",
    "62 lines of Rust code shows these are standard Rust developer commits.\n",
    "#### Cluster #1: HTML Commits\n",
    "41 lines of HTML (including CSS) mark these as web interface commits.\n",
    "#### Cluster #2: Big JSON Commits\n",
    "4,920 lines JSON means these are not hand-coded. Feature analysis showed a bimodal distribution which may be related. Further investigation will be needed.\n",
    "#### Cluster #3: Rust Packaging Commits\n",
    "A bit more Rust than in a Rust Development Commit plus some \"lock\" lines. \".lock\" files are associated with the Rust package manager, Cargo.\n",
    "#### Cluster #4: Documentation Commits\n",
    "26 lines of markdown identifies these documentation commits.\n",
    "#### Cluster #5: Javascript Development Commits\n",
    "88 lines of Javascript shows these are standard JS developer commits.\n",
    "#### Cluster #6: Bulk Commits\n",
    "These large commits include both text and binary data. These commits might include platform code, template code, or unpacked 3rd party toolkits.\n",
    "#### Cluster #7: Bugfixes & Tweaks\n",
    "Small commits that address a single problem. Could be code or documentation. Median values in this chart hide the specific type - the code type will be retained in the final pipeline.\n",
    "\n"
   ]
  }
 ],
 "metadata": {
  "kernelspec": {
   "display_name": "Python 3 (ipykernel)",
   "language": "python",
   "name": "python3"
  },
  "language_info": {
   "codemirror_mode": {
    "name": "ipython",
    "version": 3
   },
   "file_extension": ".py",
   "mimetype": "text/x-python",
   "name": "python",
   "nbconvert_exporter": "python",
   "pygments_lexer": "ipython3",
   "version": "3.8.10"
  }
 },
 "nbformat": 4,
 "nbformat_minor": 5
}
