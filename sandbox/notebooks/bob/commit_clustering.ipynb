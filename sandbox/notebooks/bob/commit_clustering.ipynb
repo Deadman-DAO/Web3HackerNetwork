{
 "cells": [
  {
   "cell_type": "markdown",
   "id": "637ae421-cf52-4108-9d12-68f2385f3196",
   "metadata": {},
   "source": [
    "### set the base params"
   ]
  },
  {
   "cell_type": "code",
   "execution_count": 2,
   "id": "e6387bac-2903-466b-bf65-17a2f184d824",
   "metadata": {},
   "outputs": [],
   "source": [
    "root = '/home/bob/projects/Web3HackerNetwork'\n",
    "dataset_dir = root + \"/data/github/2022-04-07-marine-search\"\n",
    "stats_dir = dataset_dir + \"/projects\""
   ]
  },
  {
   "cell_type": "markdown",
   "id": "eb6fa584-71d1-4a76-8284-faef96dd17a2",
   "metadata": {},
   "source": [
    "### define a method that finds all files with the same name"
   ]
  },
  {
   "cell_type": "code",
   "execution_count": 7,
   "id": "a8e8cf3c-9dae-47d2-ae35-3b2bafdd7c46",
   "metadata": {},
   "outputs": [],
   "source": [
    "import os\n",
    "def find_all(name, path):\n",
    "    result = []\n",
    "    for root, dirs, files in os.walk(path):\n",
    "        if name in files:\n",
    "            result.append(os.path.join(root, name))\n",
    "    return result"
   ]
  },
  {
   "cell_type": "markdown",
   "id": "b4359fab-f784-465e-abe9-35d643509e0f",
   "metadata": {},
   "source": [
    "### find all the commi stat JSON files"
   ]
  },
  {
   "cell_type": "code",
   "execution_count": 10,
   "id": "e987547e-0ca8-48d3-a6be-4f8e184801bf",
   "metadata": {},
   "outputs": [],
   "source": [
    "commit_files = find_all('commit-stat.log.json', stats_dir)"
   ]
  },
  {
   "cell_type": "markdown",
   "id": "2303dea7-4d98-4bb9-b298-c1e5f39f7669",
   "metadata": {},
   "source": [
    "### load all the files"
   ]
  },
  {
   "cell_type": "code",
   "execution_count": 16,
   "id": "f8dd1bca-ea64-423c-bec5-8df18dc64547",
   "metadata": {},
   "outputs": [
    {
     "name": "stdout",
     "output_type": "stream",
     "text": [
      "{'commit': 'fb528905fb6448e2b502f7de8fba877a2a995f6d', 'Author': 'tchataigner <tom.chataigner@yahoo.fr>', 'Date': 'Sun Aug 15 20', 'fileTypes': {'js': {'textLineCount': 26, 'binByteCount': 0, 'inserts': 17, 'deletes': 9, 'occurrences': 2}}, 'files': '2', 'insertions(+)': '17', 'deletions(-)\\n': '9'}\n"
     ]
    }
   ],
   "source": [
    "import json\n",
    "\n",
    "all_logs = []\n",
    "for file in commit_files:\n",
    "    in_stats = json.loads(open(file, 'r').read());\n",
    "    all_logs.append(in_stats)\n",
    "print(all_logs[0][0])"
   ]
  },
  {
   "cell_type": "code",
   "execution_count": 85,
   "id": "518e54d1-bea9-450e-be82-ef47edf4be57",
   "metadata": {},
   "outputs": [],
   "source": [
    "js_commits = []\n",
    "rs_commits = []\n",
    "all_commits = []\n",
    "\n",
    "js_types = ['js', 'jsx', 'ts', 'tsx']\n",
    "\n",
    "for log in all_logs:\n",
    "    #lines.append(\"\\n\")\n",
    "    for commit in log:\n",
    "        #lines.append(str(commit['commit']))\n",
    "        #print(commit['fileTypes'])\n",
    "        for ft in commit['fileTypes']:\n",
    "            all_commits.append(commit)\n",
    "            if ft in js_types:\n",
    "                js_commits.append(commit)\n",
    "            elif ft == 'rs':\n",
    "                rs_commits.append(commit)"
   ]
  },
  {
   "cell_type": "markdown",
   "id": "8d81b0e6-271a-4e38-9351-dc54ec8eac80",
   "metadata": {},
   "source": [
    "### method to extract statistics from the commit data"
   ]
  },
  {
   "cell_type": "code",
   "execution_count": 111,
   "id": "0555de93-9119-4c53-b3aa-18a1abf0c99b",
   "metadata": {},
   "outputs": [],
   "source": [
    "js_types = ['js', 'jsx', 'ts', 'tsx']\n",
    "\n",
    "def extract_stats(commit):\n",
    "    if 'files' in commit:\n",
    "        num_files = commit['files']\n",
    "    else:\n",
    "        num_files = commit['file']\n",
    "    statDict = {}\n",
    "    statDict['commit'] = commit['commit']\n",
    "    statDict['totalFiles'] = int(num_files)\n",
    "    typeDict = commit['fileTypes']\n",
    "    typeArray = [{'fileType': key, 'stats': typeDict[key]} for key in typeDict.keys()]\n",
    "    textTypeArray = [typeEntry for typeEntry in typeArray if typeEntry['stats']['textLineCount'] > 0]\n",
    "    binTypeArray = [typeEntry for typeEntry in typeArray if typeEntry['stats']['binByteCount'] > 0]\n",
    "    jsTypeArray = [typeEntry for typeEntry in typeArray if typeEntry['fileType'] in js_types]\n",
    "    rsTypeArray = [typeEntry for typeEntry in typeArray if typeEntry['fileType'] == 'rs']\n",
    "    statDict['textLines'] = sum([typeEntry['stats']['textLineCount'] for typeEntry in textTypeArray])\n",
    "    statDict['binBytes'] = sum([typeEntry['stats']['binByteCount'] for typeEntry in binTypeArray])\n",
    "    statDict['rustLines'] = sum([typeEntry['stats']['textLineCount'] for typeEntry in rsTypeArray])\n",
    "    statDict['jsLines'] = sum([typeEntry['stats']['textLineCount'] for typeEntry in jsTypeArray])\n",
    "    statDict['textFiles'] = sum([typeEntry['stats']['occurrences'] for typeEntry in textTypeArray])\n",
    "    statDict['binFiles'] = sum([typeEntry['stats']['occurrences'] for typeEntry in binTypeArray])\n",
    "    statDict['rustFiles'] = sum([typeEntry['stats']['occurrences'] for typeEntry in rsTypeArray])\n",
    "    statDict['jsFiles'] = sum([typeEntry['stats']['occurrences'] for typeEntry in jsTypeArray])\n",
    "    statDict['totalBytes'] = statDict['textLines'] * 50 + statDict['binBytes']\n",
    "    statDict['pctRustFiles'] = int(10000 * statDict['rustFiles'] / (.01 + statDict['totalFiles'])) / 100\n",
    "    statDict['pctJsFiles'] = int(10000 * statDict['jsFiles'] / (.01 + statDict['totalFiles'])) / 100\n",
    "    statDict['pctRustLines'] = int(10000 * statDict['rustLines'] / (1 + statDict['textLines'])) / 100\n",
    "    statDict['pctJsLines'] = int(100000 * statDict['jsLines'] / (.01 + statDict['textLines'])) / 100\n",
    "    statDict['pctRustBytes'] = int(10000 * statDict['rustLines'] * 50 / (.01 + statDict['totalBytes'])) / 100\n",
    "    statDict['pctJsBytes'] = int(10000 * statDict['jsLines'] * 50 / (.01 + statDict['totalBytes'])) / 100\n",
    "    statDict['pctBinBytes'] = int(10000 * statDict['binBytes'] / (.01 + statDict['totalBytes'])) / 100\n",
    "    statDict['pctTextBytes'] = int(10000 * statDict['textLines'] * 50 / (.01 + statDict['totalBytes'])) / 100\n",
    "    return statDict\n",
    "    # fileType['textLineCount'] for fileType in commit['fileTypes']]"
   ]
  },
  {
   "cell_type": "code",
   "execution_count": 112,
   "id": "9c658ed4-5c0e-4075-a6dd-bf2892ab3b50",
   "metadata": {},
   "outputs": [
    {
     "name": "stdout",
     "output_type": "stream",
     "text": [
      "{'commit': '717a17b9dcd14d6368f01f314843f8839a595dfd', 'Author': 'fsy412 <fsy412@gmail.com>', 'Date': 'Thu Oct 21 09', 'fileTypes': {'gitignore': {'textLineCount': 1, 'binByteCount': 0, 'inserts': 1, 'deletes': 0, 'occurrences': 1}, 'html': {'textLineCount': 99, 'binByteCount': 0, 'inserts': 2, 'deletes': 0, 'occurrences': 2}, 'md': {'textLineCount': 53, 'binByteCount': 0, 'inserts': 2, 'deletes': 0, 'occurrences': 2}, 'png': {'textLineCount': 0, 'binByteCount': 10997, 'inserts': 0, 'deletes': 0, 'occurrences': 1}, 'lock': {'textLineCount': 11909, 'binByteCount': 0, 'inserts': 26, 'deletes': 0, 'occurrences': 3}, 'toml': {'textLineCount': 50, 'binByteCount': 0, 'inserts': 4, 'deletes': 0, 'occurrences': 4}, 'wasm': {'textLineCount': 0, 'binByteCount': 112164, 'inserts': 0, 'deletes': 0, 'occurrences': 1}, 'json': {'textLineCount': 12074, 'binByteCount': 0, 'inserts': 32, 'deletes': 0, 'occurrences': 7}, 'null': {'textLineCount': 39, 'binByteCount': 0, 'inserts': 6, 'deletes': 0, 'occurrences': 6}, 'sh': {'textLineCount': 39, 'binByteCount': 0, 'inserts': 6, 'deletes': 0, 'occurrences': 6}, 'rs': {'textLineCount': 89, 'binByteCount': 0, 'inserts': 4, 'deletes': 0, 'occurrences': 4}, 'TAG': {'textLineCount': 3, 'binByteCount': 0, 'inserts': 1, 'deletes': 0, 'occurrences': 1}, 'aqua': {'textLineCount': 50, 'binByteCount': 0, 'inserts': 2, 'deletes': 0, 'occurrences': 2}, 'js': {'textLineCount': 191, 'binByteCount': 0, 'inserts': 7, 'deletes': 0, 'occurrences': 7}, 'vue': {'textLineCount': 239, 'binByteCount': 0, 'inserts': 4, 'deletes': 0, 'occurrences': 4}, 'ts': {'textLineCount': 669, 'binByteCount': 0, 'inserts': 3, 'deletes': 0, 'occurrences': 3}}, 'files': '54', 'insertions(+)\\n': '25505'}\n",
      "{'commit': '717a17b9dcd14d6368f01f314843f8839a595dfd', 'totalFiles': 54, 'textLines': 25505, 'binBytes': 123161, 'rustLines': 89, 'jsLines': 860, 'textFiles': 52, 'binFiles': 2, 'rustFiles': 4, 'jsFiles': 10, 'totalBytes': 1398411, 'pctRustFiles': 7.4, 'pctJsFiles': 18.51, 'pctRustLines': 0.34, 'pctJsLines': 33.71, 'pctRustBytes': 0.31, 'pctJsBytes': 3.07, 'pctBinBytes': 8.8, 'pctTextBytes': 91.19}\n",
      "\n",
      "{'commit': '717a17b9dcd14d6368f01f314843f8839a595dfd', 'Author': 'fsy412 <fsy412@gmail.com>', 'Date': 'Thu Oct 21 09', 'fileTypes': {'gitignore': {'textLineCount': 1, 'binByteCount': 0, 'inserts': 1, 'deletes': 0, 'occurrences': 1}, 'html': {'textLineCount': 99, 'binByteCount': 0, 'inserts': 2, 'deletes': 0, 'occurrences': 2}, 'md': {'textLineCount': 53, 'binByteCount': 0, 'inserts': 2, 'deletes': 0, 'occurrences': 2}, 'png': {'textLineCount': 0, 'binByteCount': 10997, 'inserts': 0, 'deletes': 0, 'occurrences': 1}, 'lock': {'textLineCount': 11909, 'binByteCount': 0, 'inserts': 26, 'deletes': 0, 'occurrences': 3}, 'toml': {'textLineCount': 50, 'binByteCount': 0, 'inserts': 4, 'deletes': 0, 'occurrences': 4}, 'wasm': {'textLineCount': 0, 'binByteCount': 112164, 'inserts': 0, 'deletes': 0, 'occurrences': 1}, 'json': {'textLineCount': 12074, 'binByteCount': 0, 'inserts': 32, 'deletes': 0, 'occurrences': 7}, 'null': {'textLineCount': 39, 'binByteCount': 0, 'inserts': 6, 'deletes': 0, 'occurrences': 6}, 'sh': {'textLineCount': 39, 'binByteCount': 0, 'inserts': 6, 'deletes': 0, 'occurrences': 6}, 'rs': {'textLineCount': 89, 'binByteCount': 0, 'inserts': 4, 'deletes': 0, 'occurrences': 4}, 'TAG': {'textLineCount': 3, 'binByteCount': 0, 'inserts': 1, 'deletes': 0, 'occurrences': 1}, 'aqua': {'textLineCount': 50, 'binByteCount': 0, 'inserts': 2, 'deletes': 0, 'occurrences': 2}, 'js': {'textLineCount': 191, 'binByteCount': 0, 'inserts': 7, 'deletes': 0, 'occurrences': 7}, 'vue': {'textLineCount': 239, 'binByteCount': 0, 'inserts': 4, 'deletes': 0, 'occurrences': 4}, 'ts': {'textLineCount': 669, 'binByteCount': 0, 'inserts': 3, 'deletes': 0, 'occurrences': 3}}, 'files': '54', 'insertions(+)\\n': '25505'}\n",
      "{'commit': '717a17b9dcd14d6368f01f314843f8839a595dfd', 'totalFiles': 54, 'textLines': 25505, 'binBytes': 123161, 'rustLines': 89, 'jsLines': 860, 'textFiles': 52, 'binFiles': 2, 'rustFiles': 4, 'jsFiles': 10, 'totalBytes': 1398411, 'pctRustFiles': 7.4, 'pctJsFiles': 18.51, 'pctRustLines': 0.34, 'pctJsLines': 33.71, 'pctRustBytes': 0.31, 'pctJsBytes': 3.07, 'pctBinBytes': 8.8, 'pctTextBytes': 91.19}\n",
      "\n",
      "{'commit': '717a17b9dcd14d6368f01f314843f8839a595dfd', 'Author': 'fsy412 <fsy412@gmail.com>', 'Date': 'Thu Oct 21 09', 'fileTypes': {'gitignore': {'textLineCount': 1, 'binByteCount': 0, 'inserts': 1, 'deletes': 0, 'occurrences': 1}, 'html': {'textLineCount': 99, 'binByteCount': 0, 'inserts': 2, 'deletes': 0, 'occurrences': 2}, 'md': {'textLineCount': 53, 'binByteCount': 0, 'inserts': 2, 'deletes': 0, 'occurrences': 2}, 'png': {'textLineCount': 0, 'binByteCount': 10997, 'inserts': 0, 'deletes': 0, 'occurrences': 1}, 'lock': {'textLineCount': 11909, 'binByteCount': 0, 'inserts': 26, 'deletes': 0, 'occurrences': 3}, 'toml': {'textLineCount': 50, 'binByteCount': 0, 'inserts': 4, 'deletes': 0, 'occurrences': 4}, 'wasm': {'textLineCount': 0, 'binByteCount': 112164, 'inserts': 0, 'deletes': 0, 'occurrences': 1}, 'json': {'textLineCount': 12074, 'binByteCount': 0, 'inserts': 32, 'deletes': 0, 'occurrences': 7}, 'null': {'textLineCount': 39, 'binByteCount': 0, 'inserts': 6, 'deletes': 0, 'occurrences': 6}, 'sh': {'textLineCount': 39, 'binByteCount': 0, 'inserts': 6, 'deletes': 0, 'occurrences': 6}, 'rs': {'textLineCount': 89, 'binByteCount': 0, 'inserts': 4, 'deletes': 0, 'occurrences': 4}, 'TAG': {'textLineCount': 3, 'binByteCount': 0, 'inserts': 1, 'deletes': 0, 'occurrences': 1}, 'aqua': {'textLineCount': 50, 'binByteCount': 0, 'inserts': 2, 'deletes': 0, 'occurrences': 2}, 'js': {'textLineCount': 191, 'binByteCount': 0, 'inserts': 7, 'deletes': 0, 'occurrences': 7}, 'vue': {'textLineCount': 239, 'binByteCount': 0, 'inserts': 4, 'deletes': 0, 'occurrences': 4}, 'ts': {'textLineCount': 669, 'binByteCount': 0, 'inserts': 3, 'deletes': 0, 'occurrences': 3}}, 'files': '54', 'insertions(+)\\n': '25505'}\n",
      "{'commit': '717a17b9dcd14d6368f01f314843f8839a595dfd', 'totalFiles': 54, 'textLines': 25505, 'binBytes': 123161, 'rustLines': 89, 'jsLines': 860, 'textFiles': 52, 'binFiles': 2, 'rustFiles': 4, 'jsFiles': 10, 'totalBytes': 1398411, 'pctRustFiles': 7.4, 'pctJsFiles': 18.51, 'pctRustLines': 0.34, 'pctJsLines': 33.71, 'pctRustBytes': 0.31, 'pctJsBytes': 3.07, 'pctBinBytes': 8.8, 'pctTextBytes': 91.19}\n",
      "\n",
      "{'commit': '717a17b9dcd14d6368f01f314843f8839a595dfd', 'Author': 'fsy412 <fsy412@gmail.com>', 'Date': 'Thu Oct 21 09', 'fileTypes': {'gitignore': {'textLineCount': 1, 'binByteCount': 0, 'inserts': 1, 'deletes': 0, 'occurrences': 1}, 'html': {'textLineCount': 99, 'binByteCount': 0, 'inserts': 2, 'deletes': 0, 'occurrences': 2}, 'md': {'textLineCount': 53, 'binByteCount': 0, 'inserts': 2, 'deletes': 0, 'occurrences': 2}, 'png': {'textLineCount': 0, 'binByteCount': 10997, 'inserts': 0, 'deletes': 0, 'occurrences': 1}, 'lock': {'textLineCount': 11909, 'binByteCount': 0, 'inserts': 26, 'deletes': 0, 'occurrences': 3}, 'toml': {'textLineCount': 50, 'binByteCount': 0, 'inserts': 4, 'deletes': 0, 'occurrences': 4}, 'wasm': {'textLineCount': 0, 'binByteCount': 112164, 'inserts': 0, 'deletes': 0, 'occurrences': 1}, 'json': {'textLineCount': 12074, 'binByteCount': 0, 'inserts': 32, 'deletes': 0, 'occurrences': 7}, 'null': {'textLineCount': 39, 'binByteCount': 0, 'inserts': 6, 'deletes': 0, 'occurrences': 6}, 'sh': {'textLineCount': 39, 'binByteCount': 0, 'inserts': 6, 'deletes': 0, 'occurrences': 6}, 'rs': {'textLineCount': 89, 'binByteCount': 0, 'inserts': 4, 'deletes': 0, 'occurrences': 4}, 'TAG': {'textLineCount': 3, 'binByteCount': 0, 'inserts': 1, 'deletes': 0, 'occurrences': 1}, 'aqua': {'textLineCount': 50, 'binByteCount': 0, 'inserts': 2, 'deletes': 0, 'occurrences': 2}, 'js': {'textLineCount': 191, 'binByteCount': 0, 'inserts': 7, 'deletes': 0, 'occurrences': 7}, 'vue': {'textLineCount': 239, 'binByteCount': 0, 'inserts': 4, 'deletes': 0, 'occurrences': 4}, 'ts': {'textLineCount': 669, 'binByteCount': 0, 'inserts': 3, 'deletes': 0, 'occurrences': 3}}, 'files': '54', 'insertions(+)\\n': '25505'}\n",
      "{'commit': '717a17b9dcd14d6368f01f314843f8839a595dfd', 'totalFiles': 54, 'textLines': 25505, 'binBytes': 123161, 'rustLines': 89, 'jsLines': 860, 'textFiles': 52, 'binFiles': 2, 'rustFiles': 4, 'jsFiles': 10, 'totalBytes': 1398411, 'pctRustFiles': 7.4, 'pctJsFiles': 18.51, 'pctRustLines': 0.34, 'pctJsLines': 33.71, 'pctRustBytes': 0.31, 'pctJsBytes': 3.07, 'pctBinBytes': 8.8, 'pctTextBytes': 91.19}\n",
      "\n",
      "{'commit': '717a17b9dcd14d6368f01f314843f8839a595dfd', 'Author': 'fsy412 <fsy412@gmail.com>', 'Date': 'Thu Oct 21 09', 'fileTypes': {'gitignore': {'textLineCount': 1, 'binByteCount': 0, 'inserts': 1, 'deletes': 0, 'occurrences': 1}, 'html': {'textLineCount': 99, 'binByteCount': 0, 'inserts': 2, 'deletes': 0, 'occurrences': 2}, 'md': {'textLineCount': 53, 'binByteCount': 0, 'inserts': 2, 'deletes': 0, 'occurrences': 2}, 'png': {'textLineCount': 0, 'binByteCount': 10997, 'inserts': 0, 'deletes': 0, 'occurrences': 1}, 'lock': {'textLineCount': 11909, 'binByteCount': 0, 'inserts': 26, 'deletes': 0, 'occurrences': 3}, 'toml': {'textLineCount': 50, 'binByteCount': 0, 'inserts': 4, 'deletes': 0, 'occurrences': 4}, 'wasm': {'textLineCount': 0, 'binByteCount': 112164, 'inserts': 0, 'deletes': 0, 'occurrences': 1}, 'json': {'textLineCount': 12074, 'binByteCount': 0, 'inserts': 32, 'deletes': 0, 'occurrences': 7}, 'null': {'textLineCount': 39, 'binByteCount': 0, 'inserts': 6, 'deletes': 0, 'occurrences': 6}, 'sh': {'textLineCount': 39, 'binByteCount': 0, 'inserts': 6, 'deletes': 0, 'occurrences': 6}, 'rs': {'textLineCount': 89, 'binByteCount': 0, 'inserts': 4, 'deletes': 0, 'occurrences': 4}, 'TAG': {'textLineCount': 3, 'binByteCount': 0, 'inserts': 1, 'deletes': 0, 'occurrences': 1}, 'aqua': {'textLineCount': 50, 'binByteCount': 0, 'inserts': 2, 'deletes': 0, 'occurrences': 2}, 'js': {'textLineCount': 191, 'binByteCount': 0, 'inserts': 7, 'deletes': 0, 'occurrences': 7}, 'vue': {'textLineCount': 239, 'binByteCount': 0, 'inserts': 4, 'deletes': 0, 'occurrences': 4}, 'ts': {'textLineCount': 669, 'binByteCount': 0, 'inserts': 3, 'deletes': 0, 'occurrences': 3}}, 'files': '54', 'insertions(+)\\n': '25505'}\n",
      "{'commit': '717a17b9dcd14d6368f01f314843f8839a595dfd', 'totalFiles': 54, 'textLines': 25505, 'binBytes': 123161, 'rustLines': 89, 'jsLines': 860, 'textFiles': 52, 'binFiles': 2, 'rustFiles': 4, 'jsFiles': 10, 'totalBytes': 1398411, 'pctRustFiles': 7.4, 'pctJsFiles': 18.51, 'pctRustLines': 0.34, 'pctJsLines': 33.71, 'pctRustBytes': 0.31, 'pctJsBytes': 3.07, 'pctBinBytes': 8.8, 'pctTextBytes': 91.19}\n",
      "\n",
      "{'commit': '717a17b9dcd14d6368f01f314843f8839a595dfd', 'Author': 'fsy412 <fsy412@gmail.com>', 'Date': 'Thu Oct 21 09', 'fileTypes': {'gitignore': {'textLineCount': 1, 'binByteCount': 0, 'inserts': 1, 'deletes': 0, 'occurrences': 1}, 'html': {'textLineCount': 99, 'binByteCount': 0, 'inserts': 2, 'deletes': 0, 'occurrences': 2}, 'md': {'textLineCount': 53, 'binByteCount': 0, 'inserts': 2, 'deletes': 0, 'occurrences': 2}, 'png': {'textLineCount': 0, 'binByteCount': 10997, 'inserts': 0, 'deletes': 0, 'occurrences': 1}, 'lock': {'textLineCount': 11909, 'binByteCount': 0, 'inserts': 26, 'deletes': 0, 'occurrences': 3}, 'toml': {'textLineCount': 50, 'binByteCount': 0, 'inserts': 4, 'deletes': 0, 'occurrences': 4}, 'wasm': {'textLineCount': 0, 'binByteCount': 112164, 'inserts': 0, 'deletes': 0, 'occurrences': 1}, 'json': {'textLineCount': 12074, 'binByteCount': 0, 'inserts': 32, 'deletes': 0, 'occurrences': 7}, 'null': {'textLineCount': 39, 'binByteCount': 0, 'inserts': 6, 'deletes': 0, 'occurrences': 6}, 'sh': {'textLineCount': 39, 'binByteCount': 0, 'inserts': 6, 'deletes': 0, 'occurrences': 6}, 'rs': {'textLineCount': 89, 'binByteCount': 0, 'inserts': 4, 'deletes': 0, 'occurrences': 4}, 'TAG': {'textLineCount': 3, 'binByteCount': 0, 'inserts': 1, 'deletes': 0, 'occurrences': 1}, 'aqua': {'textLineCount': 50, 'binByteCount': 0, 'inserts': 2, 'deletes': 0, 'occurrences': 2}, 'js': {'textLineCount': 191, 'binByteCount': 0, 'inserts': 7, 'deletes': 0, 'occurrences': 7}, 'vue': {'textLineCount': 239, 'binByteCount': 0, 'inserts': 4, 'deletes': 0, 'occurrences': 4}, 'ts': {'textLineCount': 669, 'binByteCount': 0, 'inserts': 3, 'deletes': 0, 'occurrences': 3}}, 'files': '54', 'insertions(+)\\n': '25505'}\n",
      "{'commit': '717a17b9dcd14d6368f01f314843f8839a595dfd', 'totalFiles': 54, 'textLines': 25505, 'binBytes': 123161, 'rustLines': 89, 'jsLines': 860, 'textFiles': 52, 'binFiles': 2, 'rustFiles': 4, 'jsFiles': 10, 'totalBytes': 1398411, 'pctRustFiles': 7.4, 'pctJsFiles': 18.51, 'pctRustLines': 0.34, 'pctJsLines': 33.71, 'pctRustBytes': 0.31, 'pctJsBytes': 3.07, 'pctBinBytes': 8.8, 'pctTextBytes': 91.19}\n",
      "\n",
      "{'commit': '717a17b9dcd14d6368f01f314843f8839a595dfd', 'Author': 'fsy412 <fsy412@gmail.com>', 'Date': 'Thu Oct 21 09', 'fileTypes': {'gitignore': {'textLineCount': 1, 'binByteCount': 0, 'inserts': 1, 'deletes': 0, 'occurrences': 1}, 'html': {'textLineCount': 99, 'binByteCount': 0, 'inserts': 2, 'deletes': 0, 'occurrences': 2}, 'md': {'textLineCount': 53, 'binByteCount': 0, 'inserts': 2, 'deletes': 0, 'occurrences': 2}, 'png': {'textLineCount': 0, 'binByteCount': 10997, 'inserts': 0, 'deletes': 0, 'occurrences': 1}, 'lock': {'textLineCount': 11909, 'binByteCount': 0, 'inserts': 26, 'deletes': 0, 'occurrences': 3}, 'toml': {'textLineCount': 50, 'binByteCount': 0, 'inserts': 4, 'deletes': 0, 'occurrences': 4}, 'wasm': {'textLineCount': 0, 'binByteCount': 112164, 'inserts': 0, 'deletes': 0, 'occurrences': 1}, 'json': {'textLineCount': 12074, 'binByteCount': 0, 'inserts': 32, 'deletes': 0, 'occurrences': 7}, 'null': {'textLineCount': 39, 'binByteCount': 0, 'inserts': 6, 'deletes': 0, 'occurrences': 6}, 'sh': {'textLineCount': 39, 'binByteCount': 0, 'inserts': 6, 'deletes': 0, 'occurrences': 6}, 'rs': {'textLineCount': 89, 'binByteCount': 0, 'inserts': 4, 'deletes': 0, 'occurrences': 4}, 'TAG': {'textLineCount': 3, 'binByteCount': 0, 'inserts': 1, 'deletes': 0, 'occurrences': 1}, 'aqua': {'textLineCount': 50, 'binByteCount': 0, 'inserts': 2, 'deletes': 0, 'occurrences': 2}, 'js': {'textLineCount': 191, 'binByteCount': 0, 'inserts': 7, 'deletes': 0, 'occurrences': 7}, 'vue': {'textLineCount': 239, 'binByteCount': 0, 'inserts': 4, 'deletes': 0, 'occurrences': 4}, 'ts': {'textLineCount': 669, 'binByteCount': 0, 'inserts': 3, 'deletes': 0, 'occurrences': 3}}, 'files': '54', 'insertions(+)\\n': '25505'}\n",
      "{'commit': '717a17b9dcd14d6368f01f314843f8839a595dfd', 'totalFiles': 54, 'textLines': 25505, 'binBytes': 123161, 'rustLines': 89, 'jsLines': 860, 'textFiles': 52, 'binFiles': 2, 'rustFiles': 4, 'jsFiles': 10, 'totalBytes': 1398411, 'pctRustFiles': 7.4, 'pctJsFiles': 18.51, 'pctRustLines': 0.34, 'pctJsLines': 33.71, 'pctRustBytes': 0.31, 'pctJsBytes': 3.07, 'pctBinBytes': 8.8, 'pctTextBytes': 91.19}\n",
      "\n",
      "{'commit': '717a17b9dcd14d6368f01f314843f8839a595dfd', 'Author': 'fsy412 <fsy412@gmail.com>', 'Date': 'Thu Oct 21 09', 'fileTypes': {'gitignore': {'textLineCount': 1, 'binByteCount': 0, 'inserts': 1, 'deletes': 0, 'occurrences': 1}, 'html': {'textLineCount': 99, 'binByteCount': 0, 'inserts': 2, 'deletes': 0, 'occurrences': 2}, 'md': {'textLineCount': 53, 'binByteCount': 0, 'inserts': 2, 'deletes': 0, 'occurrences': 2}, 'png': {'textLineCount': 0, 'binByteCount': 10997, 'inserts': 0, 'deletes': 0, 'occurrences': 1}, 'lock': {'textLineCount': 11909, 'binByteCount': 0, 'inserts': 26, 'deletes': 0, 'occurrences': 3}, 'toml': {'textLineCount': 50, 'binByteCount': 0, 'inserts': 4, 'deletes': 0, 'occurrences': 4}, 'wasm': {'textLineCount': 0, 'binByteCount': 112164, 'inserts': 0, 'deletes': 0, 'occurrences': 1}, 'json': {'textLineCount': 12074, 'binByteCount': 0, 'inserts': 32, 'deletes': 0, 'occurrences': 7}, 'null': {'textLineCount': 39, 'binByteCount': 0, 'inserts': 6, 'deletes': 0, 'occurrences': 6}, 'sh': {'textLineCount': 39, 'binByteCount': 0, 'inserts': 6, 'deletes': 0, 'occurrences': 6}, 'rs': {'textLineCount': 89, 'binByteCount': 0, 'inserts': 4, 'deletes': 0, 'occurrences': 4}, 'TAG': {'textLineCount': 3, 'binByteCount': 0, 'inserts': 1, 'deletes': 0, 'occurrences': 1}, 'aqua': {'textLineCount': 50, 'binByteCount': 0, 'inserts': 2, 'deletes': 0, 'occurrences': 2}, 'js': {'textLineCount': 191, 'binByteCount': 0, 'inserts': 7, 'deletes': 0, 'occurrences': 7}, 'vue': {'textLineCount': 239, 'binByteCount': 0, 'inserts': 4, 'deletes': 0, 'occurrences': 4}, 'ts': {'textLineCount': 669, 'binByteCount': 0, 'inserts': 3, 'deletes': 0, 'occurrences': 3}}, 'files': '54', 'insertions(+)\\n': '25505'}\n",
      "{'commit': '717a17b9dcd14d6368f01f314843f8839a595dfd', 'totalFiles': 54, 'textLines': 25505, 'binBytes': 123161, 'rustLines': 89, 'jsLines': 860, 'textFiles': 52, 'binFiles': 2, 'rustFiles': 4, 'jsFiles': 10, 'totalBytes': 1398411, 'pctRustFiles': 7.4, 'pctJsFiles': 18.51, 'pctRustLines': 0.34, 'pctJsLines': 33.71, 'pctRustBytes': 0.31, 'pctJsBytes': 3.07, 'pctBinBytes': 8.8, 'pctTextBytes': 91.19}\n",
      "\n",
      "{'commit': '717a17b9dcd14d6368f01f314843f8839a595dfd', 'Author': 'fsy412 <fsy412@gmail.com>', 'Date': 'Thu Oct 21 09', 'fileTypes': {'gitignore': {'textLineCount': 1, 'binByteCount': 0, 'inserts': 1, 'deletes': 0, 'occurrences': 1}, 'html': {'textLineCount': 99, 'binByteCount': 0, 'inserts': 2, 'deletes': 0, 'occurrences': 2}, 'md': {'textLineCount': 53, 'binByteCount': 0, 'inserts': 2, 'deletes': 0, 'occurrences': 2}, 'png': {'textLineCount': 0, 'binByteCount': 10997, 'inserts': 0, 'deletes': 0, 'occurrences': 1}, 'lock': {'textLineCount': 11909, 'binByteCount': 0, 'inserts': 26, 'deletes': 0, 'occurrences': 3}, 'toml': {'textLineCount': 50, 'binByteCount': 0, 'inserts': 4, 'deletes': 0, 'occurrences': 4}, 'wasm': {'textLineCount': 0, 'binByteCount': 112164, 'inserts': 0, 'deletes': 0, 'occurrences': 1}, 'json': {'textLineCount': 12074, 'binByteCount': 0, 'inserts': 32, 'deletes': 0, 'occurrences': 7}, 'null': {'textLineCount': 39, 'binByteCount': 0, 'inserts': 6, 'deletes': 0, 'occurrences': 6}, 'sh': {'textLineCount': 39, 'binByteCount': 0, 'inserts': 6, 'deletes': 0, 'occurrences': 6}, 'rs': {'textLineCount': 89, 'binByteCount': 0, 'inserts': 4, 'deletes': 0, 'occurrences': 4}, 'TAG': {'textLineCount': 3, 'binByteCount': 0, 'inserts': 1, 'deletes': 0, 'occurrences': 1}, 'aqua': {'textLineCount': 50, 'binByteCount': 0, 'inserts': 2, 'deletes': 0, 'occurrences': 2}, 'js': {'textLineCount': 191, 'binByteCount': 0, 'inserts': 7, 'deletes': 0, 'occurrences': 7}, 'vue': {'textLineCount': 239, 'binByteCount': 0, 'inserts': 4, 'deletes': 0, 'occurrences': 4}, 'ts': {'textLineCount': 669, 'binByteCount': 0, 'inserts': 3, 'deletes': 0, 'occurrences': 3}}, 'files': '54', 'insertions(+)\\n': '25505'}\n",
      "{'commit': '717a17b9dcd14d6368f01f314843f8839a595dfd', 'totalFiles': 54, 'textLines': 25505, 'binBytes': 123161, 'rustLines': 89, 'jsLines': 860, 'textFiles': 52, 'binFiles': 2, 'rustFiles': 4, 'jsFiles': 10, 'totalBytes': 1398411, 'pctRustFiles': 7.4, 'pctJsFiles': 18.51, 'pctRustLines': 0.34, 'pctJsLines': 33.71, 'pctRustBytes': 0.31, 'pctJsBytes': 3.07, 'pctBinBytes': 8.8, 'pctTextBytes': 91.19}\n",
      "\n",
      "{'commit': '717a17b9dcd14d6368f01f314843f8839a595dfd', 'Author': 'fsy412 <fsy412@gmail.com>', 'Date': 'Thu Oct 21 09', 'fileTypes': {'gitignore': {'textLineCount': 1, 'binByteCount': 0, 'inserts': 1, 'deletes': 0, 'occurrences': 1}, 'html': {'textLineCount': 99, 'binByteCount': 0, 'inserts': 2, 'deletes': 0, 'occurrences': 2}, 'md': {'textLineCount': 53, 'binByteCount': 0, 'inserts': 2, 'deletes': 0, 'occurrences': 2}, 'png': {'textLineCount': 0, 'binByteCount': 10997, 'inserts': 0, 'deletes': 0, 'occurrences': 1}, 'lock': {'textLineCount': 11909, 'binByteCount': 0, 'inserts': 26, 'deletes': 0, 'occurrences': 3}, 'toml': {'textLineCount': 50, 'binByteCount': 0, 'inserts': 4, 'deletes': 0, 'occurrences': 4}, 'wasm': {'textLineCount': 0, 'binByteCount': 112164, 'inserts': 0, 'deletes': 0, 'occurrences': 1}, 'json': {'textLineCount': 12074, 'binByteCount': 0, 'inserts': 32, 'deletes': 0, 'occurrences': 7}, 'null': {'textLineCount': 39, 'binByteCount': 0, 'inserts': 6, 'deletes': 0, 'occurrences': 6}, 'sh': {'textLineCount': 39, 'binByteCount': 0, 'inserts': 6, 'deletes': 0, 'occurrences': 6}, 'rs': {'textLineCount': 89, 'binByteCount': 0, 'inserts': 4, 'deletes': 0, 'occurrences': 4}, 'TAG': {'textLineCount': 3, 'binByteCount': 0, 'inserts': 1, 'deletes': 0, 'occurrences': 1}, 'aqua': {'textLineCount': 50, 'binByteCount': 0, 'inserts': 2, 'deletes': 0, 'occurrences': 2}, 'js': {'textLineCount': 191, 'binByteCount': 0, 'inserts': 7, 'deletes': 0, 'occurrences': 7}, 'vue': {'textLineCount': 239, 'binByteCount': 0, 'inserts': 4, 'deletes': 0, 'occurrences': 4}, 'ts': {'textLineCount': 669, 'binByteCount': 0, 'inserts': 3, 'deletes': 0, 'occurrences': 3}}, 'files': '54', 'insertions(+)\\n': '25505'}\n",
      "{'commit': '717a17b9dcd14d6368f01f314843f8839a595dfd', 'totalFiles': 54, 'textLines': 25505, 'binBytes': 123161, 'rustLines': 89, 'jsLines': 860, 'textFiles': 52, 'binFiles': 2, 'rustFiles': 4, 'jsFiles': 10, 'totalBytes': 1398411, 'pctRustFiles': 7.4, 'pctJsFiles': 18.51, 'pctRustLines': 0.34, 'pctJsLines': 33.71, 'pctRustBytes': 0.31, 'pctJsBytes': 3.07, 'pctBinBytes': 8.8, 'pctTextBytes': 91.19}\n",
      "\n"
     ]
    }
   ],
   "source": [
    "all_stats = []\n",
    "\n",
    "for commit in rs_commits:\n",
    "    statDict = extract_stats(commit)\n",
    "    all_stats.append(statDict)\n",
    "\n",
    "for stats in all_stats[slice(10)]:\n",
    "    print(commit)\n",
    "    print(statDict)\n",
    "    print()"
   ]
  }
 ],
 "metadata": {
  "kernelspec": {
   "display_name": "Python 3 (ipykernel)",
   "language": "python",
   "name": "python3"
  },
  "language_info": {
   "codemirror_mode": {
    "name": "ipython",
    "version": 3
   },
   "file_extension": ".py",
   "mimetype": "text/x-python",
   "name": "python",
   "nbconvert_exporter": "python",
   "pygments_lexer": "ipython3",
   "version": "3.8.10"
  }
 },
 "nbformat": 4,
 "nbformat_minor": 5
}
