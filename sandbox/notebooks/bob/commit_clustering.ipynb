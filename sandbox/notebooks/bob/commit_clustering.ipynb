{
 "cells": [
  {
   "cell_type": "markdown",
   "id": "637ae421-cf52-4108-9d12-68f2385f3196",
   "metadata": {},
   "source": [
    "### set the base params"
   ]
  },
  {
   "cell_type": "code",
   "execution_count": 2,
   "id": "e6387bac-2903-466b-bf65-17a2f184d824",
   "metadata": {},
   "outputs": [],
   "source": [
    "root = '/home/bob/projects/Web3HackerNetwork'\n",
    "dataset_dir = root + \"/data/github/2022-04-07-marine-search\"\n",
    "stats_dir = dataset_dir + \"/projects\""
   ]
  },
  {
   "cell_type": "markdown",
   "id": "eb6fa584-71d1-4a76-8284-faef96dd17a2",
   "metadata": {},
   "source": [
    "### define a method that finds all files with the same name"
   ]
  },
  {
   "cell_type": "code",
   "execution_count": 7,
   "id": "a8e8cf3c-9dae-47d2-ae35-3b2bafdd7c46",
   "metadata": {},
   "outputs": [],
   "source": [
    "import os\n",
    "def find_all(name, path):\n",
    "    result = []\n",
    "    for root, dirs, files in os.walk(path):\n",
    "        if name in files:\n",
    "            result.append(os.path.join(root, name))\n",
    "    return result"
   ]
  },
  {
   "cell_type": "markdown",
   "id": "b4359fab-f784-465e-abe9-35d643509e0f",
   "metadata": {},
   "source": [
    "### find all the commi stat JSON files"
   ]
  },
  {
   "cell_type": "code",
   "execution_count": 10,
   "id": "e987547e-0ca8-48d3-a6be-4f8e184801bf",
   "metadata": {},
   "outputs": [],
   "source": [
    "commit_files = find_all('commit-stat.log.json', stats_dir)"
   ]
  },
  {
   "cell_type": "markdown",
   "id": "2303dea7-4d98-4bb9-b298-c1e5f39f7669",
   "metadata": {},
   "source": [
    "### load all the files"
   ]
  },
  {
   "cell_type": "code",
   "execution_count": 16,
   "id": "f8dd1bca-ea64-423c-bec5-8df18dc64547",
   "metadata": {},
   "outputs": [
    {
     "name": "stdout",
     "output_type": "stream",
     "text": [
      "{'commit': 'fb528905fb6448e2b502f7de8fba877a2a995f6d', 'Author': 'tchataigner <tom.chataigner@yahoo.fr>', 'Date': 'Sun Aug 15 20', 'fileTypes': {'js': {'textLineCount': 26, 'binByteCount': 0, 'inserts': 17, 'deletes': 9, 'occurrences': 2}}, 'files': '2', 'insertions(+)': '17', 'deletions(-)\\n': '9'}\n"
     ]
    }
   ],
   "source": [
    "import json\n",
    "\n",
    "all_logs = []\n",
    "for file in commit_files:\n",
    "    in_stats = json.loads(open(file, 'r').read());\n",
    "    all_logs.append(in_stats)\n",
    "print(all_logs[0][0])"
   ]
  },
  {
   "cell_type": "code",
   "execution_count": 85,
   "id": "518e54d1-bea9-450e-be82-ef47edf4be57",
   "metadata": {},
   "outputs": [],
   "source": [
    "js_commits = []\n",
    "rs_commits = []\n",
    "all_commits = []\n",
    "\n",
    "js_types = ['js', 'jsx', 'ts', 'tsx']\n",
    "\n",
    "for log in all_logs:\n",
    "    #lines.append(\"\\n\")\n",
    "    for commit in log:\n",
    "        #lines.append(str(commit['commit']))\n",
    "        #print(commit['fileTypes'])\n",
    "        for ft in commit['fileTypes']:\n",
    "            all_commits.append(commit)\n",
    "            if ft in js_types:\n",
    "                js_commits.append(commit)\n",
    "            elif ft == 'rs':\n",
    "                rs_commits.append(commit)"
   ]
  },
  {
   "cell_type": "markdown",
   "id": "8d81b0e6-271a-4e38-9351-dc54ec8eac80",
   "metadata": {},
   "source": [
    "### method to extract statistics from the commit data"
   ]
  },
  {
   "cell_type": "code",
   "execution_count": 100,
   "id": "0555de93-9119-4c53-b3aa-18a1abf0c99b",
   "metadata": {},
   "outputs": [],
   "source": [
    "js_types = ['js', 'jsx', 'ts', 'tsx']\n",
    "\n",
    "def extract_stats(commit):\n",
    "    if 'files' in commit:\n",
    "        num_files = commit['files']\n",
    "    else:\n",
    "        num_files = commit['file']\n",
    "    statDict = {}\n",
    "    statDict['totalFiles'] = int(num_files)\n",
    "    typeDict = commit['fileTypes']\n",
    "    typeArray = [{'fileType': key, 'stats': typeDict[key]} for key in typeDict.keys()]\n",
    "    textTypeArray = [typeEntry for typeEntry in typeArray if typeEntry['stats']['textLineCount'] > 0]\n",
    "    binTypeArray = [typeEntry for typeEntry in typeArray if typeEntry['stats']['binByteCount'] > 0]\n",
    "    jsTypeArray = [typeEntry for typeEntry in typeArray if typeEntry['fileType'] in js_types]\n",
    "    rsTypeArray = [typeEntry for typeEntry in typeArray if typeEntry['fileType'] == 'rs']\n",
    "    statDict['textLines'] = sum([typeEntry['stats']['textLineCount'] for typeEntry in textTypeArray])\n",
    "    statDict['binBytes'] = sum([typeEntry['stats']['binByteCount'] for typeEntry in binTypeArray])\n",
    "    statDict['rustLines'] = sum([typeEntry['stats']['textLineCount'] for typeEntry in rsTypeArray])\n",
    "    statDict['jsLines'] = sum([typeEntry['stats']['textLineCount'] for typeEntry in jsTypeArray])\n",
    "    statDict['textFiles'] = sum([typeEntry['stats']['occurrences'] for typeEntry in textTypeArray])\n",
    "    statDict['binFiles'] = sum([typeEntry['stats']['occurrences'] for typeEntry in binTypeArray])\n",
    "    statDict['rustFiles'] = sum([typeEntry['stats']['occurrences'] for typeEntry in rsTypeArray])\n",
    "    statDict['jsFiles'] = sum([typeEntry['stats']['occurrences'] for typeEntry in jsTypeArray])\n",
    "    statDict['pctRustFiles'] = statDict['rustFiles'] / statDict['totalFiles']\n",
    "    statDict['pctJsFiles'] = statDict['jsFiles'] / statDict['totalFiles']\n",
    "    statDict['pctRustLines'] = statDict['rustLines'] / statDict['textLines']\n",
    "    statDict['pctJsLines'] = statDict['jsLines'] / statDict['textLines']\n",
    "    statDict['pctRustBytes'] = statDict['rustLines'] * 50 / ((statDict['textLines'] * 50) + statDict['binBytes'])\n",
    "    statDict['pctJsBytes'] = statDict['jsLines'] * 50 / ((statDict['textLines'] * 50) + statDict['binBytes'])\n",
    "    return statDict\n",
    "    # fileType['textLineCount'] for fileType in commit['fileTypes']]"
   ]
  },
  {
   "cell_type": "code",
   "execution_count": 101,
   "id": "9c658ed4-5c0e-4075-a6dd-bf2892ab3b50",
   "metadata": {},
   "outputs": [
    {
     "name": "stdout",
     "output_type": "stream",
     "text": [
      "{'commit': '643153483bbb7476897cbb4fc17939560c278b0f', 'Author': 'tchataigner <tom.chataigner@yahoo.fr>', 'Date': 'Sat Aug 14 21', 'fileTypes': {'null': {'textLineCount': 2, 'binByteCount': 0, 'inserts': 2, 'deletes': 0, 'occurrences': 1}, 'toml': {'textLineCount': 11, 'binByteCount': 0, 'inserts': 11, 'deletes': 0, 'occurrences': 1}, 'md': {'textLineCount': 22, 'binByteCount': 0, 'inserts': 22, 'deletes': 0, 'occurrences': 1}, 'json': {'textLineCount': 5, 'binByteCount': 0, 'inserts': 5, 'deletes': 0, 'occurrences': 1}, 'wasm': {'textLineCount': 0, 'binByteCount': 82934, 'inserts': 0, 'deletes': 0, 'occurrences': 1}, 'sh': {'textLineCount': 2, 'binByteCount': 0, 'inserts': 2, 'deletes': 0, 'occurrences': 1}, 'rs': {'textLineCount': 26, 'binByteCount': 0, 'inserts': 26, 'deletes': 0, 'occurrences': 1}}, 'files': '7', 'insertions(+)\\n': '68'}\n",
      "{'totalFiles': 7, 'textLines': 68, 'binBytes': 82934, 'rustLines': 26, 'jsLines': 0, 'textFiles': 6, 'binFiles': 1, 'rustFiles': 1, 'jsFiles': 0, 'pctRustFiles': 0.14285714285714285, 'pctJsFiles': 0.0, 'pctRustLines': 0.38235294117647056, 'pctJsLines': 0.0, 'pctRustBytes': 0.01505779878147659, 'pctJsBytes': 0.0}\n",
      "\n",
      "{'commit': '5629c4b1eae0d9db3dd25e5ada2d91393005a3d0', 'Author': 'amrosaeed <amrosaeed.amin@gmail.com>', 'Date': 'Sat Sep 11 04', 'fileTypes': {'sh': {'textLineCount': 718, 'binByteCount': 0, 'inserts': 52, 'deletes': 0, 'occurrences': 52}, 'yml': {'textLineCount': 233, 'binByteCount': 0, 'inserts': 3, 'deletes': 0, 'occurrences': 3}, 'gitignore': {'textLineCount': 14, 'binByteCount': 0, 'inserts': 1, 'deletes': 0, 'occurrences': 1}, 'null': {'textLineCount': 888, 'binByteCount': 0, 'inserts': 69, 'deletes': 0, 'occurrences': 71}, 'md': {'textLineCount': 5858, 'binByteCount': 0, 'inserts': 36, 'deletes': 0, 'occurrences': 36}, 'aqua': {'textLineCount': 1748, 'binByteCount': 0, 'inserts': 26, 'deletes': 0, 'occurrences': 26}, 'json': {'textLineCount': 369338, 'binByteCount': 0, 'inserts': 275, 'deletes': 0, 'occurrences': 141}, 'ts': {'textLineCount': 4870, 'binByteCount': 0, 'inserts': 54, 'deletes': 0, 'occurrences': 54}, 'toml': {'textLineCount': 1513, 'binByteCount': 0, 'inserts': 110, 'deletes': 0, 'occurrences': 110}, 'rs': {'textLineCount': 6927, 'binByteCount': 0, 'inserts': 99, 'deletes': 0, 'occurrences': 99}, 'png': {'textLineCount': 0, 'binByteCount': 7160304, 'inserts': 0, 'deletes': 0, 'occurrences': 48}, 'ico': {'textLineCount': 0, 'binByteCount': 169540, 'inserts': 0, 'deletes': 0, 'occurrences': 14}, 'html': {'textLineCount': 576, 'binByteCount': 0, 'inserts': 14, 'deletes': 0, 'occurrences': 14}, 'txt': {'textLineCount': 266, 'binByteCount': 0, 'inserts': 16, 'deletes': 0, 'occurrences': 16}, 'scss': {'textLineCount': 2716, 'binByteCount': 0, 'inserts': 18, 'deletes': 0, 'occurrences': 18}, 'tsx': {'textLineCount': 2078, 'binByteCount': 0, 'inserts': 42, 'deletes': 0, 'occurrences': 42}, 'css': {'textLineCount': 130, 'binByteCount': 0, 'inserts': 10, 'deletes': 0, 'occurrences': 10}, 'svg': {'textLineCount': 170, 'binByteCount': 0, 'inserts': 10, 'deletes': 0, 'occurrences': 10}, 'js': {'textLineCount': 2980, 'binByteCount': 0, 'inserts': 18, 'deletes': 0, 'occurrences': 18}, 'clj': {'textLineCount': 1106, 'binByteCount': 0, 'inserts': 46, 'deletes': 0, 'occurrences': 46}, 'air': {'textLineCount': 788, 'binByteCount': 0, 'inserts': 22, 'deletes': 0, 'occurrences': 22}}, 'files': '851', 'insertions(+)\\n': '402917'}\n",
      "{'totalFiles': 851, 'textLines': 402917, 'binBytes': 7329844, 'rustLines': 6927, 'jsLines': 9928, 'textFiles': 789, 'binFiles': 62, 'rustFiles': 99, 'jsFiles': 114, 'pctRustFiles': 0.11633372502937721, 'pctJsFiles': 0.13396004700352526, 'pctRustLines': 0.017192126418096036, 'pctJsLines': 0.024640310535420446, 'pctRustBytes': 0.012605687048341708, 'pctJsBytes': 0.018066877582782803}\n",
      "\n",
      "{'commit': '277377bbc88f97aa087e14a31b8defed4dbc1af1', 'Author': 'Artyom Lisovskii <artyom@lisovskij.ru>', 'Date': 'Sun Feb 6 10', 'fileTypes': {'null': {'textLineCount': 30, 'binByteCount': 0, 'inserts': 2, 'deletes': 0, 'occurrences': 2}, 'aqua': {'textLineCount': 14, 'binByteCount': 0, 'inserts': 2, 'deletes': 0, 'occurrences': 2}, 'json': {'textLineCount': 8611, 'binByteCount': 0, 'inserts': 23, 'deletes': 0, 'occurrences': 4}, 'ts': {'textLineCount': 75, 'binByteCount': 0, 'inserts': 2, 'deletes': 0, 'occurrences': 2}, 'toml': {'textLineCount': 30, 'binByteCount': 0, 'inserts': 3, 'deletes': 0, 'occurrences': 3}, 'sh': {'textLineCount': 16, 'binByteCount': 0, 'inserts': 1, 'deletes': 0, 'occurrences': 1}, 'lock': {'textLineCount': 2991, 'binByteCount': 0, 'inserts': 7, 'deletes': 0, 'occurrences': 1}, 'rs': {'textLineCount': 219, 'binByteCount': 0, 'inserts': 3, 'deletes': 0, 'occurrences': 3}, 'md': {'textLineCount': 62, 'binByteCount': 0, 'inserts': 1, 'deletes': 0, 'occurrences': 1}}, 'files': '19', 'insertions(+)\\n': '12048'}\n",
      "{'totalFiles': 19, 'textLines': 12048, 'binBytes': 0, 'rustLines': 219, 'jsLines': 75, 'textFiles': 19, 'binFiles': 0, 'rustFiles': 3, 'jsFiles': 2, 'pctRustFiles': 0.15789473684210525, 'pctJsFiles': 0.10526315789473684, 'pctRustLines': 0.018177290836653388, 'pctJsLines': 0.006225099601593625, 'pctRustBytes': 0.018177290836653388, 'pctJsBytes': 0.006225099601593625}\n",
      "\n",
      "{'commit': 'cbb10508e82e1b6c4758ae98d3424abbe72ba7e1', 'Author': 'SurroundingArt <97761020+SurroundingArt64@users.noreply.github.com>', 'Date': 'Wed Feb 9 20', 'fileTypes': {'null': {'textLineCount': 2, 'binByteCount': 0, 'inserts': 1, 'deletes': 1, 'occurrences': 1}, 'wasm': {'textLineCount': 0, 'binByteCount': 67013, 'inserts': 0, 'deletes': 0, 'occurrences': 1}, 'rs': {'textLineCount': 25, 'binByteCount': 0, 'inserts': 6, 'deletes': 19, 'occurrences': 1}}, 'files': '3', 'insertions(+)': '7', 'deletions(-)\\n': '20'}\n",
      "{'totalFiles': 3, 'textLines': 27, 'binBytes': 67013, 'rustLines': 25, 'jsLines': 0, 'textFiles': 2, 'binFiles': 1, 'rustFiles': 1, 'jsFiles': 0, 'pctRustFiles': 0.3333333333333333, 'pctJsFiles': 0.0, 'pctRustLines': 0.9259259259259259, 'pctJsLines': 0.0, 'pctRustBytes': 0.018284744671825403, 'pctJsBytes': 0.0}\n",
      "\n",
      "{'commit': '49b2ecd8e05b60a892f0d02e19589a30fe18b172', 'Author': 'SurroundingArt <97761020+SurroundingArt64@users.noreply.github.com>', 'Date': 'Wed Feb 9 19', 'fileTypes': {'tsx': {'textLineCount': 1, 'binByteCount': 0, 'inserts': 0, 'deletes': 1, 'occurrences': 1}, 'lock': {'textLineCount': 106, 'binByteCount': 0, 'inserts': 25, 'deletes': 0, 'occurrences': 1}, 'toml': {'textLineCount': 2, 'binByteCount': 0, 'inserts': 1, 'deletes': 0, 'occurrences': 1}, 'wasm': {'textLineCount': 0, 'binByteCount': -3, 'inserts': 0, 'deletes': 0, 'occurrences': 1}, 'rs': {'textLineCount': 42, 'binByteCount': 0, 'inserts': 10, 'deletes': 0, 'occurrences': 1}}, 'files': '5', 'insertions(+)': '150', 'deletion(-)\\n': '1'}\n",
      "{'totalFiles': 5, 'textLines': 151, 'binBytes': 0, 'rustLines': 42, 'jsLines': 1, 'textFiles': 4, 'binFiles': 0, 'rustFiles': 1, 'jsFiles': 1, 'pctRustFiles': 0.2, 'pctJsFiles': 0.2, 'pctRustLines': 0.2781456953642384, 'pctJsLines': 0.006622516556291391, 'pctRustBytes': 0.2781456953642384, 'pctJsBytes': 0.006622516556291391}\n",
      "\n",
      "{'commit': 'c3603d9be984dd5791d9de48ac38cfa68372e0fa', 'Author': 'SurroundingArt <97761020+SurroundingArt64@users.noreply.github.com>', 'Date': 'Wed Feb 9 16', 'fileTypes': {'aqua': {'textLineCount': 22, 'binByteCount': 0, 'inserts': 4, 'deletes': 4, 'occurrences': 1}, 'tsx': {'textLineCount': 15, 'binByteCount': 0, 'inserts': 3, 'deletes': 3, 'occurrences': 1}, 'ts': {'textLineCount': 69, 'binByteCount': 0, 'inserts': 21, 'deletes': 4, 'occurrences': 1}, 'null': {'textLineCount': 45, 'binByteCount': 0, 'inserts': 13, 'deletes': 3, 'occurrences': 1}, 'wasm': {'textLineCount': 0, 'binByteCount': 3117, 'inserts': 0, 'deletes': 0, 'occurrences': 1}, 'json': {'textLineCount': 6, 'binByteCount': 0, 'inserts': 2, 'deletes': 1, 'occurrences': 1}, 'md': {'textLineCount': 2, 'binByteCount': 0, 'inserts': 1, 'deletes': 1, 'occurrences': 1}, 'rs': {'textLineCount': 12, 'binByteCount': 0, 'inserts': 3, 'deletes': 2, 'occurrences': 1}}, 'files': '8', 'insertions(+)': '131', 'deletions(-)\\n': '40'}\n",
      "{'totalFiles': 8, 'textLines': 171, 'binBytes': 3117, 'rustLines': 12, 'jsLines': 84, 'textFiles': 7, 'binFiles': 1, 'rustFiles': 1, 'jsFiles': 2, 'pctRustFiles': 0.125, 'pctJsFiles': 0.25, 'pctRustLines': 0.07017543859649122, 'pctJsLines': 0.49122807017543857, 'pctRustBytes': 0.05142710208279763, 'pctJsBytes': 0.35998971457958345}\n",
      "\n",
      "{'commit': '8f48f0ef4b75098ae38f1dadf65e8de534364090', 'Author': 'AquaRules <aquarules22@gmail.com>', 'Date': 'Wed Feb 9 16', 'fileTypes': {'rs': {'textLineCount': 30, 'binByteCount': 0, 'inserts': 22, 'deletes': 8, 'occurrences': 1}}, 'file': '1', 'insertions(+)': '22', 'deletions(-)\\n': '8'}\n",
      "{'totalFiles': 1, 'textLines': 30, 'binBytes': 0, 'rustLines': 30, 'jsLines': 0, 'textFiles': 1, 'binFiles': 0, 'rustFiles': 1, 'jsFiles': 0, 'pctRustFiles': 1.0, 'pctJsFiles': 0.0, 'pctRustLines': 1.0, 'pctJsLines': 0.0, 'pctRustBytes': 1.0, 'pctJsBytes': 0.0}\n",
      "\n",
      "{'commit': 'ecfc0a31ca0ccf1064eb6d487b0bedfbce960a89', 'Author': 'AquaRules <aquarules22@gmail.com>', 'Date': 'Wed Feb 9 15', 'fileTypes': {'rs': {'textLineCount': 6, 'binByteCount': 0, 'inserts': 1, 'deletes': 5, 'occurrences': 1}}, 'file': '1', 'insertion(+)': '1', 'deletions(-)\\n': '5'}\n",
      "{'totalFiles': 1, 'textLines': 6, 'binBytes': 0, 'rustLines': 6, 'jsLines': 0, 'textFiles': 1, 'binFiles': 0, 'rustFiles': 1, 'jsFiles': 0, 'pctRustFiles': 1.0, 'pctJsFiles': 0.0, 'pctRustLines': 1.0, 'pctJsLines': 0.0, 'pctRustBytes': 1.0, 'pctJsBytes': 0.0}\n",
      "\n",
      "{'commit': 'db0381b114925165b22a36b91f9774e67e28c648', 'Author': 'AquaRules <aquarules22@gmail.com>', 'Date': 'Wed Feb 9 15', 'fileTypes': {'rs': {'textLineCount': 13, 'binByteCount': 0, 'inserts': 6, 'deletes': 7, 'occurrences': 1}}, 'file': '1', 'insertions(+)': '6', 'deletions(-)\\n': '7'}\n",
      "{'totalFiles': 1, 'textLines': 13, 'binBytes': 0, 'rustLines': 13, 'jsLines': 0, 'textFiles': 1, 'binFiles': 0, 'rustFiles': 1, 'jsFiles': 0, 'pctRustFiles': 1.0, 'pctJsFiles': 0.0, 'pctRustLines': 1.0, 'pctJsLines': 0.0, 'pctRustBytes': 1.0, 'pctJsBytes': 0.0}\n",
      "\n",
      "{'commit': 'af58e00ebc0d7e2caa7c236c691fad22326f332c', 'Author': 'AquaRules <aquarules22@gmail.com>', 'Date': 'Wed Feb 9 15', 'fileTypes': {'rs': {'textLineCount': 25, 'binByteCount': 0, 'inserts': 14, 'deletes': 11, 'occurrences': 1}}, 'file': '1', 'insertions(+)': '14', 'deletions(-)\\n': '11'}\n",
      "{'totalFiles': 1, 'textLines': 25, 'binBytes': 0, 'rustLines': 25, 'jsLines': 0, 'textFiles': 1, 'binFiles': 0, 'rustFiles': 1, 'jsFiles': 0, 'pctRustFiles': 1.0, 'pctJsFiles': 0.0, 'pctRustLines': 1.0, 'pctJsLines': 0.0, 'pctRustBytes': 1.0, 'pctJsBytes': 0.0}\n",
      "\n"
     ]
    }
   ],
   "source": [
    "for commit in rs_commits[slice(10)]:\n",
    "    print(commit)\n",
    "    statDict = extract_stats(commit)\n",
    "    print(statDict)\n",
    "    print()"
   ]
  }
 ],
 "metadata": {
  "kernelspec": {
   "display_name": "Python 3 (ipykernel)",
   "language": "python",
   "name": "python3"
  },
  "language_info": {
   "codemirror_mode": {
    "name": "ipython",
    "version": 3
   },
   "file_extension": ".py",
   "mimetype": "text/x-python",
   "name": "python",
   "nbconvert_exporter": "python",
   "pygments_lexer": "ipython3",
   "version": "3.8.10"
  }
 },
 "nbformat": 4,
 "nbformat_minor": 5
}
