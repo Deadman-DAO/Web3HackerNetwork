{
 "cells": [
  {
   "cell_type": "markdown",
   "id": "eb6fa584-71d1-4a76-8284-faef96dd17a2",
   "metadata": {},
   "source": [
    "### data loader and parser"
   ]
  },
  {
   "cell_type": "code",
   "execution_count": 1,
   "id": "a8e8cf3c-9dae-47d2-ae35-3b2bafdd7c46",
   "metadata": {},
   "outputs": [],
   "source": [
    "import os\n",
    "import json\n",
    "\n",
    "def find_files(name, path):\n",
    "    result = []\n",
    "    for root, dirs, files in os.walk(path):\n",
    "        if name in files:\n",
    "            result.append(os.path.join(root, name))\n",
    "    return result\n",
    "\n",
    "def parse_commits(commit_files):\n",
    "    all_logs = []\n",
    "    all_commits = []\n",
    "    for file in commit_files:\n",
    "        in_stats = json.loads(open(file, 'r').read());\n",
    "        all_logs.append(in_stats)\n",
    "        for commit in in_stats:\n",
    "            all_commits.append(commit)\n",
    "    return all_commits"
   ]
  },
  {
   "cell_type": "markdown",
   "id": "5780fba5-9603-4807-a806-6444fd6b3df0",
   "metadata": {},
   "source": [
    "# The Main Event\n",
    "This is where the magic happens. If you want to extend the processed statistics, this is where to do it."
   ]
  },
  {
   "cell_type": "code",
   "execution_count": 2,
   "id": "f758c7ee-5c29-4792-9adb-7076a1e5ff5a",
   "metadata": {},
   "outputs": [],
   "source": [
    "def percent(numerator, denominator):\n",
    "    if (numerator == 0): return 0\n",
    "    truncated = int(100 * 100 * numerator / denominator)\n",
    "    return truncated / 100\n",
    "\n",
    "def extract_stats(commit):\n",
    "    js_types = ['js', 'jsx', 'ts', 'tsx']\n",
    "    rust_types = ['rs', 'toml']\n",
    "    chars_per_text_line = 30 # just a heuristic for approximating relative weight\n",
    "    \n",
    "    if 'files' in commit:\n",
    "        num_files = commit['files']\n",
    "    else:\n",
    "        num_files = commit['file']\n",
    "    typeDict = commit['fileTypes']\n",
    "    typeArray = [{'fileType': key, 'stats': typeDict[key]} for key in typeDict.keys()]\n",
    "    textTypeArray = [typeEntry for typeEntry in typeArray if typeEntry['stats']['textLineCount'] > 0]\n",
    "    binTypeArray = [typeEntry for typeEntry in typeArray if typeEntry['stats']['binByteCount'] > 0]\n",
    "    jsTypeArray = [typeEntry for typeEntry in typeArray if typeEntry['fileType'] in js_types]\n",
    "    rsTypeArray = [typeEntry for typeEntry in typeArray if typeEntry['fileType'] in rust_types]\n",
    "    \n",
    "    statDict = {}\n",
    "    statDict['commit'] = commit['commit']\n",
    "    \n",
    "    statDict['totalFiles'] = int(num_files)\n",
    "    statDict['binFiles'] = sum([typeEntry['stats']['occurrences'] for typeEntry in binTypeArray])\n",
    "    statDict['textFiles'] = sum([typeEntry['stats']['occurrences'] for typeEntry in textTypeArray])\n",
    "    \n",
    "    statDict['binBytes'] = sum([typeEntry['stats']['binByteCount'] for typeEntry in binTypeArray])\n",
    "    statDict['textLines'] = sum([typeEntry['stats']['textLineCount'] for typeEntry in textTypeArray])\n",
    "    \n",
    "    statDict['totalBytes'] = statDict['textLines'] * chars_per_text_line + statDict['binBytes']\n",
    "    statDict['pctBinBytes'] = percent(statDict['binBytes'], statDict['totalBytes'])\n",
    "    statDict['pctTextBytes'] = percent(statDict['textLines'] * chars_per_text_line, statDict['totalBytes'])\n",
    "    \n",
    "    statDict['jsFiles'] = sum([typeEntry['stats']['occurrences'] for typeEntry in jsTypeArray])\n",
    "    statDict['jsLines'] = sum([typeEntry['stats']['textLineCount'] for typeEntry in jsTypeArray])\n",
    "    statDict['pctJsFiles'] = percent(statDict['jsFiles'], statDict['totalFiles'])\n",
    "    statDict['pctJsLines'] = percent(statDict['jsLines'], statDict['textLines'])\n",
    "    statDict['pctJsBytes'] = percent(statDict['jsLines'] * chars_per_text_line, statDict['totalBytes'])\n",
    "    \n",
    "    statDict['rustFiles'] = sum([typeEntry['stats']['occurrences'] for typeEntry in rsTypeArray])\n",
    "    statDict['rustLines'] = sum([typeEntry['stats']['textLineCount'] for typeEntry in rsTypeArray])\n",
    "    statDict['pctRustFiles'] = percent(statDict['rustFiles'], statDict['totalFiles'])\n",
    "    statDict['pctRustLines'] = percent(statDict['rustLines'], statDict['textLines'])\n",
    "    statDict['pctRustBytes'] = percent(statDict['rustLines'] * chars_per_text_line, statDict['totalBytes'])\n",
    "    \n",
    "    return statDict"
   ]
  },
  {
   "cell_type": "markdown",
   "id": "a8961900-c453-4e34-af44-3268da996221",
   "metadata": {},
   "source": [
    "### orchestrator"
   ]
  },
  {
   "cell_type": "code",
   "execution_count": 3,
   "id": "937930fd-0bd2-4666-9dfc-6eea5e6db190",
   "metadata": {},
   "outputs": [],
   "source": [
    "# Example Project Root Path: /home/bob/projects/Web3HackerNetwork\n",
    "def get_stats_for_all_commits(project_root_path):\n",
    "    dataset_dir = project_root_path + \"/data/github/2022-04-07-marine-search\"\n",
    "    stats_dir = dataset_dir + \"/projects\"\n",
    "    \n",
    "    all_commit_logs = find_files('commit-stat.log.json', stats_dir)\n",
    "    all_commits = parse_commits(all_commit_logs)\n",
    "    all_stats = []\n",
    "    \n",
    "    for commit in all_commits:\n",
    "        commit_id = commit['commit']\n",
    "        commit_stats = extract_stats(commit)\n",
    "        all_stats.append(commit_stats)\n",
    "    \n",
    "    return all_stats"
   ]
  },
  {
   "cell_type": "markdown",
   "id": "70ea2767-fb6e-4353-bd16-3ddf669ecbb7",
   "metadata": {},
   "source": [
    "### human observer appeasement cell"
   ]
  },
  {
   "cell_type": "code",
   "execution_count": 4,
   "id": "289bf996-60ea-4acf-a76c-826593122dcf",
   "metadata": {},
   "outputs": [
    {
     "name": "stdout",
     "output_type": "stream",
     "text": [
      "{'commit': 'fb528905fb6448e2b502f7de8fba877a2a995f6d', 'totalFiles': 2, 'binFiles': 0, 'textFiles': 2, 'binBytes': 0, 'textLines': 26, 'totalBytes': 780, 'pctBinBytes': 0, 'pctTextBytes': 100.0, 'jsFiles': 2, 'jsLines': 26, 'pctJsFiles': 100.0, 'pctJsLines': 100.0, 'pctJsBytes': 100.0, 'rustFiles': 0, 'rustLines': 0, 'pctRustFiles': 0, 'pctRustLines': 0, 'pctRustBytes': 0}\n",
      "{'commit': '81e38a0da9ea79835d340a8b4ca8c47f127ddc6f', 'totalFiles': 1, 'binFiles': 0, 'textFiles': 1, 'binBytes': 0, 'textLines': 22, 'totalBytes': 660, 'pctBinBytes': 0, 'pctTextBytes': 100.0, 'jsFiles': 0, 'jsLines': 0, 'pctJsFiles': 0, 'pctJsLines': 0, 'pctJsBytes': 0, 'rustFiles': 0, 'rustLines': 0, 'pctRustFiles': 0, 'pctRustLines': 0, 'pctRustBytes': 0}\n",
      "{'commit': '1eaa1e1a964f946317297b6e4ee279bf4aced3a1', 'totalFiles': 1, 'binFiles': 0, 'textFiles': 1, 'binBytes': 0, 'textLines': 2, 'totalBytes': 60, 'pctBinBytes': 0, 'pctTextBytes': 100.0, 'jsFiles': 0, 'jsLines': 0, 'pctJsFiles': 0, 'pctJsLines': 0, 'pctJsBytes': 0, 'rustFiles': 0, 'rustLines': 0, 'pctRustFiles': 0, 'pctRustLines': 0, 'pctRustBytes': 0}\n",
      "{'commit': '18bd35ea8506d68b83ebba9fb0b40e638ea37042', 'totalFiles': 1, 'binFiles': 0, 'textFiles': 1, 'binBytes': 0, 'textLines': 200, 'totalBytes': 6000, 'pctBinBytes': 0, 'pctTextBytes': 100.0, 'jsFiles': 0, 'jsLines': 0, 'pctJsFiles': 0, 'pctJsLines': 0, 'pctJsBytes': 0, 'rustFiles': 0, 'rustLines': 0, 'pctRustFiles': 0, 'pctRustLines': 0, 'pctRustBytes': 0}\n",
      "{'commit': 'a5e15bb0193e835e1eba4e4fd36bdb66cde45695', 'totalFiles': 1, 'binFiles': 0, 'textFiles': 1, 'binBytes': 0, 'textLines': 1, 'totalBytes': 30, 'pctBinBytes': 0, 'pctTextBytes': 100.0, 'jsFiles': 0, 'jsLines': 0, 'pctJsFiles': 0, 'pctJsLines': 0, 'pctJsBytes': 0, 'rustFiles': 0, 'rustLines': 0, 'pctRustFiles': 0, 'pctRustLines': 0, 'pctRustBytes': 0}\n",
      "{'commit': '31ff2b9db37691a15a89a0c324c89f3a30cf403a', 'totalFiles': 1, 'binFiles': 0, 'textFiles': 1, 'binBytes': 0, 'textLines': 4, 'totalBytes': 120, 'pctBinBytes': 0, 'pctTextBytes': 100.0, 'jsFiles': 1, 'jsLines': 4, 'pctJsFiles': 100.0, 'pctJsLines': 100.0, 'pctJsBytes': 100.0, 'rustFiles': 0, 'rustLines': 0, 'pctRustFiles': 0, 'pctRustLines': 0, 'pctRustBytes': 0}\n",
      "{'commit': 'f842ae958157cbd31db5d62898a95cf023ae600b', 'totalFiles': 3, 'binFiles': 0, 'textFiles': 3, 'binBytes': 0, 'textLines': 73, 'totalBytes': 2190, 'pctBinBytes': 0, 'pctTextBytes': 100.0, 'jsFiles': 0, 'jsLines': 0, 'pctJsFiles': 0, 'pctJsLines': 0, 'pctJsBytes': 0, 'rustFiles': 0, 'rustLines': 0, 'pctRustFiles': 0, 'pctRustLines': 0, 'pctRustBytes': 0}\n",
      "{'commit': '6d8a792f9d98776ce2b54bd3664859c48517ce3e', 'totalFiles': 4, 'binFiles': 0, 'textFiles': 4, 'binBytes': 0, 'textLines': 19, 'totalBytes': 570, 'pctBinBytes': 0, 'pctTextBytes': 100.0, 'jsFiles': 4, 'jsLines': 19, 'pctJsFiles': 100.0, 'pctJsLines': 100.0, 'pctJsBytes': 100.0, 'rustFiles': 0, 'rustLines': 0, 'pctRustFiles': 0, 'pctRustLines': 0, 'pctRustBytes': 0}\n",
      "{'commit': 'e39adb589645e71c3fb975f69be3bca76a53f794', 'totalFiles': 5, 'binFiles': 1, 'textFiles': 4, 'binBytes': 82988, 'textLines': 100, 'totalBytes': 85988, 'pctBinBytes': 96.51, 'pctTextBytes': 3.48, 'jsFiles': 4, 'jsLines': 100, 'pctJsFiles': 80.0, 'pctJsLines': 100.0, 'pctJsBytes': 3.48, 'rustFiles': 0, 'rustLines': 0, 'pctRustFiles': 0, 'pctRustLines': 0, 'pctRustBytes': 0}\n",
      "{'commit': 'bb7763dfeb88478c1fcf3e6fb75f8d1929a83255', 'totalFiles': 2, 'binFiles': 0, 'textFiles': 2, 'binBytes': 0, 'textLines': 16, 'totalBytes': 480, 'pctBinBytes': 0, 'pctTextBytes': 100.0, 'jsFiles': 1, 'jsLines': 15, 'pctJsFiles': 50.0, 'pctJsLines': 93.75, 'pctJsBytes': 93.75, 'rustFiles': 0, 'rustLines': 0, 'pctRustFiles': 0, 'pctRustLines': 0, 'pctRustBytes': 0}\n"
     ]
    }
   ],
   "source": [
    "all_commit_stats = get_stats_for_all_commits('/home/bob/projects/Web3HackerNetwork')\n",
    "for stat in all_commit_stats[slice(10)]:\n",
    "    print(stat)"
   ]
  }
 ],
 "metadata": {
  "kernelspec": {
   "display_name": "Python 3 (ipykernel)",
   "language": "python",
   "name": "python3"
  },
  "language_info": {
   "codemirror_mode": {
    "name": "ipython",
    "version": 3
   },
   "file_extension": ".py",
   "mimetype": "text/x-python",
   "name": "python",
   "nbconvert_exporter": "python",
   "pygments_lexer": "ipython3",
   "version": "3.8.10"
  }
 },
 "nbformat": 4,
 "nbformat_minor": 5
}
