{
 "cells": [
  {
   "cell_type": "code",
   "execution_count": 1,
   "id": "937930fd-0bd2-4666-9dfc-6eea5e6db190",
   "metadata": {},
   "outputs": [],
   "source": [
    "import sys\n",
    "sys.path.append(\"/home/bob/projects/Web3HackerNetwork/sandbox/python/bob/\")\n",
    "import commit_stat_engineering"
   ]
  },
  {
   "cell_type": "code",
   "execution_count": 3,
   "id": "289bf996-60ea-4acf-a76c-826593122dcf",
   "metadata": {},
   "outputs": [
    {
     "name": "stdout",
     "output_type": "stream",
     "text": [
      "{'commit': 'fb528905fb6448e2b502f7de8fba877a2a995f6d', 'totalFiles': 2, 'binFiles': 0, 'textFiles': 2, 'binBytes': 0, 'textLines': 26, 'totalBytes': 780, 'pctBinBytes': 0, 'pctTextBytes': 100.0, 'jsFiles': 2, 'jsLines': 26, 'pctJsFiles': 100.0, 'pctJsLines': 100.0, 'pctJsBytes': 100.0, 'rustFiles': 0, 'rustLines': 0, 'pctRustFiles': 0, 'pctRustLines': 0, 'pctRustBytes': 0}\n"
     ]
    }
   ],
   "source": [
    "project_root_path = '/home/bob/projects/Web3HackerNetwork'\n",
    "dataset_dir = project_root_path + '/data/github/2022-04-07-marine-search'\n",
    "project_stats_dir = dataset_dir + '/projects'\n",
    "all_commit_logs = commit_stat_engineering.find_files('commit-stat.log.json', project_stats_dir)\n",
    "all_commit_stats = commit_stat_engineering.get_stats_for_all_commits(all_commit_logs)\n",
    "\n",
    "for stat in all_commit_stats[slice(1)]:\n",
    "    print(stat)"
   ]
  }
 ],
 "metadata": {
  "kernelspec": {
   "display_name": "Python 3 (ipykernel)",
   "language": "python",
   "name": "python3"
  },
  "language_info": {
   "codemirror_mode": {
    "name": "ipython",
    "version": 3
   },
   "file_extension": ".py",
   "mimetype": "text/x-python",
   "name": "python",
   "nbconvert_exporter": "python",
   "pygments_lexer": "ipython3",
   "version": "3.8.10"
  }
 },
 "nbformat": 4,
 "nbformat_minor": 5
}
