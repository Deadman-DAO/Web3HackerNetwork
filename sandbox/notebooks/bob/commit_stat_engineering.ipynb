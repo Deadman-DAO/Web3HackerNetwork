{
 "cells": [
  {
   "cell_type": "code",
   "execution_count": 1,
   "id": "ead115f3-50d5-49a2-a86a-1089a15cee58",
   "metadata": {},
   "outputs": [],
   "source": [
    "project_root_path = '/home/bob/projects/Web3HackerNetwork'"
   ]
  },
  {
   "cell_type": "code",
   "execution_count": 2,
   "id": "937930fd-0bd2-4666-9dfc-6eea5e6db190",
   "metadata": {},
   "outputs": [],
   "source": [
    "import sys\n",
    "\n",
    "bob_lib_path = project_root_path + \"/sandbox/python/bob/\"\n",
    "sys.path.append(bob_lib_path)\n",
    "import commit_stat_engineering"
   ]
  },
  {
   "cell_type": "code",
   "execution_count": 3,
   "id": "289bf996-60ea-4acf-a76c-826593122dcf",
   "metadata": {},
   "outputs": [
    {
     "name": "stdout",
     "output_type": "stream",
     "text": [
      "{\n",
      "  \"commit\": \"fb528905fb6448e2b502f7de8fba877a2a995f6d\",\n",
      "  \"totalFiles\": 2,\n",
      "  \"binFiles\": 0,\n",
      "  \"textFiles\": 2,\n",
      "  \"binBytes\": 0,\n",
      "  \"textLines\": 26,\n",
      "  \"totalBytes\": 780,\n",
      "  \"pctBinBytes\": 0,\n",
      "  \"pctTextBytes\": 100.0,\n",
      "  \"jsFiles\": 2,\n",
      "  \"jsLines\": 26,\n",
      "  \"pctJsFiles\": 100.0,\n",
      "  \"pctJsLines\": 100.0,\n",
      "  \"pctJsBytes\": 100.0,\n",
      "  \"rustFiles\": 0,\n",
      "  \"rustLines\": 0,\n",
      "  \"pctRustFiles\": 0,\n",
      "  \"pctRustLines\": 0,\n",
      "  \"pctRustBytes\": 0,\n",
      "  \"markdownFiles\": 0,\n",
      "  \"markdownLines\": 0,\n",
      "  \"pctMarkdownFiles\": 0,\n",
      "  \"pctMarkdownLines\": 0,\n",
      "  \"pctMarkdownBytes\": 0,\n",
      "  \"jsonFiles\": 0,\n",
      "  \"jsonLines\": 0,\n",
      "  \"pctJsonFiles\": 0,\n",
      "  \"pctJsonLines\": 0,\n",
      "  \"pctJsonBytes\": 0\n",
      "}\n"
     ]
    }
   ],
   "source": [
    "import json\n",
    "\n",
    "dataset_dir = project_root_path + '/data/github/2022-04-07-marine-search'\n",
    "project_stats_dir = dataset_dir + '/projects'\n",
    "all_commit_logs = commit_stat_engineering.find_files('commit-stat.log.json', project_stats_dir)\n",
    "all_commit_stats = commit_stat_engineering.get_stats_for_all_commits(all_commit_logs)\n",
    "\n",
    "for stat in all_commit_stats[slice(1)]:\n",
    "    print(json.dumps(stat, indent=2))"
   ]
  },
  {
   "cell_type": "code",
   "execution_count": null,
   "id": "00ad8735-8126-459d-9a12-561ee074edb8",
   "metadata": {},
   "outputs": [],
   "source": []
  }
 ],
 "metadata": {
  "kernelspec": {
   "display_name": "Python 3 (ipykernel)",
   "language": "python",
   "name": "python3"
  },
  "language_info": {
   "codemirror_mode": {
    "name": "ipython",
    "version": 3
   },
   "file_extension": ".py",
   "mimetype": "text/x-python",
   "name": "python",
   "nbconvert_exporter": "python",
   "pygments_lexer": "ipython3",
   "version": "3.8.10"
  }
 },
 "nbformat": 4,
 "nbformat_minor": 5
}
