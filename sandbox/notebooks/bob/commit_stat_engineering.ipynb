{
 "cells": [
  {
   "cell_type": "markdown",
   "id": "637ae421-cf52-4108-9d12-68f2385f3196",
   "metadata": {},
   "source": [
    "### set the base params"
   ]
  },
  {
   "cell_type": "code",
   "execution_count": 1,
   "id": "e6387bac-2903-466b-bf65-17a2f184d824",
   "metadata": {},
   "outputs": [],
   "source": [
    "root = '/home/bob/projects/Web3HackerNetwork'\n",
    "dataset_dir = root + \"/data/github/2022-04-07-marine-search\"\n",
    "stats_dir = dataset_dir + \"/projects\""
   ]
  },
  {
   "cell_type": "markdown",
   "id": "eb6fa584-71d1-4a76-8284-faef96dd17a2",
   "metadata": {},
   "source": [
    "### define a method that finds all files with the same name"
   ]
  },
  {
   "cell_type": "code",
   "execution_count": 2,
   "id": "a8e8cf3c-9dae-47d2-ae35-3b2bafdd7c46",
   "metadata": {},
   "outputs": [],
   "source": [
    "import os\n",
    "def find_all(name, path):\n",
    "    result = []\n",
    "    for root, dirs, files in os.walk(path):\n",
    "        if name in files:\n",
    "            result.append(os.path.join(root, name))\n",
    "    return result"
   ]
  },
  {
   "cell_type": "markdown",
   "id": "b4359fab-f784-465e-abe9-35d643509e0f",
   "metadata": {},
   "source": [
    "### find all the commit stat JSON files"
   ]
  },
  {
   "cell_type": "code",
   "execution_count": 3,
   "id": "e987547e-0ca8-48d3-a6be-4f8e184801bf",
   "metadata": {},
   "outputs": [],
   "source": [
    "commit_files = find_all('commit-stat.log.json', stats_dir)"
   ]
  },
  {
   "cell_type": "markdown",
   "id": "2303dea7-4d98-4bb9-b298-c1e5f39f7669",
   "metadata": {},
   "source": [
    "### load all the files"
   ]
  },
  {
   "cell_type": "code",
   "execution_count": 4,
   "id": "f8dd1bca-ea64-423c-bec5-8df18dc64547",
   "metadata": {},
   "outputs": [
    {
     "name": "stdout",
     "output_type": "stream",
     "text": [
      "{'commit': 'fb528905fb6448e2b502f7de8fba877a2a995f6d', 'Author': 'tchataigner <tom.chataigner@yahoo.fr>', 'Date': 'Sun Aug 15 20', 'fileTypes': {'js': {'textLineCount': 26, 'binByteCount': 0, 'inserts': 17, 'deletes': 9, 'occurrences': 2}}, 'files': '2', 'insertions(+)': '17', 'deletions(-)\\n': '9'}\n"
     ]
    }
   ],
   "source": [
    "import json\n",
    "\n",
    "all_logs = []\n",
    "for file in commit_files:\n",
    "    in_stats = json.loads(open(file, 'r').read());\n",
    "    all_logs.append(in_stats)\n",
    "print(all_logs[0][0])"
   ]
  },
  {
   "cell_type": "code",
   "execution_count": 5,
   "id": "518e54d1-bea9-450e-be82-ef47edf4be57",
   "metadata": {},
   "outputs": [],
   "source": [
    "js_commits = []\n",
    "rust_commits = []\n",
    "all_commits = []\n",
    "\n",
    "js_types = ['js', 'jsx', 'ts', 'tsx']\n",
    "rust_types = ['rs', 'toml']\n",
    "\n",
    "for log in all_logs:\n",
    "    #lines.append(\"\\n\")\n",
    "    for commit in log:\n",
    "        #lines.append(str(commit['commit']))\n",
    "        #print(commit['fileTypes'])\n",
    "        for ft in commit['fileTypes']:\n",
    "            all_commits.append(commit)\n",
    "            if ft in js_types:\n",
    "                js_commits.append(commit)\n",
    "            elif ft in rust_types:\n",
    "                rust_commits.append(commit)\n"
   ]
  },
  {
   "cell_type": "markdown",
   "id": "8d81b0e6-271a-4e38-9351-dc54ec8eac80",
   "metadata": {},
   "source": [
    "### method to extract statistics from the commit data"
   ]
  },
  {
   "cell_type": "code",
   "execution_count": 68,
   "id": "0555de93-9119-4c53-b3aa-18a1abf0c99b",
   "metadata": {},
   "outputs": [],
   "source": [
    "js_types = ['js', 'jsx', 'ts', 'tsx']\n",
    "rust_types = ['rs', 'toml']\n",
    "chars_per_text_line = 30 # just a heuristic for approximating relative weight\n",
    "\n",
    "def percent(numerator, denominator):\n",
    "    if (numerator == 0): return 0\n",
    "    truncated = int(100 * 100 * numerator / denominator)\n",
    "    return truncated / 100\n",
    "\n",
    "def extract_stats(commit):\n",
    "    if 'files' in commit:\n",
    "        num_files = commit['files']\n",
    "    else:\n",
    "        num_files = commit['file']\n",
    "    typeDict = commit['fileTypes']\n",
    "    typeArray = [{'fileType': key, 'stats': typeDict[key]} for key in typeDict.keys()]\n",
    "    textTypeArray = [typeEntry for typeEntry in typeArray if typeEntry['stats']['textLineCount'] > 0]\n",
    "    binTypeArray = [typeEntry for typeEntry in typeArray if typeEntry['stats']['binByteCount'] > 0]\n",
    "    jsTypeArray = [typeEntry for typeEntry in typeArray if typeEntry['fileType'] in js_types]\n",
    "    rsTypeArray = [typeEntry for typeEntry in typeArray if typeEntry['fileType'] in rust_types]\n",
    "    \n",
    "    statDict = {}\n",
    "    statDict['commit'] = commit['commit']\n",
    "    \n",
    "    statDict['totalFiles'] = int(num_files)\n",
    "    statDict['binFiles'] = sum([typeEntry['stats']['occurrences'] for typeEntry in binTypeArray])\n",
    "    statDict['textFiles'] = sum([typeEntry['stats']['occurrences'] for typeEntry in textTypeArray])\n",
    "    \n",
    "    statDict['binBytes'] = sum([typeEntry['stats']['binByteCount'] for typeEntry in binTypeArray])\n",
    "    statDict['textLines'] = sum([typeEntry['stats']['textLineCount'] for typeEntry in textTypeArray])\n",
    "    \n",
    "    statDict['totalBytes'] = statDict['textLines'] * chars_per_text_line + statDict['binBytes']\n",
    "    statDict['pctBinBytes'] = percent(statDict['binBytes'], statDict['totalBytes'])\n",
    "    statDict['pctTextBytes'] = percent(statDict['textLines'] * chars_per_text_line, statDict['totalBytes'])\n",
    "    \n",
    "    statDict['jsFiles'] = sum([typeEntry['stats']['occurrences'] for typeEntry in jsTypeArray])\n",
    "    statDict['jsLines'] = sum([typeEntry['stats']['textLineCount'] for typeEntry in jsTypeArray])\n",
    "    statDict['pctJsFiles'] = percent(statDict['jsFiles'], statDict['totalFiles'])\n",
    "    statDict['pctJsLines'] = percent(statDict['jsLines'], statDict['textLines'])\n",
    "    statDict['pctJsBytes'] = percent(statDict['jsLines'] * chars_per_text_line, statDict['totalBytes'])\n",
    "    \n",
    "    statDict['rustFiles'] = sum([typeEntry['stats']['occurrences'] for typeEntry in rsTypeArray])\n",
    "    statDict['rustLines'] = sum([typeEntry['stats']['textLineCount'] for typeEntry in rsTypeArray])\n",
    "    statDict['pctRustFiles'] = percent(statDict['rustFiles'], statDict['totalFiles'])\n",
    "    statDict['pctRustLines'] = percent(statDict['rustLines'], statDict['textLines'])\n",
    "    statDict['pctRustBytes'] = percent(statDict['rustLines'] * chars_per_text_line, statDict['totalBytes'])\n",
    "    \n",
    "    return statDict"
   ]
  },
  {
   "cell_type": "code",
   "execution_count": 121,
   "id": "9c658ed4-5c0e-4075-a6dd-bf2892ab3b50",
   "metadata": {},
   "outputs": [],
   "source": [
    "all_stats = []\n",
    "commit_map = {}\n",
    "stat_map = {}\n",
    "\n",
    "for commit in all_commits:\n",
    "    commit_id = commit['commit']\n",
    "    statDict = extract_stats(commit)\n",
    "    all_stats.append(statDict)\n",
    "    commit_map[commit_id] = commit\n",
    "    stat_map[commit_id] = statDict"
   ]
  },
  {
   "cell_type": "code",
   "execution_count": 126,
   "id": "ccb839c9-eab1-4862-9d02-9b87aa144c54",
   "metadata": {},
   "outputs": [
    {
     "name": "stdout",
     "output_type": "stream",
     "text": [
      "{'commit': 'fb528905fb6448e2b502f7de8fba877a2a995f6d', 'totalFiles': 2, 'binFiles': 0, 'textFiles': 2, 'binBytes': 0, 'textLines': 26, 'totalBytes': 780, 'pctBinBytes': 0, 'pctTextBytes': 100.0, 'jsFiles': 2, 'jsLines': 26, 'pctJsFiles': 100.0, 'pctJsLines': 100.0, 'pctJsBytes': 100.0, 'rustFiles': 0, 'rustLines': 0, 'pctRustFiles': 0, 'pctRustLines': 0, 'pctRustBytes': 0}\n",
      "{'commit': '81e38a0da9ea79835d340a8b4ca8c47f127ddc6f', 'totalFiles': 1, 'binFiles': 0, 'textFiles': 1, 'binBytes': 0, 'textLines': 22, 'totalBytes': 660, 'pctBinBytes': 0, 'pctTextBytes': 100.0, 'jsFiles': 0, 'jsLines': 0, 'pctJsFiles': 0, 'pctJsLines': 0, 'pctJsBytes': 0, 'rustFiles': 0, 'rustLines': 0, 'pctRustFiles': 0, 'pctRustLines': 0, 'pctRustBytes': 0}\n",
      "{'commit': '1eaa1e1a964f946317297b6e4ee279bf4aced3a1', 'totalFiles': 1, 'binFiles': 0, 'textFiles': 1, 'binBytes': 0, 'textLines': 2, 'totalBytes': 60, 'pctBinBytes': 0, 'pctTextBytes': 100.0, 'jsFiles': 0, 'jsLines': 0, 'pctJsFiles': 0, 'pctJsLines': 0, 'pctJsBytes': 0, 'rustFiles': 0, 'rustLines': 0, 'pctRustFiles': 0, 'pctRustLines': 0, 'pctRustBytes': 0}\n",
      "{'commit': '18bd35ea8506d68b83ebba9fb0b40e638ea37042', 'totalFiles': 1, 'binFiles': 0, 'textFiles': 1, 'binBytes': 0, 'textLines': 200, 'totalBytes': 6000, 'pctBinBytes': 0, 'pctTextBytes': 100.0, 'jsFiles': 0, 'jsLines': 0, 'pctJsFiles': 0, 'pctJsLines': 0, 'pctJsBytes': 0, 'rustFiles': 0, 'rustLines': 0, 'pctRustFiles': 0, 'pctRustLines': 0, 'pctRustBytes': 0}\n",
      "{'commit': 'a5e15bb0193e835e1eba4e4fd36bdb66cde45695', 'totalFiles': 1, 'binFiles': 0, 'textFiles': 1, 'binBytes': 0, 'textLines': 1, 'totalBytes': 30, 'pctBinBytes': 0, 'pctTextBytes': 100.0, 'jsFiles': 0, 'jsLines': 0, 'pctJsFiles': 0, 'pctJsLines': 0, 'pctJsBytes': 0, 'rustFiles': 0, 'rustLines': 0, 'pctRustFiles': 0, 'pctRustLines': 0, 'pctRustBytes': 0}\n",
      "{'commit': '31ff2b9db37691a15a89a0c324c89f3a30cf403a', 'totalFiles': 1, 'binFiles': 0, 'textFiles': 1, 'binBytes': 0, 'textLines': 4, 'totalBytes': 120, 'pctBinBytes': 0, 'pctTextBytes': 100.0, 'jsFiles': 1, 'jsLines': 4, 'pctJsFiles': 100.0, 'pctJsLines': 100.0, 'pctJsBytes': 100.0, 'rustFiles': 0, 'rustLines': 0, 'pctRustFiles': 0, 'pctRustLines': 0, 'pctRustBytes': 0}\n",
      "{'commit': 'f842ae958157cbd31db5d62898a95cf023ae600b', 'totalFiles': 3, 'binFiles': 0, 'textFiles': 3, 'binBytes': 0, 'textLines': 73, 'totalBytes': 2190, 'pctBinBytes': 0, 'pctTextBytes': 100.0, 'jsFiles': 0, 'jsLines': 0, 'pctJsFiles': 0, 'pctJsLines': 0, 'pctJsBytes': 0, 'rustFiles': 0, 'rustLines': 0, 'pctRustFiles': 0, 'pctRustLines': 0, 'pctRustBytes': 0}\n",
      "{'commit': 'f842ae958157cbd31db5d62898a95cf023ae600b', 'totalFiles': 3, 'binFiles': 0, 'textFiles': 3, 'binBytes': 0, 'textLines': 73, 'totalBytes': 2190, 'pctBinBytes': 0, 'pctTextBytes': 100.0, 'jsFiles': 0, 'jsLines': 0, 'pctJsFiles': 0, 'pctJsLines': 0, 'pctJsBytes': 0, 'rustFiles': 0, 'rustLines': 0, 'pctRustFiles': 0, 'pctRustLines': 0, 'pctRustBytes': 0}\n",
      "{'commit': '6d8a792f9d98776ce2b54bd3664859c48517ce3e', 'totalFiles': 4, 'binFiles': 0, 'textFiles': 4, 'binBytes': 0, 'textLines': 19, 'totalBytes': 570, 'pctBinBytes': 0, 'pctTextBytes': 100.0, 'jsFiles': 4, 'jsLines': 19, 'pctJsFiles': 100.0, 'pctJsLines': 100.0, 'pctJsBytes': 100.0, 'rustFiles': 0, 'rustLines': 0, 'pctRustFiles': 0, 'pctRustLines': 0, 'pctRustBytes': 0}\n",
      "{'commit': 'e39adb589645e71c3fb975f69be3bca76a53f794', 'totalFiles': 5, 'binFiles': 1, 'textFiles': 4, 'binBytes': 82988, 'textLines': 100, 'totalBytes': 85988, 'pctBinBytes': 96.51, 'pctTextBytes': 3.48, 'jsFiles': 4, 'jsLines': 100, 'pctJsFiles': 80.0, 'pctJsLines': 100.0, 'pctJsBytes': 3.48, 'rustFiles': 0, 'rustLines': 0, 'pctRustFiles': 0, 'pctRustLines': 0, 'pctRustBytes': 0}\n"
     ]
    }
   ],
   "source": [
    "for stat in all_stats[slice(10)]:\n",
    "    print(stat)"
   ]
  }
 ],
 "metadata": {
  "kernelspec": {
   "display_name": "Python 3 (ipykernel)",
   "language": "python",
   "name": "python3"
  },
  "language_info": {
   "codemirror_mode": {
    "name": "ipython",
    "version": 3
   },
   "file_extension": ".py",
   "mimetype": "text/x-python",
   "name": "python",
   "nbconvert_exporter": "python",
   "pygments_lexer": "ipython3",
   "version": "3.8.10"
  }
 },
 "nbformat": 4,
 "nbformat_minor": 5
}
