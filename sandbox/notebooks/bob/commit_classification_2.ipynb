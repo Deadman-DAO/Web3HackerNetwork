{
 "cells": [
  {
   "cell_type": "code",
   "execution_count": 1,
   "id": "8b3ff5d5-486a-49c7-b9ea-8f5fcf12d430",
   "metadata": {
    "tags": []
   },
   "outputs": [],
   "source": [
    "project_root_path = '/home/bob/projects/Web3HackerNetwork'"
   ]
  },
  {
   "cell_type": "markdown",
   "id": "9610a4cf-b430-4648-83d6-c60659d111f4",
   "metadata": {},
   "source": [
    "### Load the Commit Statistics\n",
    "For this clustering we examined 39 GitHub projects containing a total of 2,629 commits. The projects all included the Fluence Marine library. Code for Fluence is generally written in React and Rust."
   ]
  },
  {
   "cell_type": "code",
   "execution_count": 2,
   "id": "f8b0fe3f-b091-44c9-84e6-4641cf623c1c",
   "metadata": {
    "tags": []
   },
   "outputs": [],
   "source": [
    "import sys\n",
    "bob_lib_path = project_root_path + \"/sandbox/python/bob/\"\n",
    "sys.path.append(bob_lib_path)\n",
    "\n",
    "import commit_stat_engineering\n",
    "import json\n",
    "\n",
    "dataset_dir = project_root_path + '/data/github/2022-04-07-marine-search'\n",
    "project_stats_dir = dataset_dir + '/projects'\n",
    "all_commit_logs = commit_stat_engineering.find_files('commit-stat.log.json', project_stats_dir)\n",
    "all_stats = commit_stat_engineering.get_stats_for_all_commits(all_commit_logs)"
   ]
  },
  {
   "cell_type": "markdown",
   "id": "9546a463-9563-49e6-8783-dfbadbc802d8",
   "metadata": {},
   "source": [
    "### Load Labels"
   ]
  },
  {
   "cell_type": "code",
   "execution_count": 3,
   "id": "39fcef56-5bf5-4da6-b44c-3454f1017b81",
   "metadata": {},
   "outputs": [
    {
     "data": {
      "text/html": [
       "<div>\n",
       "<style scoped>\n",
       "    .dataframe tbody tr th:only-of-type {\n",
       "        vertical-align: middle;\n",
       "    }\n",
       "\n",
       "    .dataframe tbody tr th {\n",
       "        vertical-align: top;\n",
       "    }\n",
       "\n",
       "    .dataframe thead th {\n",
       "        text-align: right;\n",
       "    }\n",
       "</style>\n",
       "<table border=\"1\" class=\"dataframe\">\n",
       "  <thead>\n",
       "    <tr style=\"text-align: right;\">\n",
       "      <th></th>\n",
       "      <th>Unnamed: 0</th>\n",
       "      <th>is_bulk</th>\n",
       "      <th>is_standard</th>\n",
       "      <th>is_minor</th>\n",
       "      <th>is_artifact</th>\n",
       "      <th>is_javascript</th>\n",
       "      <th>is_rust</th>\n",
       "    </tr>\n",
       "  </thead>\n",
       "  <tbody>\n",
       "    <tr>\n",
       "      <th>0</th>\n",
       "      <td>a7503dcb63af05b1381c8fbc7d1aa989ce61d605</td>\n",
       "      <td>1</td>\n",
       "      <td>0</td>\n",
       "      <td>0</td>\n",
       "      <td>0</td>\n",
       "      <td>0.0</td>\n",
       "      <td>0.0</td>\n",
       "    </tr>\n",
       "    <tr>\n",
       "      <th>1</th>\n",
       "      <td>a91521059eeac8bfaa6b81a0333413b0015c8863</td>\n",
       "      <td>1</td>\n",
       "      <td>0</td>\n",
       "      <td>0</td>\n",
       "      <td>0</td>\n",
       "      <td>0.0</td>\n",
       "      <td>0.0</td>\n",
       "    </tr>\n",
       "    <tr>\n",
       "      <th>2</th>\n",
       "      <td>e5e0d59835a849eb9c43b2cd20b25046e1ddab3e</td>\n",
       "      <td>1</td>\n",
       "      <td>0</td>\n",
       "      <td>0</td>\n",
       "      <td>0</td>\n",
       "      <td>0.0</td>\n",
       "      <td>0.0</td>\n",
       "    </tr>\n",
       "    <tr>\n",
       "      <th>3</th>\n",
       "      <td>cf3c18490aaee04cdee75a3d22d67e8877b8abe7</td>\n",
       "      <td>1</td>\n",
       "      <td>0</td>\n",
       "      <td>0</td>\n",
       "      <td>0</td>\n",
       "      <td>0.0</td>\n",
       "      <td>0.0</td>\n",
       "    </tr>\n",
       "    <tr>\n",
       "      <th>4</th>\n",
       "      <td>f1907df36197dc3d7be452aab244d7652c4c4181</td>\n",
       "      <td>1</td>\n",
       "      <td>0</td>\n",
       "      <td>0</td>\n",
       "      <td>0</td>\n",
       "      <td>0.0</td>\n",
       "      <td>0.0</td>\n",
       "    </tr>\n",
       "    <tr>\n",
       "      <th>...</th>\n",
       "      <td>...</td>\n",
       "      <td>...</td>\n",
       "      <td>...</td>\n",
       "      <td>...</td>\n",
       "      <td>...</td>\n",
       "      <td>...</td>\n",
       "      <td>...</td>\n",
       "    </tr>\n",
       "    <tr>\n",
       "      <th>64</th>\n",
       "      <td>e2560c165fbd05e6bb41a7e9166f5b2283f15de4</td>\n",
       "      <td>0</td>\n",
       "      <td>1</td>\n",
       "      <td>0</td>\n",
       "      <td>0</td>\n",
       "      <td>1.0</td>\n",
       "      <td>0.0</td>\n",
       "    </tr>\n",
       "    <tr>\n",
       "      <th>65</th>\n",
       "      <td>fbf6540ed115934fb9641e9743b67608c978a942</td>\n",
       "      <td>0</td>\n",
       "      <td>1</td>\n",
       "      <td>0</td>\n",
       "      <td>0</td>\n",
       "      <td>1.0</td>\n",
       "      <td>0.0</td>\n",
       "    </tr>\n",
       "    <tr>\n",
       "      <th>66</th>\n",
       "      <td>e55ed70029f41ad1fa59a2cb89b88ebea96bb9f2</td>\n",
       "      <td>0</td>\n",
       "      <td>0</td>\n",
       "      <td>1</td>\n",
       "      <td>0</td>\n",
       "      <td>1.0</td>\n",
       "      <td>0.0</td>\n",
       "    </tr>\n",
       "    <tr>\n",
       "      <th>67</th>\n",
       "      <td>e19efe724f7e0a1054a62a7c3b064882e6048365</td>\n",
       "      <td>0</td>\n",
       "      <td>1</td>\n",
       "      <td>0</td>\n",
       "      <td>0</td>\n",
       "      <td>0.0</td>\n",
       "      <td>0.0</td>\n",
       "    </tr>\n",
       "    <tr>\n",
       "      <th>68</th>\n",
       "      <td>fa73e0c1b2d22970b1c54ec26f76231dba4f8fb9</td>\n",
       "      <td>0</td>\n",
       "      <td>1</td>\n",
       "      <td>0</td>\n",
       "      <td>0</td>\n",
       "      <td>0.5</td>\n",
       "      <td>0.5</td>\n",
       "    </tr>\n",
       "  </tbody>\n",
       "</table>\n",
       "<p>69 rows × 7 columns</p>\n",
       "</div>"
      ],
      "text/plain": [
       "                                  Unnamed: 0  is_bulk  is_standard  is_minor  \\\n",
       "0   a7503dcb63af05b1381c8fbc7d1aa989ce61d605        1            0         0   \n",
       "1   a91521059eeac8bfaa6b81a0333413b0015c8863        1            0         0   \n",
       "2   e5e0d59835a849eb9c43b2cd20b25046e1ddab3e        1            0         0   \n",
       "3   cf3c18490aaee04cdee75a3d22d67e8877b8abe7        1            0         0   \n",
       "4   f1907df36197dc3d7be452aab244d7652c4c4181        1            0         0   \n",
       "..                                       ...      ...          ...       ...   \n",
       "64  e2560c165fbd05e6bb41a7e9166f5b2283f15de4        0            1         0   \n",
       "65  fbf6540ed115934fb9641e9743b67608c978a942        0            1         0   \n",
       "66  e55ed70029f41ad1fa59a2cb89b88ebea96bb9f2        0            0         1   \n",
       "67  e19efe724f7e0a1054a62a7c3b064882e6048365        0            1         0   \n",
       "68  fa73e0c1b2d22970b1c54ec26f76231dba4f8fb9        0            1         0   \n",
       "\n",
       "    is_artifact  is_javascript  is_rust  \n",
       "0             0            0.0      0.0  \n",
       "1             0            0.0      0.0  \n",
       "2             0            0.0      0.0  \n",
       "3             0            0.0      0.0  \n",
       "4             0            0.0      0.0  \n",
       "..          ...            ...      ...  \n",
       "64            0            1.0      0.0  \n",
       "65            0            1.0      0.0  \n",
       "66            0            1.0      0.0  \n",
       "67            0            0.0      0.0  \n",
       "68            0            0.5      0.5  \n",
       "\n",
       "[69 rows x 7 columns]"
      ]
     },
     "execution_count": 3,
     "metadata": {},
     "output_type": "execute_result"
    }
   ],
   "source": [
    "import pandas as pd\n",
    "\n",
    "data = pd.read_csv(project_root_path + '/sandbox/data/bob/commit_labeling.tsv', sep='\\t')\n",
    "data"
   ]
  },
  {
   "cell_type": "markdown",
   "id": "5e265b05-91d4-48c6-b0a3-a15d59ea4f8a",
   "metadata": {
    "tags": []
   },
   "source": [
    "### Link Labels to Stats"
   ]
  },
  {
   "cell_type": "code",
   "execution_count": 43,
   "id": "c1334520-578f-4b66-9d2a-b7bff76e97ba",
   "metadata": {},
   "outputs": [],
   "source": [
    "import numpy as np\n",
    "def make_x(commit_stats):\n",
    "    return [\n",
    "        np.log1p(commit_stats['binFiles']),\n",
    "        np.log1p(commit_stats['textFiles']),\n",
    "        np.log1p(commit_stats['textLines']),\n",
    "        np.log1p(commit_stats['javascriptLines']),\n",
    "        np.log1p(commit_stats['rustLines']),\n",
    "        np.log1p(commit_stats['jsonLines']),\n",
    "        #np.log1p(commit_stats['imgFiles']),\n",
    "        np.log1p(commit_stats['lockLines']),\n",
    "        np.log1p(commit_stats['htmlLines'])\n",
    "    ]\n"
   ]
  },
  {
   "cell_type": "code",
   "execution_count": 67,
   "id": "17524daf-12da-49b3-9902-09d55687ca36",
   "metadata": {},
   "outputs": [],
   "source": [
    "stats = {}\n",
    "for commit in all_stats:\n",
    "    stats[commit['commit']] = commit\n",
    "\n",
    "X = []\n",
    "Y = []\n",
    "a = 0\n",
    "rows = [row for row in data.to_numpy().tolist() if row[4] != 1]\n",
    "for row in rows: #data.to_numpy() if row['is_artifact'] != 1:\n",
    "    commit_id = row[0]\n",
    "    row_labels = row[slice(1, 4)]\n",
    "    x = make_x(stats[commit_id])\n",
    "    #print(x)\n",
    "    #print(a)\n",
    "    X.append(make_x(stats[commit_id]))\n",
    "    Y.append(row_labels)#.tolist())\n",
    "    a += 1\n",
    "#print(a)\n",
    "\n",
    "#print(Y[slice(2)])\n",
    "#print(Y[0][0])\n",
    "#print(X[slice(2)])"
   ]
  },
  {
   "cell_type": "code",
   "execution_count": 68,
   "id": "31b79435-cfe4-45b3-820c-7f779fb120cb",
   "metadata": {},
   "outputs": [
    {
     "name": "stdout",
     "output_type": "stream",
     "text": [
      "[[0 1 0]\n",
      " [0 1 0]]\n",
      "[[1, 0, 0], [1, 0, 0]]\n"
     ]
    }
   ],
   "source": [
    "from sklearn.datasets import make_multilabel_classification\n",
    "\n",
    "sample_X, sample_y = make_multilabel_classification(n_classes=3, random_state=0)\n",
    "print(sample_y[slice(2)])\n",
    "print(Y[slice(2)])"
   ]
  },
  {
   "cell_type": "code",
   "execution_count": 69,
   "id": "d2d0b4ba-7769-4d6b-a8b0-d52194a13b06",
   "metadata": {},
   "outputs": [
    {
     "name": "stdout",
     "output_type": "stream",
     "text": [
      "65\n",
      "65\n"
     ]
    }
   ],
   "source": [
    "from sklearn.linear_model import LogisticRegression\n",
    "from sklearn.neural_network import MLPClassifier\n",
    "from sklearn.multioutput import MultiOutputClassifier\n",
    "\n",
    "print(len(X))\n",
    "print(len(Y))\n",
    "\n",
    "clf = MLPClassifier(solver='lbfgs', alpha=1e-5,\n",
    "                    hidden_layer_sizes=(7, 8), random_state = 1)\n",
    "clf.fit(X, Y)\n",
    "score = clf.score(X, Y)\n",
    "Y_pred = clf.predict(X)\n",
    "# print(score)\n",
    "# print(Y_pred)"
   ]
  },
  {
   "cell_type": "code",
   "execution_count": 71,
   "id": "593b2d65-48cd-4bad-94d7-253edd7ffd8e",
   "metadata": {},
   "outputs": [
    {
     "name": "stdout",
     "output_type": "stream",
     "text": [
      "0.9090909090909091\n"
     ]
    }
   ],
   "source": [
    "from sklearn.model_selection import train_test_split\n",
    "X_train, X_test, Y_train, Y_test = \\\n",
    "    train_test_split(X, Y, test_size=0.33, random_state=3)\n",
    "\n",
    "clf = MLPClassifier(solver='lbfgs', alpha=1e-5,\n",
    "                    hidden_layer_sizes=(5, 6), random_state = 1)\n",
    "clf.fit(X_train, Y_train)\n",
    "score = clf.score(X_test, Y_test)\n",
    "# Y_pred = clf.predict(X)\n",
    "print(score)\n",
    "# print(Y_pred)"
   ]
  },
  {
   "cell_type": "code",
   "execution_count": 9,
   "id": "b02d311c-5a18-451d-b22f-28a27eaac1c6",
   "metadata": {},
   "outputs": [
    {
     "name": "stdout",
     "output_type": "stream",
     "text": [
      "46\n"
     ]
    }
   ],
   "source": [
    "#print(X_test)\n",
    "#print(Y_pred)\n",
    "pairs = []\n",
    "for i in range(0,len(X_test)):\n",
    "    #print(Y_pred[i].tolist())\n",
    "    pairs.append(Y_pred[i].tolist() + X_test[i])\n",
    "# print(pairs)\n",
    "\n",
    "print(len(X_train))\n",
    "import pandas as pd\n",
    "pd.DataFrame(pairs).to_csv(\"/home/bob/test.tsv\", sep=\"\\t\")"
   ]
  }
 ],
 "metadata": {
  "kernelspec": {
   "display_name": "Python 3 (ipykernel)",
   "language": "python",
   "name": "python3"
  },
  "language_info": {
   "codemirror_mode": {
    "name": "ipython",
    "version": 3
   },
   "file_extension": ".py",
   "mimetype": "text/x-python",
   "name": "python",
   "nbconvert_exporter": "python",
   "pygments_lexer": "ipython3",
   "version": "3.8.10"
  }
 },
 "nbformat": 4,
 "nbformat_minor": 5
}
