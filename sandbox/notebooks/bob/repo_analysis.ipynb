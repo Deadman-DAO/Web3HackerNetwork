{
 "cells": [
  {
   "cell_type": "code",
   "execution_count": 56,
   "id": "4bce7923-fe4e-4b2d-b4f2-681f96da1f0e",
   "metadata": {},
   "outputs": [],
   "source": [
    "title = 'Days of our lives\\n'\n",
    "root = '/home/bob/projects/Web3HackerNetwork'\n",
    "dataset_dir = root + \"/data/github/2022-04-07-marine-search\"\n",
    "stats_dir = dataset_dir + \"/projects\"\n",
    "# file = 'days.txt'\n",
    "# path = root+'/'+file;\n",
    "# days_file = open(path, 'r')\n",
    "# days = days_file.read();\n",
    "# new_path = root+'/new_days.txt'\n",
    "# new_days = open(new_path, 'w')\n",
    "# new_days.write(title)\n",
    "# new_days.write(days)\n",
    "# print(title)\n",
    "# print(days)\n",
    "# days_file.close();\n",
    "# new_days.close();\n"
   ]
  },
  {
   "cell_type": "code",
   "execution_count": 39,
   "id": "44028b65-9f9c-4b96-a0b7-7828b950c6d7",
   "metadata": {},
   "outputs": [],
   "source": [
    "def read_repo_stats(login, project, filename):\n",
    "    path = stats_dir + \"/\" + login + \"/\" + project + \"/\" + filename\n",
    "    stats = dict(login=login, project=project)\n",
    "    with open(path, 'r') as f:\n",
    "        for line in f:\n",
    "            line = line.strip()\n",
    "            (name, val) = line.split()\n",
    "            # print(\"name: \" + name + \", val: \" + val);\n",
    "            stats[name] = int(val)\n",
    "    return stats"
   ]
  },
  {
   "cell_type": "code",
   "execution_count": 44,
   "id": "2d9172ea-d48a-4f56-89bd-5086e638dcd9",
   "metadata": {},
   "outputs": [],
   "source": [
    "import os\n",
    "start = stats_dir\n",
    "all_stats = []\n",
    "for root, logins, files in os.walk(start):\n",
    "    # print(root);\n",
    "    for login in logins:\n",
    "        #print('login '+login);\n",
    "        for r2, projects, f2 in os.walk(root+'/'+login):\n",
    "            for project in projects:\n",
    "                #print(\"project: \" + project);\n",
    "                for r3, d3, filenames in os.walk(root + \"/\" + login + \"/\" + project):\n",
    "                    for filename in filenames:\n",
    "                        if (filename == \"repo-stat.log\"):\n",
    "                            # read_stats\n",
    "                            # print(\"login: \" + login + \", project: \" + project + \", file: \" + filename);\n",
    "                            stats = read_repo_stats(login, project, filename);\n",
    "                            all_stats.append(stats)"
   ]
  },
  {
   "cell_type": "code",
   "execution_count": 54,
   "id": "66d3d3ad-9abe-466e-a7c6-2c9abf66b41f",
   "metadata": {},
   "outputs": [
    {
     "name": "stdout",
     "output_type": "stream",
     "text": [
      "{'login': 'KirSerz', 'project': 'hackathon_wallet', 'num_files': 53, 'num_commits': 21, 'num_locs': 80798, 'num_rust_files': 3, 'num_react_files': 10, 'num_markdown_files': 3, 'num_binary_files': 4, 'num_rust_locs': 436, 'num_react_locs': 1458, 'num_markdown_locs': 372, 'num_binary_bytes': 87982}\n",
      "{'login': 'cbonoz', 'project': 'hackfs21', 'num_files': 168, 'num_commits': 31, 'num_locs': 153737, 'num_rust_files': 2, 'num_react_files': 83, 'num_markdown_files': 3, 'num_binary_files': 25, 'num_rust_locs': 260, 'num_react_locs': 17902, 'num_markdown_locs': 750, 'num_binary_bytes': 4152837}\n"
     ]
    }
   ],
   "source": [
    "for stats in all_stats[slice(2,6,2)]: # begin (inclusive), end (exclusive), stepsize\n",
    "    print(stats)"
   ]
  },
  {
   "cell_type": "markdown",
   "id": "acfe7a2f-d3c4-4245-a6f7-62d88ee3189d",
   "metadata": {},
   "source": [
    "### write the stats to JSON on disk"
   ]
  },
  {
   "cell_type": "code",
   "execution_count": 69,
   "id": "2d8b42ff-74aa-436b-aca3-13fda06bc2e8",
   "metadata": {},
   "outputs": [],
   "source": [
    "import json\n",
    "\n",
    "out_path = dataset_dir + \"/all_repo_stats.json\"\n",
    "out_handle = open(out_path, \"w\");\n",
    "out_handle.write(json.dumps(all_stats));\n",
    "out_handle.flush()\n",
    "out_handle.close()"
   ]
  },
  {
   "cell_type": "markdown",
   "id": "36a950d4-e0aa-45e9-bbb6-1fef9c95422a",
   "metadata": {},
   "source": [
    "### read the stats from JSON on disk"
   ]
  },
  {
   "cell_type": "code",
   "execution_count": 72,
   "id": "41110942-3b95-466f-ac0b-8079b47cb3af",
   "metadata": {},
   "outputs": [
    {
     "name": "stdout",
     "output_type": "stream",
     "text": [
      "[{'login': 'PhilippeMts', 'project': 'hackfs-fragment', 'num_files': 156, 'num_commits': 396, 'num_locs': 26906, 'num_rust_files': 1, 'num_react_files': 39, 'num_markdown_files': 7, 'num_binary_files': 36, 'num_rust_locs': 26, 'num_react_locs': 8404, 'num_markdown_locs': 532, 'num_binary_bytes': 10912860}, {'login': 'amrosaeed', 'project': 'fluence', 'num_files': 779, 'num_commits': 4, 'num_locs': 402144, 'num_rust_files': 99, 'num_react_files': 114, 'num_markdown_files': 37, 'num_binary_files': 58, 'num_rust_locs': 13854, 'num_react_locs': 19844, 'num_markdown_locs': 12142, 'num_binary_bytes': 7268734}, {'login': 'KirSerz', 'project': 'hackathon_wallet', 'num_files': 53, 'num_commits': 21, 'num_locs': 80798, 'num_rust_files': 3, 'num_react_files': 10, 'num_markdown_files': 3, 'num_binary_files': 4, 'num_rust_locs': 436, 'num_react_locs': 1458, 'num_markdown_locs': 372, 'num_binary_bytes': 87982}]\n"
     ]
    }
   ],
   "source": [
    "import json\n",
    "in_path = dataset_dir + \"/all_repo_stats.json\"\n",
    "in_stats = json.loads(open(in_path, 'r').read());\n",
    "print(in_stats[slice(3)])"
   ]
  },
  {
   "cell_type": "markdown",
   "id": "222c1ac0-213e-43eb-bf5c-f2dd12e4a3e6",
   "metadata": {},
   "source": [
    "### convert the raw stats to basic features"
   ]
  },
  {
   "cell_type": "code",
   "execution_count": 77,
   "id": "d3ccfaeb-c045-4b03-b455-a7600eebc9c1",
   "metadata": {},
   "outputs": [
    {
     "name": "stdout",
     "output_type": "stream",
     "text": [
      "0.00641025641025641, 0.25\n",
      "0.12708600770218229, 0.14634146341463414\n",
      "0.05660377358490566, 0.18867924528301888\n",
      "0.023255813953488372, 0.3488372093023256\n",
      "0.011904761904761904, 0.49404761904761907\n",
      "0.011976047904191617, 0.49700598802395207\n",
      "0.08333333333333333, 0.0\n",
      "0.18461538461538463, 0.0\n",
      "0.18461538461538463, 0.0\n",
      "0.040983606557377046, 0.5081967213114754\n",
      "0.029411764705882353, 0.5882352941176471\n",
      "0.13485477178423236, 0.14522821576763487\n",
      "0.023809523809523808, 0.16666666666666666\n",
      "0.12244897959183673, 0.12244897959183673\n",
      "0.038461538461538464, 0.23076923076923078\n",
      "0.03686635944700461, 0.5253456221198156\n",
      "0.12661498708010335, 0.14728682170542637\n",
      "0.03333333333333333, 0.13333333333333333\n",
      "0.79375, 0.003125\n",
      "0.4, 0.02857142857142857\n",
      "0.45454545454545453, 0.01818181818181818\n",
      "0.3902439024390244, 0.024390243902439025\n",
      "0.6395348837209303, 0.023255813953488372\n",
      "0.1590909090909091, 0.0\n",
      "0.037037037037037035, 0.25925925925925924\n",
      "0.8210526315789474, 0.0\n",
      "0.13485477178423236, 0.14522821576763487\n",
      "0.18604651162790697, 0.023255813953488372\n",
      "0.0, 0.0\n",
      "0.06060606060606061, 0.24242424242424243\n",
      "0.21052631578947367, 0.05263157894736842\n",
      "0.015151515151515152, 0.3484848484848485\n",
      "0.12894736842105264, 0.15\n",
      "0.2, 0.0\n",
      "0.12345679012345678, 0.1506172839506173\n",
      "0.004761904761904762, 0.05238095238095238\n",
      "0.0392156862745098, 0.1568627450980392\n",
      "0.005076142131979695, 0.025380710659898477\n",
      "0.00510204081632653, 0.025510204081632654\n",
      "0.08163265306122448, 0.20408163265306123\n"
     ]
    }
   ],
   "source": [
    "for stat in in_stats:\n",
    "    stat['pct_rust_files'] = stat['num_rust_files'] / stat['num_files']\n",
    "    stat['pct_react_files'] = stat['num_react_files'] / stat['num_files']\n",
    "    print(str(stat['pct_rust_files']) + ', ' + str(stat['pct_react_files']))"
   ]
  },
  {
   "cell_type": "code",
   "execution_count": 79,
   "id": "0289c31f-b9f8-464d-b9c4-4a7c07cec45c",
   "metadata": {},
   "outputs": [
    {
     "name": "stdout",
     "output_type": "stream",
     "text": [
      "[{'login': 'PhilippeMts', 'project': 'hackfs-fragment', 'num_files': 156, 'num_commits': 396, 'num_locs': 26906, 'num_rust_files': 1, 'num_react_files': 39, 'num_markdown_files': 7, 'num_binary_files': 36, 'num_rust_locs': 26, 'num_react_locs': 8404, 'num_markdown_locs': 532, 'num_binary_bytes': 10912860, 'pct_rust_files': 0.00641025641025641, 'pct_react_files': 0.25}, {'login': 'amrosaeed', 'project': 'fluence', 'num_files': 779, 'num_commits': 4, 'num_locs': 402144, 'num_rust_files': 99, 'num_react_files': 114, 'num_markdown_files': 37, 'num_binary_files': 58, 'num_rust_locs': 13854, 'num_react_locs': 19844, 'num_markdown_locs': 12142, 'num_binary_bytes': 7268734, 'pct_rust_files': 0.12708600770218229, 'pct_react_files': 0.14634146341463414}]\n"
     ]
    }
   ],
   "source": [
    "print(in_stats[slice(2)])"
   ]
  },
  {
   "cell_type": "code",
   "execution_count": 99,
   "id": "355be770-7dbc-4eed-b771-6c18ab7b83a0",
   "metadata": {},
   "outputs": [
    {
     "data": {
      "image/png": "[encoded data removed]",
      "text/plain": [
       "<Figure size 432x288 with 1 Axes>"
      ]
     },
     "metadata": {
      "needs_background": "light"
     },
     "output_type": "display_data"
    }
   ],
   "source": [
    "import matplotlib.pyplot as plt\n",
    "import numpy as np\n",
    "\n",
    "pct_rust_array = [val['pct_rust_files'] for val in in_stats]\n",
    "pct_react_array = [val['pct_react_files'] for val in in_stats]\n",
    "xpoints = np.array(pct_rust_array)\n",
    "ypoints = np.array(pct_react_array)\n",
    "\n",
    "plt.scatter(xpoints, ypoints)\n",
    "plt.show()"
   ]
  },
  {
   "cell_type": "code",
   "execution_count": 98,
   "id": "9c7247ea-7c23-49f8-be2d-6d5042dd0462",
   "metadata": {},
   "outputs": [
    {
     "data": {
      "text/plain": [
       "(array([8., 3., 6., 2., 1., 1., 0., 5., 2., 1., 0., 3., 2., 0., 0., 0., 0.,\n",
       "        0., 0., 0., 0., 0., 0., 1., 1., 0., 0., 1., 0., 0., 0., 0., 0., 0.,\n",
       "        0., 0., 0., 0., 1., 0., 0., 0., 0., 0., 0., 0., 0., 0., 1., 1.]),\n",
       " array([0.        , 0.01642105, 0.03284211, 0.04926316, 0.06568421,\n",
       "        0.08210526, 0.09852632, 0.11494737, 0.13136842, 0.14778947,\n",
       "        0.16421053, 0.18063158, 0.19705263, 0.21347368, 0.22989474,\n",
       "        0.24631579, 0.26273684, 0.27915789, 0.29557895, 0.312     ,\n",
       "        0.32842105, 0.34484211, 0.36126316, 0.37768421, 0.39410526,\n",
       "        0.41052632, 0.42694737, 0.44336842, 0.45978947, 0.47621053,\n",
       "        0.49263158, 0.50905263, 0.52547368, 0.54189474, 0.55831579,\n",
       "        0.57473684, 0.59115789, 0.60757895, 0.624     , 0.64042105,\n",
       "        0.65684211, 0.67326316, 0.68968421, 0.70610526, 0.72252632,\n",
       "        0.73894737, 0.75536842, 0.77178947, 0.78821053, 0.80463158,\n",
       "        0.82105263]),\n",
       " <BarContainer object of 50 artists>)"
      ]
     },
     "execution_count": 98,
     "metadata": {},
     "output_type": "execute_result"
    },
    {
     "data": {
      "image/png": "[encoded data removed]",
      "text/plain": [
       "<Figure size 432x288 with 1 Axes>"
      ]
     },
     "metadata": {
      "needs_background": "light"
     },
     "output_type": "display_data"
    }
   ],
   "source": [
    "import matplotlib.pyplot as plt\n",
    "import numpy as np\n",
    "pct_rust_array = [val['pct_rust_files'] for val in in_stats]\n",
    "plt.hist(np.array(pct_rust_array), 50)"
   ]
  },
  {
   "cell_type": "code",
   "execution_count": 97,
   "id": "cc04a117-9fc6-4aeb-bf74-dfdb0b557a5c",
   "metadata": {},
   "outputs": [
    {
     "data": {
      "text/plain": [
       "(array([1., 0., 1., 0., 1., 4., 8., 6., 1., 1., 7., 3., 3., 3., 1.]),\n",
       " array([1.60943791, 1.94600945, 2.282581  , 2.61915254, 2.95572408,\n",
       "        3.29229562, 3.62886717, 3.96543871, 4.30201025, 4.63858179,\n",
       "        4.97515333, 5.31172488, 5.64829642, 5.98486796, 6.3214395 ,\n",
       "        6.65801105]),\n",
       " <BarContainer object of 15 artists>)"
      ]
     },
     "execution_count": 97,
     "metadata": {},
     "output_type": "execute_result"
    },
    {
     "data": {
      "image/png": "[encoded data removed]",
      "text/plain": [
       "<Figure size 432x288 with 1 Axes>"
      ]
     },
     "metadata": {
      "needs_background": "light"
     },
     "output_type": "display_data"
    }
   ],
   "source": [
    "import matplotlib.pyplot as plt\n",
    "import numpy as np\n",
    "array = [np.log(val['num_files']) for val in in_stats]\n",
    "#array = [val['num_files'] for val in in_stats]\n",
    "plt.hist(np.array(array), 15)"
   ]
  },
  {
   "cell_type": "code",
   "execution_count": null,
   "id": "9946d610-e7d9-4633-9f5b-348152b2ef0b",
   "metadata": {},
   "outputs": [],
   "source": []
  },
  {
   "cell_type": "code",
   "execution_count": null,
   "id": "b9e17922-12de-445e-99e3-157a30da2abd",
   "metadata": {},
   "outputs": [],
   "source": []
  },
  {
   "cell_type": "code",
   "execution_count": null,
   "id": "4ffab005-d1d5-42ea-a2e6-0ca56a3348be",
   "metadata": {},
   "outputs": [],
   "source": []
  },
  {
   "cell_type": "code",
   "execution_count": 3,
   "id": "60d37687-4c6a-4340-b7b3-e4c132a42e73",
   "metadata": {},
   "outputs": [
    {
     "data": {
      "text/plain": [
       "TestResults(failed=0, attempted=1)"
      ]
     },
     "execution_count": 3,
     "metadata": {},
     "output_type": "execute_result"
    }
   ],
   "source": [
    "import doctest\n",
    "def add(a, b):\n",
    "    \"\"\"\n",
    "    Given two integers, return the sum.\n",
    "\n",
    "    :param a: int\n",
    "    :param b: int\n",
    "    :return: int\n",
    "\n",
    "    >>> add(2, 3)\n",
    "    5\n",
    "    \"\"\"\n",
    "    return a + b\n",
    "doctest.testmod()"
   ]
  },
  {
   "cell_type": "code",
   "execution_count": 4,
   "id": "a70d8cd0-2941-4681-8461-326b5ebacede",
   "metadata": {},
   "outputs": [
    {
     "data": {
      "text/plain": [
       "3"
      ]
     },
     "execution_count": 4,
     "metadata": {},
     "output_type": "execute_result"
    }
   ],
   "source": [
    "add(1,2)"
   ]
  },
  {
   "cell_type": "code",
   "execution_count": 5,
   "id": "00f6c38e-b2d6-4801-82f5-59b1f0c70aa6",
   "metadata": {},
   "outputs": [
    {
     "name": "stdout",
     "output_type": "stream",
     "text": [
      "/home/bob/projects/Web3HackerNetwork/data/samples/days.txt\n"
     ]
    }
   ],
   "source": [
    "print(path)"
   ]
  },
  {
   "cell_type": "code",
   "execution_count": 6,
   "id": "343e4fe0-5696-479a-b648-0f02f2561e88",
   "metadata": {},
   "outputs": [
    {
     "name": "stdout",
     "output_type": "stream",
     "text": [
      "**********************************************************************\n",
      "File \"__main__\", line 12, in __main__.add\n",
      "Failed example:\n",
      "    add(2, 3)\n",
      "Expected:\n",
      "    5\n",
      "Got:\n",
      "    6\n",
      "**********************************************************************\n",
      "1 items had failures:\n",
      "   1 of   2 in __main__.add\n",
      "***Test Failed*** 1 failures.\n"
     ]
    },
    {
     "data": {
      "text/plain": [
       "TestResults(failed=1, attempted=2)"
      ]
     },
     "execution_count": 6,
     "metadata": {},
     "output_type": "execute_result"
    }
   ],
   "source": [
    "import doctest\n",
    "\n",
    "\n",
    "def add(a, b):\n",
    "    \"\"\"\n",
    "    Given two integers, return the sum.\n",
    "\n",
    "    :param a: int\n",
    "    :param b: int\n",
    "    :return: int\n",
    "\n",
    "    >>> add(2, 3)\n",
    "    5\n",
    "    >>> add(0, 0)\n",
    "    0\n",
    "    \"\"\"\n",
    "    return a * b\n",
    "\n",
    "doctest.testmod()"
   ]
  },
  {
   "cell_type": "code",
   "execution_count": 7,
   "id": "9eee2524-10e3-4747-bfa9-782e97ee9de9",
   "metadata": {},
   "outputs": [
    {
     "name": "stdout",
     "output_type": "stream",
     "text": [
      "**********************************************************************\n",
      "File \"__main__\", line 12, in __main__.add\n",
      "Failed example:\n",
      "    add(2, 3)\n",
      "Expected:\n",
      "    5\n",
      "Got:\n",
      "    6\n",
      "**********************************************************************\n",
      "1 items had failures:\n",
      "   1 of   2 in __main__.add\n",
      "***Test Failed*** 1 failures.\n"
     ]
    }
   ],
   "source": [
    "def count_vowels(word):\n",
    "    \"\"\"\n",
    "    Given a single word, return the total number of vowels in that single word.\n",
    "\n",
    "    :param word: str\n",
    "    :return: int\n",
    "\n",
    "    >>> count_vowels('Cusco')\n",
    "    2\n",
    "\n",
    "    >>> count_vowels('Manila')\n",
    "    3\n",
    "    \"\"\"\n",
    "    total_vowels = 0\n",
    "    for letter in word:\n",
    "        if letter in 'aeiou':\n",
    "            total_vowels += 1\n",
    "    return total_vowels\n",
    "\n",
    "if __name__ == \"__main__\":\n",
    "    import doctest\n",
    "    doctest.testmod()"
   ]
  },
  {
   "cell_type": "code",
   "execution_count": null,
   "id": "05435981-b716-4837-9237-20c768b1caf7",
   "metadata": {},
   "outputs": [],
   "source": []
  },
  {
   "cell_type": "code",
   "execution_count": 8,
   "id": "787f6267-0780-4499-95df-9fc28bb513b9",
   "metadata": {},
   "outputs": [
    {
     "name": "stdout",
     "output_type": "stream",
     "text": [
      "/home/bob/projects/Web3HackerNetwork/data/samples/days.txt\n"
     ]
    }
   ],
   "source": [
    "import os\n",
    "print(path)"
   ]
  },
  {
   "cell_type": "code",
   "execution_count": 10,
   "id": "cdd11423-1945-47ad-a832-875d0220858c",
   "metadata": {},
   "outputs": [
    {
     "name": "stdout",
     "output_type": "stream",
     "text": [
      "/home/bob/projects/Web3HackerNetwork/data/github/2022-04-07-marine-search\n",
      "Processing commit-logs\n",
      "Root=/home/bob/projects/Web3HackerNetwork/data/github/2022-04-07-marine-search/commit-logs File=trust-graph-test.txt\n",
      "Root=/home/bob/projects/Web3HackerNetwork/data/github/2022-04-07-marine-search/commit-logs File=dxpriceaggregator.txt\n",
      "Root=/home/bob/projects/Web3HackerNetwork/data/github/2022-04-07-marine-search/commit-logs File=aquavm.txt\n",
      "Root=/home/bob/projects/Web3HackerNetwork/data/github/2022-04-07-marine-search/commit-logs File=fluencelabs-examples.txt\n",
      "Root=/home/bob/projects/Web3HackerNetwork/data/github/2022-04-07-marine-search/commit-logs File=Fluence-Service.txt\n",
      "Root=/home/bob/projects/Web3HackerNetwork/data/github/2022-04-07-marine-search/commit-logs File=fluence.txt\n",
      "Root=/home/bob/projects/Web3HackerNetwork/data/github/2022-04-07-marine-search/commit-logs File=hackfs21.txt\n",
      "Root=/home/bob/projects/Web3HackerNetwork/data/github/2022-04-07-marine-search/commit-logs File=hackathon_wallet.txt\n",
      "Root=/home/bob/projects/Web3HackerNetwork/data/github/2022-04-07-marine-search/commit-logs File=SharedDoc.txt\n",
      "Root=/home/bob/projects/Web3HackerNetwork/data/github/2022-04-07-marine-search/commit-logs File=trust-graph.txt\n",
      "Root=/home/bob/projects/Web3HackerNetwork/data/github/2022-04-07-marine-search/commit-logs File=checkoutfs.txt\n",
      "Root=/home/bob/projects/Web3HackerNetwork/data/github/2022-04-07-marine-search/commit-logs File=fluence-quickstart-bounty.txt\n",
      "Root=/home/bob/projects/Web3HackerNetwork/data/github/2022-04-07-marine-search/commit-logs File=registry.txt\n",
      "Root=/home/bob/projects/Web3HackerNetwork/data/github/2022-04-07-marine-search/commit-logs File=Poliwallet.txt\n",
      "Root=/home/bob/projects/Web3HackerNetwork/data/github/2022-04-07-marine-search/commit-logs File=flullet.txt\n",
      "Root=/home/bob/projects/Web3HackerNetwork/data/github/2022-04-07-marine-search/commit-logs File=eip712-validation-node.txt\n",
      "Root=/home/bob/projects/Web3HackerNetwork/data/github/2022-04-07-marine-search/commit-logs File=Fluence-NFT-Wallet.txt\n",
      "Root=/home/bob/projects/Web3HackerNetwork/data/github/2022-04-07-marine-search/commit-logs File=fluence-playground-server.txt\n",
      "Root=/home/bob/projects/Web3HackerNetwork/data/github/2022-04-07-marine-search/commit-logs File=lastfluence.txt\n",
      "Root=/home/bob/projects/Web3HackerNetwork/data/github/2022-04-07-marine-search/commit-logs File=hackfs-fragment.txt\n",
      "Root=/home/bob/projects/Web3HackerNetwork/data/github/2022-04-07-marine-search/commit-logs File=new2web3.txt\n",
      "Root=/home/bob/projects/Web3HackerNetwork/data/github/2022-04-07-marine-search/commit-logs File=identity-link-api-aqua.txt\n",
      "Root=/home/bob/projects/Web3HackerNetwork/data/github/2022-04-07-marine-search/commit-logs File=marine.txt\n",
      "Root=/home/bob/projects/Web3HackerNetwork/data/github/2022-04-07-marine-search/commit-logs File=gitcoin11-fluence.txt\n",
      "Root=/home/bob/projects/Web3HackerNetwork/data/github/2022-04-07-marine-search/commit-logs File=aquanftwallet.txt\n",
      "Root=/home/bob/projects/Web3HackerNetwork/data/github/2022-04-07-marine-search/commit-logs File=fluence-service-template.txt\n",
      "Root=/home/bob/projects/Web3HackerNetwork/data/github/2022-04-07-marine-search/commit-logs File=FluenceBounty.txt\n",
      "Root=/home/bob/projects/Web3HackerNetwork/data/github/2022-04-07-marine-search/commit-logs File=SelfId-Auth-Fluence.txt\n",
      "Root=/home/bob/projects/Web3HackerNetwork/data/github/2022-04-07-marine-search/commit-logs File=hackFS-nifti.txt\n",
      "Root=/home/bob/projects/Web3HackerNetwork/data/github/2022-04-07-marine-search/commit-logs File=fluence-char-count.txt\n",
      "Root=/home/bob/projects/Web3HackerNetwork/data/github/2022-04-07-marine-search/commit-logs File=OpenPond.txt\n",
      "Root=/home/bob/projects/Web3HackerNetwork/data/github/2022-04-07-marine-search/commit-logs File=aqua-ipfs.txt\n",
      "Root=/home/bob/projects/Web3HackerNetwork/data/github/2022-04-07-marine-search/commit-logs File=public-record-dao-services.txt\n",
      "Root=/home/bob/projects/Web3HackerNetwork/data/github/2022-04-07-marine-search/commit-logs File=BazaarEx.txt\n",
      "Root=/home/bob/projects/Web3HackerNetwork/data/github/2022-04-07-marine-search/commit-logs File=gitbook-docs.txt\n",
      "Root=/home/bob/projects/Web3HackerNetwork/data/github/2022-04-07-marine-search/commit-logs File=fluence-template.txt\n",
      "Root=/home/bob/projects/Web3HackerNetwork/data/github/2022-04-07-marine-search/commit-logs File=is-unique.txt\n",
      "Root=/home/bob/projects/Web3HackerNetwork/data/github/2022-04-07-marine-search/commit-logs File=marine-rs-sdk.txt\n",
      "Root=/home/bob/projects/Web3HackerNetwork/data/github/2022-04-07-marine-search/commit-logs File=examples.txt\n",
      "Processing projects\n",
      "Root=/home/bob/projects/Web3HackerNetwork/data/github/2022-04-07-marine-search/projects File=project_paths.txt\n",
      "/home/bob/projects/Web3HackerNetwork/data/github/2022-04-07-marine-search/commit-logs\n",
      "/home/bob/projects/Web3HackerNetwork/data/github/2022-04-07-marine-search/projects\n"
     ]
    }
   ],
   "source": [
    "start='/home/bob/projects/Web3HackerNetwork/data/github/2022-04-07-marine-search';\n",
    "for root, dirs, files in os.walk(start):\n",
    "    print(root);\n",
    "    for dirname in dirs:\n",
    "        print('Processing '+dirname);\n",
    "        for r2, d2, f2 in os.walk(root+'/'+dirname):\n",
    "            for dataFileName in f2:\n",
    "                print('Root='+r2+' File='+dataFileName);"
   ]
  },
  {
   "cell_type": "code",
   "execution_count": 11,
   "id": "004abaac-c9d9-44f1-b2f5-7c7e99700999",
   "metadata": {},
   "outputs": [
    {
     "ename": "SyntaxError",
     "evalue": "invalid syntax (3254314785.py, line 1)",
     "output_type": "error",
     "traceback": [
      "\u001b[0;36m  Input \u001b[0;32mIn [11]\u001b[0;36m\u001b[0m\n\u001b[0;31m    def addFiles(fileList, directory)\u001b[0m\n\u001b[0m                                     ^\u001b[0m\n\u001b[0;31mSyntaxError\u001b[0m\u001b[0;31m:\u001b[0m invalid syntax\n"
     ]
    }
   ],
   "source": [
    "def addFiles(fileList, directory)\n",
    "   for root, dirs, files in directory"
   ]
  },
  {
   "cell_type": "code",
   "execution_count": null,
   "id": "85757636-4d03-4314-828d-7307a4fb17a9",
   "metadata": {},
   "outputs": [],
   "source": []
  }
 ],
 "metadata": {
  "kernelspec": {
   "display_name": "Python 3 (ipykernel)",
   "language": "python",
   "name": "python3"
  },
  "language_info": {
   "codemirror_mode": {
    "name": "ipython",
    "version": 3
   },
   "file_extension": ".py",
   "mimetype": "text/x-python",
   "name": "python",
   "nbconvert_exporter": "python",
   "pygments_lexer": "ipython3",
   "version": "3.8.10"
  }
 },
 "nbformat": 4,
 "nbformat_minor": 5
}
