{
 "cells": [
  {
   "cell_type": "code",
   "execution_count": 2,
   "id": "4bce7923-fe4e-4b2d-b4f2-681f96da1f0e",
   "metadata": {},
   "outputs": [],
   "source": [
    "title = 'Days of our lives\\n'\n",
    "root = '/home/bob/projects/Web3HackerNetwork'\n",
    "stats_dir = root + \"/data/github/2022-04-07-marine-search/projects\"\n",
    "# file = 'days.txt'\n",
    "# path = root+'/'+file;\n",
    "# days_file = open(path, 'r')\n",
    "# days = days_file.read();\n",
    "# new_path = root+'/new_days.txt'\n",
    "# new_days = open(new_path, 'w')\n",
    "# new_days.write(title)\n",
    "# new_days.write(days)\n",
    "# print(title)\n",
    "# print(days)\n",
    "# days_file.close();\n",
    "# new_days.close();\n"
   ]
  },
  {
   "cell_type": "code",
   "execution_count": 39,
   "id": "44028b65-9f9c-4b96-a0b7-7828b950c6d7",
   "metadata": {},
   "outputs": [],
   "source": [
    "def read_repo_stats(login, project, filename):\n",
    "    path = stats_dir + \"/\" + login + \"/\" + project + \"/\" + filename\n",
    "    stats = dict(login=login, project=project)\n",
    "    with open(path, 'r') as f:\n",
    "        for line in f:\n",
    "            line = line.strip();\n",
    "            (name, val) = line.split();\n",
    "            # print(\"name: \" + name + \", val: \" + val);\n",
    "            stats[name] = int(val)\n",
    "    return stats"
   ]
  },
  {
   "cell_type": "code",
   "execution_count": 40,
   "id": "2d9172ea-d48a-4f56-89bd-5086e638dcd9",
   "metadata": {},
   "outputs": [
    {
     "name": "stdout",
     "output_type": "stream",
     "text": [
      "{'login': 'PhilippeMts', 'project': 'hackfs-fragment', 'num_files': 156, 'num_commits': 396, 'num_locs': 26906, 'num_rust_files': 1, 'num_react_files': 39, 'num_markdown_files': 7, 'num_binary_files': 36, 'num_rust_locs': 26, 'num_react_locs': 8404, 'num_markdown_locs': 532, 'num_binary_bytes': 10912860}\n",
      "{'login': 'amrosaeed', 'project': 'fluence', 'num_files': 779, 'num_commits': 4, 'num_locs': 402144, 'num_rust_files': 99, 'num_react_files': 114, 'num_markdown_files': 37, 'num_binary_files': 58, 'num_rust_locs': 13854, 'num_react_locs': 19844, 'num_markdown_locs': 12142, 'num_binary_bytes': 7268734}\n",
      "{'login': 'KirSerz', 'project': 'hackathon_wallet', 'num_files': 53, 'num_commits': 21, 'num_locs': 80798, 'num_rust_files': 3, 'num_react_files': 10, 'num_markdown_files': 3, 'num_binary_files': 4, 'num_rust_locs': 436, 'num_react_locs': 1458, 'num_markdown_locs': 372, 'num_binary_bytes': 87982}\n",
      "{'login': 'SurroundingArt64', 'project': 'Fluence-NFT-Wallet', 'num_files': 43, 'num_commits': 118, 'num_locs': 86422, 'num_rust_files': 1, 'num_react_files': 15, 'num_markdown_files': 3, 'num_binary_files': 8, 'num_rust_locs': 147, 'num_react_locs': 3256, 'num_markdown_locs': 228, 'num_binary_bytes': 2059458}\n",
      "{'login': 'cbonoz', 'project': 'hackfs21', 'num_files': 168, 'num_commits': 31, 'num_locs': 153737, 'num_rust_files': 2, 'num_react_files': 83, 'num_markdown_files': 3, 'num_binary_files': 25, 'num_rust_locs': 260, 'num_react_locs': 17902, 'num_markdown_locs': 750, 'num_binary_bytes': 4152837}\n",
      "{'login': 'cbonoz', 'project': 'checkoutfs', 'num_files': 167, 'num_commits': 3, 'num_locs': 153659, 'num_rust_files': 2, 'num_react_files': 83, 'num_markdown_files': 3, 'num_binary_files': 25, 'num_rust_locs': 260, 'num_react_locs': 17902, 'num_markdown_locs': 776, 'num_binary_bytes': 4152837}\n",
      "{'login': 'adshpl', 'project': 'fluence-playground-server', 'num_files': 12, 'num_commits': 2, 'num_locs': 1817, 'num_rust_files': 1, 'num_react_files': 0, 'num_markdown_files': 1, 'num_binary_files': 0, 'num_rust_locs': 20, 'num_react_locs': 0, 'num_markdown_locs': 0, 'num_binary_bytes': 0}\n",
      "{'login': 'Joera', 'project': 'gitcoin11-fluence', 'num_files': 195, 'num_commits': 8, 'num_locs': 15955, 'num_rust_files': 36, 'num_react_files': 0, 'num_markdown_files': 12, 'num_binary_files': 27, 'num_rust_locs': 4258, 'num_react_locs': 0, 'num_markdown_locs': 214, 'num_binary_bytes': 3357874}\n",
      "{'login': 'Joera', 'project': 'public-record-dao-services', 'num_files': 195, 'num_commits': 8, 'num_locs': 15955, 'num_rust_files': 36, 'num_react_files': 0, 'num_markdown_files': 12, 'num_binary_files': 27, 'num_rust_locs': 4258, 'num_react_locs': 0, 'num_markdown_locs': 214, 'num_binary_bytes': 3357874}\n",
      "{'login': 'synycboom', 'project': 'identity-link-api-aqua', 'num_files': 122, 'num_commits': 64, 'num_locs': 36825, 'num_rust_files': 5, 'num_react_files': 62, 'num_markdown_files': 3, 'num_binary_files': 8, 'num_rust_locs': 780, 'num_react_locs': 10614, 'num_markdown_locs': 350, 'num_binary_bytes': 967248}\n",
      "{'login': 'hnihsan', 'project': 'OpenPond', 'num_files': 68, 'num_commits': 33, 'num_locs': 40506, 'num_rust_files': 2, 'num_react_files': 40, 'num_markdown_files': 1, 'num_binary_files': 7, 'num_rust_locs': 296, 'num_react_locs': 6852, 'num_markdown_locs': 58, 'num_binary_bytes': 872927}\n",
      "{'login': 'pkalab', 'project': 'examples', 'num_files': 482, 'num_commits': 305, 'num_locs': 324573, 'num_rust_files': 65, 'num_react_files': 70, 'num_markdown_files': 23, 'num_binary_files': 28, 'num_rust_locs': 9056, 'num_react_locs': 5864, 'num_markdown_locs': 8014, 'num_binary_bytes': 3469083}\n",
      "{'login': 'anhfactor', 'project': 'fluence-char-count', 'num_files': 42, 'num_commits': 6, 'num_locs': 21427, 'num_rust_files': 1, 'num_react_files': 7, 'num_markdown_files': 1, 'num_binary_files': 7, 'num_rust_locs': 67, 'num_react_locs': 602, 'num_markdown_locs': 182, 'num_binary_bytes': 145159}\n",
      "{'login': 'juanobligado', 'project': 'dxpriceaggregator', 'num_files': 49, 'num_commits': 28, 'num_locs': 33791, 'num_rust_files': 6, 'num_react_files': 6, 'num_markdown_files': 2, 'num_binary_files': 5, 'num_rust_locs': 708, 'num_react_locs': 1452, 'num_markdown_locs': 188, 'num_binary_bytes': 17909}\n",
      "{'login': 'Hazarre', 'project': 'SharedDoc', 'num_files': 26, 'num_commits': 11, 'num_locs': 31232, 'num_rust_files': 1, 'num_react_files': 6, 'num_markdown_files': 1, 'num_binary_files': 3, 'num_rust_locs': 285, 'num_react_locs': 1066, 'num_markdown_locs': 52, 'num_binary_bytes': 208185}\n",
      "{'login': 'sekmet', 'project': 'flullet', 'num_files': 217, 'num_commits': 20, 'num_locs': 92062, 'num_rust_files': 8, 'num_react_files': 114, 'num_markdown_files': 2, 'num_binary_files': 34, 'num_rust_locs': 2530, 'num_react_locs': 14828, 'num_markdown_locs': 122, 'num_binary_bytes': 2061169}\n",
      "{'login': 'ben-razor', 'project': 'Fluence-Service', 'num_files': 387, 'num_commits': 18, 'num_locs': 201121, 'num_rust_files': 49, 'num_react_files': 57, 'num_markdown_files': 18, 'num_binary_files': 32, 'num_rust_locs': 6898, 'num_react_locs': 9934, 'num_markdown_locs': 6080, 'num_binary_bytes': 3926860}\n",
      "{'login': 'enigmatt', 'project': 'new2web3', 'num_files': 30, 'num_commits': 20, 'num_locs': 5734, 'num_rust_files': 1, 'num_react_files': 4, 'num_markdown_files': 2, 'num_binary_files': 5, 'num_rust_locs': 270, 'num_react_locs': 484, 'num_markdown_locs': 148, 'num_binary_bytes': 829606}\n",
      "{'login': 'fluencelabs', 'project': 'aquavm', 'num_files': 320, 'num_commits': 218, 'num_locs': 39769, 'num_rust_files': 254, 'num_react_files': 1, 'num_markdown_files': 10, 'num_binary_files': 11, 'num_rust_locs': 65644, 'num_react_locs': 33, 'num_markdown_locs': 814, 'num_binary_bytes': 1375142}\n",
      "{'login': 'fluencelabs', 'project': 'trust-graph', 'num_files': 70, 'num_commits': 64, 'num_locs': 35289, 'num_rust_files': 28, 'num_react_files': 2, 'num_markdown_files': 3, 'num_binary_files': 3, 'num_rust_locs': 11236, 'num_react_locs': 516, 'num_markdown_locs': 232, 'num_binary_bytes': 5386}\n",
      "{'login': 'fluencelabs', 'project': 'trust-graph-test', 'num_files': 55, 'num_commits': 74, 'num_locs': 16142, 'num_rust_files': 25, 'num_react_files': 1, 'num_markdown_files': 2, 'num_binary_files': 4, 'num_rust_locs': 10184, 'num_react_locs': 78, 'num_markdown_locs': 142, 'num_binary_bytes': 913087}\n",
      "{'login': 'fluencelabs', 'project': 'registry', 'num_files': 41, 'num_commits': 115, 'num_locs': 22712, 'num_rust_files': 16, 'num_react_files': 1, 'num_markdown_files': 3, 'num_binary_files': 0, 'num_rust_locs': 5790, 'num_react_locs': 51, 'num_markdown_locs': 102, 'num_binary_bytes': 0}\n",
      "{'login': 'fluencelabs', 'project': 'marine', 'num_files': 258, 'num_commits': 319, 'num_locs': 30475, 'num_rust_files': 165, 'num_react_files': 6, 'num_markdown_files': 2, 'num_binary_files': 19, 'num_rust_locs': 34128, 'num_react_locs': 1172, 'num_markdown_locs': 236, 'num_binary_bytes': 2777437}\n",
      "{'login': 'fluencelabs', 'project': 'fluence-service-template', 'num_files': 44, 'num_commits': 3, 'num_locs': 4229, 'num_rust_files': 7, 'num_react_files': 0, 'num_markdown_files': 2, 'num_binary_files': 6, 'num_rust_locs': 854, 'num_react_locs': 0, 'num_markdown_locs': 92, 'num_binary_bytes': 582445}\n",
      "{'login': 'fluencelabs', 'project': 'eip712-validation-node', 'num_files': 27, 'num_commits': 51, 'num_locs': 12903, 'num_rust_files': 1, 'num_react_files': 7, 'num_markdown_files': 2, 'num_binary_files': 1, 'num_rust_locs': 119, 'num_react_locs': 4284, 'num_markdown_locs': 598, 'num_binary_bytes': 12288}\n",
      "{'login': 'fluencelabs', 'project': 'marine-rs-sdk', 'num_files': 95, 'num_commits': 353, 'num_locs': 7304, 'num_rust_files': 78, 'num_react_files': 0, 'num_markdown_files': 1, 'num_binary_files': 0, 'num_rust_locs': 12756, 'num_react_locs': 0, 'num_markdown_locs': 5, 'num_binary_bytes': 0}\n",
      "{'login': 'fluencelabs', 'project': 'examples', 'num_files': 482, 'num_commits': 305, 'num_locs': 324573, 'num_rust_files': 65, 'num_react_files': 70, 'num_markdown_files': 23, 'num_binary_files': 28, 'num_rust_locs': 9056, 'num_react_locs': 5864, 'num_markdown_locs': 8014, 'num_binary_bytes': 3469083}\n",
      "{'login': 'fluencelabs', 'project': 'aqua-ipfs', 'num_files': 43, 'num_commits': 61, 'num_locs': 8937, 'num_rust_files': 8, 'num_react_files': 1, 'num_markdown_files': 3, 'num_binary_files': 0, 'num_rust_locs': 1420, 'num_react_locs': 108, 'num_markdown_locs': 84, 'num_binary_bytes': 0}\n",
      "{'login': 'fluencelabs', 'project': 'gitbook-docs', 'num_files': 33, 'num_commits': 143, 'num_locs': 3970, 'num_rust_files': 0, 'num_react_files': 0, 'num_markdown_files': 33, 'num_binary_files': 0, 'num_rust_locs': 0, 'num_react_locs': 0, 'num_markdown_locs': 7940, 'num_binary_bytes': 0}\n",
      "{'login': 'nshmadhani', 'project': 'is-unique', 'num_files': 33, 'num_commits': 5, 'num_locs': 48187, 'num_rust_files': 2, 'num_react_files': 8, 'num_markdown_files': 1, 'num_binary_files': 4, 'num_rust_locs': 222, 'num_react_locs': 640, 'num_markdown_locs': 28, 'num_binary_bytes': 217806}\n",
      "{'login': 'tejas-kothari', 'project': 'BazaarEx', 'num_files': 57, 'num_commits': 40, 'num_locs': 41768, 'num_rust_files': 12, 'num_react_files': 3, 'num_markdown_files': 1, 'num_binary_files': 0, 'num_rust_locs': 2534, 'num_react_locs': 256, 'num_markdown_locs': 38, 'num_binary_bytes': 0}\n",
      "{'login': 'christianbm1', 'project': 'hackFS-nifti', 'num_files': 66, 'num_commits': 27, 'num_locs': 81998, 'num_rust_files': 1, 'num_react_files': 23, 'num_markdown_files': 1, 'num_binary_files': 4, 'num_rust_locs': 179, 'num_react_locs': 3224, 'num_markdown_locs': 70, 'num_binary_bytes': 34608}\n",
      "{'login': 'gpgith', 'project': 'fluencelabs-examples', 'num_files': 380, 'num_commits': 183, 'num_locs': 200689, 'num_rust_files': 49, 'num_react_files': 57, 'num_markdown_files': 18, 'num_binary_files': 26, 'num_rust_locs': 6898, 'num_react_locs': 9910, 'num_markdown_locs': 5640, 'num_binary_bytes': 3341874}\n",
      "{'login': 'boneyard93501', 'project': 'fluence-template', 'num_files': 5, 'num_commits': 26, 'num_locs': 97, 'num_rust_files': 1, 'num_react_files': 0, 'num_markdown_files': 0, 'num_binary_files': 0, 'num_rust_locs': 51, 'num_react_locs': 0, 'num_markdown_locs': 0, 'num_binary_bytes': 0}\n",
      "{'login': 'gjsyme', 'project': 'fluence-quickstart-bounty', 'num_files': 405, 'num_commits': 2, 'num_locs': 220225, 'num_rust_files': 50, 'num_react_files': 61, 'num_markdown_files': 19, 'num_binary_files': 29, 'num_rust_locs': 6980, 'num_react_locs': 10508, 'num_markdown_locs': 5712, 'num_binary_bytes': 3372203}\n",
      "{'login': 'Brianspha', 'project': 'aquanftwallet', 'num_files': 210, 'num_commits': 7, 'num_locs': 88624, 'num_rust_files': 1, 'num_react_files': 11, 'num_markdown_files': 1, 'num_binary_files': 94, 'num_rust_locs': 61, 'num_react_locs': 1538, 'num_markdown_locs': 24, 'num_binary_bytes': 98954202}\n",
      "{'login': 'hadzija7', 'project': 'FluenceBounty', 'num_files': 51, 'num_commits': 8, 'num_locs': 39322, 'num_rust_files': 2, 'num_react_files': 8, 'num_markdown_files': 2, 'num_binary_files': 6, 'num_rust_locs': 156, 'num_react_locs': 1128, 'num_markdown_locs': 86, 'num_binary_bytes': 60658}\n",
      "{'login': 'danielssonn', 'project': 'lastfluence', 'num_files': 197, 'num_commits': 3, 'num_locs': 47774, 'num_rust_files': 1, 'num_react_files': 5, 'num_markdown_files': 0, 'num_binary_files': 92, 'num_rust_locs': 65, 'num_react_locs': 1106, 'num_markdown_locs': 0, 'num_binary_bytes': 101481680}\n",
      "{'login': 'danielssonn', 'project': 'Poliwallet', 'num_files': 196, 'num_commits': 45, 'num_locs': 9929, 'num_rust_files': 1, 'num_react_files': 5, 'num_markdown_files': 3, 'num_binary_files': 83, 'num_rust_locs': 65, 'num_react_locs': 1106, 'num_markdown_locs': 150, 'num_binary_bytes': 2017310}\n",
      "{'login': 'fsy412', 'project': 'SelfId-Auth-Fluence', 'num_files': 49, 'num_commits': 8, 'num_locs': 25348, 'num_rust_files': 4, 'num_react_files': 10, 'num_markdown_files': 2, 'num_binary_files': 5, 'num_rust_locs': 174, 'num_react_locs': 1708, 'num_markdown_locs': 104, 'num_binary_bytes': 176286}\n"
     ]
    }
   ],
   "source": [
    "import os\n",
    "start = stats_dir\n",
    "for root, logins, files in os.walk(start):\n",
    "    # print(root);\n",
    "    for login in logins:\n",
    "        #print('login '+login);\n",
    "        for r2, projects, f2 in os.walk(root+'/'+login):\n",
    "            for project in projects:\n",
    "                #print(\"project: \" + project);\n",
    "                for r3, d3, filenames in os.walk(root + \"/\" + login + \"/\" + project):\n",
    "                    for filename in filenames:\n",
    "                        if (filename == \"repo-stat.log\"):\n",
    "                            # read_stats\n",
    "                            # print(\"login: \" + login + \", project: \" + project + \", file: \" + filename);\n",
    "                            stats = read_repo_stats(login, project, filename);\n",
    "                            print(stats)"
   ]
  },
  {
   "cell_type": "code",
   "execution_count": 1,
   "id": "66d3d3ad-9abe-466e-a7c6-2c9abf66b41f",
   "metadata": {},
   "outputs": [
    {
     "name": "stdout",
     "output_type": "stream",
     "text": [
      "Hi there!\n"
     ]
    }
   ],
   "source": []
  },
  {
   "cell_type": "code",
   "execution_count": 3,
   "id": "60d37687-4c6a-4340-b7b3-e4c132a42e73",
   "metadata": {},
   "outputs": [
    {
     "data": {
      "text/plain": [
       "TestResults(failed=0, attempted=1)"
      ]
     },
     "execution_count": 3,
     "metadata": {},
     "output_type": "execute_result"
    }
   ],
   "source": [
    "import doctest\n",
    "def add(a, b):\n",
    "    \"\"\"\n",
    "    Given two integers, return the sum.\n",
    "\n",
    "    :param a: int\n",
    "    :param b: int\n",
    "    :return: int\n",
    "\n",
    "    >>> add(2, 3)\n",
    "    5\n",
    "    \"\"\"\n",
    "    return a + b\n",
    "doctest.testmod()"
   ]
  },
  {
   "cell_type": "code",
   "execution_count": 4,
   "id": "a70d8cd0-2941-4681-8461-326b5ebacede",
   "metadata": {},
   "outputs": [
    {
     "data": {
      "text/plain": [
       "3"
      ]
     },
     "execution_count": 4,
     "metadata": {},
     "output_type": "execute_result"
    }
   ],
   "source": [
    "add(1,2)"
   ]
  },
  {
   "cell_type": "code",
   "execution_count": 5,
   "id": "00f6c38e-b2d6-4801-82f5-59b1f0c70aa6",
   "metadata": {},
   "outputs": [
    {
     "name": "stdout",
     "output_type": "stream",
     "text": [
      "/home/bob/projects/Web3HackerNetwork/data/samples/days.txt\n"
     ]
    }
   ],
   "source": [
    "print(path)"
   ]
  },
  {
   "cell_type": "code",
   "execution_count": 6,
   "id": "343e4fe0-5696-479a-b648-0f02f2561e88",
   "metadata": {},
   "outputs": [
    {
     "name": "stdout",
     "output_type": "stream",
     "text": [
      "**********************************************************************\n",
      "File \"__main__\", line 12, in __main__.add\n",
      "Failed example:\n",
      "    add(2, 3)\n",
      "Expected:\n",
      "    5\n",
      "Got:\n",
      "    6\n",
      "**********************************************************************\n",
      "1 items had failures:\n",
      "   1 of   2 in __main__.add\n",
      "***Test Failed*** 1 failures.\n"
     ]
    },
    {
     "data": {
      "text/plain": [
       "TestResults(failed=1, attempted=2)"
      ]
     },
     "execution_count": 6,
     "metadata": {},
     "output_type": "execute_result"
    }
   ],
   "source": [
    "import doctest\n",
    "\n",
    "\n",
    "def add(a, b):\n",
    "    \"\"\"\n",
    "    Given two integers, return the sum.\n",
    "\n",
    "    :param a: int\n",
    "    :param b: int\n",
    "    :return: int\n",
    "\n",
    "    >>> add(2, 3)\n",
    "    5\n",
    "    >>> add(0, 0)\n",
    "    0\n",
    "    \"\"\"\n",
    "    return a * b\n",
    "\n",
    "doctest.testmod()"
   ]
  },
  {
   "cell_type": "code",
   "execution_count": 7,
   "id": "9eee2524-10e3-4747-bfa9-782e97ee9de9",
   "metadata": {},
   "outputs": [
    {
     "name": "stdout",
     "output_type": "stream",
     "text": [
      "**********************************************************************\n",
      "File \"__main__\", line 12, in __main__.add\n",
      "Failed example:\n",
      "    add(2, 3)\n",
      "Expected:\n",
      "    5\n",
      "Got:\n",
      "    6\n",
      "**********************************************************************\n",
      "1 items had failures:\n",
      "   1 of   2 in __main__.add\n",
      "***Test Failed*** 1 failures.\n"
     ]
    }
   ],
   "source": [
    "def count_vowels(word):\n",
    "    \"\"\"\n",
    "    Given a single word, return the total number of vowels in that single word.\n",
    "\n",
    "    :param word: str\n",
    "    :return: int\n",
    "\n",
    "    >>> count_vowels('Cusco')\n",
    "    2\n",
    "\n",
    "    >>> count_vowels('Manila')\n",
    "    3\n",
    "    \"\"\"\n",
    "    total_vowels = 0\n",
    "    for letter in word:\n",
    "        if letter in 'aeiou':\n",
    "            total_vowels += 1\n",
    "    return total_vowels\n",
    "\n",
    "if __name__ == \"__main__\":\n",
    "    import doctest\n",
    "    doctest.testmod()"
   ]
  },
  {
   "cell_type": "code",
   "execution_count": null,
   "id": "05435981-b716-4837-9237-20c768b1caf7",
   "metadata": {},
   "outputs": [],
   "source": []
  },
  {
   "cell_type": "code",
   "execution_count": 8,
   "id": "787f6267-0780-4499-95df-9fc28bb513b9",
   "metadata": {},
   "outputs": [
    {
     "name": "stdout",
     "output_type": "stream",
     "text": [
      "/home/bob/projects/Web3HackerNetwork/data/samples/days.txt\n"
     ]
    }
   ],
   "source": [
    "import os\n",
    "print(path)"
   ]
  },
  {
   "cell_type": "code",
   "execution_count": 10,
   "id": "cdd11423-1945-47ad-a832-875d0220858c",
   "metadata": {},
   "outputs": [
    {
     "name": "stdout",
     "output_type": "stream",
     "text": [
      "/home/bob/projects/Web3HackerNetwork/data/github/2022-04-07-marine-search\n",
      "Processing commit-logs\n",
      "Root=/home/bob/projects/Web3HackerNetwork/data/github/2022-04-07-marine-search/commit-logs File=trust-graph-test.txt\n",
      "Root=/home/bob/projects/Web3HackerNetwork/data/github/2022-04-07-marine-search/commit-logs File=dxpriceaggregator.txt\n",
      "Root=/home/bob/projects/Web3HackerNetwork/data/github/2022-04-07-marine-search/commit-logs File=aquavm.txt\n",
      "Root=/home/bob/projects/Web3HackerNetwork/data/github/2022-04-07-marine-search/commit-logs File=fluencelabs-examples.txt\n",
      "Root=/home/bob/projects/Web3HackerNetwork/data/github/2022-04-07-marine-search/commit-logs File=Fluence-Service.txt\n",
      "Root=/home/bob/projects/Web3HackerNetwork/data/github/2022-04-07-marine-search/commit-logs File=fluence.txt\n",
      "Root=/home/bob/projects/Web3HackerNetwork/data/github/2022-04-07-marine-search/commit-logs File=hackfs21.txt\n",
      "Root=/home/bob/projects/Web3HackerNetwork/data/github/2022-04-07-marine-search/commit-logs File=hackathon_wallet.txt\n",
      "Root=/home/bob/projects/Web3HackerNetwork/data/github/2022-04-07-marine-search/commit-logs File=SharedDoc.txt\n",
      "Root=/home/bob/projects/Web3HackerNetwork/data/github/2022-04-07-marine-search/commit-logs File=trust-graph.txt\n",
      "Root=/home/bob/projects/Web3HackerNetwork/data/github/2022-04-07-marine-search/commit-logs File=checkoutfs.txt\n",
      "Root=/home/bob/projects/Web3HackerNetwork/data/github/2022-04-07-marine-search/commit-logs File=fluence-quickstart-bounty.txt\n",
      "Root=/home/bob/projects/Web3HackerNetwork/data/github/2022-04-07-marine-search/commit-logs File=registry.txt\n",
      "Root=/home/bob/projects/Web3HackerNetwork/data/github/2022-04-07-marine-search/commit-logs File=Poliwallet.txt\n",
      "Root=/home/bob/projects/Web3HackerNetwork/data/github/2022-04-07-marine-search/commit-logs File=flullet.txt\n",
      "Root=/home/bob/projects/Web3HackerNetwork/data/github/2022-04-07-marine-search/commit-logs File=eip712-validation-node.txt\n",
      "Root=/home/bob/projects/Web3HackerNetwork/data/github/2022-04-07-marine-search/commit-logs File=Fluence-NFT-Wallet.txt\n",
      "Root=/home/bob/projects/Web3HackerNetwork/data/github/2022-04-07-marine-search/commit-logs File=fluence-playground-server.txt\n",
      "Root=/home/bob/projects/Web3HackerNetwork/data/github/2022-04-07-marine-search/commit-logs File=lastfluence.txt\n",
      "Root=/home/bob/projects/Web3HackerNetwork/data/github/2022-04-07-marine-search/commit-logs File=hackfs-fragment.txt\n",
      "Root=/home/bob/projects/Web3HackerNetwork/data/github/2022-04-07-marine-search/commit-logs File=new2web3.txt\n",
      "Root=/home/bob/projects/Web3HackerNetwork/data/github/2022-04-07-marine-search/commit-logs File=identity-link-api-aqua.txt\n",
      "Root=/home/bob/projects/Web3HackerNetwork/data/github/2022-04-07-marine-search/commit-logs File=marine.txt\n",
      "Root=/home/bob/projects/Web3HackerNetwork/data/github/2022-04-07-marine-search/commit-logs File=gitcoin11-fluence.txt\n",
      "Root=/home/bob/projects/Web3HackerNetwork/data/github/2022-04-07-marine-search/commit-logs File=aquanftwallet.txt\n",
      "Root=/home/bob/projects/Web3HackerNetwork/data/github/2022-04-07-marine-search/commit-logs File=fluence-service-template.txt\n",
      "Root=/home/bob/projects/Web3HackerNetwork/data/github/2022-04-07-marine-search/commit-logs File=FluenceBounty.txt\n",
      "Root=/home/bob/projects/Web3HackerNetwork/data/github/2022-04-07-marine-search/commit-logs File=SelfId-Auth-Fluence.txt\n",
      "Root=/home/bob/projects/Web3HackerNetwork/data/github/2022-04-07-marine-search/commit-logs File=hackFS-nifti.txt\n",
      "Root=/home/bob/projects/Web3HackerNetwork/data/github/2022-04-07-marine-search/commit-logs File=fluence-char-count.txt\n",
      "Root=/home/bob/projects/Web3HackerNetwork/data/github/2022-04-07-marine-search/commit-logs File=OpenPond.txt\n",
      "Root=/home/bob/projects/Web3HackerNetwork/data/github/2022-04-07-marine-search/commit-logs File=aqua-ipfs.txt\n",
      "Root=/home/bob/projects/Web3HackerNetwork/data/github/2022-04-07-marine-search/commit-logs File=public-record-dao-services.txt\n",
      "Root=/home/bob/projects/Web3HackerNetwork/data/github/2022-04-07-marine-search/commit-logs File=BazaarEx.txt\n",
      "Root=/home/bob/projects/Web3HackerNetwork/data/github/2022-04-07-marine-search/commit-logs File=gitbook-docs.txt\n",
      "Root=/home/bob/projects/Web3HackerNetwork/data/github/2022-04-07-marine-search/commit-logs File=fluence-template.txt\n",
      "Root=/home/bob/projects/Web3HackerNetwork/data/github/2022-04-07-marine-search/commit-logs File=is-unique.txt\n",
      "Root=/home/bob/projects/Web3HackerNetwork/data/github/2022-04-07-marine-search/commit-logs File=marine-rs-sdk.txt\n",
      "Root=/home/bob/projects/Web3HackerNetwork/data/github/2022-04-07-marine-search/commit-logs File=examples.txt\n",
      "Processing projects\n",
      "Root=/home/bob/projects/Web3HackerNetwork/data/github/2022-04-07-marine-search/projects File=project_paths.txt\n",
      "/home/bob/projects/Web3HackerNetwork/data/github/2022-04-07-marine-search/commit-logs\n",
      "/home/bob/projects/Web3HackerNetwork/data/github/2022-04-07-marine-search/projects\n"
     ]
    }
   ],
   "source": [
    "start='/home/bob/projects/Web3HackerNetwork/data/github/2022-04-07-marine-search';\n",
    "for root, dirs, files in os.walk(start):\n",
    "    print(root);\n",
    "    for dirname in dirs:\n",
    "        print('Processing '+dirname);\n",
    "        for r2, d2, f2 in os.walk(root+'/'+dirname):\n",
    "            for dataFileName in f2:\n",
    "                print('Root='+r2+' File='+dataFileName);"
   ]
  },
  {
   "cell_type": "code",
   "execution_count": 11,
   "id": "004abaac-c9d9-44f1-b2f5-7c7e99700999",
   "metadata": {},
   "outputs": [
    {
     "ename": "SyntaxError",
     "evalue": "invalid syntax (3254314785.py, line 1)",
     "output_type": "error",
     "traceback": [
      "\u001b[0;36m  Input \u001b[0;32mIn [11]\u001b[0;36m\u001b[0m\n\u001b[0;31m    def addFiles(fileList, directory)\u001b[0m\n\u001b[0m                                     ^\u001b[0m\n\u001b[0;31mSyntaxError\u001b[0m\u001b[0;31m:\u001b[0m invalid syntax\n"
     ]
    }
   ],
   "source": [
    "def addFiles(fileList, directory)\n",
    "   for root, dirs, files in directory"
   ]
  },
  {
   "cell_type": "code",
   "execution_count": null,
   "id": "85757636-4d03-4314-828d-7307a4fb17a9",
   "metadata": {},
   "outputs": [],
   "source": []
  }
 ],
 "metadata": {
  "kernelspec": {
   "display_name": "Python 3 (ipykernel)",
   "language": "python",
   "name": "python3"
  },
  "language_info": {
   "codemirror_mode": {
    "name": "ipython",
    "version": 3
   },
   "file_extension": ".py",
   "mimetype": "text/x-python",
   "name": "python",
   "nbconvert_exporter": "python",
   "pygments_lexer": "ipython3",
   "version": "3.8.10"
  }
 },
 "nbformat": 4,
 "nbformat_minor": 5
}
