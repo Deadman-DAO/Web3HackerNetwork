{
 "cells": [
  {
   "cell_type": "code",
   "execution_count": 3,
   "id": "dbbe5981-2869-42e0-890d-bef8d9b3c960",
   "metadata": {},
   "outputs": [],
   "source": [
    "import json\n",
    "project_base_path = '../../..'\n",
    "file_path = project_base_path + '/sandbox/notebooks/matt/new_repos.json'\n",
    "fin = open(file_path, 'r')\n",
    "projects_dict = json.load(fin)\n",
    "fin.close()"
   ]
  },
  {
   "cell_type": "code",
   "execution_count": 14,
   "id": "5950c2b6-9cd8-4da7-a36f-53895422c5e0",
   "metadata": {},
   "outputs": [
    {
     "name": "stdout",
     "output_type": "stream",
     "text": [
      "../../../sandbox/data/bob/new_repos/Deadman-DAO/Web3HackerNetwork/commit_stat.json\n",
      "../../../sandbox/data/bob/new_repos/enigmatt/new2Web3/commit_stat.json\n",
      "../../../sandbox/data/bob/new_repos/oceanprotocol/aquarius/commit_stat.json\n",
      "../../../sandbox/data/bob/new_repos/oceanprotocol/contracts/commit_stat.json\n",
      "../../../sandbox/data/bob/new_repos/oceanprotocol/market/commit_stat.json\n",
      "../../../sandbox/data/bob/new_repos/oceanprotocol/ocean.js/commit_stat.json\n",
      "../../../sandbox/data/bob/new_repos/oceanprotocol/ocean.py/commit_stat.json\n",
      "../../../sandbox/data/bob/new_repos/oceanprotocol/provider/commit_stat.json\n",
      "../../../sandbox/data/bob/new_repos/pypa/warehouse/commit_stat.json\n"
     ]
    }
   ],
   "source": [
    "for key in projects_dict.keys():\n",
    "    val = projects_dict[key]\n",
    "    path = project_base_path + '/sandbox/data/bob/new_repos/' + key + '/commit_stat.json'\n",
    "    print(path)\n",
    "    with open(path, 'w') as out:\n",
    "        out.write(json.dumps(val, indent=2))\n"
   ]
  }
 ],
 "metadata": {
  "kernelspec": {
   "display_name": "Python 3 (ipykernel)",
   "language": "python",
   "name": "python3"
  },
  "language_info": {
   "codemirror_mode": {
    "name": "ipython",
    "version": 3
   },
   "file_extension": ".py",
   "mimetype": "text/x-python",
   "name": "python",
   "nbconvert_exporter": "python",
   "pygments_lexer": "ipython3",
   "version": "3.8.10"
  }
 },
 "nbformat": 4,
 "nbformat_minor": 5
}
