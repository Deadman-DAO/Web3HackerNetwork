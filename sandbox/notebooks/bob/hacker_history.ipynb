{
 "cells": [
  {
   "cell_type": "markdown",
   "id": "9610a4cf-b430-4648-83d6-c60659d111f4",
   "metadata": {},
   "source": [
    "### Load the Commit Features"
   ]
  },
  {
   "cell_type": "code",
   "execution_count": 1,
   "id": "fae1a880-4372-4c3c-80c7-4bbec7e20483",
   "metadata": {},
   "outputs": [],
   "source": [
    "project_root_path = '../../..'\n",
    "lib_path = project_root_path + '/python/lib/'\n",
    "import json\n",
    "import sys\n",
    "sys.path.append(lib_path)\n",
    "import commit_features\n",
    "\n",
    "dataset_dir = project_root_path + '/data/github/2022-04-07-marine-search'\n",
    "project_stats_dir = dataset_dir + '/projects'\n",
    "classifier_features = [\n",
    "    'binFiles','textFiles','textLines','javascriptLines','rustLines',\n",
    "    'lockLines','htmlLines','jsonLines','markdownLines','imgFiles'\n",
    "]\n",
    "\n",
    "all_commit_features = commit_features.load_all(project_stats_dir, 'commit-stat.log.json')\n",
    "X = commit_features.make_matrix(all_commit_features, classifier_features)"
   ]
  },
  {
   "cell_type": "markdown",
   "id": "b54e23da-8e01-4351-8d23-f7dbff400377",
   "metadata": {},
   "source": [
    "### Load the Trained Model"
   ]
  },
  {
   "cell_type": "code",
   "execution_count": 2,
   "id": "a5141a76-8957-4b6e-a083-0b40d95f0e0e",
   "metadata": {},
   "outputs": [
    {
     "name": "stdout",
     "output_type": "stream",
     "text": [
      "2629\n"
     ]
    }
   ],
   "source": [
    "import pickle\n",
    "model_path = project_root_path + '/sandbox/data/bob/logit-clf.dat'\n",
    "fin = open(model_path, 'rb')\n",
    "model_deserial = pickle.load(fin)\n",
    "fin.close()\n",
    "y_pred = model_deserial.predict(X)\n",
    "print(len(y_pred))"
   ]
  },
  {
   "cell_type": "markdown",
   "id": "efb08b61-c79a-462c-bb20-263165bd4475",
   "metadata": {},
   "source": [
    "### Compile Hacker Histories"
   ]
  },
  {
   "cell_type": "code",
   "execution_count": 3,
   "id": "757799ef-8ffc-4ae7-9d77-fda7d8a05a8a",
   "metadata": {},
   "outputs": [],
   "source": [
    "hacker_histories = {}\n",
    "for i in range(len(y_pred)):\n",
    "    features = all_commit_features[i]\n",
    "    pred = y_pred[i]\n",
    "    author = features['author']\n",
    "    features['predicted_class'] = pred\n",
    "    if author not in hacker_histories: hacker_histories[author] = []\n",
    "    hacker_commits = hacker_histories[author]\n",
    "    hacker_commits.append(features)"
   ]
  },
  {
   "cell_type": "markdown",
   "id": "1894fcc7-10c2-4c40-8839-422e3bc37392",
   "metadata": {},
   "source": [
    "### Show Hacker Commit Types"
   ]
  },
  {
   "cell_type": "code",
   "execution_count": 4,
   "id": "7c7eec33-e7f7-46dd-a38a-91396ee107f8",
   "metadata": {},
   "outputs": [
    {
     "name": "stdout",
     "output_type": "stream",
     "text": [
      "Aleksandar Hadzibabic <48260177+hadzija7@users.noreply.github.com>\n",
      "1\tminor\n",
      "1\tdocumentation\n",
      "\n"
     ]
    }
   ],
   "source": [
    "import matplotlib.pyplot as plt\n",
    "\n",
    "hacker_histograms = []\n",
    "for hacker in hacker_histories.keys():\n",
    "    commits = hacker_histories[hacker]\n",
    "    commit_types = [commit['predicted_class'] for commit in commits]\n",
    "    observed_types = list(set(commit_types))\n",
    "    hacker_commit_types = []\n",
    "    for observed_type in observed_types:\n",
    "        observations = [1 for commit_type in commit_types if commit_type == observed_type]\n",
    "        count = len(observations)\n",
    "        hacker_commit_types.append(dict(num_commits=count, commit_type=observed_type))\n",
    "    sorted_list = sorted(hacker_commit_types, key=lambda d: d['num_commits'])\n",
    "    sorted_list.reverse()\n",
    "    hacker_histograms.append(dict(hacker=hacker, commit_stats=sorted_list))\n",
    "\n",
    "sorted_histograms = sorted(hacker_histograms, key=lambda d: d['hacker'].lower())\n",
    "for histo in sorted_histograms:\n",
    "    print(histo['hacker'])\n",
    "    for row in histo['commit_stats']:\n",
    "        print(str(row['num_commits']) + \"\\t\" + str(row['commit_type']))\n",
    "    print()\n",
    "    break"
   ]
  },
  {
   "cell_type": "code",
   "execution_count": 5,
   "id": "a882a6f6-06d2-49a8-ac23-e7fb02f9793c",
   "metadata": {},
   "outputs": [],
   "source": [
    "import json\n",
    "\n",
    "out_path = project_root_path + '/sandbox/data/bob/hacker_history.json'\n",
    "out_handle = open(out_path, \"w\");\n",
    "out_handle.write(json.dumps(sorted_histograms, indent=2));\n",
    "out_handle.flush()\n",
    "out_handle.close()"
   ]
  }
 ],
 "metadata": {
  "kernelspec": {
   "display_name": "Python 3 (ipykernel)",
   "language": "python",
   "name": "python3"
  },
  "language_info": {
   "codemirror_mode": {
    "name": "ipython",
    "version": 3
   },
   "file_extension": ".py",
   "mimetype": "text/x-python",
   "name": "python",
   "nbconvert_exporter": "python",
   "pygments_lexer": "ipython3",
   "version": "3.8.10"
  }
 },
 "nbformat": 4,
 "nbformat_minor": 5
}
