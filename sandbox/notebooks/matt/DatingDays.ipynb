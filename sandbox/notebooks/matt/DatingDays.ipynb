{
 "cells": [
  {
   "cell_type": "markdown",
   "id": "2d491086-98a9-4e29-a8d2-c62084973527",
   "metadata": {},
   "source": [
    "### Pull date out of git log -1"
   ]
  },
  {
   "cell_type": "code",
   "execution_count": 2,
   "id": "8ea57f51-521a-4d77-8696-434a47b1596e",
   "metadata": {},
   "outputs": [
    {
     "name": "stdout",
     "output_type": "stream",
     "text": [
      "('US Mountain Standard Time', 'US Mountain Daylight Time')\n"
     ]
    },
    {
     "ename": "UnknownTimeZoneError",
     "evalue": "'US Mountain Standard Time'",
     "output_type": "error",
     "traceback": [
      "\u001B[1;31m---------------------------------------------------------------------------\u001B[0m",
      "\u001B[1;31mUnknownTimeZoneError\u001B[0m                      Traceback (most recent call last)",
      "Input \u001B[1;32mIn [2]\u001B[0m, in \u001B[0;36m<cell line: 11>\u001B[1;34m()\u001B[0m\n\u001B[0;32m      9\u001B[0m rep \u001B[38;5;241m=\u001B[39m Git(repo_path)\n\u001B[0;32m     10\u001B[0m info \u001B[38;5;241m=\u001B[39m rep\u001B[38;5;241m.\u001B[39mlog(\u001B[38;5;124m'\u001B[39m\u001B[38;5;124m-1\u001B[39m\u001B[38;5;124m'\u001B[39m)\n\u001B[1;32m---> 11\u001B[0m now \u001B[38;5;241m=\u001B[39m datingdays\u001B[38;5;241m.\u001B[39mnow(\u001B[43mtimezone\u001B[49m\u001B[43m(\u001B[49m\u001B[43mtime\u001B[49m\u001B[38;5;241;43m.\u001B[39;49m\u001B[43mtzname\u001B[49m\u001B[43m[\u001B[49m\u001B[38;5;241;43m0\u001B[39;49m\u001B[43m]\u001B[49m\u001B[43m)\u001B[49m)\n\u001B[0;32m     12\u001B[0m then \u001B[38;5;241m=\u001B[39m datingdays\u001B[38;5;241m.\u001B[39mnow(timezone(\u001B[38;5;124m'\u001B[39m\u001B[38;5;124mUTC\u001B[39m\u001B[38;5;124m'\u001B[39m))\n\u001B[0;32m     13\u001B[0m \u001B[38;5;28;01mfor\u001B[39;00m n \u001B[38;5;129;01min\u001B[39;00m info\u001B[38;5;241m.\u001B[39msplitlines():\n",
      "File \u001B[1;32mJ:\\temp\\ignore_me\\Python310\\lib\\site-packages\\pytz\\__init__.py:188\u001B[0m, in \u001B[0;36mtimezone\u001B[1;34m(zone)\u001B[0m\n\u001B[0;32m    186\u001B[0m             fp\u001B[38;5;241m.\u001B[39mclose()\n\u001B[0;32m    187\u001B[0m     \u001B[38;5;28;01melse\u001B[39;00m:\n\u001B[1;32m--> 188\u001B[0m         \u001B[38;5;28;01mraise\u001B[39;00m UnknownTimeZoneError(zone)\n\u001B[0;32m    190\u001B[0m \u001B[38;5;28;01mreturn\u001B[39;00m _tzinfo_cache[zone]\n",
      "\u001B[1;31mUnknownTimeZoneError\u001B[0m: 'US Mountain Standard Time'"
     ]
    }
   ],
   "source": [
    "from git import Repo, Git\n",
    "from datetime import datetime as datingdays\n",
    "from pytz import timezone\n",
    "import time\n",
    "\n",
    "\n",
    "print(time.tzname)\n",
    "repo_path = './repos/dethcrypto/eth-sdk'\n",
    "rep = Git(repo_path)\n",
    "info = rep.log('-1')\n",
    "now = datingdays.now(timezone(time.tzname[0]))\n",
    "then = datingdays.now(timezone('UTC'))\n",
    "for n in info.splitlines():\n",
    "    loser = 'Date: '\n",
    "    if n.startswith(loser):\n",
    "        new_date = n[len(loser):].strip()\n",
    "        dt = datingdays.strptime(new_date, '%a %b %d %H:%M:%S %Y %z')\n",
    "        now = now - (now - dt)\n",
    "        then = then - (then - dt)\n",
    "        x = dt.tzinfo\n",
    "        print(repr(x))\n",
    "        print(repr(str(x)))\n",
    "        print(str(x))\n",
    "        \n",
    "        print(new_date, 'Original')\n",
    "        print(dt, 'Converted String')\n",
    "        print(now, 'AZ Time')\n",
    "        print(then, 'UTC Time')\n",
    "        \n",
    "            "
   ]
  },
  {
   "cell_type": "code",
   "execution_count": null,
   "id": "ea0fe2b6-9333-4d32-ad28-938d24f2113e",
   "metadata": {},
   "outputs": [],
   "source": []
  },
  {
   "cell_type": "code",
   "execution_count": 3,
   "id": "1ed5eec0-b6ec-46a4-912f-96eb4a715446",
   "metadata": {},
   "outputs": [],
   "source": [
    "q.stop_monitor()"
   ]
  },
  {
   "cell_type": "code",
   "execution_count": 4,
   "id": "b29cff67-cd9b-4b65-a0be-19fe7de80819",
   "metadata": {},
   "outputs": [
    {
     "name": "stdout",
     "output_type": "stream",
     "text": [
      "2020-01-28 15:47:53+01:00\n",
      "2020-01-28T15:47:53.000000+0100\n"
     ]
    }
   ],
   "source": [
    "from datetime import datetime as datingdays\n",
    "fmt = '%Y-%m-%dT%H:%M:%S.%f%z'\n",
    "t = '2020-01-28T15:47:53.000+01:00'\n",
    "rslt = datingdays.strptime(t, fmt)\n",
    "print(rslt)\n",
    "print(rslt.strftime(fmt))\n"
   ]
  },
  {
   "cell_type": "code",
   "execution_count": 5,
   "id": "85549420-70ca-4262-9cb6-cf8d33f7b30d",
   "metadata": {},
   "outputs": [],
   "source": [
    "from datetime import datetime as dt\n",
    "from pytz import timezone\n",
    "d = dt.fromisoformat('2022-04-11T19:14:33.000+02:00')\n",
    "\n",
    "#az = timezone('US/Arizona')\n",
    "#d2 = az.localize(d, is_dst=False)\n",
    "#d2              \n"
   ]
  },
  {
   "cell_type": "code",
   "execution_count": 6,
   "id": "26b17add-23b3-4b0e-a59e-1bf0710940cf",
   "metadata": {},
   "outputs": [
    {
     "name": "stdout",
     "output_type": "stream",
     "text": [
      "Given Time:  2021-07-24 11:13:08.230010\n",
      "Final Time (2 hours ahead of given time ):  2021-07-24 09:13:08.230010\n",
      "Final Time as string object:  24/07/2021 09:13:08.230010\n"
     ]
    }
   ],
   "source": [
    "from datetime import datetime\n",
    "from datetime import timedelta\n",
    "# Given timestamp in string\n",
    "time_str = '24/7/2021 11:13:08.230010'\n",
    "date_format_str = '%d/%m/%Y %H:%M:%S.%f'\n",
    "# create datetime object from timestamp string\n",
    "given_time = datetime.strptime(time_str, date_format_str)\n",
    "print('Given Time: ', given_time)\n",
    "n = 2\n",
    "# Subtract 2 hours from datetime object\n",
    "final_time = given_time - timedelta(hours=n)\n",
    "print('Final Time (2 hours ahead of given time ): ', final_time)\n",
    "# Convert datetime object to string in specific format \n",
    "final_time_str = final_time.strftime('%d/%m/%Y %H:%M:%S.%f')\n",
    "print('Final Time as string object: ', final_time_str)"
   ]
  },
  {
   "cell_type": "code",
   "execution_count": 1,
   "id": "dbfdb37b-7664-4574-bbf4-a937b3c51a06",
   "metadata": {},
   "outputs": [],
   "source": [
    "url = 'https://api.github.com/search/commit/fb5f372203f70cc7580f8e9806c00405524649d7'"
   ]
  },
  {
   "cell_type": "code",
   "execution_count": null,
   "id": "09aa834d-1cd6-48a5-a667-d7f65174bc92",
   "metadata": {},
   "outputs": [],
   "source": [
    "import json\n",
    "print('Getting started')\n",
    "rev = {}\n",
    "with open('./aliasMap.json', \"r\") as r:\n",
    "    body = json.load(r)\n",
    "    for k in body.keys():\n",
    "        v = body[k]\n",
    "        if v not in rev.keys():\n",
    "            rev[v] = []\n",
    "        rev[v].append(k)\n",
    "with open('./idToAliasMap.json', 'w') as w:\n",
    "    w.write(json.dumps(rev, indent=2))    \n",
    "print('Done!')    "
   ]
  },
  {
   "cell_type": "code",
   "execution_count": null,
   "id": "52736182-256d-4ad4-a032-6da0ef7cf0f6",
   "metadata": {},
   "outputs": [
    {
     "name": "stdout",
     "output_type": "stream",
     "text": [
      "3770 root level hackers resolved\n"
     ]
    }
   ],
   "source": [
    "with open('./hackers.json', 'w') as out:\n",
    "    out.write(json.dumps(q.hackers, indent=2))\n",
    "        "
   ]
  },
  {
   "cell_type": "code",
   "execution_count": 21,
   "id": "4fee86ac-7867-408a-bd11-d48d18c0e99f",
   "metadata": {},
   "outputs": [
    {
     "name": "stdout",
     "output_type": "stream",
     "text": [
      "0.72\n"
     ]
    }
   ],
   "source": [
    "print((60*60)/5000)"
   ]
  },
  {
   "cell_type": "code",
   "execution_count": 7,
   "id": "e98b3c5e-0cbc-4ee3-9c9b-26f804d5792b",
   "metadata": {},
   "outputs": [
    {
     "data": {
      "text/plain": [
       "'2022-05-23T16:51:46.039606'"
      ]
     },
     "execution_count": 7,
     "metadata": {},
     "output_type": "execute_result"
    }
   ],
   "source": [
    "datingdays.now().isoformat()"
   ]
  },
  {
   "cell_type": "code",
   "execution_count": 15,
   "id": "5354e981-70d0-4cbe-9b26-6a98bf19477f",
   "metadata": {},
   "outputs": [
    {
     "name": "stdout",
     "output_type": "stream",
     "text": [
      "2012-01-13T11:25:57.123Z\n",
      "2012-01-13T11:25:57.123000+00:00 Timezone= UTC\n",
      "2022-01-13T17:22:17.543-08:00\n",
      "2022-01-14T01:22:17.543000+00:00 Timezone= UTC-08:00\n"
     ]
    }
   ],
   "source": [
    "from datetime import datetime as datingdays\n",
    "\n",
    "ar = ['2012-01-13T11:25:57.123Z', '2022-01-13T17:22:17.543-08:00']\n",
    "for d in ar:\n",
    "    if d.endswith('Z') :\n",
    "        x = ''.join([d[0:-1], '-00:00'])\n",
    "        orig = d\n",
    "        d = x\n",
    "    else:\n",
    "        orig = d\n",
    "\n",
    "    date = datingdays.fromisoformat(d)\n",
    "    original_timezone = str(date.tzinfo)\n",
    "    then = datingdays.now(system_tz)\n",
    "    then = then - (then - date)\n",
    "    print(orig)\n",
    "    print(then.isoformat(), 'Timezone=',original_timezone)\n",
    "\n",
    "\n",
    "\n"
   ]
  },
  {
   "cell_type": "code",
   "execution_count": 24,
   "outputs": [
    {
     "name": "stdout",
     "output_type": "stream",
     "text": [
      "99\n",
      "98\n",
      "Hi there Matt\n"
     ]
    }
   ],
   "source": [
    "that = 100\n",
    "that = that - 1\n",
    "print(that)\n",
    "that = that - 1\n",
    "print(that)\n",
    "x = 'Hi there '\n",
    "x = x + 'Matt'\n",
    "\n",
    "print(x)"
   ],
   "metadata": {
    "collapsed": false,
    "pycharm": {
     "name": "#%%\n"
    }
   }
  },
  {
   "cell_type": "code",
   "execution_count": 28,
   "outputs": [
    {
     "name": "stdout",
     "output_type": "stream",
     "text": [
      "Hello somebody\n"
     ]
    }
   ],
   "source": [
    "def kwargy(**kwargs):\n",
    "    print('Hello', kwargs['name'] if 'name' in kwargs else 'somebody')\n",
    "\n",
    "kwargy(a='none', names='fred')"
   ],
   "metadata": {
    "collapsed": false,
    "pycharm": {
     "name": "#%%\n"
    }
   }
  },
  {
   "cell_type": "code",
   "execution_count": null,
   "outputs": [],
   "source": [],
   "metadata": {
    "collapsed": false,
    "pycharm": {
     "name": "#%%\n"
    }
   }
  }
 ],
 "metadata": {
  "kernelspec": {
   "display_name": "Python 3 (ipykernel)",
   "language": "python",
   "name": "python3"
  },
  "language_info": {
   "codemirror_mode": {
    "name": "ipython",
    "version": 3
   },
   "file_extension": ".py",
   "mimetype": "text/x-python",
   "name": "python",
   "nbconvert_exporter": "python",
   "pygments_lexer": "ipython3",
   "version": "3.8.10"
  }
 },
 "nbformat": 4,
 "nbformat_minor": 5
}