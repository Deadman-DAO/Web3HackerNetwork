{
 "cells": [
  {
   "cell_type": "markdown",
   "id": "2d491086-98a9-4e29-a8d2-c62084973527",
   "metadata": {},
   "source": [
    "### Pull date out of git log -1"
   ]
  },
  {
   "cell_type": "code",
   "execution_count": 9,
   "id": "8ea57f51-521a-4d77-8696-434a47b1596e",
   "metadata": {},
   "outputs": [
    {
     "name": "stdout",
     "output_type": "stream",
     "text": [
      "Sun May 15 16:19:53 2022 -0400 Original\n",
      "2022-05-15 16:19:53-04:00 Converted String\n",
      "2022-05-15 13:19:53-07:00 AZ Time\n",
      "2022-05-15 20:19:53+00:00 UTC Time\n"
     ]
    }
   ],
   "source": [
    "from git import Repo, Git\n",
    "from datetime import datetime as datingdays\n",
    "from pytz import timezone\n",
    "\n",
    "repo_path = './repos/dethcrypto/eth-sdk'\n",
    "rep = Git(repo_path)\n",
    "info = rep.log('-1')\n",
    "now = datingdays.now(timezone('US/Arizona'))\n",
    "then = datingdays.now(timezone('UTC'))\n",
    "for n in info.splitlines():\n",
    "    loser = 'Date: '\n",
    "    if n.startswith(loser):\n",
    "        new_date = n[len(loser):].strip()\n",
    "        dt = datingdays.strptime(new_date, '%a %b %d %H:%M:%S %Y %z')\n",
    "        now = now - (now - dt)\n",
    "        then = then - (then - dt)\n",
    "        print(new_date, 'Original')\n",
    "        print(dt, 'Converted String')\n",
    "        print(now, 'AZ Time')\n",
    "        print(then, 'UTC Time')\n",
    "        \n",
    "            "
   ]
  },
  {
   "cell_type": "code",
   "execution_count": null,
   "id": "ea0fe2b6-9333-4d32-ad28-938d24f2113e",
   "metadata": {},
   "outputs": [],
   "source": []
  }
 ],
 "metadata": {
  "kernelspec": {
   "display_name": "Python 3 (ipykernel)",
   "language": "python",
   "name": "python3"
  },
  "language_info": {
   "codemirror_mode": {
    "name": "ipython",
    "version": 3
   },
   "file_extension": ".py",
   "mimetype": "text/x-python",
   "name": "python",
   "nbconvert_exporter": "python",
   "pygments_lexer": "ipython3",
   "version": "3.8.10"
  }
 },
 "nbformat": 4,
 "nbformat_minor": 5
}
