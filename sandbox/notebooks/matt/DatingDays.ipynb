{
 "cells": [
  {
   "cell_type": "markdown",
   "id": "2d491086-98a9-4e29-a8d2-c62084973527",
   "metadata": {},
   "source": [
    "### Pull date out of git log -1"
   ]
  },
  {
   "cell_type": "code",
   "execution_count": 20,
   "id": "8ea57f51-521a-4d77-8696-434a47b1596e",
   "metadata": {},
   "outputs": [
    {
     "name": "stdout",
     "output_type": "stream",
     "text": [
      "('MST', 'MST')\n",
      "datetime.timezone(datetime.timedelta(days=-1, seconds=72000))\n",
      "'UTC-04:00'\n",
      "UTC-04:00\n",
      "Sun May 15 16:19:53 2022 -0400 Original\n",
      "2022-05-15 16:19:53-04:00 Converted String\n",
      "2022-05-15 13:19:53-07:00 AZ Time\n",
      "2022-05-15 20:19:53+00:00 UTC Time\n"
     ]
    }
   ],
   "source": [
    "from git import Repo, Git\n",
    "from datetime import datetime as datingdays\n",
    "from pytz import timezone\n",
    "import time\n",
    "\n",
    "\n",
    "print(time.tzname)\n",
    "repo_path = './repos/dethcrypto/eth-sdk'\n",
    "rep = Git(repo_path)\n",
    "info = rep.log('-1')\n",
    "now = datingdays.now(timezone(time.tzname[0]))\n",
    "then = datingdays.now(timezone('UTC'))\n",
    "for n in info.splitlines():\n",
    "    loser = 'Date: '\n",
    "    if n.startswith(loser):\n",
    "        new_date = n[len(loser):].strip()\n",
    "        dt = datingdays.strptime(new_date, '%a %b %d %H:%M:%S %Y %z')\n",
    "        now = now - (now - dt)\n",
    "        then = then - (then - dt)\n",
    "        x = dt.tzinfo\n",
    "        print(repr(x))\n",
    "        print(repr(str(x)))\n",
    "        print(str(x))\n",
    "        \n",
    "        print(new_date, 'Original')\n",
    "        print(dt, 'Converted String')\n",
    "        print(now, 'AZ Time')\n",
    "        print(then, 'UTC Time')\n",
    "        \n",
    "            "
   ]
  },
  {
   "cell_type": "code",
   "execution_count": null,
   "id": "ea0fe2b6-9333-4d32-ad28-938d24f2113e",
   "metadata": {},
   "outputs": [],
   "source": []
  },
  {
   "cell_type": "code",
   "execution_count": 3,
   "id": "1ed5eec0-b6ec-46a4-912f-96eb4a715446",
   "metadata": {},
   "outputs": [],
   "source": [
    "q.stop_monitor()"
   ]
  },
  {
   "cell_type": "code",
   "execution_count": 4,
   "id": "b29cff67-cd9b-4b65-a0be-19fe7de80819",
   "metadata": {},
   "outputs": [
    {
     "name": "stdout",
     "output_type": "stream",
     "text": [
      "2020-01-28 15:47:53+01:00\n",
      "2020-01-28T15:47:53.000000+0100\n"
     ]
    }
   ],
   "source": [
    "from datetime import datetime as datingdays\n",
    "fmt = '%Y-%m-%dT%H:%M:%S.%f%z'\n",
    "t = '2020-01-28T15:47:53.000+01:00'\n",
    "rslt = datingdays.strptime(t, fmt)\n",
    "print(rslt)\n",
    "print(rslt.strftime(fmt))\n"
   ]
  },
  {
   "cell_type": "code",
   "execution_count": 5,
   "id": "85549420-70ca-4262-9cb6-cf8d33f7b30d",
   "metadata": {},
   "outputs": [],
   "source": [
    "from datetime import datetime as dt\n",
    "from pytz import timezone\n",
    "d = dt.fromisoformat('2022-04-11T19:14:33.000+02:00')\n",
    "\n",
    "#az = timezone('US/Arizona')\n",
    "#d2 = az.localize(d, is_dst=False)\n",
    "#d2              \n"
   ]
  },
  {
   "cell_type": "code",
   "execution_count": 6,
   "id": "26b17add-23b3-4b0e-a59e-1bf0710940cf",
   "metadata": {},
   "outputs": [
    {
     "name": "stdout",
     "output_type": "stream",
     "text": [
      "Given Time:  2021-07-24 11:13:08.230010\n",
      "Final Time (2 hours ahead of given time ):  2021-07-24 09:13:08.230010\n",
      "Final Time as string object:  24/07/2021 09:13:08.230010\n"
     ]
    }
   ],
   "source": [
    "from datetime import datetime\n",
    "from datetime import timedelta\n",
    "# Given timestamp in string\n",
    "time_str = '24/7/2021 11:13:08.230010'\n",
    "date_format_str = '%d/%m/%Y %H:%M:%S.%f'\n",
    "# create datetime object from timestamp string\n",
    "given_time = datetime.strptime(time_str, date_format_str)\n",
    "print('Given Time: ', given_time)\n",
    "n = 2\n",
    "# Subtract 2 hours from datetime object\n",
    "final_time = given_time - timedelta(hours=n)\n",
    "print('Final Time (2 hours ahead of given time ): ', final_time)\n",
    "# Convert datetime object to string in specific format \n",
    "final_time_str = final_time.strftime('%d/%m/%Y %H:%M:%S.%f')\n",
    "print('Final Time as string object: ', final_time_str)"
   ]
  },
  {
   "cell_type": "code",
   "execution_count": 7,
   "id": "dbfdb37b-7664-4574-bbf4-a937b3c51a06",
   "metadata": {},
   "outputs": [
    {
     "ename": "SyntaxError",
     "evalue": "EOL while scanning string literal (836935326.py, line 1)",
     "output_type": "error",
     "traceback": [
      "\u001b[0;36m  Input \u001b[0;32mIn [7]\u001b[0;36m\u001b[0m\n\u001b[0;31m    url = 'https://api.github.com/search/commit/fb5f372203f70cc7580f8e9806c00405524649d7\u001b[0m\n\u001b[0m                                                                                        ^\u001b[0m\n\u001b[0;31mSyntaxError\u001b[0m\u001b[0;31m:\u001b[0m EOL while scanning string literal\n"
     ]
    }
   ],
   "source": [
    "url = 'https://api.github.com/search/commit/fb5f372203f70cc7580f8e9806c00405524649d7'"
   ]
  },
  {
   "cell_type": "code",
   "execution_count": null,
   "id": "09aa834d-1cd6-48a5-a667-d7f65174bc92",
   "metadata": {},
   "outputs": [],
   "source": [
    "import json\n",
    "print('Getting started')\n",
    "rev = {}\n",
    "with open('./aliasMap.json', \"r\") as r:\n",
    "    body = json.load(r)\n",
    "    for k in body.keys():\n",
    "        v = body[k]\n",
    "        if v not in rev.keys():\n",
    "            rev[v] = []\n",
    "        rev[v].append(k)\n",
    "with open('./idToAliasMap.json', 'w') as w:\n",
    "    w.write(json.dumps(rev, indent=2))    \n",
    "print('Done!')    "
   ]
  },
  {
   "cell_type": "code",
   "execution_count": null,
   "id": "52736182-256d-4ad4-a032-6da0ef7cf0f6",
   "metadata": {},
   "outputs": [
    {
     "name": "stdout",
     "output_type": "stream",
     "text": [
      "3770 root level hackers resolved\n"
     ]
    }
   ],
   "source": [
    "with open('./hackers.json', 'w') as out:\n",
    "    out.write(json.dumps(q.hackers, indent=2))\n",
    "        "
   ]
  },
  {
   "cell_type": "code",
   "execution_count": 21,
   "id": "4fee86ac-7867-408a-bd11-d48d18c0e99f",
   "metadata": {},
   "outputs": [
    {
     "name": "stdout",
     "output_type": "stream",
     "text": [
      "0.72\n"
     ]
    }
   ],
   "source": [
    "print((60*60)/5000)"
   ]
  },
  {
   "cell_type": "code",
   "execution_count": null,
   "id": "e98b3c5e-0cbc-4ee3-9c9b-26f804d5792b",
   "metadata": {},
   "outputs": [],
   "source": []
  }
 ],
 "metadata": {
  "kernelspec": {
   "display_name": "Python 3 (ipykernel)",
   "language": "python",
   "name": "python3"
  },
  "language_info": {
   "codemirror_mode": {
    "name": "ipython",
    "version": 3
   },
   "file_extension": ".py",
   "mimetype": "text/x-python",
   "name": "python",
   "nbconvert_exporter": "python",
   "pygments_lexer": "ipython3",
   "version": "3.8.10"
  }
 },
 "nbformat": 4,
 "nbformat_minor": 5
}
