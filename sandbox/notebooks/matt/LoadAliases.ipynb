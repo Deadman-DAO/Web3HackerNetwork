{
 "cells": [
  {
   "cell_type": "markdown",
   "id": "a0934eb0-d796-46e3-91ab-05a36da7188a",
   "metadata": {},
   "source": [
    "#### Load Resolved Aliases into Database"
   ]
  },
  {
   "cell_type": "code",
   "execution_count": 1,
   "id": "cdc65b82-3df2-420d-914a-8ad3106546ee",
   "metadata": {},
   "outputs": [],
   "source": [
    "import sys\n",
    "import mariadb\n",
    "import time\n",
    "import hashlib\n",
    "local_lib_dir = '../../../python/lib/'\n",
    "sys.path.append(local_lib_dir)\n",
    "from kitchen_sink_class import Query\n",
    "from kitchen_sink_class import load_single_line_from_file as load_it\n",
    "if 1 == 0:\n",
    "    q = Query()\n",
    "    q.preload_alias_maps();\n",
    "\n",
    "    pwd = load_it('./db.pwd')\n",
    "    mydb = mariadb.connect(\n",
    "        port=13306,\n",
    "        host='127.0.0.1',\n",
    "        user='w3hacknet',\n",
    "        password=pwd,\n",
    "        database='w3hacknet',\n",
    "        autocommit=True\n",
    "    )\n",
    "\n",
    "    cursor = mydb.cursor()\n",
    "\n",
    "    for key in q.hackers.keys():\n",
    "        val = q.hackers[key]\n",
    "        for v in val:\n",
    "            cursor.callproc('w3hacknet.resolveAlias', (hashlib.md5(v.encode('utf-8')).hexdigest(), key))\n",
    "\n",
    "    print('done!')\n",
    "    #raise Exception('Do not continue!')"
   ]
  },
  {
   "cell_type": "markdown",
   "id": "981fd7f6-8ab2-4d6e-8d49-355273b56718",
   "metadata": {},
   "source": [
    "#### Spider Mechanics by resolved Alias"
   ]
  },
  {
   "cell_type": "code",
   "execution_count": null,
   "id": "27cd275d-a2e3-4af3-9f5e-ec15fd3bc910",
   "metadata": {},
   "outputs": [],
   "source": [
    "import sys\n",
    "import mariadb\n",
    "import time\n",
    "local_lib_dir = '../../../python/lib/'\n",
    "sys.path.append(local_lib_dir)\n",
    "from kitchen_sink_class import Query\n",
    "from kitchen_sink_class import load_single_line_from_file as load_it\n",
    "class MyRepoCounter:\n",
    "    def __init__(self, repo_dict):\n",
    "        self.repo_name = repo_dict['name']\n",
    "        self.repo_full_name = repo_dict['full_name']\n",
    "        owner = repo_dict['owner']\n",
    "        self.owner = owner['login']\n",
    "        self.count = 0\n",
    "    def add_one(self):\n",
    "        self.count += 1\n",
    "        \n",
    "    def key(self):\n",
    "        return self.repo_full_name\n",
    "\n",
    "\n",
    "q = Query()\n",
    "\n",
    "pwd = load_it('./db.pwd')\n",
    "mydb = mariadb.connect(\n",
    "    port=3306,\n",
    "    host='127.0.0.1',\n",
    "    user='w3hacknet',\n",
    "    password=pwd,\n",
    "    database='w3hacknet',\n",
    "    autocommit=True\n",
    ")\n",
    "\n",
    "cursor = mydb.cursor()\n",
    "cursor.execute('select now();')\n",
    "print(cursor.fetchone())\n",
    "\n",
    "repo_counter = {}\n",
    "call_count = 0\n",
    "running = True\n",
    "owner = {}\n",
    "whoami = 'matt'\n",
    "user_id = ''\n",
    "alias_hash = ''\n",
    "while running:\n",
    "    \n",
    "    cursor.callproc('w3hacknet.reserveNextUser', \n",
    "                    (whoami, user_id, alias_hash))\n",
    "    if cursor.sp_outparams:\n",
    "        tup = cursor.fetchone()\n",
    "        user_id = tup[0]\n",
    "        alias_hash = tup[1]\n",
    "    else:\n",
    "        raise Exception('Abort abort abort!')\n",
    "    print('Working on', user_id, alias_hash)\n",
    "    done = False\n",
    "    q.reset_last_date()\n",
    "    last_count = -1\n",
    "    while not done:\n",
    "        time.sleep(3) # Don't over stay our welcome - Can't exceed 3600/hr, let alone 5000\n",
    "        body = q.load_hacker_url(user_id)\n",
    "        call_count += 1\n",
    "        if call_count % 25 == 0:\n",
    "            print(call_count, 'rest API calls made')\n",
    "\n",
    "        if (body == None):\n",
    "            print('Unable to load JSON')\n",
    "            done = True\n",
    "        else:\n",
    "            total_count = body['total_count']\n",
    "            if (total_count == last_count):\n",
    "                print('Identical result set found.  Moving on.', total_count, last_count)\n",
    "                done = True\n",
    "            else:\n",
    "                print(total_count, 'remaining commits for user', user_id, 'Repo_count', len(repo_counter))\n",
    "            last_count = total_count\n",
    "            if total_count > 20000:\n",
    "                print('Yikes!', total_count, ' seems like a few too many')\n",
    "                done = True\n",
    "            incomplete_results = body['incomplete_results']\n",
    "#            print(total_count)\n",
    "#            print(incomplete_results)\n",
    "            array = body['items'];\n",
    "            if (array == None or len(array) < 1):\n",
    "                done = True\n",
    "            else:\n",
    "                for n in array:\n",
    "                    commit = n['commit']\n",
    "                    comAuth = commit['author']\n",
    "                    commit_date = q.set_last_date(comAuth['date'])\n",
    "\n",
    "                    repo = n['repository']\n",
    "                    repo_full_name = repo['full_name']\n",
    "                    counter = None\n",
    "                    if repo_full_name not in repo_counter:\n",
    "                        counter = MyRepoCounter(repo)\n",
    "                        repo_counter[repo_full_name] = counter\n",
    "                    else:\n",
    "                        counter = repo_counter[repo_full_name]\n",
    "                    counter.add_one()\n",
    "                    cursor.callproc('w3hacknet.addUpdateRepo', \n",
    "                           (counter.owner, counter.repo_name, commit_date))\n",
    "\n",
    "                if (total_count < 100 and incomplete_results == False):\n",
    "                    done = True\n"
   ]
  },
  {
   "cell_type": "code",
   "execution_count": null,
   "id": "0ac3211d-524f-4efa-a973-a6acab88aa61",
   "metadata": {},
   "outputs": [],
   "source": [
    "'''\n",
    "last_user = 'nobody'\n",
    "for k in repo_counter.keys():\n",
    "    cursor.callproc('w3hacknet.setRepoCount', \n",
    "       (counter.owner, counter.repo_name, counter.count))\n",
    "print('done')\n",
    "'''"
   ]
  },
  {
   "cell_type": "code",
   "execution_count": 3,
   "id": "06cd3bf7-bf6f-4fda-9470-d38f8f43ebfd",
   "metadata": {},
   "outputs": [
    {
     "name": "stdout",
     "output_type": "stream",
     "text": [
      "Ralph\n"
     ]
    }
   ],
   "source": [
    "class Boob:\n",
    "    def __init__(self):\n",
    "        self.name = 'Ralph'\n",
    "    def my_func(self):\n",
    "        return self.name\n",
    "\n",
    "class Buntu(Boob):\n",
    "    def __init__(self):\n",
    "        super().__init__()\n",
    "    def print_it(self):\n",
    "        print(self.my_func())\n",
    "\n",
    "b = Buntu()\n",
    "b.print_it()"
   ]
  },
  {
   "cell_type": "code",
   "execution_count": 12,
   "outputs": [
    {
     "name": "stdout",
     "output_type": "stream",
     "text": [
      "Loaded  13\n"
     ]
    }
   ],
   "source": [
    "import json\n",
    "import time\n",
    "from os.path import exists\n",
    "p = '../../../active/contf.json'\n",
    "garbage = True\n",
    "while garbage:\n",
    "    if exists(p):\n",
    "        with open(p, 'rb') as reader:\n",
    "            thingy = json.load(reader)\n",
    "        print('Loaded ', thingy[99]['total'])\n",
    "        time.sleep(0)\n",
    "        garbage = False\n",
    "    else:\n",
    "        print('try again')\n",
    "        exit(0)"
   ],
   "metadata": {
    "collapsed": false,
    "pycharm": {
     "name": "#%%\n"
    }
   }
  },
  {
   "cell_type": "code",
   "execution_count": null,
   "outputs": [],
   "source": [
    "import hashlib\n",
    "hashlib.md5('Ethan Buchman <ethan@coinculture.info>'.encode('utf-8')).hexdigest()"
   ],
   "metadata": {
    "collapsed": false,
    "pycharm": {
     "name": "#%%\n"
    }
   }
  }
 ],
 "metadata": {
  "kernelspec": {
   "display_name": "Python 3 (ipykernel)",
   "language": "python",
   "name": "python3"
  },
  "language_info": {
   "codemirror_mode": {
    "name": "ipython",
    "version": 3
   },
   "file_extension": ".py",
   "mimetype": "text/x-python",
   "name": "python",
   "nbconvert_exporter": "python",
   "pygments_lexer": "ipython3",
   "version": "3.8.10"
  }
 },
 "nbformat": 4,
 "nbformat_minor": 5
}