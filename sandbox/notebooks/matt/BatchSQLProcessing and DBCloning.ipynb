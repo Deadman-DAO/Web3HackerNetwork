{
 "cells": [
  {
   "cell_type": "markdown",
   "id": "12dc80fe-db55-4e15-8b55-b0a71a105be9",
   "metadata": {},
   "source": [
    "#### Unnecessary - Copies just Repo records from one database to another\n",
    "##### It IS a good example of batch queries and inserts"
   ]
  },
  {
   "cell_type": "code",
   "execution_count": null,
   "id": "8632b1af-fd48-4c59-8971-896028a3e009",
   "metadata": {},
   "outputs": [],
   "source": [
    "import sys\n",
    "import mariadb\n",
    "import time\n",
    "import hashlib\n",
    "local_lib_dir = '../../../python/lib/'\n",
    "sys.path.append(local_lib_dir)\n",
    "from kitchen_sink_class import load_single_line_from_file as load_it\n",
    "pwd = load_it('./db.pwd')\n",
    "\n",
    "this_is_necessary = False\n",
    "\n",
    "if this_is_necessary:\n",
    "    mydb = mariadb.connect(\n",
    "        port=3306,\n",
    "        host='127.0.0.1',\n",
    "        user='w3hacknet',\n",
    "        password=pwd,\n",
    "        database='w3hacknet',\n",
    "        autocommit=True\n",
    "    )\n",
    "    dest_db = mariadb.connect(\n",
    "        port=13306,\n",
    "        host='127.0.0.1',\n",
    "        user='w3hacknet',\n",
    "        password=pwd,\n",
    "        database='w3hacknet',\n",
    "        autocommit=False\n",
    "    )\n",
    "\n",
    "    cursor = mydb.cursor()\n",
    "    dest_cursor = dest_db.cursor()\n",
    "    cursor.execute('select owner, name, commit_count, min_date, max_date from repo;')\n",
    "    running = True\n",
    "    rec_count = 0\n",
    "    while running:\n",
    "        rslt_set = cursor.fetchmany(size=100)\n",
    "        if rslt_set:\n",
    "            batch = []\n",
    "            for (owner, name, commit_count, min_date, max_date) in rslt_set:\n",
    "                batch.append((owner, name, commit_count, min_date, max_date))\n",
    "            dest_cursor.executemany('insert ignore into w3hacknet.repo (owner, name, commit_count, min_date, max_date) values (?, ?, ?, ?, ?)', batch)\n",
    "            dest_db.commit()\n",
    "            rec_count += len(batch)\n",
    "            print(rec_count,'records copied')\n",
    "        else:\n",
    "            running = False\n",
    "    cursor.close()\n",
    "    dest_cursor.close()"
   ]
  },
  {
   "cell_type": "markdown",
   "id": "226a1194-26e5-4633-ad67-33a765c462ed",
   "metadata": {},
   "source": [
    "#### Better way to clone a database, procedures included\n",
    "##### On the From database command line:\n",
    "`mysqldump -p w3hacknet --routines > dump_of_matts_db.sql`\n",
    "##### On the To database command line:\n",
    "`mysql -p w3hacknet <dump_of_matts_db.sql`"
   ]
  },
  {
   "cell_type": "code",
   "execution_count": null,
   "id": "bd38ec86-0149-4a94-819f-ef09af7adca0",
   "metadata": {},
   "outputs": [],
   "source": []
  }
 ],
 "metadata": {
  "kernelspec": {
   "display_name": "Python 3 (ipykernel)",
   "language": "python",
   "name": "python3"
  },
  "language_info": {
   "codemirror_mode": {
    "name": "ipython",
    "version": 3
   },
   "file_extension": ".py",
   "mimetype": "text/x-python",
   "name": "python",
   "nbconvert_exporter": "python",
   "pygments_lexer": "ipython3",
   "version": "3.8.10"
  }
 },
 "nbformat": 4,
 "nbformat_minor": 5
}
