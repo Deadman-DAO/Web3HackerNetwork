{
 "cells": [
  {
   "cell_type": "markdown",
   "id": "12dc80fe-db55-4e15-8b55-b0a71a105be9",
   "metadata": {},
   "source": [
    "#### Unnecessary - Copies just Repo records from one database to another\n",
    "##### It IS a good example of batch queries and inserts"
   ]
  },
  {
   "cell_type": "code",
   "execution_count": null,
   "id": "8632b1af-fd48-4c59-8971-896028a3e009",
   "metadata": {},
   "outputs": [],
   "source": [
    "import json\n",
    "\n",
    "import sys\n",
    "import mariadb\n",
    "import time\n",
    "import hashlib\n",
    "local_lib_dir = '../../../python/lib/'\n",
    "sys.path.append(local_lib_dir)\n",
    "from kitchen_sink_class import load_single_line_from_file as load_it\n",
    "pwd = load_it('./db.pwd')\n",
    "\n",
    "this_is_necessary = False\n",
    "\n",
    "if this_is_necessary:\n",
    "    mydb = mariadb.connect(\n",
    "        port=3306,\n",
    "        host='127.0.0.1',\n",
    "        user='w3hacknet',\n",
    "        password=pwd,\n",
    "        database='w3hacknet',\n",
    "        autocommit=True\n",
    "    )\n",
    "    dest_db = mariadb.connect(\n",
    "        port=13306,\n",
    "        host='127.0.0.1',\n",
    "        user='w3hacknet',\n",
    "        password=pwd,\n",
    "        database='w3hacknet',\n",
    "        autocommit=False\n",
    "    )\n",
    "\n",
    "    cursor = mydb.cursor()\n",
    "    dest_cursor = dest_db.cursor()\n",
    "    cursor.execute('select owner, name, commit_count, min_date, max_date from repo;')\n",
    "    running = True\n",
    "    rec_count = 0\n",
    "    while running:\n",
    "        rslt_set = cursor.fetchmany(size=100)\n",
    "        if rslt_set:\n",
    "            batch = []\n",
    "            for (owner, name, commit_count, min_date, max_date) in rslt_set:\n",
    "                batch.append((owner, name, commit_count, min_date, max_date))\n",
    "            dest_cursor.executemany('insert ignore into w3hacknet.repo (owner, name, commit_count, min_date, max_date) values (?, ?, ?, ?, ?)', batch)\n",
    "            dest_db.commit()\n",
    "            rec_count += len(batch)\n",
    "            print(rec_count,'records copied')\n",
    "        else:\n",
    "            running = False\n",
    "    cursor.close()\n",
    "    dest_cursor.close()"
   ]
  },
  {
   "cell_type": "markdown",
   "id": "226a1194-26e5-4633-ad67-33a765c462ed",
   "metadata": {},
   "source": [
    "#### Better way to clone a database, procedures included\n",
    "##### On the From database command line:\n",
    "`mysqldump -p w3hacknet --routines > dump_of_matts_db.sql`\n",
    "##### On the To database command line:\n",
    "`mysql -p w3hacknet <dump_of_matts_db.sql`"
   ]
  },
  {
   "cell_type": "code",
   "execution_count": 10,
   "id": "bd38ec86-0149-4a94-819f-ef09af7adca0",
   "metadata": {},
   "outputs": [
    {
     "name": "stdout",
     "output_type": "stream",
     "text": [
      "Running!\n",
      "Executed single\n"
     ]
    },
    {
     "ename": "OperationalError",
     "evalue": "This command is not supported in the prepared statement protocol yet",
     "output_type": "error",
     "traceback": [
      "\u001B[1;31m---------------------------------------------------------------------------\u001B[0m",
      "\u001B[1;31mOperationalError\u001B[0m                          Traceback (most recent call last)",
      "Input \u001B[1;32mIn [10]\u001B[0m, in \u001B[0;36m<cell line: 18>\u001B[1;34m()\u001B[0m\n\u001B[0;32m     18\u001B[0m \u001B[38;5;28;01mif\u001B[39;00m \u001B[38;5;18m__name__\u001B[39m \u001B[38;5;241m==\u001B[39m \u001B[38;5;124m\"\u001B[39m\u001B[38;5;124m__main__\u001B[39m\u001B[38;5;124m\"\u001B[39m:\n\u001B[0;32m     19\u001B[0m     \u001B[38;5;28mprint\u001B[39m(\u001B[38;5;124m'\u001B[39m\u001B[38;5;124mRunning!\u001B[39m\u001B[38;5;124m'\u001B[39m)\n\u001B[1;32m---> 20\u001B[0m     \u001B[43mE\u001B[49m\u001B[43m(\u001B[49m\u001B[43m)\u001B[49m\u001B[38;5;241;43m.\u001B[39;49m\u001B[43mmain\u001B[49m\u001B[43m(\u001B[49m\u001B[43m)\u001B[49m\n",
      "Input \u001B[1;32mIn [10]\u001B[0m, in \u001B[0;36mE.main\u001B[1;34m(self)\u001B[0m\n\u001B[0;32m     13\u001B[0m \u001B[38;5;28mself\u001B[39m\u001B[38;5;241m.\u001B[39mget_cursor()\u001B[38;5;241m.\u001B[39mexecute(\u001B[38;5;124m'\u001B[39m\u001B[38;5;124m CALL w3hacknet.addUpdateRepo(?,?,?,?,?,?)\u001B[39m\u001B[38;5;124m'\u001B[39m, single)\n\u001B[0;32m     14\u001B[0m \u001B[38;5;28mprint\u001B[39m(\u001B[38;5;124m'\u001B[39m\u001B[38;5;124mExecuted single\u001B[39m\u001B[38;5;124m'\u001B[39m)\n\u001B[1;32m---> 15\u001B[0m \u001B[38;5;28;43mself\u001B[39;49m\u001B[38;5;241;43m.\u001B[39;49m\u001B[43mget_cursor\u001B[49m\u001B[43m(\u001B[49m\u001B[43m)\u001B[49m\u001B[38;5;241;43m.\u001B[39;49m\u001B[43mexecutemany\u001B[49m\u001B[43m(\u001B[49m\u001B[38;5;124;43m'\u001B[39;49m\u001B[38;5;124;43m CALL w3hacknet.addUpdateRepo(?,?,?,?,?,?)\u001B[39;49m\u001B[38;5;124;43m'\u001B[39;49m\u001B[43m,\u001B[49m\u001B[43m \u001B[49m\u001B[43mmulti\u001B[49m\u001B[43m)\u001B[49m\n\u001B[0;32m     16\u001B[0m \u001B[38;5;28mprint\u001B[39m(\u001B[38;5;124m'\u001B[39m\u001B[38;5;124mCompleted\u001B[39m\u001B[38;5;124m'\u001B[39m)\n",
      "\u001B[1;31mOperationalError\u001B[0m: This command is not supported in the prepared statement protocol yet"
     ]
    }
   ],
   "source": [
    "local_lib_dir = '../../../python/lib/'\n",
    "sys.path.append(local_lib_dir)\n",
    "from db_dependent_class import DBDependent\n",
    "class E(DBDependent):\n",
    "    def __init__(self):\n",
    "        super().__init__()\n",
    "    def main(self):\n",
    "        single = ('sapi69','cabal-server','2011-10-28T12:43:15','UTC','7a49dd00afdd43b55fcfa64c225fae48cada58b6','111f9be771e9637e40f1547ee60b8f52')\n",
    "        multi = [('sapi69','cabal-server','2011-10-28T12:43:15','UTC','7a49dd00afdd43b55fcfa64c225fae48cada58b6','111f9be771e9637e40f1547ee60b8f52'),\n",
    "                 ('sapi69','cabal-server','2011-10-28T12:11:11','UTC','9a6f190f5421d7e3c5c360bc49c7e9974e0ed448','111f9be771e9637e40f1547ee60b8f52'),\n",
    "                 ('sapi69','cabal-server','2011-10-19T12:29:48','UTC','eb54f1d0f240c624a009a5a81d45c80210c22ccc','111f9be771e9637e40f1547ee60b8f52')\n",
    "                 ]\n",
    "        self.get_cursor().execute(' CALL w3hacknet.addUpdateRepo(?,?,?,?,?,?)', single)\n",
    "        print('Executed single')\n",
    "        self.get_cursor().executemany(' CALL w3hacknet.addUpdateRepo(?,?,?,?,?,?)', multi)\n",
    "        print('Completed')\n",
    "\n",
    "if __name__ == \"__main__\":\n",
    "    print('Running!')\n",
    "    E().main()"
   ]
  },
  {
   "cell_type": "markdown",
   "source": [
    "#### Fiddle with String join function\n",
    "##### Claims to be faster than \"str\"+\"other Str\""
   ],
   "metadata": {
    "collapsed": false,
    "pycharm": {
     "name": "#%% md\n"
    }
   }
  },
  {
   "cell_type": "code",
   "execution_count": 15,
   "outputs": [
    {
     "name": "stdout",
     "output_type": "stream",
     "text": [
      "one2three\n",
      "3onemiddle?one5iveoneend\n"
     ]
    }
   ],
   "source": [
    "print(''.join(('one', str(2), 'three')))\n",
    "print('one'.join((str(3), 'middle?', '5ive', 'end')))"
   ],
   "metadata": {
    "collapsed": false,
    "pycharm": {
     "name": "#%%\n"
    }
   }
  },
  {
   "cell_type": "code",
   "execution_count": 19,
   "outputs": [
    {
     "name": "stdout",
     "output_type": "stream",
     "text": [
      "Running!\n",
      "('sebastiandres', 'git-drawing')\n",
      "<class 'tuple'>\n",
      "sebastiandres git-drawing\n"
     ]
    }
   ],
   "source": [
    "local_lib_dir = '../../../python/lib/'\n",
    "sys.path.append(local_lib_dir)\n",
    "from db_dependent_class import DBDependent\n",
    "class E(DBDependent):\n",
    "    def __init__(self):\n",
    "        super().__init__()\n",
    "    def main(self):\n",
    "        self.get_cursor().callproc('ReserveNextRepoForEvaluation', ['matt'])\n",
    "        one = self.cursor.fetchone()\n",
    "        print(one)\n",
    "        print(one.__class__)\n",
    "        print(one[0], one[1])\n",
    "\n",
    "if __name__ == \"__main__\":\n",
    "    print('Running!')\n",
    "    E().main()"
   ],
   "metadata": {
    "collapsed": false,
    "pycharm": {
     "name": "#%%\n"
    }
   }
  },
  {
   "cell_type": "markdown",
   "source": [
    "#### Semi-recursive JSON parser (e.g. \"level1.level2.desired_value\")"
   ],
   "metadata": {
    "collapsed": false,
    "pycharm": {
     "name": "#%% md\n"
    }
   }
  },
  {
   "cell_type": "code",
   "execution_count": 28,
   "outputs": [
    {
     "name": "stdout",
     "output_type": "stream",
     "text": [
      "Jupyter Notebook\n",
      "gpl-3.0\n",
      "Deadman-DAO\n",
      "True\n"
     ]
    },
    {
     "ename": "StopIteration",
     "evalue": "key not_there not found.",
     "output_type": "error",
     "traceback": [
      "\u001B[1;31m---------------------------------------------------------------------------\u001B[0m",
      "\u001B[1;31mStopIteration\u001B[0m                             Traceback (most recent call last)",
      "Input \u001B[1;32mIn [28]\u001B[0m, in \u001B[0;36m<cell line: 12>\u001B[1;34m()\u001B[0m\n\u001B[0;32m     10\u001B[0m \u001B[38;5;28mprint\u001B[39m(fetch_json_value(\u001B[38;5;124m'\u001B[39m\u001B[38;5;124morganization.login\u001B[39m\u001B[38;5;124m'\u001B[39m, sample))\n\u001B[0;32m     11\u001B[0m \u001B[38;5;28mprint\u001B[39m(fetch_json_value(\u001B[38;5;124m'\u001B[39m\u001B[38;5;124morganization.weird.other\u001B[39m\u001B[38;5;124m'\u001B[39m, sample))\n\u001B[1;32m---> 12\u001B[0m \u001B[38;5;28mprint\u001B[39m(\u001B[43mfetch_json_value\u001B[49m\u001B[43m(\u001B[49m\u001B[38;5;124;43m'\u001B[39;49m\u001B[38;5;124;43mnot_there\u001B[39;49m\u001B[38;5;124;43m'\u001B[39;49m\u001B[43m,\u001B[49m\u001B[43m \u001B[49m\u001B[43msample\u001B[49m\u001B[43m)\u001B[49m)\n\u001B[0;32m     13\u001B[0m \u001B[38;5;28mprint\u001B[39m(fetch_json_value(\u001B[38;5;124m'\u001B[39m\u001B[38;5;124mbad.shit.other\u001B[39m\u001B[38;5;124m'\u001B[39m, sample))\n",
      "File \u001B[1;32mM:\\Projects\\test\\Web3HackerNetwork\\sandbox\\notebooks\\matt\\../../../python/lib\\git_hub_client.py:18\u001B[0m, in \u001B[0;36mfetch_json_value\u001B[1;34m(key, json)\u001B[0m\n\u001B[0;32m     16\u001B[0m \u001B[38;5;28;01mif\u001B[39;00m key \u001B[38;5;129;01min\u001B[39;00m json:\n\u001B[0;32m     17\u001B[0m     \u001B[38;5;28;01mreturn\u001B[39;00m json[key]\n\u001B[1;32m---> 18\u001B[0m \u001B[38;5;28;01mraise\u001B[39;00m \u001B[38;5;167;01mStopIteration\u001B[39;00m(\u001B[38;5;124m'\u001B[39m\u001B[38;5;124m'\u001B[39m\u001B[38;5;241m.\u001B[39mjoin((\u001B[38;5;124m'\u001B[39m\u001B[38;5;124mkey \u001B[39m\u001B[38;5;124m'\u001B[39m, key, \u001B[38;5;124m'\u001B[39m\u001B[38;5;124m not found.\u001B[39m\u001B[38;5;124m'\u001B[39m)))\n",
      "\u001B[1;31mStopIteration\u001B[0m: key not_there not found."
     ]
    }
   ],
   "source": [
    "local_lib_dir = '../../../python/lib/'\n",
    "sys.path.append(local_lib_dir)\n",
    "from git_hub_client import fetch_json_value\n",
    "\n",
    "\n",
    "with open('./sample.json', 'r') as j:\n",
    "    sample = json.load(j)\n",
    "print(fetch_json_value('language', sample))\n",
    "print(fetch_json_value('license.key', sample))\n",
    "print(fetch_json_value('organization.login', sample))\n",
    "print(fetch_json_value('organization.weird.other', sample))\n",
    "print(fetch_json_value('not_there', sample))\n",
    "print(fetch_json_value('bad.shit.other', sample))\n"
   ],
   "metadata": {
    "collapsed": false,
    "pycharm": {
     "name": "#%%\n"
    }
   }
  },
  {
   "cell_type": "markdown",
   "source": [
    "#### Testing EPOCH timestamp from GitHub"
   ],
   "metadata": {
    "collapsed": false,
    "pycharm": {
     "name": "#%% md\n"
    }
   }
  },
  {
   "cell_type": "code",
   "execution_count": 30,
   "outputs": [
    {
     "data": {
      "text/plain": "datetime.datetime(2022, 5, 28, 17, 0)"
     },
     "execution_count": 30,
     "metadata": {},
     "output_type": "execute_result"
    }
   ],
   "source": [
    "from datetime import datetime as datingdays\n",
    "datingdays.fromtimestamp(1653782400)"
   ],
   "metadata": {
    "collapsed": false,
    "pycharm": {
     "name": "#%%\n"
    }
   }
  },
  {
   "cell_type": "code",
   "execution_count": null,
   "outputs": [],
   "source": [],
   "metadata": {
    "collapsed": false,
    "pycharm": {
     "name": "#%%\n"
    }
   }
  }
 ],
 "metadata": {
  "kernelspec": {
   "display_name": "Python 3 (ipykernel)",
   "language": "python",
   "name": "python3"
  },
  "language_info": {
   "codemirror_mode": {
    "name": "ipython",
    "version": 3
   },
   "file_extension": ".py",
   "mimetype": "text/x-python",
   "name": "python",
   "nbconvert_exporter": "python",
   "pygments_lexer": "ipython3",
   "version": "3.8.10"
  }
 },
 "nbformat": 4,
 "nbformat_minor": 5
}