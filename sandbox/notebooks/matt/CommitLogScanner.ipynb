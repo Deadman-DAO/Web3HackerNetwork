{
 "cells": [
  {
   "cell_type": "code",
   "execution_count": null,
   "id": "5d0aa4b0-6209-4dcb-80ad-e8ce3e871081",
   "metadata": {},
   "outputs": [],
   "source": [
    "import sys\n",
    "sys.version_info"
   ]
  },
  {
   "cell_type": "markdown",
   "id": "34f4fff7-d839-4de2-9bd0-794ebe51e953",
   "metadata": {
    "tags": []
   },
   "source": [
    "### Hack window for playing with ideas"
   ]
  },
  {
   "cell_type": "code",
   "execution_count": null,
   "id": "4589c124-9525-40c7-8915-1d3576de4048",
   "metadata": {
    "tags": []
   },
   "outputs": [],
   "source": [
    "fi = FileInfo('ext')\n",
    "fi.textLineCount = 1644\n",
    "plusCount = 29\n",
    "minusCount = 0\n",
    "n = plusCount * 1.0\n",
    "print(n)\n",
    "n = n / (plusCount + minusCount)\n",
    "print(n)\n",
    "print(fi.textLineCount)\n",
    "n = n * (1.0 * fi.textLineCount)\n",
    "print(n)\n",
    "fi.insertCount = int(fi.textLineCount * ((plusCount * 1.0) / (plusCount + minusCount)))\n",
    "fi.deleteCount = fi.textLineCount - fi.insertCount\n",
    "print(fi.insertCount, ',', fi.deleteCount)\n"
   ]
  },
  {
   "cell_type": "markdown",
   "id": "c620fe24-371a-49a7-b601-5baf58d2ee46",
   "metadata": {},
   "source": [
    "### Main Entry Point"
   ]
  },
  {
   "cell_type": "code",
   "execution_count": 60,
   "id": "04fb1f0d-afbb-43df-a77f-095836a506da",
   "metadata": {},
   "outputs": [
    {
     "name": "stdout",
     "output_type": "stream",
     "text": [
      "Found 309 files\n",
      "Processing  /home/matt/Projects/Web3HackerNetwork/data/github/2022-04-07-marine-search/projects/Hazarre/SharedDoc/commit-stat.log\n",
      "commit-stat.log : 124 lines\n",
      "Processing  /home/matt/Projects/Web3HackerNetwork/data/github/2022-04-07-marine-search/projects/sekmet/flullet/commit-stat.log\n",
      "commit-stat.log : 460 lines\n",
      "Processing  /home/matt/Projects/Web3HackerNetwork/data/github/2022-04-07-marine-search/projects/gjsyme/fluence-quickstart-bounty/commit-stat.log\n",
      "commit-stat.log : 458 lines\n",
      "Processing  /home/matt/Projects/Web3HackerNetwork/data/github/2022-04-07-marine-search/projects/Brianspha/aquanftwallet/commit-stat.log\n",
      "commit-stat.log : 486 lines\n",
      "Processing  /home/matt/Projects/Web3HackerNetwork/data/github/2022-04-07-marine-search/projects/SurroundingArt64/Fluence-NFT-Wallet/commit-stat.log\n",
      "commit-stat.log : 1208 lines\n",
      "Processing  /home/matt/Projects/Web3HackerNetwork/data/github/2022-04-07-marine-search/projects/enigmatt/new2web3/commit-stat.log\n",
      "commit-stat.log : 206 lines\n",
      "Processing  /home/matt/Projects/Web3HackerNetwork/data/github/2022-04-07-marine-search/projects/danielssonn/lastfluence/commit-stat.log\n",
      "commit-stat.log : 418 lines\n",
      "Processing  /home/matt/Projects/Web3HackerNetwork/data/github/2022-04-07-marine-search/projects/danielssonn/Poliwallet/commit-stat.log\n",
      "commit-stat.log : 627 lines\n",
      "Processing  /home/matt/Projects/Web3HackerNetwork/data/github/2022-04-07-marine-search/projects/boneyard93501/fluence-template/commit-stat.log\n",
      "commit-stat.log : 244 lines\n",
      "Processing  /home/matt/Projects/Web3HackerNetwork/data/github/2022-04-07-marine-search/projects/hadzija7/FluenceBounty/commit-stat.log\n",
      "commit-stat.log : 127 lines\n",
      "Processing  /home/matt/Projects/Web3HackerNetwork/data/github/2022-04-07-marine-search/projects/pkalab/examples/commit-stat.log\n",
      "commit-stat.log : 5191 lines\n",
      "Processing  /home/matt/Projects/Web3HackerNetwork/data/github/2022-04-07-marine-search/projects/amrosaeed/fluence/commit-stat.log\n",
      "commit-stat.log : 885 lines\n",
      "Processing  /home/matt/Projects/Web3HackerNetwork/data/github/2022-04-07-marine-search/projects/adshpl/fluence-playground-server/commit-stat.log\n",
      "commit-stat.log : 28 lines\n",
      "Processing  /home/matt/Projects/Web3HackerNetwork/data/github/2022-04-07-marine-search/projects/hnihsan/OpenPond/commit-stat.log\n",
      "commit-stat.log : 459 lines\n",
      "Processing  /home/matt/Projects/Web3HackerNetwork/data/github/2022-04-07-marine-search/projects/fsy412/SelfId-Auth-Fluence/commit-stat.log\n",
      "commit-stat.log : 126 lines\n",
      "Processing  /home/matt/Projects/Web3HackerNetwork/data/github/2022-04-07-marine-search/projects/tejas-kothari/BazaarEx/commit-stat.log\n",
      "commit-stat.log : 479 lines\n",
      "Processing  /home/matt/Projects/Web3HackerNetwork/data/github/2022-04-07-marine-search/projects/cbonoz/checkoutfs/commit-stat.log\n",
      "commit-stat.log : 199 lines\n",
      "Processing  /home/matt/Projects/Web3HackerNetwork/data/github/2022-04-07-marine-search/projects/cbonoz/hackfs21/commit-stat.log\n",
      "commit-stat.log : 84389 lines\n",
      "Processing  /home/matt/Projects/Web3HackerNetwork/data/github/2022-04-07-marine-search/projects/PhilippeMts/hackfs-fragment/commit-stat.log\n",
      "commit-stat.log : 4432 lines\n",
      "Processing  /home/matt/Projects/Web3HackerNetwork/data/github/2022-04-07-marine-search/projects/christianbm1/hackFS-nifti/commit-stat.log\n",
      "commit-stat.log : 2435 lines\n",
      "Processing  /home/matt/Projects/Web3HackerNetwork/data/github/2022-04-07-marine-search/projects/juanobligado/dxpriceaggregator/commit-stat.log\n",
      "commit-stat.log : 369 lines\n",
      "Processing  /home/matt/Projects/Web3HackerNetwork/data/github/2022-04-07-marine-search/projects/nshmadhani/is-unique/commit-stat.log\n",
      "commit-stat.log : 112 lines\n",
      "Processing  /home/matt/Projects/Web3HackerNetwork/data/github/2022-04-07-marine-search/projects/KirSerz/hackathon_wallet/commit-stat.log\n",
      "commit-stat.log : 295 lines\n",
      "Processing  /home/matt/Projects/Web3HackerNetwork/data/github/2022-04-07-marine-search/projects/ben-razor/Fluence-Service/commit-stat.log\n",
      "commit-stat.log : 591 lines\n",
      "Processing  /home/matt/Projects/Web3HackerNetwork/data/github/2022-04-07-marine-search/projects/gpgith/fluencelabs-examples/commit-stat.log\n",
      "commit-stat.log : 3128 lines\n",
      "Processing  /home/matt/Projects/Web3HackerNetwork/data/github/2022-04-07-marine-search/projects/synycboom/identity-link-api-aqua/commit-stat.log\n",
      "commit-stat.log : 883 lines\n",
      "Processing  /home/matt/Projects/Web3HackerNetwork/data/github/2022-04-07-marine-search/projects/Joera/public-record-dao-services/commit-stat.log\n",
      "commit-stat.log : 1506 lines\n",
      "Processing  /home/matt/Projects/Web3HackerNetwork/data/github/2022-04-07-marine-search/projects/Joera/gitcoin11-fluence/commit-stat.log\n",
      "commit-stat.log : 1506 lines\n",
      "Processing  /home/matt/Projects/Web3HackerNetwork/data/github/2022-04-07-marine-search/projects/fluencelabs/eip712-validation-node/commit-stat.log\n",
      "commit-stat.log : 637 lines\n",
      "Processing  /home/matt/Projects/Web3HackerNetwork/data/github/2022-04-07-marine-search/projects/fluencelabs/trust-graph/commit-stat.log\n",
      "commit-stat.log : 1041 lines\n",
      "Processing  /home/matt/Projects/Web3HackerNetwork/data/github/2022-04-07-marine-search/projects/fluencelabs/gitbook-docs/commit-stat.log\n",
      "commit-stat.log : 1881 lines\n",
      "Processing  /home/matt/Projects/Web3HackerNetwork/data/github/2022-04-07-marine-search/projects/fluencelabs/marine-rs-sdk/commit-stat.log\n",
      "commit-stat.log : 4606 lines\n",
      "Processing  /home/matt/Projects/Web3HackerNetwork/data/github/2022-04-07-marine-search/projects/fluencelabs/aqua-ipfs/commit-stat.log\n",
      "commit-stat.log : 750 lines\n",
      "Processing  /home/matt/Projects/Web3HackerNetwork/data/github/2022-04-07-marine-search/projects/fluencelabs/registry/commit-stat.log\n",
      "commit-stat.log : 1443 lines\n",
      "Processing  /home/matt/Projects/Web3HackerNetwork/data/github/2022-04-07-marine-search/projects/fluencelabs/fluence-service-template/commit-stat.log\n",
      "commit-stat.log : 92 lines\n",
      "Processing  /home/matt/Projects/Web3HackerNetwork/data/github/2022-04-07-marine-search/projects/fluencelabs/marine/commit-stat.log\n",
      "commit-stat.log : 5999 lines\n",
      "Processing  /home/matt/Projects/Web3HackerNetwork/data/github/2022-04-07-marine-search/projects/fluencelabs/trust-graph-test/commit-stat.log\n",
      "commit-stat.log : 1100 lines\n",
      "Processing  /home/matt/Projects/Web3HackerNetwork/data/github/2022-04-07-marine-search/projects/fluencelabs/aquavm/commit-stat.log\n",
      "commit-stat.log : 4628 lines\n",
      "Processing  /home/matt/Projects/Web3HackerNetwork/data/github/2022-04-07-marine-search/projects/anhfactor/fluence-char-count/commit-stat.log\n",
      "commit-stat.log : 112 lines\n",
      "All done!\n"
     ]
    }
   ],
   "source": [
    "import sys\n",
    "project_root_path = '../../..'\n",
    "python_lib_path = project_root_path + '/python/lib'\n",
    "sys.path.append(python_lib_path)\n",
    "import commit_log_parser\n",
    "\n",
    "fileList = []\n",
    "addFiles(fileList, '/home/matt/Projects/Web3HackerNetwork/data/github');\n",
    "print('Found '+str(len(fileList))+' files');\n",
    "root = '/home/matt/Projects/Web3HackerNetwork/data/samples'\n",
    "log = open(root+'/commitScan.log', 'w')\n",
    "for fileClass in fileList:\n",
    "    linecount = 0\n",
    "    \n",
    "    if (fileClass.fileName != 'commit-stat.log'):\n",
    "        #print('Skipping '+fileClass.fileName)\n",
    "        a = 0\n",
    "    else:\n",
    "        fq = fileClass.fullyQualified\n",
    "        print('Processing ',fq)\n",
    "        tsvFileName = str(fq)+'.json'\n",
    "        result = open(tsvFileName, 'w')\n",
    "\n",
    "        reqSet = StatRequirementSet()\n",
    "\n",
    "        with open(str(fileClass.fullyQualified), 'r') as file:\n",
    "            log.write('Reading file: '+fileClass.fullyQualified+'\\n')\n",
    "\n",
    "            for line in file:\n",
    "                linecount += 1\n",
    "                reqSet.testline(line);\n",
    "            file.close()\n",
    "            \n",
    "        result.write(json.dumps(reqSet.resultArray, indent=2))\n",
    "        reqSet.resultArray.clear()\n",
    "        nBytes = result.tell()\n",
    "        result.close();\n",
    "        if (nBytes < 1):\n",
    "            os.remove(tsvFileName)\n",
    "\n",
    "\n",
    "        print(str(fileClass.fileName)+' : '+str(linecount)+' lines')\n",
    "print('All done!')\n"
   ]
  }
 ],
 "metadata": {
  "kernelspec": {
   "display_name": "Python 3 (ipykernel)",
   "language": "python",
   "name": "python3"
  },
  "language_info": {
   "codemirror_mode": {
    "name": "ipython",
    "version": 3
   },
   "file_extension": ".py",
   "mimetype": "text/x-python",
   "name": "python",
   "nbconvert_exporter": "python",
   "pygments_lexer": "ipython3",
   "version": "3.8.10"
  }
 },
 "nbformat": 4,
 "nbformat_minor": 5
}
