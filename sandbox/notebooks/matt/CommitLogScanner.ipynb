{
 "cells": [
  {
   "cell_type": "code",
   "execution_count": null,
   "id": "5d0aa4b0-6209-4dcb-80ad-e8ce3e871081",
   "metadata": {},
   "outputs": [],
   "source": []
  },
  {
   "cell_type": "code",
   "execution_count": 3,
   "id": "06c5d567-286d-4513-b91c-7eb6c19a9e51",
   "metadata": {},
   "outputs": [
    {
     "name": "stdout",
     "output_type": "stream",
     "text": [
      "Found 82 files\n"
     ]
    },
    {
     "data": {
      "text/plain": [
       "\"\\nWhat the heck?\\n    print(str(file)+' : '+str(linecount)+' lines')\\n    for req in reqArray:\\n        print('\\t'+str(req.matchValue)+'->'+str(req.foundValue));\\n\""
      ]
     },
     "execution_count": 3,
     "metadata": {},
     "output_type": "execute_result"
    }
   ],
   "source": [
    "import os;\n",
    "def addFiles(fileList, directory):\n",
    "   for root, dirs, files in os.walk(directory):\n",
    "        for file in files:\n",
    "            fileList.append(root+'/'+file)\n",
    "        for subdir in dirs:\n",
    "            addFiles(fileList, subdir);\n",
    "\n",
    "class Requirement:\n",
    "    def __init__(self, matchIdx, matchValue, captureIndex, foundValue):\n",
    "        self.matchIdx = matchIdx\n",
    "        self.matchValue = matchValue\n",
    "        self.captureIndex = captureIndex\n",
    "        self.foundValue = foundValue\n",
    "\n",
    "\n",
    "fileList = []\n",
    "addFiles(fileList, '/home/matt/Projects/Web3HackerNetwork/data/github');\n",
    "print('Found '+str(len(fileList))+' files');\n",
    "for file in fileList:\n",
    "    firstline = None\n",
    "    fileExt = None\n",
    "    linecount = 0\n",
    "    commitLineIdx = 0\n",
    "    commitLine = None\n",
    "    commitID = None\n",
    "    \"\"\"\n",
    "    define an array of matching patterns\n",
    "    Params:\n",
    "    1 - Index to expect parameter 2\n",
    "    2 - Space delimited match string\n",
    "    3 - Data array index to capture\n",
    " - Populated value - starts as None (null)\n",
    "    \"\"\"\n",
    "\n",
    "    reqArray = []\n",
    "    reqArray.append( Requirement(0, 'commit', 1, None) )\n",
    "    reqArray.append( Requirement(0, 'Author:', 1, None) )\n",
    "    \n",
    "    \n",
    "    with open(file, 'r') as file:\n",
    "        for line in file:\n",
    "            linecount += 1\n",
    "            \n",
    "            for req in reqArray:\n",
    "                if (req.foundValue is None):\n",
    "                    \"\"\" search for it \"\"\"\n",
    "                    sp = line.split(' ')\n",
    "                    if (sp is not None and \n",
    "                        len(sp) > req.matchIdx and \n",
    "                        len(sp) > req.captureIndex and\n",
    "                        sp[req.matchIdx] == req.matchValue):\n",
    "                        req.foundValue = sp[req.captureIndex]\n",
    "        file.close()\n",
    "    \n",
    "\"\"\"\n",
    "    print(str(file)+' : '+str(linecount)+' lines')\n",
    "    for req in reqArray:\n",
    "        print('\\t'+str(req.matchValue)+'->'+str(req.foundValue));\n",
    "\"\"\"        \n",
    "    "
   ]
  },
  {
   "cell_type": "code",
   "execution_count": null,
   "id": "139736e3-642a-43d1-a2e3-954ac764c43b",
   "metadata": {},
   "outputs": [],
   "source": []
  }
 ],
 "metadata": {
  "kernelspec": {
   "display_name": "Python 3 (ipykernel)",
   "language": "python",
   "name": "python3"
  },
  "language_info": {
   "codemirror_mode": {
    "name": "ipython",
    "version": 3
   },
   "file_extension": ".py",
   "mimetype": "text/x-python",
   "name": "python",
   "nbconvert_exporter": "python",
   "pygments_lexer": "ipython3",
   "version": "3.8.10"
  }
 },
 "nbformat": 4,
 "nbformat_minor": 5
}
