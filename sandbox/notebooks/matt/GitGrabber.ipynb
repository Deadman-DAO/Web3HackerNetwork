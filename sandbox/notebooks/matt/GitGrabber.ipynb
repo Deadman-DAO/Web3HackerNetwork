{
 "cells": [
  {
   "cell_type": "code",
   "execution_count": 7,
   "id": "d81da1b9-167b-43d5-9cc0-dd6e8c1e8d03",
   "metadata": {},
   "outputs": [
    {
     "name": "stdout",
     "output_type": "stream",
     "text": [
      "-----commit------\n",
      "{'author': {'name': 'fanshuangying', 'email': 'fsy412@gmail.com', 'date': '2021-11-10T07:49:36Z'}, 'committer': {'name': 'fanshuangying', 'email': 'fsy412@gmail.com', 'date': '2021-11-10T07:49:36Z'}, 'message': 'doc', 'tree': {'sha': '9ed08775e5b11ec6e10ffd3948c6bea3ec357a54', 'url': 'https://api.github.com/repos/fsy412/SelfId-Auth-Fluence/git/trees/9ed08775e5b11ec6e10ffd3948c6bea3ec357a54'}, 'url': 'https://api.github.com/repos/fsy412/SelfId-Auth-Fluence/git/commits/fcf0f41e8849055140e18fbc5fd912384ee034e3', 'comment_count': 0, 'verification': {'verified': False, 'reason': 'unsigned', 'signature': None, 'payload': None}}\n",
      "-----stats-------\n",
      "{'total': 0, 'additions': 0, 'deletions': 0}\n",
      "-----files-------\n",
      "Name = fsy412 ( 4018096 )\n",
      "-----array element----\n",
      "filename:  doc/build.png\n",
      "status added\n",
      "additions 0\n",
      "deletions 0\n",
      "changes 0\n",
      "-----array element----\n",
      "filename:  doc/deploy.png\n",
      "status added\n",
      "additions 0\n",
      "deletions 0\n",
      "changes 0\n",
      "-----array element----\n",
      "filename:  doc/docker.png\n",
      "status added\n",
      "additions 0\n",
      "deletions 0\n",
      "changes 0\n"
     ]
    }
   ],
   "source": [
    "import requests\n",
    "import json\n",
    "\n",
    "\n",
    "def loadCachedURL(url):\n",
    "    body = None\n",
    "\n",
    "#    cachedFileName = './'+url+'.cached';\n",
    "#    try:\n",
    "#        with open(cachedFileName, 'r') as f:\n",
    "#            body = json.load(f)\n",
    "#            f.close()\n",
    "#    except EnvironmentError:\n",
    "    resp = requests.get(url)\n",
    "    if (resp.status_code == 200):\n",
    "        body = resp.json()\n",
    "#        with open(cachedFileName, 'w') as f:\n",
    "#            f.write(resp.text)\n",
    "#            f.close()\n",
    "    return body\n",
    "\n",
    "body = loadCachedURL('https://api.github.com/repos/fsy412/SelfId-Auth-Fluence/commits/fcf0f41e8849055140e18fbc5fd912384ee034e3')\n",
    "if (body == None):\n",
    "    print('Unable to load JSON')\n",
    "else:\n",
    "    print('-----commit------')\n",
    "    print(body['commit'])\n",
    "    print('-----stats-------')\n",
    "    print(body['stats'])\n",
    "    print('-----files-------')\n",
    "    committer = body['committer']\n",
    "    print('Name = '+committer['login']+' (',committer['id'],')')\n",
    "    array = body['files']\n",
    "    for n in array:\n",
    "        print('-----array element----')\n",
    "        print('filename: ',n['filename'])\n",
    "        print('status', n['status'])\n",
    "        print('additions', n['additions'])\n",
    "        print('deletions', n['deletions'])\n",
    "        print('changes', n['changes'])\n"
   ]
  },
  {
   "cell_type": "code",
   "execution_count": 1,
   "id": "b9b49971-433c-458e-acc9-232269b68e7c",
   "metadata": {},
   "outputs": [
    {
     "name": "stdout",
     "output_type": "stream",
     "text": [
      "one False\n",
      "true False\n",
      "1 True\n",
      "1.0 False\n",
      "-1.0 False\n",
      "2e10 False\n",
      "0xff False\n"
     ]
    }
   ],
   "source": [
    "import requests\n",
    "import json\n",
    "\n",
    "sample = ['one', 'true', '1', '1.0', '-1.0', '2e10', '0xff']\n",
    "for n in sample:\n",
    "    print(n, n.isdigit())"
   ]
  },
  {
   "cell_type": "code",
   "execution_count": 3,
   "id": "861eccb9-92ff-431d-ab8a-84a25c6a1573",
   "metadata": {},
   "outputs": [
    {
     "name": "stdout",
     "output_type": "stream",
     "text": [
      "1524\n",
      "9333bbbaf659fc9022bcd0c7a7aa71f8fc58b053\n"
     ]
    }
   ],
   "source": [
    "import json\n",
    "with open('../../../active/achp.json', 'rb') as rb:\n",
    "    rslt = json.load(rb)\n",
    "print(rslt['total_count'])\n",
    "print(rslt['items'][20]['sha'])"
   ]
  },
  {
   "cell_type": "code",
   "execution_count": 4,
   "outputs": [],
   "source": [
    "def do_something(arg):\n",
    "    fubar = arg+str(3)"
   ],
   "metadata": {
    "collapsed": false,
    "pycharm": {
     "name": "#%%\n"
    }
   }
  },
  {
   "cell_type": "code",
   "execution_count": 5,
   "outputs": [
    {
     "ename": "NameError",
     "evalue": "name 'fubar' is not defined",
     "output_type": "error",
     "traceback": [
      "\u001B[1;31m---------------------------------------------------------------------------\u001B[0m",
      "\u001B[1;31mNameError\u001B[0m                                 Traceback (most recent call last)",
      "Input \u001B[1;32mIn [5]\u001B[0m, in \u001B[0;36m<cell line: 2>\u001B[1;34m()\u001B[0m\n\u001B[0;32m      1\u001B[0m do_something(\u001B[38;5;124m'\u001B[39m\u001B[38;5;124mfred\u001B[39m\u001B[38;5;124m'\u001B[39m)\n\u001B[1;32m----> 2\u001B[0m \u001B[38;5;28mprint\u001B[39m(\u001B[43mfubar\u001B[49m)\n",
      "\u001B[1;31mNameError\u001B[0m: name 'fubar' is not defined"
     ]
    }
   ],
   "source": [
    "do_something('fred')\n",
    "print(fubar)"
   ],
   "metadata": {
    "collapsed": false,
    "pycharm": {
     "name": "#%%\n"
    }
   }
  },
  {
   "cell_type": "code",
   "execution_count": null,
   "outputs": [],
   "source": [],
   "metadata": {
    "collapsed": false,
    "pycharm": {
     "name": "#%%\n"
    }
   }
  }
 ],
 "metadata": {
  "kernelspec": {
   "display_name": "Python 3 (ipykernel)",
   "language": "python",
   "name": "python3"
  },
  "language_info": {
   "codemirror_mode": {
    "name": "ipython",
    "version": 3
   },
   "file_extension": ".py",
   "mimetype": "text/x-python",
   "name": "python",
   "nbconvert_exporter": "python",
   "pygments_lexer": "ipython3",
   "version": "3.8.10"
  }
 },
 "nbformat": 4,
 "nbformat_minor": 5
}