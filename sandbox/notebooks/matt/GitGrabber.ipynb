{
 "cells": [
  {
   "cell_type": "code",
   "execution_count": 9,
   "id": "d81da1b9-167b-43d5-9cc0-dd6e8c1e8d03",
   "metadata": {},
   "outputs": [
    {
     "name": "stdout",
     "output_type": "stream",
     "text": [
      "-----commit------\n",
      "{'author': {'name': 'enigmatt', 'email': 'git@theenkes.com', 'date': '2022-02-10T21:23:29Z'}, 'committer': {'name': 'enigmatt', 'email': 'git@theenkes.com', 'date': '2022-02-10T21:23:29Z'}, 'message': 'Adding Rust build instructions to the primary README page', 'tree': {'sha': '77ddf1291b5999a4278071a6805d6defcc31b0f4', 'url': 'https://api.github.com/repos/enigmatt/new2web3/git/trees/77ddf1291b5999a4278071a6805d6defcc31b0f4'}, 'url': 'https://api.github.com/repos/enigmatt/new2web3/git/commits/c4c58ec7ebd8ec9ca758413aee7df418834e7afe', 'comment_count': 0, 'verification': {'verified': False, 'reason': 'unsigned', 'signature': None, 'payload': None}}\n",
      "-----stats-------\n",
      "{'total': 4, 'additions': 2, 'deletions': 2}\n",
      "-----files-------\n",
      "-----array element----\n",
      "filename:  README.md\n",
      "status modified\n",
      "additions 1\n",
      "deletions 1\n",
      "changes 2\n",
      "blob_url https://github.com/enigmatt/new2web3/blob/c4c58ec7ebd8ec9ca758413aee7df418834e7afe/README.md\n",
      "-----array element----\n",
      "filename:  web/README.md\n",
      "status modified\n",
      "additions 1\n",
      "deletions 1\n",
      "changes 2\n",
      "blob_url https://github.com/enigmatt/new2web3/blob/c4c58ec7ebd8ec9ca758413aee7df418834e7afe/web%2FREADME.md\n"
     ]
    }
   ],
   "source": [
    "import requests\n",
    "import json\n",
    "\n",
    "fileName = './cached.commit'\n",
    "body = None\n",
    "try:\n",
    "    with open(fileName, 'r') as f:\n",
    "        body = json.load(f)\n",
    "        f.close()\n",
    "except EnvironmentError:\n",
    "    resp = requests.get('https://api.github.com/repos/enigmatt/New2Web3/commits/c4c58ec7ebd8ec9ca758413aee7df418834e7afe')\n",
    "    if (resp.status_code == 200):\n",
    "        body = resp.json()\n",
    "        with open(fileName, 'w') as f:\n",
    "            f.write(resp.text)\n",
    "            f.close()\n",
    "\n",
    "if (body == None):\n",
    "    print('Unable to load JSON')\n",
    "else:\n",
    "    print('-----commit------')\n",
    "    print(body['commit'])\n",
    "    print('-----stats-------')\n",
    "    print(body['stats'])\n",
    "    print('-----files-------')\n",
    "    array = body['files']\n",
    "    for n in array:\n",
    "        print('-----array element----')\n",
    "        print('filename: ',n['filename'])\n",
    "        print('status', n['status'])\n",
    "        print('additions', n['additions'])\n",
    "        print('deletions', n['deletions'])\n",
    "        print('changes', n['changes'])\n"
   ]
  },
  {
   "cell_type": "code",
   "execution_count": null,
   "id": "b9b49971-433c-458e-acc9-232269b68e7c",
   "metadata": {},
   "outputs": [],
   "source": []
  }
 ],
 "metadata": {
  "kernelspec": {
   "display_name": "Python 3 (ipykernel)",
   "language": "python",
   "name": "python3"
  },
  "language_info": {
   "codemirror_mode": {
    "name": "ipython",
    "version": 3
   },
   "file_extension": ".py",
   "mimetype": "text/x-python",
   "name": "python",
   "nbconvert_exporter": "python",
   "pygments_lexer": "ipython3",
   "version": "3.8.10"
  }
 },
 "nbformat": 4,
 "nbformat_minor": 5
}
