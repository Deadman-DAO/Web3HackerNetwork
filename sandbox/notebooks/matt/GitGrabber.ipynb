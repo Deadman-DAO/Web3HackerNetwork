{
 "cells": [
  {
   "cell_type": "code",
   "execution_count": 10,
   "id": "d81da1b9-167b-43d5-9cc0-dd6e8c1e8d03",
   "metadata": {},
   "outputs": [
    {
     "name": "stdout",
     "output_type": "stream",
     "text": [
      "{'author': {'name': 'enigmatt', 'email': 'git@theenkes.com', 'date': '2022-02-10T21:23:29Z'}, 'committer': {'name': 'enigmatt', 'email': 'git@theenkes.com', 'date': '2022-02-10T21:23:29Z'}, 'message': 'Adding Rust build instructions to the primary README page', 'tree': {'sha': '77ddf1291b5999a4278071a6805d6defcc31b0f4', 'url': 'https://api.github.com/repos/enigmatt/new2web3/git/trees/77ddf1291b5999a4278071a6805d6defcc31b0f4'}, 'url': 'https://api.github.com/repos/enigmatt/new2web3/git/commits/c4c58ec7ebd8ec9ca758413aee7df418834e7afe', 'comment_count': 0, 'verification': {'verified': False, 'reason': 'unsigned', 'signature': None, 'payload': None}}\n",
      "-----------------\n",
      "{'sha': 'c4c58ec7ebd8ec9ca758413aee7df418834e7afe', 'node_id': 'C_kwDOGyMY4toAKGM0YzU4ZWM3ZWJkOGVjOWNhNzU4NDEzYWVlN2RmNDE4ODM0ZTdhZmU', 'commit': {'author': {'name': 'enigmatt', 'email': 'git@theenkes.com', 'date': '2022-02-10T21:23:29Z'}, 'committer': {'name': 'enigmatt', 'email': 'git@theenkes.com', 'date': '2022-02-10T21:23:29Z'}, 'message': 'Adding Rust build instructions to the primary README page', 'tree': {'sha': '77ddf1291b5999a4278071a6805d6defcc31b0f4', 'url': 'https://api.github.com/repos/enigmatt/new2web3/git/trees/77ddf1291b5999a4278071a6805d6defcc31b0f4'}, 'url': 'https://api.github.com/repos/enigmatt/new2web3/git/commits/c4c58ec7ebd8ec9ca758413aee7df418834e7afe', 'comment_count': 0, 'verification': {'verified': False, 'reason': 'unsigned', 'signature': None, 'payload': None}}, 'url': 'https://api.github.com/repos/enigmatt/new2web3/commits/c4c58ec7ebd8ec9ca758413aee7df418834e7afe', 'html_url': 'https://github.com/enigmatt/new2web3/commit/c4c58ec7ebd8ec9ca758413aee7df418834e7afe', 'comments_url': 'https://api.github.com/repos/enigmatt/new2web3/commits/c4c58ec7ebd8ec9ca758413aee7df418834e7afe/comments', 'author': {'login': 'enigmatt', 'id': 25210075, 'node_id': 'MDQ6VXNlcjI1MjEwMDc1', 'avatar_url': 'https://avatars.githubusercontent.com/u/25210075?v=4', 'gravatar_id': '', 'url': 'https://api.github.com/users/enigmatt', 'html_url': 'https://github.com/enigmatt', 'followers_url': 'https://api.github.com/users/enigmatt/followers', 'following_url': 'https://api.github.com/users/enigmatt/following{/other_user}', 'gists_url': 'https://api.github.com/users/enigmatt/gists{/gist_id}', 'starred_url': 'https://api.github.com/users/enigmatt/starred{/owner}{/repo}', 'subscriptions_url': 'https://api.github.com/users/enigmatt/subscriptions', 'organizations_url': 'https://api.github.com/users/enigmatt/orgs', 'repos_url': 'https://api.github.com/users/enigmatt/repos', 'events_url': 'https://api.github.com/users/enigmatt/events{/privacy}', 'received_events_url': 'https://api.github.com/users/enigmatt/received_events', 'type': 'User', 'site_admin': False}, 'committer': {'login': 'enigmatt', 'id': 25210075, 'node_id': 'MDQ6VXNlcjI1MjEwMDc1', 'avatar_url': 'https://avatars.githubusercontent.com/u/25210075?v=4', 'gravatar_id': '', 'url': 'https://api.github.com/users/enigmatt', 'html_url': 'https://github.com/enigmatt', 'followers_url': 'https://api.github.com/users/enigmatt/followers', 'following_url': 'https://api.github.com/users/enigmatt/following{/other_user}', 'gists_url': 'https://api.github.com/users/enigmatt/gists{/gist_id}', 'starred_url': 'https://api.github.com/users/enigmatt/starred{/owner}{/repo}', 'subscriptions_url': 'https://api.github.com/users/enigmatt/subscriptions', 'organizations_url': 'https://api.github.com/users/enigmatt/orgs', 'repos_url': 'https://api.github.com/users/enigmatt/repos', 'events_url': 'https://api.github.com/users/enigmatt/events{/privacy}', 'received_events_url': 'https://api.github.com/users/enigmatt/received_events', 'type': 'User', 'site_admin': False}, 'parents': [{'sha': 'a46ecd91297b5112ab64f7f2386a9f854d885846', 'url': 'https://api.github.com/repos/enigmatt/new2web3/commits/a46ecd91297b5112ab64f7f2386a9f854d885846', 'html_url': 'https://github.com/enigmatt/new2web3/commit/a46ecd91297b5112ab64f7f2386a9f854d885846'}], 'stats': {'total': 4, 'additions': 2, 'deletions': 2}, 'files': [{'sha': '4fc68e87161b8b494ec4313fde831d71e0678683', 'filename': 'README.md', 'status': 'modified', 'additions': 1, 'deletions': 1, 'changes': 2, 'blob_url': 'https://github.com/enigmatt/new2web3/blob/c4c58ec7ebd8ec9ca758413aee7df418834e7afe/README.md', 'raw_url': 'https://github.com/enigmatt/new2web3/raw/c4c58ec7ebd8ec9ca758413aee7df418834e7afe/README.md', 'contents_url': 'https://api.github.com/repos/enigmatt/new2web3/contents/README.md?ref=c4c58ec7ebd8ec9ca758413aee7df418834e7afe', 'patch': '@@ -1,4 +1,4 @@\\n-#DeadManDAO presents New2Web3\\n+# DeadManDAO presents New2Web3\\n A simple example of using a ReactJS frontend to make calls to WebAssembly Rust services decentralized on the Fluence servers.\\n Our demo video can be found at:\\n '}, {'sha': 'fad3798337f922dc72111a948e66b5efc5804f78', 'filename': 'web/README.md', 'status': 'modified', 'additions': 1, 'deletions': 1, 'changes': 2, 'blob_url': 'https://github.com/enigmatt/new2web3/blob/c4c58ec7ebd8ec9ca758413aee7df418834e7afe/web%2FREADME.md', 'raw_url': 'https://github.com/enigmatt/new2web3/raw/c4c58ec7ebd8ec9ca758413aee7df418834e7afe/web%2FREADME.md', 'contents_url': 'https://api.github.com/repos/enigmatt/new2web3/contents/web%2FREADME.md?ref=c4c58ec7ebd8ec9ca758413aee7df418834e7afe', 'patch': '@@ -1,4 +1,4 @@\\n-#DeadManDAO presents New2Web3\\n+# DeadManDAO presents New2Web3\\n A simple example of using a ReactJS frontend to make calls to WebAssembly Rust services decentralized on the Fluence servers.\\n Our demo video can be found at:\\n '}]}\n"
     ]
    }
   ],
   "source": [
    "import requests\n",
    "import json\n",
    "\n",
    "fileName = './cached.commit'\n",
    "body = None\n",
    "try:\n",
    "    with open(fileName, 'r') as f:\n",
    "        body = json.load(f)\n",
    "        f.close()\n",
    "except EnvironmentError:\n",
    "    resp = requests.get('https://api.github.com/repos/enigmatt/New2Web3/commits/c4c58ec7ebd8ec9ca758413aee7df418834e7afe')\n",
    "    if (resp.status_code == 200):\n",
    "        body = resp.json()\n",
    "        with open(fileName, 'w') as f:\n",
    "            f.write(resp.text)\n",
    "            f.close()\n",
    "\n",
    "if (body == None):\n",
    "    print('Unable to load JSON')\n",
    "else:\n",
    "    print(body['commit'])\n",
    "    print('-----------------')\n",
    "    print(body)\n"
   ]
  },
  {
   "cell_type": "code",
   "execution_count": null,
   "id": "b9b49971-433c-458e-acc9-232269b68e7c",
   "metadata": {},
   "outputs": [],
   "source": []
  }
 ],
 "metadata": {
  "kernelspec": {
   "display_name": "Python 3 (ipykernel)",
   "language": "python",
   "name": "python3"
  },
  "language_info": {
   "codemirror_mode": {
    "name": "ipython",
    "version": 3
   },
   "file_extension": ".py",
   "mimetype": "text/x-python",
   "name": "python",
   "nbconvert_exporter": "python",
   "pygments_lexer": "ipython3",
   "version": "3.8.10"
  }
 },
 "nbformat": 4,
 "nbformat_minor": 5
}
