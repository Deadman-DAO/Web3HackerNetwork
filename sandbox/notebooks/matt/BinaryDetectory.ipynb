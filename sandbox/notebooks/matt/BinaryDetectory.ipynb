{
 "cells": [
  {
   "cell_type": "code",
   "execution_count": 1,
   "metadata": {
    "collapsed": true,
    "pycharm": {
     "name": "#%%\n"
    }
   },
   "outputs": [],
   "source": [
    "import os\n",
    "import binascii\n",
    "\n",
    "ok_chars = [0x0A, 0x0D]\n",
    "for root, dirs, files in os.walk('./'):\n",
    "    for f in files:\n",
    "        full_file = os.path.join(root, f)\n",
    "        is_binary = False\n",
    "        with open(f, 'r') as r:\n",
    "            block = r.read(1024)\n",
    "            for c in block:\n",
    "                if c < ' ' and c not in ok_chars:\n",
    "                    is_binary = True\n",
    "                    break\n",
    "\n",
    "\n"
   ]
  }
 ],
 "metadata": {
  "kernelspec": {
   "display_name": "Python 3",
   "language": "python",
   "name": "python3"
  },
  "language_info": {
   "codemirror_mode": {
    "name": "ipython",
    "version": 2
   },
   "file_extension": ".py",
   "mimetype": "text/x-python",
   "name": "python",
   "nbconvert_exporter": "python",
   "pygments_lexer": "ipython2",
   "version": "2.7.6"
  }
 },
 "nbformat": 4,
 "nbformat_minor": 0
}