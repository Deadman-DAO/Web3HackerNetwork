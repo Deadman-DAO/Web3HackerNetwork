{
 "cells": [
  {
   "cell_type": "markdown",
   "id": "cc4bf661-541a-4a45-9247-a4534ccce68a",
   "metadata": {},
   "source": [
    "#### Pull next unresolved Alias from DB and Resolve it"
   ]
  },
  {
   "cell_type": "code",
   "execution_count": 1,
   "id": "a238e8e1-e3ba-4152-9ee9-1ae2000ac360",
   "metadata": {},
   "outputs": [
    {
     "ename": "TypeError",
     "evalue": "the JSON object must be str, bytes or bytearray, not NoneType",
     "output_type": "error",
     "traceback": [
      "\u001B[0;31m---------------------------------------------------------------------------\u001B[0m",
      "\u001B[0;31mTypeError\u001B[0m                                 Traceback (most recent call last)",
      "Input \u001B[0;32mIn [1]\u001B[0m, in \u001B[0;36m<cell line: 31>\u001B[0;34m()\u001B[0m\n\u001B[1;32m     37\u001B[0m result_set \u001B[38;5;241m=\u001B[39m cursor\u001B[38;5;241m.\u001B[39mfetchone()\n\u001B[1;32m     38\u001B[0m \u001B[38;5;28;01mif\u001B[39;00m result_set \u001B[38;5;129;01mis\u001B[39;00m \u001B[38;5;129;01mnot\u001B[39;00m \u001B[38;5;28;01mNone\u001B[39;00m \u001B[38;5;129;01mand\u001B[39;00m \u001B[38;5;28mlen\u001B[39m(result_set) \u001B[38;5;241m>\u001B[39m \u001B[38;5;241m0\u001B[39m:\n\u001B[0;32m---> 39\u001B[0m     commit_set \u001B[38;5;241m=\u001B[39m \u001B[43mjson\u001B[49m\u001B[38;5;241;43m.\u001B[39;49m\u001B[43mloads\u001B[49m\u001B[43m(\u001B[49m\u001B[43mresult_set\u001B[49m\u001B[43m[\u001B[49m\u001B[38;5;241;43m0\u001B[39;49m\u001B[43m]\u001B[49m\u001B[43m)\u001B[49m\n\u001B[1;32m     40\u001B[0m     idx \u001B[38;5;241m=\u001B[39m \u001B[38;5;241m0\u001B[39m\n\u001B[1;32m     41\u001B[0m     alias_id \u001B[38;5;241m=\u001B[39m \u001B[38;5;241m-\u001B[39m\u001B[38;5;241m1\u001B[39m\n",
      "File \u001B[0;32m/usr/lib/python3.8/json/__init__.py:341\u001B[0m, in \u001B[0;36mloads\u001B[0;34m(s, cls, object_hook, parse_float, parse_int, parse_constant, object_pairs_hook, **kw)\u001B[0m\n\u001B[1;32m    339\u001B[0m \u001B[38;5;28;01melse\u001B[39;00m:\n\u001B[1;32m    340\u001B[0m     \u001B[38;5;28;01mif\u001B[39;00m \u001B[38;5;129;01mnot\u001B[39;00m \u001B[38;5;28misinstance\u001B[39m(s, (\u001B[38;5;28mbytes\u001B[39m, \u001B[38;5;28mbytearray\u001B[39m)):\n\u001B[0;32m--> 341\u001B[0m         \u001B[38;5;28;01mraise\u001B[39;00m \u001B[38;5;167;01mTypeError\u001B[39;00m(\u001B[38;5;124mf\u001B[39m\u001B[38;5;124m'\u001B[39m\u001B[38;5;124mthe JSON object must be str, bytes or bytearray, \u001B[39m\u001B[38;5;124m'\u001B[39m\n\u001B[1;32m    342\u001B[0m                         \u001B[38;5;124mf\u001B[39m\u001B[38;5;124m'\u001B[39m\u001B[38;5;124mnot \u001B[39m\u001B[38;5;132;01m{\u001B[39;00ms\u001B[38;5;241m.\u001B[39m\u001B[38;5;18m__class__\u001B[39m\u001B[38;5;241m.\u001B[39m\u001B[38;5;18m__name__\u001B[39m\u001B[38;5;132;01m}\u001B[39;00m\u001B[38;5;124m'\u001B[39m)\n\u001B[1;32m    343\u001B[0m     s \u001B[38;5;241m=\u001B[39m s\u001B[38;5;241m.\u001B[39mdecode(detect_encoding(s), \u001B[38;5;124m'\u001B[39m\u001B[38;5;124msurrogatepass\u001B[39m\u001B[38;5;124m'\u001B[39m)\n\u001B[1;32m    345\u001B[0m \u001B[38;5;28;01mif\u001B[39;00m \u001B[38;5;124m\"\u001B[39m\u001B[38;5;124mencoding\u001B[39m\u001B[38;5;124m\"\u001B[39m \u001B[38;5;129;01min\u001B[39;00m kw:\n",
      "\u001B[0;31mTypeError\u001B[0m: the JSON object must be str, bytes or bytearray, not NoneType"
     ]
    }
   ],
   "source": [
    "import sys\n",
    "import mariadb\n",
    "import time\n",
    "import hashlib\n",
    "import json\n",
    "from datetime import datetime as datingdays\n",
    "\n",
    "local_lib_dir = '../../../python/lib/'\n",
    "sys.path.append(local_lib_dir)\n",
    "from kitchen_sink_class import Query\n",
    "from kitchen_sink_class import load_single_line_from_file as load_it\n",
    "q = Query()\n",
    "\n",
    "pwd = load_it('./db.pwd')\n",
    "mydb = mariadb.connect(\n",
    "    port=3306,\n",
    "    host='127.0.0.1',\n",
    "    user='w3hacknet',\n",
    "    password=pwd,\n",
    "    database='w3hacknet',\n",
    "    autocommit=True\n",
    ")\n",
    "cursor = mydb.cursor()\n",
    "commit_set = None\n",
    "running = True\n",
    "call_count = 0\n",
    "alias_count = 0\n",
    "fail_count = 0\n",
    "try_counters = [0, 0, 0]\n",
    "\n",
    "while running:\n",
    "#    print(datingdays.now().isoformat(), 'calling ReserveNextUnresolvableAlias')\n",
    "    cursor.callproc('ReserveNextUnresolvedAlias', ('krunch', None))\n",
    "    if cursor.sp_outparams:\n",
    "#        print(datingdays.now().isoformat(), 'returned from ReserveNextUnresolvableAlias')\n",
    "        alias_count += 1\n",
    "        result_set = cursor.fetchone()\n",
    "        if result_set is not None and len(result_set) > 0:\n",
    "            commit_set = json.loads(result_set[0])\n",
    "            idx = 0\n",
    "            alias_id = -1\n",
    "            alias_not_found = True\n",
    "            for n in commit_set:\n",
    "                #Need to load the commit_id->owner/name pair map\n",
    "                #Originally this was loaded first as start of a much larger process\n",
    "                q.add_commit_id(n['commit_id'], n['owner'], n['name'])\n",
    "                alias_id = n['alias_id']\n",
    "            while alias_not_found and idx < len(commit_set):\n",
    "                commit_id = commit_set[idx]['commit_id']\n",
    "                call_count += 1\n",
    "                if call_count % 10 == 0:\n",
    "                    print(datingdays.now().isoformat(),'Aliases Processed',alias_count,',Call Count',call_count,',Unresolvable Count',fail_count, try_counters)\n",
    "\n",
    "    #            print(datingdays.now().isoformat(), 'calling retrieve_commit')\n",
    "\n",
    "                resp = q.retrieve_commit(commit_id)\n",
    "\n",
    "    #            print(datingdays.now().isoformat(), 'returned from retrieve_commit')\n",
    "\n",
    "                if (resp != None):\n",
    "                    j = resp.json()\n",
    "                    commit_details_block = j['author']\n",
    "                    if commit_details_block is not None and 'login' in commit_details_block.keys():                \n",
    "                        committer = commit_details_block['login']\n",
    "\n",
    "    #                    print(datingdays.now().isoformat(), 'calling ResolveAliasViaPrimaryKey')\n",
    "                        cursor.callproc('ResolveAliasViaPrimaryKey', (alias_id, committer))\n",
    "    #                    print(datingdays.now().isoformat(), 'returned from ResolveAliasViaPrimaryKey')\n",
    "\n",
    "                        try_counters[idx] += 1\n",
    "                        alias_not_found = False\n",
    "                idx += 1\n",
    "        if alias_not_found:\n",
    "            fail_count += 1\n",
    "            cursor.callproc('ResolveAliasViaPrimaryKey', (alias_id, '<UNABLE_TO_RESOLVE>'))\n",
    "            print('Unable to resolve', alias_id)\n",
    "    else:\n",
    "        running = False\n",
    "        print('Ran out of aliases')\n",
    "\n",
    "print('done!')\n",
    "#raise Exception('Do not continue!')"
   ]
  },
  {
   "cell_type": "code",
   "execution_count": 1,
   "id": "b2a9a9e4-8bfd-4c9c-9d0a-8019719cafc3",
   "metadata": {},
   "outputs": [
    {
     "name": "stdout",
     "output_type": "stream",
     "text": [
      "62.7421875\n"
     ]
    }
   ],
   "source": [
    "import os, psutil; print(psutil.Process(os.getpid()).memory_info().rss / 1024 ** 2)"
   ]
  },
  {
   "cell_type": "code",
   "execution_count": null,
   "outputs": [],
   "source": [],
   "metadata": {
    "collapsed": false,
    "pycharm": {
     "name": "#%%\n"
    }
   }
  },
  {
   "cell_type": "code",
   "source": [
    "local_lib_dir = '../../../python/lib/'\n",
    "sys.path.append(local_lib_dir)\n",
    "from db_dependent_class import DBDependent\n",
    "\n",
    "class MyClass(DBDependent):\n",
    "    def __init__(self):\n",
    "        super().__init__()\n",
    "    def try_it(self):\n",
    "        t = ('2042c502f52104d10152294164e043cd', 'Rohit Sivaprasad <rohit.sprasad@gmail.com>', '2', '2013-09-04 23:49:14.000', '2013-09-21 06:35:05.000', '[{},{}]')\n",
    "        self.get_cursor().execute(\n",
    "            \"\"\"\n",
    "                insert into hacker_update_queue (md5, name_email, commit_count, min_date, max_date, commit_array)\n",
    "                values (%s, %s, %s, %s, %s, %s)\n",
    "            \"\"\",\n",
    "            ('758fd9cafad3a1cffeac2b299454b0f1', 'Perry Greenfield <perry@stsci.edu>', 1, '2004-05-04 19:48:17.000', '2004-05-04 19:48:17.000', '[{\"cid\": \"5bf7bc33685204f662861f1fe2c543d0f9cbdf16\", \"dt\": 1083700097.0, \"tz\": \"UTC\"}, {\"cid\": \"5bf7bc33685204f662861f1fe2c543d0f9cbdf16\", \"dt\": 1083700097.0, \"tz\": \"UTC\"}, {\"cid\": \"5bf7bc33685204f662861f1fe2c543d0f9cbdf16\", \"dt\": 1083700097.0, \"tz\": \"UTC\"}]')\n",
    "\n",
    "        )\n",
    "\n",
    "MyClass().try_it()"
   ],
   "metadata": {
    "collapsed": false,
    "pycharm": {
     "name": "#%%\n"
    }
   },
   "execution_count": 28,
   "outputs": [
    {
     "ename": "ProgrammingError",
     "evalue": "Not all parameters were used in the SQL statement",
     "output_type": "error",
     "traceback": [
      "\u001B[1;31m---------------------------------------------------------------------------\u001B[0m",
      "\u001B[1;31mProgrammingError\u001B[0m                          Traceback (most recent call last)",
      "Input \u001B[1;32mIn [28]\u001B[0m, in \u001B[0;36m<cell line: 19>\u001B[1;34m()\u001B[0m\n\u001B[0;32m      9\u001B[0m         t \u001B[38;5;241m=\u001B[39m (\u001B[38;5;124m'\u001B[39m\u001B[38;5;124m2042c502f52104d10152294164e043cd\u001B[39m\u001B[38;5;124m'\u001B[39m, \u001B[38;5;124m'\u001B[39m\u001B[38;5;124mRohit Sivaprasad <rohit.sprasad@gmail.com>\u001B[39m\u001B[38;5;124m'\u001B[39m, \u001B[38;5;124m'\u001B[39m\u001B[38;5;124m2\u001B[39m\u001B[38;5;124m'\u001B[39m, \u001B[38;5;124m'\u001B[39m\u001B[38;5;124m2013-09-04 23:49:14.000\u001B[39m\u001B[38;5;124m'\u001B[39m, \u001B[38;5;124m'\u001B[39m\u001B[38;5;124m2013-09-21 06:35:05.000\u001B[39m\u001B[38;5;124m'\u001B[39m, \u001B[38;5;124m'\u001B[39m\u001B[38;5;124m[\u001B[39m\u001B[38;5;132;01m{}\u001B[39;00m\u001B[38;5;124m,\u001B[39m\u001B[38;5;132;01m{}\u001B[39;00m\u001B[38;5;124m]\u001B[39m\u001B[38;5;124m'\u001B[39m)\n\u001B[0;32m     10\u001B[0m         \u001B[38;5;28mself\u001B[39m\u001B[38;5;241m.\u001B[39mget_cursor()\u001B[38;5;241m.\u001B[39mexecute(\n\u001B[0;32m     11\u001B[0m             \u001B[38;5;124;03m\"\"\"\u001B[39;00m\n\u001B[0;32m     12\u001B[0m \u001B[38;5;124;03m                insert into hacker_update_queue (md5, name_email, commit_count, min_date, max_date, commit_array)\u001B[39;00m\n\u001B[1;32m   (...)\u001B[0m\n\u001B[0;32m     16\u001B[0m \n\u001B[0;32m     17\u001B[0m         )\n\u001B[1;32m---> 19\u001B[0m \u001B[43mMyClass\u001B[49m\u001B[43m(\u001B[49m\u001B[43m)\u001B[49m\u001B[38;5;241;43m.\u001B[39;49m\u001B[43mtry_it\u001B[49m\u001B[43m(\u001B[49m\u001B[43m)\u001B[49m\n",
      "Input \u001B[1;32mIn [28]\u001B[0m, in \u001B[0;36mMyClass.try_it\u001B[1;34m(self)\u001B[0m\n\u001B[0;32m      8\u001B[0m \u001B[38;5;28;01mdef\u001B[39;00m \u001B[38;5;21mtry_it\u001B[39m(\u001B[38;5;28mself\u001B[39m):\n\u001B[0;32m      9\u001B[0m     t \u001B[38;5;241m=\u001B[39m (\u001B[38;5;124m'\u001B[39m\u001B[38;5;124m2042c502f52104d10152294164e043cd\u001B[39m\u001B[38;5;124m'\u001B[39m, \u001B[38;5;124m'\u001B[39m\u001B[38;5;124mRohit Sivaprasad <rohit.sprasad@gmail.com>\u001B[39m\u001B[38;5;124m'\u001B[39m, \u001B[38;5;124m'\u001B[39m\u001B[38;5;124m2\u001B[39m\u001B[38;5;124m'\u001B[39m, \u001B[38;5;124m'\u001B[39m\u001B[38;5;124m2013-09-04 23:49:14.000\u001B[39m\u001B[38;5;124m'\u001B[39m, \u001B[38;5;124m'\u001B[39m\u001B[38;5;124m2013-09-21 06:35:05.000\u001B[39m\u001B[38;5;124m'\u001B[39m, \u001B[38;5;124m'\u001B[39m\u001B[38;5;124m[\u001B[39m\u001B[38;5;132;01m{}\u001B[39;00m\u001B[38;5;124m,\u001B[39m\u001B[38;5;132;01m{}\u001B[39;00m\u001B[38;5;124m]\u001B[39m\u001B[38;5;124m'\u001B[39m)\n\u001B[1;32m---> 10\u001B[0m     \u001B[38;5;28;43mself\u001B[39;49m\u001B[38;5;241;43m.\u001B[39;49m\u001B[43mget_cursor\u001B[49m\u001B[43m(\u001B[49m\u001B[43m)\u001B[49m\u001B[38;5;241;43m.\u001B[39;49m\u001B[43mexecute\u001B[49m\u001B[43m(\u001B[49m\n\u001B[0;32m     11\u001B[0m \u001B[43m        \u001B[49m\u001B[38;5;124;43;03m\"\"\"\u001B[39;49;00m\n\u001B[0;32m     12\u001B[0m \u001B[38;5;124;43;03m            insert into hacker_update_queue (md5, name_email, commit_count, min_date, max_date, commit_array)\u001B[39;49;00m\n\u001B[0;32m     13\u001B[0m \u001B[38;5;124;43;03m            values (%s, %s, %d, %s, %s, %s)\u001B[39;49;00m\n\u001B[0;32m     14\u001B[0m \u001B[38;5;124;43;03m        \"\"\"\u001B[39;49;00m\u001B[43m,\u001B[49m\n\u001B[0;32m     15\u001B[0m \u001B[43m        \u001B[49m\u001B[43m(\u001B[49m\u001B[38;5;124;43m'\u001B[39;49m\u001B[38;5;124;43m758fd9cafad3a1cffeac2b299454b0f1\u001B[39;49m\u001B[38;5;124;43m'\u001B[39;49m\u001B[43m,\u001B[49m\u001B[43m \u001B[49m\u001B[38;5;124;43m'\u001B[39;49m\u001B[38;5;124;43mPerry Greenfield <perry@stsci.edu>\u001B[39;49m\u001B[38;5;124;43m'\u001B[39;49m\u001B[43m,\u001B[49m\u001B[43m \u001B[49m\u001B[38;5;241;43m1\u001B[39;49m\u001B[43m,\u001B[49m\u001B[43m \u001B[49m\u001B[38;5;124;43m'\u001B[39;49m\u001B[38;5;124;43m2004-05-04 19:48:17.000\u001B[39;49m\u001B[38;5;124;43m'\u001B[39;49m\u001B[43m,\u001B[49m\u001B[43m \u001B[49m\u001B[38;5;124;43m'\u001B[39;49m\u001B[38;5;124;43m2004-05-04 19:48:17.000\u001B[39;49m\u001B[38;5;124;43m'\u001B[39;49m\u001B[43m,\u001B[49m\u001B[43m \u001B[49m\u001B[38;5;124;43m'\u001B[39;49m\u001B[38;5;124;43m[\u001B[39;49m\u001B[38;5;124;43m{\u001B[39;49m\u001B[38;5;124;43m\"\u001B[39;49m\u001B[38;5;124;43mcid\u001B[39;49m\u001B[38;5;124;43m\"\u001B[39;49m\u001B[38;5;124;43m: \u001B[39;49m\u001B[38;5;124;43m\"\u001B[39;49m\u001B[38;5;124;43m5bf7bc33685204f662861f1fe2c543d0f9cbdf16\u001B[39;49m\u001B[38;5;124;43m\"\u001B[39;49m\u001B[38;5;124;43m, \u001B[39;49m\u001B[38;5;124;43m\"\u001B[39;49m\u001B[38;5;124;43mdt\u001B[39;49m\u001B[38;5;124;43m\"\u001B[39;49m\u001B[38;5;124;43m: 1083700097.0, \u001B[39;49m\u001B[38;5;124;43m\"\u001B[39;49m\u001B[38;5;124;43mtz\u001B[39;49m\u001B[38;5;124;43m\"\u001B[39;49m\u001B[38;5;124;43m: \u001B[39;49m\u001B[38;5;124;43m\"\u001B[39;49m\u001B[38;5;124;43mUTC\u001B[39;49m\u001B[38;5;124;43m\"\u001B[39;49m\u001B[38;5;124;43m}, \u001B[39;49m\u001B[38;5;124;43m{\u001B[39;49m\u001B[38;5;124;43m\"\u001B[39;49m\u001B[38;5;124;43mcid\u001B[39;49m\u001B[38;5;124;43m\"\u001B[39;49m\u001B[38;5;124;43m: \u001B[39;49m\u001B[38;5;124;43m\"\u001B[39;49m\u001B[38;5;124;43m5bf7bc33685204f662861f1fe2c543d0f9cbdf16\u001B[39;49m\u001B[38;5;124;43m\"\u001B[39;49m\u001B[38;5;124;43m, \u001B[39;49m\u001B[38;5;124;43m\"\u001B[39;49m\u001B[38;5;124;43mdt\u001B[39;49m\u001B[38;5;124;43m\"\u001B[39;49m\u001B[38;5;124;43m: 1083700097.0, \u001B[39;49m\u001B[38;5;124;43m\"\u001B[39;49m\u001B[38;5;124;43mtz\u001B[39;49m\u001B[38;5;124;43m\"\u001B[39;49m\u001B[38;5;124;43m: \u001B[39;49m\u001B[38;5;124;43m\"\u001B[39;49m\u001B[38;5;124;43mUTC\u001B[39;49m\u001B[38;5;124;43m\"\u001B[39;49m\u001B[38;5;124;43m}, \u001B[39;49m\u001B[38;5;124;43m{\u001B[39;49m\u001B[38;5;124;43m\"\u001B[39;49m\u001B[38;5;124;43mcid\u001B[39;49m\u001B[38;5;124;43m\"\u001B[39;49m\u001B[38;5;124;43m: \u001B[39;49m\u001B[38;5;124;43m\"\u001B[39;49m\u001B[38;5;124;43m5bf7bc33685204f662861f1fe2c543d0f9cbdf16\u001B[39;49m\u001B[38;5;124;43m\"\u001B[39;49m\u001B[38;5;124;43m, \u001B[39;49m\u001B[38;5;124;43m\"\u001B[39;49m\u001B[38;5;124;43mdt\u001B[39;49m\u001B[38;5;124;43m\"\u001B[39;49m\u001B[38;5;124;43m: 1083700097.0, \u001B[39;49m\u001B[38;5;124;43m\"\u001B[39;49m\u001B[38;5;124;43mtz\u001B[39;49m\u001B[38;5;124;43m\"\u001B[39;49m\u001B[38;5;124;43m: \u001B[39;49m\u001B[38;5;124;43m\"\u001B[39;49m\u001B[38;5;124;43mUTC\u001B[39;49m\u001B[38;5;124;43m\"\u001B[39;49m\u001B[38;5;124;43m}]\u001B[39;49m\u001B[38;5;124;43m'\u001B[39;49m\u001B[43m)\u001B[49m\n\u001B[0;32m     16\u001B[0m \n\u001B[0;32m     17\u001B[0m \u001B[43m    \u001B[49m\u001B[43m)\u001B[49m\n",
      "File \u001B[1;32mJ:\\temp\\ignore_me\\Python310\\lib\\site-packages\\mysql\\connector\\cursor_cext.py:265\u001B[0m, in \u001B[0;36mCMySQLCursor.execute\u001B[1;34m(self, operation, params, multi)\u001B[0m\n\u001B[0;32m    263\u001B[0m         stmt \u001B[38;5;241m=\u001B[39m RE_PY_PARAM\u001B[38;5;241m.\u001B[39msub(psub, stmt)\n\u001B[0;32m    264\u001B[0m         \u001B[38;5;28;01mif\u001B[39;00m psub\u001B[38;5;241m.\u001B[39mremaining \u001B[38;5;241m!=\u001B[39m \u001B[38;5;241m0\u001B[39m:\n\u001B[1;32m--> 265\u001B[0m             \u001B[38;5;28;01mraise\u001B[39;00m errors\u001B[38;5;241m.\u001B[39mProgrammingError(\n\u001B[0;32m    266\u001B[0m                 \u001B[38;5;124m\"\u001B[39m\u001B[38;5;124mNot all parameters were used in the SQL statement\u001B[39m\u001B[38;5;124m\"\u001B[39m)\n\u001B[0;32m    268\u001B[0m \u001B[38;5;28;01mtry\u001B[39;00m:\n\u001B[0;32m    269\u001B[0m     result \u001B[38;5;241m=\u001B[39m \u001B[38;5;28mself\u001B[39m\u001B[38;5;241m.\u001B[39m_cnx\u001B[38;5;241m.\u001B[39mcmd_query(stmt, raw\u001B[38;5;241m=\u001B[39m\u001B[38;5;28mself\u001B[39m\u001B[38;5;241m.\u001B[39m_raw,\n\u001B[0;32m    270\u001B[0m                                  buffered\u001B[38;5;241m=\u001B[39m\u001B[38;5;28mself\u001B[39m\u001B[38;5;241m.\u001B[39m_buffered,\n\u001B[0;32m    271\u001B[0m                                  raw_as_string\u001B[38;5;241m=\u001B[39m\u001B[38;5;28mself\u001B[39m\u001B[38;5;241m.\u001B[39m_raw_as_string)\n",
      "\u001B[1;31mProgrammingError\u001B[0m: Not all parameters were used in the SQL statement"
     ]
    }
   ]
  },
  {
   "cell_type": "code",
   "execution_count": null,
   "outputs": [],
   "source": [],
   "metadata": {
    "collapsed": false,
    "pycharm": {
     "name": "#%%\n"
    }
   }
  }
 ],
 "metadata": {
  "kernelspec": {
   "display_name": "Python 3 (ipykernel)",
   "language": "python",
   "name": "python3"
  },
  "language_info": {
   "codemirror_mode": {
    "name": "ipython",
    "version": 3
   },
   "file_extension": ".py",
   "mimetype": "text/x-python",
   "name": "python",
   "nbconvert_exporter": "python",
   "pygments_lexer": "ipython3",
   "version": "3.8.10"
  }
 },
 "nbformat": 4,
 "nbformat_minor": 5
}