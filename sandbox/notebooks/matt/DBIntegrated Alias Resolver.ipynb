{
 "cells": [
  {
   "cell_type": "markdown",
   "id": "cc4bf661-541a-4a45-9247-a4534ccce68a",
   "metadata": {},
   "source": [
    "#### Pull next unresolved Alias from DB and Resolve it"
   ]
  },
  {
   "cell_type": "code",
   "execution_count": 1,
   "id": "a238e8e1-e3ba-4152-9ee9-1ae2000ac360",
   "metadata": {},
   "outputs": [
    {
     "ename": "TypeError",
     "evalue": "the JSON object must be str, bytes or bytearray, not NoneType",
     "output_type": "error",
     "traceback": [
      "\u001b[0;31m---------------------------------------------------------------------------\u001b[0m",
      "\u001b[0;31mTypeError\u001b[0m                                 Traceback (most recent call last)",
      "Input \u001b[0;32mIn [1]\u001b[0m, in \u001b[0;36m<cell line: 31>\u001b[0;34m()\u001b[0m\n\u001b[1;32m     37\u001b[0m result_set \u001b[38;5;241m=\u001b[39m cursor\u001b[38;5;241m.\u001b[39mfetchone()\n\u001b[1;32m     38\u001b[0m \u001b[38;5;28;01mif\u001b[39;00m result_set \u001b[38;5;129;01mis\u001b[39;00m \u001b[38;5;129;01mnot\u001b[39;00m \u001b[38;5;28;01mNone\u001b[39;00m \u001b[38;5;129;01mand\u001b[39;00m \u001b[38;5;28mlen\u001b[39m(result_set) \u001b[38;5;241m>\u001b[39m \u001b[38;5;241m0\u001b[39m:\n\u001b[0;32m---> 39\u001b[0m     commit_set \u001b[38;5;241m=\u001b[39m \u001b[43mjson\u001b[49m\u001b[38;5;241;43m.\u001b[39;49m\u001b[43mloads\u001b[49m\u001b[43m(\u001b[49m\u001b[43mresult_set\u001b[49m\u001b[43m[\u001b[49m\u001b[38;5;241;43m0\u001b[39;49m\u001b[43m]\u001b[49m\u001b[43m)\u001b[49m\n\u001b[1;32m     40\u001b[0m     idx \u001b[38;5;241m=\u001b[39m \u001b[38;5;241m0\u001b[39m\n\u001b[1;32m     41\u001b[0m     alias_id \u001b[38;5;241m=\u001b[39m \u001b[38;5;241m-\u001b[39m\u001b[38;5;241m1\u001b[39m\n",
      "File \u001b[0;32m/usr/lib/python3.8/json/__init__.py:341\u001b[0m, in \u001b[0;36mloads\u001b[0;34m(s, cls, object_hook, parse_float, parse_int, parse_constant, object_pairs_hook, **kw)\u001b[0m\n\u001b[1;32m    339\u001b[0m \u001b[38;5;28;01melse\u001b[39;00m:\n\u001b[1;32m    340\u001b[0m     \u001b[38;5;28;01mif\u001b[39;00m \u001b[38;5;129;01mnot\u001b[39;00m \u001b[38;5;28misinstance\u001b[39m(s, (\u001b[38;5;28mbytes\u001b[39m, \u001b[38;5;28mbytearray\u001b[39m)):\n\u001b[0;32m--> 341\u001b[0m         \u001b[38;5;28;01mraise\u001b[39;00m \u001b[38;5;167;01mTypeError\u001b[39;00m(\u001b[38;5;124mf\u001b[39m\u001b[38;5;124m'\u001b[39m\u001b[38;5;124mthe JSON object must be str, bytes or bytearray, \u001b[39m\u001b[38;5;124m'\u001b[39m\n\u001b[1;32m    342\u001b[0m                         \u001b[38;5;124mf\u001b[39m\u001b[38;5;124m'\u001b[39m\u001b[38;5;124mnot \u001b[39m\u001b[38;5;132;01m{\u001b[39;00ms\u001b[38;5;241m.\u001b[39m\u001b[38;5;18m__class__\u001b[39m\u001b[38;5;241m.\u001b[39m\u001b[38;5;18m__name__\u001b[39m\u001b[38;5;132;01m}\u001b[39;00m\u001b[38;5;124m'\u001b[39m)\n\u001b[1;32m    343\u001b[0m     s \u001b[38;5;241m=\u001b[39m s\u001b[38;5;241m.\u001b[39mdecode(detect_encoding(s), \u001b[38;5;124m'\u001b[39m\u001b[38;5;124msurrogatepass\u001b[39m\u001b[38;5;124m'\u001b[39m)\n\u001b[1;32m    345\u001b[0m \u001b[38;5;28;01mif\u001b[39;00m \u001b[38;5;124m\"\u001b[39m\u001b[38;5;124mencoding\u001b[39m\u001b[38;5;124m\"\u001b[39m \u001b[38;5;129;01min\u001b[39;00m kw:\n",
      "\u001b[0;31mTypeError\u001b[0m: the JSON object must be str, bytes or bytearray, not NoneType"
     ]
    }
   ],
   "source": [
    "import sys\n",
    "import mariadb\n",
    "import time\n",
    "import hashlib\n",
    "import json\n",
    "from datetime import datetime as datingdays\n",
    "\n",
    "local_lib_dir = '../../../python/lib/'\n",
    "sys.path.append(local_lib_dir)\n",
    "from kitchen_sink_class import Query\n",
    "from kitchen_sink_class import load_single_line_from_file as load_it\n",
    "q = Query()\n",
    "\n",
    "pwd = load_it('./db.pwd')\n",
    "mydb = mariadb.connect(\n",
    "    port=3306,\n",
    "    host='127.0.0.1',\n",
    "    user='w3hacknet',\n",
    "    password=pwd,\n",
    "    database='w3hacknet',\n",
    "    autocommit=True\n",
    ")\n",
    "cursor = mydb.cursor()\n",
    "commit_set = None\n",
    "running = True\n",
    "call_count = 0\n",
    "alias_count = 0\n",
    "fail_count = 0\n",
    "try_counters = [0, 0, 0]\n",
    "\n",
    "while running:\n",
    "#    print(datingdays.now().isoformat(), 'calling ReserveNextUnresolvableAlias')\n",
    "    cursor.callproc('ReserveNextUnresolvedAlias', ('krunch', None))\n",
    "    if cursor.sp_outparams:\n",
    "#        print(datingdays.now().isoformat(), 'returned from ReserveNextUnresolvableAlias')\n",
    "        alias_count += 1\n",
    "        result_set = cursor.fetchone()\n",
    "        if result_set is not None and len(result_set) > 0:\n",
    "            commit_set = json.loads(result_set[0])\n",
    "            idx = 0\n",
    "            alias_id = -1\n",
    "            alias_not_found = True\n",
    "            for n in commit_set:\n",
    "                #Need to load the commit_id->owner/name pair map\n",
    "                #Originally this was loaded first as start of a much larger process\n",
    "                q.add_commit_id(n['commit_id'], n['owner'], n['name'])\n",
    "                alias_id = n['alias_id']\n",
    "            while alias_not_found and idx < len(commit_set):\n",
    "                commit_id = commit_set[idx]['commit_id']\n",
    "                call_count += 1\n",
    "                if call_count % 10 == 0:\n",
    "                    print(datingdays.now().isoformat(),'Aliases Processed',alias_count,',Call Count',call_count,',Unresolvable Count',fail_count, try_counters)\n",
    "\n",
    "    #            print(datingdays.now().isoformat(), 'calling retrieve_commit')\n",
    "\n",
    "                resp = q.retrieve_commit(commit_id)\n",
    "\n",
    "    #            print(datingdays.now().isoformat(), 'returned from retrieve_commit')\n",
    "\n",
    "                if (resp != None):\n",
    "                    j = resp.json()\n",
    "                    commit_details_block = j['author']\n",
    "                    if commit_details_block is not None and 'login' in commit_details_block.keys():                \n",
    "                        committer = commit_details_block['login']\n",
    "\n",
    "    #                    print(datingdays.now().isoformat(), 'calling ResolveAliasViaPrimaryKey')\n",
    "                        cursor.callproc('ResolveAliasViaPrimaryKey', (alias_id, committer))\n",
    "    #                    print(datingdays.now().isoformat(), 'returned from ResolveAliasViaPrimaryKey')\n",
    "\n",
    "                        try_counters[idx] += 1\n",
    "                        alias_not_found = False\n",
    "                idx += 1\n",
    "        if alias_not_found:\n",
    "            fail_count += 1\n",
    "            cursor.callproc('ResolveAliasViaPrimaryKey', (alias_id, '<UNABLE_TO_RESOLVE>'))\n",
    "            print('Unable to resolve', alias_id)\n",
    "    else:\n",
    "        running = False\n",
    "        print('Ran out of aliases')\n",
    "\n",
    "print('done!')\n",
    "#raise Exception('Do not continue!')"
   ]
  },
  {
   "cell_type": "code",
   "execution_count": null,
   "id": "b2a9a9e4-8bfd-4c9c-9d0a-8019719cafc3",
   "metadata": {},
   "outputs": [],
   "source": []
  }
 ],
 "metadata": {
  "kernelspec": {
   "display_name": "Python 3 (ipykernel)",
   "language": "python",
   "name": "python3"
  },
  "language_info": {
   "codemirror_mode": {
    "name": "ipython",
    "version": 3
   },
   "file_extension": ".py",
   "mimetype": "text/x-python",
   "name": "python",
   "nbconvert_exporter": "python",
   "pygments_lexer": "ipython3",
   "version": "3.8.10"
  }
 },
 "nbformat": 4,
 "nbformat_minor": 5
}
