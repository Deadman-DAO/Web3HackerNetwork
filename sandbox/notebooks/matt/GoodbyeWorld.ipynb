{
 "cells": [
  {
   "cell_type": "code",
   "execution_count": 1,
   "id": "66d3d3ad-9abe-466e-a7c6-2c9abf66b41f",
   "metadata": {},
   "outputs": [
    {
     "name": "stdout",
     "output_type": "stream",
     "text": [
      "Hi there!\n"
     ]
    }
   ],
   "source": [
    "print(\"Hi there!\");"
   ]
  },
  {
   "cell_type": "code",
   "execution_count": 14,
   "id": "4bce7923-fe4e-4b2d-b4f2-681f96da1f0e",
   "metadata": {},
   "outputs": [
    {
     "name": "stdout",
     "output_type": "stream",
     "text": [
      "Days of our lives\n",
      "\n",
      "Monday\n",
      "Tuesday\n",
      "Wednesday\n",
      "Thursday\n",
      "Friday\n",
      "Saturday\n",
      "Sunday\n",
      "\n"
     ]
    }
   ],
   "source": [
    "title = 'Days of our lives\\n'\n",
    "root = '/home/matt/Projects/Web3HackerNetwork/data/samples'\n",
    "file = 'days.txt'\n",
    "path = root+'/'+file;\n",
    "days_file = open(path, 'r')\n",
    "days = days_file.read();\n",
    "new_path = root+'/new_days.txt'\n",
    "new_days = open(new_path, 'w')\n",
    "new_days.write(title)\n",
    "new_days.write(days)\n",
    "print(title)\n",
    "print(days)\n",
    "days_file.close();\n",
    "new_days.close();\n"
   ]
  },
  {
   "cell_type": "code",
   "execution_count": 19,
   "id": "60d37687-4c6a-4340-b7b3-e4c132a42e73",
   "metadata": {},
   "outputs": [
    {
     "data": {
      "text/plain": [
       "TestResults(failed=0, attempted=1)"
      ]
     },
     "execution_count": 19,
     "metadata": {},
     "output_type": "execute_result"
    }
   ],
   "source": [
    "import doctest\n",
    "def add(a, b):\n",
    "    \"\"\"\n",
    "    Given two integers, return the sum.\n",
    "\n",
    "    :param a: int\n",
    "    :param b: int\n",
    "    :return: int\n",
    "\n",
    "    >>> add(2, 3)\n",
    "    5\n",
    "    \"\"\"\n",
    "    return a + b\n",
    "doctest.testmod()"
   ]
  },
  {
   "cell_type": "code",
   "execution_count": 16,
   "id": "a70d8cd0-2941-4681-8461-326b5ebacede",
   "metadata": {},
   "outputs": [
    {
     "data": {
      "text/plain": [
       "3"
      ]
     },
     "execution_count": 16,
     "metadata": {},
     "output_type": "execute_result"
    }
   ],
   "source": [
    "add(1,2)"
   ]
  },
  {
   "cell_type": "code",
   "execution_count": 17,
   "id": "00f6c38e-b2d6-4801-82f5-59b1f0c70aa6",
   "metadata": {},
   "outputs": [
    {
     "name": "stdout",
     "output_type": "stream",
     "text": [
      "/home/matt/Projects/Web3HackerNetwork/data/samples/days.txt\n"
     ]
    }
   ],
   "source": [
    "print(path)"
   ]
  },
  {
   "cell_type": "code",
   "execution_count": 20,
   "id": "343e4fe0-5696-479a-b648-0f02f2561e88",
   "metadata": {},
   "outputs": [
    {
     "name": "stdout",
     "output_type": "stream",
     "text": [
      "**********************************************************************\n",
      "File \"__main__\", line 12, in __main__.add\n",
      "Failed example:\n",
      "    add(2, 3)\n",
      "Expected:\n",
      "    5\n",
      "Got:\n",
      "    6\n",
      "**********************************************************************\n",
      "1 items had failures:\n",
      "   1 of   2 in __main__.add\n",
      "***Test Failed*** 1 failures.\n"
     ]
    },
    {
     "data": {
      "text/plain": [
       "TestResults(failed=1, attempted=2)"
      ]
     },
     "execution_count": 20,
     "metadata": {},
     "output_type": "execute_result"
    }
   ],
   "source": [
    "import doctest\n",
    "\n",
    "\n",
    "def add(a, b):\n",
    "    \"\"\"\n",
    "    Given two integers, return the sum.\n",
    "\n",
    "    :param a: int\n",
    "    :param b: int\n",
    "    :return: int\n",
    "\n",
    "    >>> add(2, 3)\n",
    "    5\n",
    "    >>> add(0, 0)\n",
    "    0\n",
    "    \"\"\"\n",
    "    return a * b\n",
    "\n",
    "doctest.testmod()"
   ]
  },
  {
   "cell_type": "code",
   "execution_count": 21,
   "id": "9eee2524-10e3-4747-bfa9-782e97ee9de9",
   "metadata": {},
   "outputs": [
    {
     "name": "stdout",
     "output_type": "stream",
     "text": [
      "**********************************************************************\n",
      "File \"__main__\", line 12, in __main__.add\n",
      "Failed example:\n",
      "    add(2, 3)\n",
      "Expected:\n",
      "    5\n",
      "Got:\n",
      "    6\n",
      "**********************************************************************\n",
      "1 items had failures:\n",
      "   1 of   2 in __main__.add\n",
      "***Test Failed*** 1 failures.\n"
     ]
    }
   ],
   "source": [
    "def count_vowels(word):\n",
    "    \"\"\"\n",
    "    Given a single word, return the total number of vowels in that single word.\n",
    "\n",
    "    :param word: str\n",
    "    :return: int\n",
    "\n",
    "    >>> count_vowels('Cusco')\n",
    "    2\n",
    "\n",
    "    >>> count_vowels('Manila')\n",
    "    3\n",
    "    \"\"\"\n",
    "    total_vowels = 0\n",
    "    for letter in word:\n",
    "        if letter in 'aeiou':\n",
    "            total_vowels += 1\n",
    "    return total_vowels\n",
    "\n",
    "if __name__ == \"__main__\":\n",
    "    import doctest\n",
    "    doctest.testmod()"
   ]
  },
  {
   "cell_type": "code",
   "execution_count": null,
   "id": "05435981-b716-4837-9237-20c768b1caf7",
   "metadata": {},
   "outputs": [],
   "source": []
  },
  {
   "cell_type": "code",
   "execution_count": 22,
   "id": "787f6267-0780-4499-95df-9fc28bb513b9",
   "metadata": {},
   "outputs": [
    {
     "name": "stdout",
     "output_type": "stream",
     "text": [
      "/home/matt/Projects/Web3HackerNetwork/data/samples/days.txt\n"
     ]
    }
   ],
   "source": [
    "import os\n",
    "print(path)"
   ]
  },
  {
   "cell_type": "code",
   "execution_count": 37,
   "id": "cdd11423-1945-47ad-a832-875d0220858c",
   "metadata": {},
   "outputs": [
    {
     "name": "stdout",
     "output_type": "stream",
     "text": [
      "/home/matt/Projects/Web3HackerNetwork/data/github/2022-04-07-marine-search\n",
      "Processing projects\n",
      "Root=/home/matt/Projects/Web3HackerNetwork/data/github/2022-04-07-marine-search/projects File=project_paths.txt\n",
      "Processing commit-logs\n",
      "Root=/home/matt/Projects/Web3HackerNetwork/data/github/2022-04-07-marine-search/commit-logs File=aquanftwallet.txt\n",
      "Root=/home/matt/Projects/Web3HackerNetwork/data/github/2022-04-07-marine-search/commit-logs File=aqua-ipfs.txt\n",
      "Root=/home/matt/Projects/Web3HackerNetwork/data/github/2022-04-07-marine-search/commit-logs File=fluence.txt\n",
      "Root=/home/matt/Projects/Web3HackerNetwork/data/github/2022-04-07-marine-search/commit-logs File=fluencelabs-examples.txt\n",
      "Root=/home/matt/Projects/Web3HackerNetwork/data/github/2022-04-07-marine-search/commit-logs File=flullet.txt\n",
      "Root=/home/matt/Projects/Web3HackerNetwork/data/github/2022-04-07-marine-search/commit-logs File=gitbook-docs.txt\n",
      "Root=/home/matt/Projects/Web3HackerNetwork/data/github/2022-04-07-marine-search/commit-logs File=is-unique.txt\n",
      "Root=/home/matt/Projects/Web3HackerNetwork/data/github/2022-04-07-marine-search/commit-logs File=trust-graph.txt\n",
      "Root=/home/matt/Projects/Web3HackerNetwork/data/github/2022-04-07-marine-search/commit-logs File=fluence-template.txt\n",
      "Root=/home/matt/Projects/Web3HackerNetwork/data/github/2022-04-07-marine-search/commit-logs File=hackfs-fragment.txt\n",
      "Root=/home/matt/Projects/Web3HackerNetwork/data/github/2022-04-07-marine-search/commit-logs File=marine.txt\n",
      "Root=/home/matt/Projects/Web3HackerNetwork/data/github/2022-04-07-marine-search/commit-logs File=dxpriceaggregator.txt\n",
      "Root=/home/matt/Projects/Web3HackerNetwork/data/github/2022-04-07-marine-search/commit-logs File=fluence-service-template.txt\n",
      "Root=/home/matt/Projects/Web3HackerNetwork/data/github/2022-04-07-marine-search/commit-logs File=public-record-dao-services.txt\n",
      "Root=/home/matt/Projects/Web3HackerNetwork/data/github/2022-04-07-marine-search/commit-logs File=hackFS-nifti.txt\n",
      "Root=/home/matt/Projects/Web3HackerNetwork/data/github/2022-04-07-marine-search/commit-logs File=checkoutfs.txt\n",
      "Root=/home/matt/Projects/Web3HackerNetwork/data/github/2022-04-07-marine-search/commit-logs File=SelfId-Auth-Fluence.txt\n",
      "Root=/home/matt/Projects/Web3HackerNetwork/data/github/2022-04-07-marine-search/commit-logs File=registry.txt\n",
      "Root=/home/matt/Projects/Web3HackerNetwork/data/github/2022-04-07-marine-search/commit-logs File=trust-graph-test.txt\n",
      "Root=/home/matt/Projects/Web3HackerNetwork/data/github/2022-04-07-marine-search/commit-logs File=examples.txt\n",
      "Root=/home/matt/Projects/Web3HackerNetwork/data/github/2022-04-07-marine-search/commit-logs File=gitcoin11-fluence.txt\n",
      "Root=/home/matt/Projects/Web3HackerNetwork/data/github/2022-04-07-marine-search/commit-logs File=SharedDoc.txt\n",
      "Root=/home/matt/Projects/Web3HackerNetwork/data/github/2022-04-07-marine-search/commit-logs File=Fluence-NFT-Wallet.txt\n",
      "Root=/home/matt/Projects/Web3HackerNetwork/data/github/2022-04-07-marine-search/commit-logs File=aquavm.txt\n",
      "Root=/home/matt/Projects/Web3HackerNetwork/data/github/2022-04-07-marine-search/commit-logs File=fluence-playground-server.txt\n",
      "Root=/home/matt/Projects/Web3HackerNetwork/data/github/2022-04-07-marine-search/commit-logs File=fluence-char-count.txt\n",
      "Root=/home/matt/Projects/Web3HackerNetwork/data/github/2022-04-07-marine-search/commit-logs File=Poliwallet.txt\n",
      "Root=/home/matt/Projects/Web3HackerNetwork/data/github/2022-04-07-marine-search/commit-logs File=identity-link-api-aqua.txt\n",
      "Root=/home/matt/Projects/Web3HackerNetwork/data/github/2022-04-07-marine-search/commit-logs File=hackfs21.txt\n",
      "Root=/home/matt/Projects/Web3HackerNetwork/data/github/2022-04-07-marine-search/commit-logs File=FluenceBounty.txt\n",
      "Root=/home/matt/Projects/Web3HackerNetwork/data/github/2022-04-07-marine-search/commit-logs File=Fluence-Service.txt\n",
      "Root=/home/matt/Projects/Web3HackerNetwork/data/github/2022-04-07-marine-search/commit-logs File=fluence-quickstart-bounty.txt\n",
      "Root=/home/matt/Projects/Web3HackerNetwork/data/github/2022-04-07-marine-search/commit-logs File=lastfluence.txt\n",
      "Root=/home/matt/Projects/Web3HackerNetwork/data/github/2022-04-07-marine-search/commit-logs File=BazaarEx.txt\n",
      "Root=/home/matt/Projects/Web3HackerNetwork/data/github/2022-04-07-marine-search/commit-logs File=new2web3.txt\n",
      "Root=/home/matt/Projects/Web3HackerNetwork/data/github/2022-04-07-marine-search/commit-logs File=hackathon_wallet.txt\n",
      "Root=/home/matt/Projects/Web3HackerNetwork/data/github/2022-04-07-marine-search/commit-logs File=OpenPond.txt\n",
      "Root=/home/matt/Projects/Web3HackerNetwork/data/github/2022-04-07-marine-search/commit-logs File=eip712-validation-node.txt\n",
      "Root=/home/matt/Projects/Web3HackerNetwork/data/github/2022-04-07-marine-search/commit-logs File=marine-rs-sdk.txt\n",
      "/home/matt/Projects/Web3HackerNetwork/data/github/2022-04-07-marine-search/projects\n",
      "/home/matt/Projects/Web3HackerNetwork/data/github/2022-04-07-marine-search/commit-logs\n"
     ]
    }
   ],
   "source": [
    "start='/home/matt/Projects/Web3HackerNetwork/data/github/2022-04-07-marine-search';\n",
    "for root, dirs, files in os.walk(start):\n",
    "    print(root);\n",
    "    for dirname in dirs:\n",
    "        print('Processing '+dirname);\n",
    "        for r2, d2, f2 in os.walk(root+'/'+dirname):\n",
    "            for dataFileName in f2:\n",
    "                print('Root='+r2+' File='+dataFileName);"
   ]
  },
  {
   "cell_type": "code",
   "execution_count": null,
   "id": "004abaac-c9d9-44f1-b2f5-7c7e99700999",
   "metadata": {},
   "outputs": [],
   "source": [
    "def addFiles(fileList, directory)\n",
    "   for root, dirs, files in directory"
   ]
  },
  {
   "cell_type": "code",
   "execution_count": null,
   "id": "85757636-4d03-4314-828d-7307a4fb17a9",
   "metadata": {},
   "outputs": [],
   "source": []
  }
 ],
 "metadata": {
  "kernelspec": {
   "display_name": "Python 3 (ipykernel)",
   "language": "python",
   "name": "python3"
  },
  "language_info": {
   "codemirror_mode": {
    "name": "ipython",
    "version": 3
   },
   "file_extension": ".py",
   "mimetype": "text/x-python",
   "name": "python",
   "nbconvert_exporter": "python",
   "pygments_lexer": "ipython3",
   "version": "3.8.10"
  }
 },
 "nbformat": 4,
 "nbformat_minor": 5
}
