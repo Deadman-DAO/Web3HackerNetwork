{
 "cells": [
  {
   "cell_type": "code",
   "execution_count": 1,
   "id": "66d3d3ad-9abe-466e-a7c6-2c9abf66b41f",
   "metadata": {},
   "outputs": [
    {
     "name": "stdout",
     "output_type": "stream",
     "text": [
      "Hi there!\n"
     ]
    }
   ],
   "source": [
    "print(\"Hi there!\");"
   ]
  },
  {
   "cell_type": "code",
   "execution_count": 2,
   "id": "4bce7923-fe4e-4b2d-b4f2-681f96da1f0e",
   "metadata": {},
   "outputs": [
    {
     "name": "stdout",
     "output_type": "stream",
     "text": [
      "Days of our lives\n",
      "\n",
      "Monday\n",
      "Tuesday\n",
      "Wednesday\n",
      "Thursday\n",
      "Friday\n",
      "Saturday\n",
      "Sunday\n",
      "\n"
     ]
    }
   ],
   "source": [
    "title = 'Days of our lives\\n'\n",
    "root = '/home/matt/Projects/Web3HackerNetwork/data/samples'\n",
    "file = 'days.txt'\n",
    "path = root+'/'+file;\n",
    "days_file = open(path, 'r')\n",
    "days = days_file.read();\n",
    "new_path = root+'/new_days.txt'\n",
    "new_days = open(new_path, 'w')\n",
    "new_days.write(title)\n",
    "new_days.write(days)\n",
    "print(title)\n",
    "print(days)\n",
    "days_file.close();\n",
    "new_days.close();\n"
   ]
  },
  {
   "cell_type": "code",
   "execution_count": 3,
   "id": "60d37687-4c6a-4340-b7b3-e4c132a42e73",
   "metadata": {},
   "outputs": [
    {
     "data": {
      "text/plain": [
       "TestResults(failed=0, attempted=1)"
      ]
     },
     "execution_count": 3,
     "metadata": {},
     "output_type": "execute_result"
    }
   ],
   "source": [
    "import doctest\n",
    "def add(a, b):\n",
    "    \"\"\"\n",
    "    Given two integers, return the sum.\n",
    "\n",
    "    :param a: int\n",
    "    :param b: int\n",
    "    :return: int\n",
    "\n",
    "    >>> add(2, 3)\n",
    "    5\n",
    "    \"\"\"\n",
    "    return a + b\n",
    "doctest.testmod()"
   ]
  },
  {
   "cell_type": "code",
   "execution_count": 4,
   "id": "a70d8cd0-2941-4681-8461-326b5ebacede",
   "metadata": {},
   "outputs": [
    {
     "data": {
      "text/plain": [
       "3"
      ]
     },
     "execution_count": 4,
     "metadata": {},
     "output_type": "execute_result"
    }
   ],
   "source": [
    "add(1,2)"
   ]
  },
  {
   "cell_type": "code",
   "execution_count": 5,
   "id": "00f6c38e-b2d6-4801-82f5-59b1f0c70aa6",
   "metadata": {},
   "outputs": [
    {
     "name": "stdout",
     "output_type": "stream",
     "text": [
      "True\n"
     ]
    }
   ],
   "source": [
    "import os\n",
    "print(os.path.isdir('.'))"
   ]
  },
  {
   "cell_type": "code",
   "execution_count": 6,
   "id": "343e4fe0-5696-479a-b648-0f02f2561e88",
   "metadata": {},
   "outputs": [
    {
     "name": "stdout",
     "output_type": "stream",
     "text": [
      "**********************************************************************\n",
      "File \"__main__\", line 12, in __main__.add\n",
      "Failed example:\n",
      "    add(2, 3)\n",
      "Expected:\n",
      "    5\n",
      "Got:\n",
      "    6\n",
      "**********************************************************************\n",
      "1 items had failures:\n",
      "   1 of   2 in __main__.add\n",
      "***Test Failed*** 1 failures.\n"
     ]
    },
    {
     "data": {
      "text/plain": [
       "TestResults(failed=1, attempted=2)"
      ]
     },
     "execution_count": 6,
     "metadata": {},
     "output_type": "execute_result"
    }
   ],
   "source": [
    "import doctest\n",
    "\n",
    "\n",
    "def add(a, b):\n",
    "    \"\"\"\n",
    "    Given two integers, return the sum.\n",
    "\n",
    "    :param a: int\n",
    "    :param b: int\n",
    "    :return: int\n",
    "\n",
    "    >>> add(2, 3)\n",
    "    5\n",
    "    >>> add(0, 0)\n",
    "    0\n",
    "    \"\"\"\n",
    "    return a * b\n",
    "\n",
    "doctest.testmod()"
   ]
  },
  {
   "cell_type": "code",
   "execution_count": 7,
   "id": "9eee2524-10e3-4747-bfa9-782e97ee9de9",
   "metadata": {},
   "outputs": [
    {
     "name": "stdout",
     "output_type": "stream",
     "text": [
      "**********************************************************************\n",
      "File \"__main__\", line 12, in __main__.add\n",
      "Failed example:\n",
      "    add(2, 3)\n",
      "Expected:\n",
      "    5\n",
      "Got:\n",
      "    6\n",
      "**********************************************************************\n",
      "1 items had failures:\n",
      "   1 of   2 in __main__.add\n",
      "***Test Failed*** 1 failures.\n"
     ]
    }
   ],
   "source": [
    "def count_vowels(word):\n",
    "    \"\"\"\n",
    "    Given a single word, return the total number of vowels in that single word.\n",
    "\n",
    "    :param word: str\n",
    "    :return: int\n",
    "\n",
    "    >>> count_vowels('Cusco')\n",
    "    2\n",
    "\n",
    "    >>> count_vowels('Manila')\n",
    "    3\n",
    "    \"\"\"\n",
    "    total_vowels = 0\n",
    "    for letter in word:\n",
    "        if letter in 'aeiou':\n",
    "            total_vowels += 1\n",
    "    return total_vowels\n",
    "\n",
    "if __name__ == \"__main__\":\n",
    "    import doctest\n",
    "    doctest.testmod()"
   ]
  },
  {
   "cell_type": "code",
   "execution_count": null,
   "id": "05435981-b716-4837-9237-20c768b1caf7",
   "metadata": {},
   "outputs": [],
   "source": []
  },
  {
   "cell_type": "code",
   "execution_count": 8,
   "id": "787f6267-0780-4499-95df-9fc28bb513b9",
   "metadata": {},
   "outputs": [
    {
     "name": "stdout",
     "output_type": "stream",
     "text": [
      "/home/matt/Projects/Web3HackerNetwork/data/samples/days.txt\n"
     ]
    }
   ],
   "source": [
    "import os\n",
    "print(path)"
   ]
  },
  {
   "cell_type": "code",
   "execution_count": 9,
   "id": "38fa7f37-c793-4d29-8692-40f9d1e33ef9",
   "metadata": {},
   "outputs": [
    {
     "name": "stdout",
     "output_type": "stream",
     "text": [
      "anyio==3.5.0\n",
      "apturl==0.5.2\n",
      "argon2-cffi==21.3.0\n",
      "argon2-cffi-bindings==21.2.0\n",
      "asttokens==2.0.5\n",
      "attrs==21.4.0\n",
      "Babel==2.9.1\n",
      "backcall==0.2.0\n",
      "beautifulsoup4==4.11.0\n",
      "bleach==5.0.0\n",
      "blinker==1.4\n",
      "bottle==0.12.19\n",
      "Brlapi==0.7.0\n",
      "certifi==2019.11.28\n",
      "cffi==1.15.0\n",
      "chardet==3.0.4\n",
      "charset-normalizer==2.0.12\n",
      "Click==7.0\n",
      "colorama==0.4.3\n",
      "command-not-found==0.3\n",
      "conan==1.46.2\n",
      "cryptography==36.0.2\n",
      "cupshelpers==1.0\n",
      "cycler==0.11.0\n",
      "dbus-python==1.2.16\n",
      "debugpy==1.6.0\n",
      "decorator==5.1.1\n",
      "defer==1.0.6\n",
      "defusedxml==0.7.1\n",
      "Deprecated==1.2.13\n",
      "distro==1.4.0\n",
      "distro-info===0.23ubuntu1\n",
      "dnspython==1.16.0\n",
      "entrypoints==0.3\n",
      "executing==0.8.3\n",
      "fasteners==0.17.3\n",
      "fastjsonschema==2.15.3\n",
      "fonttools==4.32.0\n",
      "gitdb==4.0.9\n",
      "github3.py==3.2.0\n",
      "GitPython==3.1.27\n",
      "glad==0.1.30\n",
      "gpg===1.13.1-unknown\n",
      "graphviz==0.19.1\n",
      "httplib2==0.14.0\n",
      "idna==2.8\n",
      "importlib-resources==5.6.0\n",
      "ipykernel==6.12.1\n",
      "ipython==8.2.0\n",
      "ipython-genutils==0.2.0\n",
      "jedi==0.18.1\n",
      "Jinja2==3.0.3\n",
      "joblib==1.1.0\n",
      "json5==0.9.6\n",
      "jsonschema==4.4.0\n",
      "jupyter-client==7.2.2\n",
      "jupyter-core==4.9.2\n",
      "jupyter-server==1.16.0\n",
      "jupyter-server-mathjax==0.2.5\n",
      "jupyterlab==3.3.3\n",
      "jupyterlab-git==0.36.0\n",
      "jupyterlab-pygments==0.2.0\n",
      "jupyterlab-server==2.12.0\n",
      "keyring==18.0.1\n",
      "kiwisolver==1.4.2\n",
      "language-selector==0.1\n",
      "launchpadlib==1.10.13\n",
      "lazr.restfulclient==0.14.2\n",
      "lazr.uri==1.0.3\n",
      "louis==3.12.0\n",
      "macaroonbakery==1.3.1\n",
      "Markdown==3.1.1\n",
      "MarkupSafe==2.1.1\n",
      "matplotlib==3.5.1\n",
      "matplotlib-inline==0.1.3\n",
      "mistune==0.8.4\n",
      "nbclassic==0.3.7\n",
      "nbclient==0.5.13\n",
      "nbconvert==6.4.5\n",
      "nbdime==3.1.1\n",
      "nbformat==5.3.0\n",
      "nest-asyncio==1.5.5\n",
      "netifaces==0.10.4\n",
      "node-semver==0.6.1\n",
      "notebook==6.4.10\n",
      "notebook-shim==0.1.0\n",
      "numpy==1.22.3\n",
      "oauthlib==3.1.0\n",
      "olefile==0.46\n",
      "packaging==20.3\n",
      "panda==0.3.1\n",
      "pandas==1.4.2\n",
      "pandocfilters==1.5.0\n",
      "parso==0.8.3\n",
      "patch-ng==1.17.4\n",
      "pexpect==4.6.0\n",
      "pickleshare==0.7.5\n",
      "Pillow==7.0.0\n",
      "pluginbase==1.0.1\n",
      "prometheus-client==0.14.1\n",
      "prompt-toolkit==3.0.29\n",
      "protobuf==3.6.1\n",
      "psutil==5.9.0\n",
      "ptyprocess==0.7.0\n",
      "pure-eval==0.2.2\n",
      "pycairo==1.16.2\n",
      "pycparser==2.21\n",
      "pycrypto==2.6.1\n",
      "pycups==1.9.73\n",
      "PyGithub==1.55\n",
      "Pygments==2.11.2\n",
      "PyGObject==3.36.0\n",
      "PyJWT==2.3.0\n",
      "pymacaroons==0.13.0\n",
      "PyNaCl==1.5.0\n",
      "pyparsing==2.4.6\n",
      "pyRFC3339==1.1\n",
      "pyrsistent==0.18.1\n",
      "python-apt==2.0.0+ubuntu0.20.4.7\n",
      "python-dateutil==2.8.2\n",
      "python-debian===0.1.36ubuntu1\n",
      "pytz==2022.1\n",
      "pyxdg==0.26\n",
      "PyYAML==5.3.1\n",
      "pyzmq==22.3.0\n",
      "reportlab==3.5.34\n",
      "requests==2.27.1\n",
      "requests-unixsocket==0.2.0\n",
      "scikit-learn==1.0.2\n",
      "scipy==1.8.0\n",
      "screen-resolution-extra==0.0.0\n",
      "seaborn==0.11.2\n",
      "SecretStorage==2.3.1\n",
      "Send2Trash==1.8.0\n",
      "simplejson==3.16.0\n",
      "six==1.14.0\n",
      "smmap==5.0.0\n",
      "sniffio==1.2.0\n",
      "soupsieve==2.3.2\n",
      "ssh-import-id==5.10\n",
      "stack-data==0.2.0\n",
      "systemd-python==234\n",
      "terminado==0.13.3\n",
      "testpath==0.6.0\n",
      "threadpoolctl==3.1.0\n",
      "tornado==6.1\n",
      "tqdm==4.63.0\n",
      "traitlets==5.1.1\n",
      "ubuntu-advantage-tools==27.7\n",
      "ubuntu-drivers-common==0.0.0\n",
      "ufw==0.36\n",
      "unattended-upgrades==0.1\n",
      "uritemplate==4.1.1\n",
      "urllib3==1.26.9\n",
      "viola==0.3.8\n",
      "wadllib==1.3.3\n",
      "wcwidth==0.2.5\n",
      "webencodings==0.5.1\n",
      "websocket-client==1.3.2\n",
      "wrapt==1.14.0\n",
      "xkit==0.0.0\n",
      "zipp==3.8.0\n"
     ]
    }
   ],
   "source": [
    "!pip freeze"
   ]
  },
  {
   "cell_type": "code",
   "execution_count": null,
   "id": "f0d4360f-a2eb-4e85-b07e-8b931830ac51",
   "metadata": {},
   "outputs": [],
   "source": []
  }
 ],
 "metadata": {
  "kernelspec": {
   "display_name": "Python 3 (ipykernel)",
   "language": "python",
   "name": "python3"
  },
  "language_info": {
   "codemirror_mode": {
    "name": "ipython",
    "version": 3
   },
   "file_extension": ".py",
   "mimetype": "text/x-python",
   "name": "python",
   "nbconvert_exporter": "python",
   "pygments_lexer": "ipython3",
   "version": "3.8.10"
  }
 },
 "nbformat": 4,
 "nbformat_minor": 5
}
