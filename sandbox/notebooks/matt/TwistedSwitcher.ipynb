{
 "cells": [
  {
   "cell_type": "code",
   "execution_count": null,
   "metadata": {
    "collapsed": true,
    "pycharm": {
     "name": "#%%\n"
    }
   },
   "outputs": [],
   "source": [
    "import pandas as pd\n",
    "import os\n",
    "\n",
    "\"\"\"\n",
    "Stupid attempt to map class types to functions\n",
    "DID NOT WORK\n",
    "Without any explanation the type('stingy thingy') doesn't seem to EQUAL (at least on a hash level)\n",
    "    moby_dict[str, do_stringy_thingy_method.\n",
    "It seemed like a cool idea, to be able to look up the right handler function in a map and call it.\n",
    "Finally defeated it by forcing the types into the dict. Apparently these types are either private or out of scope (e.g. C lib) and cannot be referenced until they suddenly appear at runtime.\n",
    "\"\"\"\n",
    "\n",
    "\n",
    "def iter_list(obj, directory):\n",
    "    for n in obj:\n",
    "        recurseword(n, directory)\n",
    "\n",
    "\n",
    "def iter_vals(dic,  directory):\n",
    "    for n in dic.values():\n",
    "        recurseword(n, directory)\n",
    "\n",
    "\n",
    "def unknown_type(thing,  directory):\n",
    "    print('Unknown!')\n",
    "    if hasattr(thing, '__iter__'):\n",
    "        iter_list(thing, directory)\n",
    "    else:\n",
    "        print(\"I don't know what to do with this:\", thing, dir(thing), type(thing))\n",
    "\n",
    "\n",
    "file_map = {}\n",
    "\n",
    "\n",
    "def process_dir_entry(dir_entry, directory):\n",
    "    if dir_entry.is_dir():\n",
    "        #        print('Directory:', dir_entry.name, dir_entry.path, type(dir_entry))\n",
    "        recurseword(os.scandir(dir_entry), directory+dir_entry.name+'/')\n",
    "    else:\n",
    "        if dir_entry.name not in file_map:\n",
    "            file_map[dir_entry.name] = 0\n",
    "        file_map[dir_entry.name] += 1\n",
    "\n",
    "\n",
    "twist = {\n",
    "    type([]): iter_list,\n",
    "    type(()): iter_list,\n",
    "    type({}): iter_vals\n",
    "}\n",
    "\n",
    "\n",
    "def recurseword(thingy, directory):\n",
    "    twist.get(type(thingy), unknown_type)(thingy, directory)\n",
    "\n",
    "\n",
    "scandir_iter = os.scandir('../../../active')\n",
    "dir_entry = next(scandir_iter)\n",
    "twist[type(scandir_iter)] = iter_list\n",
    "twist[type(dir_entry)] = process_dir_entry\n",
    "\n",
    "recurseword(scandir_iter, './')\n",
    "new_set = {}\n",
    "for k, v in file_map.items():\n",
    "    if v > 10:\n",
    "        new_set[k] = v\n",
    "print(len(file_map.keys()))\n",
    "print(len(new_set.keys()))\n",
    "pd.DataFrame(new_set, new_set.values())"
   ]
  }
 ],
 "metadata": {
  "kernelspec": {
   "display_name": "Python 3",
   "language": "python",
   "name": "python3"
  },
  "language_info": {
   "codemirror_mode": {
    "name": "ipython",
    "version": 2
   },
   "file_extension": ".py",
   "mimetype": "text/x-python",
   "name": "python",
   "nbconvert_exporter": "python",
   "pygments_lexer": "ipython2",
   "version": "2.7.6"
  }
 },
 "nbformat": 4,
 "nbformat_minor": 0
}