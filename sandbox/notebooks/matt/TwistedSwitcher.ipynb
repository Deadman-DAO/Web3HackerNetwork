{
 "cells": [
  {
   "cell_type": "code",
   "execution_count": 1,
   "metadata": {
    "collapsed": true,
    "pycharm": {
     "name": "#%%\n"
    }
   },
   "outputs": [
    {
     "name": "stdout",
     "output_type": "stream",
     "text": [
      "19207\n",
      "79\n"
     ]
    },
    {
     "data": {
      "text/plain": "     config  description  HEAD  applypatch-msg.sample  commit-msg.sample  \\\n79       79           79   326                     79                 79   \n79       79           79   326                     79                 79   \n326      79           79   326                     79                 79   \n79       79           79   326                     79                 79   \n79       79           79   326                     79                 79   \n..      ...          ...   ...                    ...                ...   \n219      79           79   326                     79                 79   \n248      79           79   326                     79                 79   \n34       79           79   326                     79                 79   \n19       79           79   326                     79                 79   \n284      79           79   326                     79                 79   \n\n     fsmonitor-watchman.sample  post-update.sample  pre-applypatch.sample  \\\n79                          79                  79                     79   \n79                          79                  79                     79   \n326                         79                  79                     79   \n79                          79                  79                     79   \n79                          79                  79                     79   \n..                         ...                 ...                    ...   \n219                         79                  79                     79   \n248                         79                  79                     79   \n34                          79                  79                     79   \n19                          79                  79                     79   \n284                         79                  79                     79   \n\n     pre-commit.sample  pre-push.sample  ...  template.js  pom.xml  BUILD  \\\n79                  79               79  ...           29       11    181   \n79                  79               79  ...           29       11    181   \n326                 79               79  ...           29       11    181   \n79                  79               79  ...           29       11    181   \n79                  79               79  ...           29       11    181   \n..                 ...              ...  ...          ...      ...    ...   \n219                 79               79  ...           29       11    181   \n248                 79               79  ...           29       11    181   \n34                  79               79  ...           29       11    181   \n19                  79               79  ...           29       11    181   \n284                 79               79  ...           29       11    181   \n\n     main.h  classes.nib  info.nib  keyedobjects.nib  designable.nib  \\\n79       13          219       219               248              34   \n79       13          219       219               248              34   \n326      13          219       219               248              34   \n79       13          219       219               248              34   \n79       13          219       219               248              34   \n..      ...          ...       ...               ...             ...   \n219      13          219       219               248              34   \n248      13          219       219               248              34   \n34       13          219       219               248              34   \n19       13          219       219               248              34   \n284      13          219       219               248              34   \n\n     Localizable.strings  log_numstat.out.json.bz2  \n79                    19                       284  \n79                    19                       284  \n326                   19                       284  \n79                    19                       284  \n79                    19                       284  \n..                   ...                       ...  \n219                   19                       284  \n248                   19                       284  \n34                    19                       284  \n19                    19                       284  \n284                   19                       284  \n\n[79 rows x 79 columns]",
      "text/html": "<div>\n<style scoped>\n    .dataframe tbody tr th:only-of-type {\n        vertical-align: middle;\n    }\n\n    .dataframe tbody tr th {\n        vertical-align: top;\n    }\n\n    .dataframe thead th {\n        text-align: right;\n    }\n</style>\n<table border=\"1\" class=\"dataframe\">\n  <thead>\n    <tr style=\"text-align: right;\">\n      <th></th>\n      <th>config</th>\n      <th>description</th>\n      <th>HEAD</th>\n      <th>applypatch-msg.sample</th>\n      <th>commit-msg.sample</th>\n      <th>fsmonitor-watchman.sample</th>\n      <th>post-update.sample</th>\n      <th>pre-applypatch.sample</th>\n      <th>pre-commit.sample</th>\n      <th>pre-push.sample</th>\n      <th>...</th>\n      <th>template.js</th>\n      <th>pom.xml</th>\n      <th>BUILD</th>\n      <th>main.h</th>\n      <th>classes.nib</th>\n      <th>info.nib</th>\n      <th>keyedobjects.nib</th>\n      <th>designable.nib</th>\n      <th>Localizable.strings</th>\n      <th>log_numstat.out.json.bz2</th>\n    </tr>\n  </thead>\n  <tbody>\n    <tr>\n      <th>79</th>\n      <td>79</td>\n      <td>79</td>\n      <td>326</td>\n      <td>79</td>\n      <td>79</td>\n      <td>79</td>\n      <td>79</td>\n      <td>79</td>\n      <td>79</td>\n      <td>79</td>\n      <td>...</td>\n      <td>29</td>\n      <td>11</td>\n      <td>181</td>\n      <td>13</td>\n      <td>219</td>\n      <td>219</td>\n      <td>248</td>\n      <td>34</td>\n      <td>19</td>\n      <td>284</td>\n    </tr>\n    <tr>\n      <th>79</th>\n      <td>79</td>\n      <td>79</td>\n      <td>326</td>\n      <td>79</td>\n      <td>79</td>\n      <td>79</td>\n      <td>79</td>\n      <td>79</td>\n      <td>79</td>\n      <td>79</td>\n      <td>...</td>\n      <td>29</td>\n      <td>11</td>\n      <td>181</td>\n      <td>13</td>\n      <td>219</td>\n      <td>219</td>\n      <td>248</td>\n      <td>34</td>\n      <td>19</td>\n      <td>284</td>\n    </tr>\n    <tr>\n      <th>326</th>\n      <td>79</td>\n      <td>79</td>\n      <td>326</td>\n      <td>79</td>\n      <td>79</td>\n      <td>79</td>\n      <td>79</td>\n      <td>79</td>\n      <td>79</td>\n      <td>79</td>\n      <td>...</td>\n      <td>29</td>\n      <td>11</td>\n      <td>181</td>\n      <td>13</td>\n      <td>219</td>\n      <td>219</td>\n      <td>248</td>\n      <td>34</td>\n      <td>19</td>\n      <td>284</td>\n    </tr>\n    <tr>\n      <th>79</th>\n      <td>79</td>\n      <td>79</td>\n      <td>326</td>\n      <td>79</td>\n      <td>79</td>\n      <td>79</td>\n      <td>79</td>\n      <td>79</td>\n      <td>79</td>\n      <td>79</td>\n      <td>...</td>\n      <td>29</td>\n      <td>11</td>\n      <td>181</td>\n      <td>13</td>\n      <td>219</td>\n      <td>219</td>\n      <td>248</td>\n      <td>34</td>\n      <td>19</td>\n      <td>284</td>\n    </tr>\n    <tr>\n      <th>79</th>\n      <td>79</td>\n      <td>79</td>\n      <td>326</td>\n      <td>79</td>\n      <td>79</td>\n      <td>79</td>\n      <td>79</td>\n      <td>79</td>\n      <td>79</td>\n      <td>79</td>\n      <td>...</td>\n      <td>29</td>\n      <td>11</td>\n      <td>181</td>\n      <td>13</td>\n      <td>219</td>\n      <td>219</td>\n      <td>248</td>\n      <td>34</td>\n      <td>19</td>\n      <td>284</td>\n    </tr>\n    <tr>\n      <th>...</th>\n      <td>...</td>\n      <td>...</td>\n      <td>...</td>\n      <td>...</td>\n      <td>...</td>\n      <td>...</td>\n      <td>...</td>\n      <td>...</td>\n      <td>...</td>\n      <td>...</td>\n      <td>...</td>\n      <td>...</td>\n      <td>...</td>\n      <td>...</td>\n      <td>...</td>\n      <td>...</td>\n      <td>...</td>\n      <td>...</td>\n      <td>...</td>\n      <td>...</td>\n      <td>...</td>\n    </tr>\n    <tr>\n      <th>219</th>\n      <td>79</td>\n      <td>79</td>\n      <td>326</td>\n      <td>79</td>\n      <td>79</td>\n      <td>79</td>\n      <td>79</td>\n      <td>79</td>\n      <td>79</td>\n      <td>79</td>\n      <td>...</td>\n      <td>29</td>\n      <td>11</td>\n      <td>181</td>\n      <td>13</td>\n      <td>219</td>\n      <td>219</td>\n      <td>248</td>\n      <td>34</td>\n      <td>19</td>\n      <td>284</td>\n    </tr>\n    <tr>\n      <th>248</th>\n      <td>79</td>\n      <td>79</td>\n      <td>326</td>\n      <td>79</td>\n      <td>79</td>\n      <td>79</td>\n      <td>79</td>\n      <td>79</td>\n      <td>79</td>\n      <td>79</td>\n      <td>...</td>\n      <td>29</td>\n      <td>11</td>\n      <td>181</td>\n      <td>13</td>\n      <td>219</td>\n      <td>219</td>\n      <td>248</td>\n      <td>34</td>\n      <td>19</td>\n      <td>284</td>\n    </tr>\n    <tr>\n      <th>34</th>\n      <td>79</td>\n      <td>79</td>\n      <td>326</td>\n      <td>79</td>\n      <td>79</td>\n      <td>79</td>\n      <td>79</td>\n      <td>79</td>\n      <td>79</td>\n      <td>79</td>\n      <td>...</td>\n      <td>29</td>\n      <td>11</td>\n      <td>181</td>\n      <td>13</td>\n      <td>219</td>\n      <td>219</td>\n      <td>248</td>\n      <td>34</td>\n      <td>19</td>\n      <td>284</td>\n    </tr>\n    <tr>\n      <th>19</th>\n      <td>79</td>\n      <td>79</td>\n      <td>326</td>\n      <td>79</td>\n      <td>79</td>\n      <td>79</td>\n      <td>79</td>\n      <td>79</td>\n      <td>79</td>\n      <td>79</td>\n      <td>...</td>\n      <td>29</td>\n      <td>11</td>\n      <td>181</td>\n      <td>13</td>\n      <td>219</td>\n      <td>219</td>\n      <td>248</td>\n      <td>34</td>\n      <td>19</td>\n      <td>284</td>\n    </tr>\n    <tr>\n      <th>284</th>\n      <td>79</td>\n      <td>79</td>\n      <td>326</td>\n      <td>79</td>\n      <td>79</td>\n      <td>79</td>\n      <td>79</td>\n      <td>79</td>\n      <td>79</td>\n      <td>79</td>\n      <td>...</td>\n      <td>29</td>\n      <td>11</td>\n      <td>181</td>\n      <td>13</td>\n      <td>219</td>\n      <td>219</td>\n      <td>248</td>\n      <td>34</td>\n      <td>19</td>\n      <td>284</td>\n    </tr>\n  </tbody>\n</table>\n<p>79 rows × 79 columns</p>\n</div>"
     },
     "execution_count": 1,
     "metadata": {},
     "output_type": "execute_result"
    }
   ],
   "source": [
    "import pandas as pd\n",
    "import os\n",
    "\n",
    "\"\"\"\n",
    "Stupid attempt to map class types to functions\n",
    "DID NOT WORK\n",
    "Without any explanation the type('stingy thingy') doesn't seem to EQUAL (at least on a hash level)\n",
    "    moby_dict[str, do_stringy_thingy_method.\n",
    "It seemed like a cool idea, to be able to look up the right handler function in a map and call it.\n",
    "Finally defeated it by forcing the types into the dict. Apparently these types are either private or out of scope (e.g. C lib) and cannot be referenced until they suddenly appear at runtime.\n",
    "\"\"\"\n",
    "\n",
    "\n",
    "def iter_list(obj, directory):\n",
    "    for n in obj:\n",
    "        recurseword(n, directory)\n",
    "\n",
    "\n",
    "def iter_vals(dic,  directory):\n",
    "    for n in dic.values():\n",
    "        recurseword(n, directory)\n",
    "\n",
    "\n",
    "def unknown_type(thing,  directory):\n",
    "    print('Unknown!')\n",
    "    if hasattr(thing, '__iter__'):\n",
    "        iter_list(thing, directory)\n",
    "    else:\n",
    "        print(\"I don't know what to do with this:\", thing, dir(thing), type(thing))\n",
    "\n",
    "\n",
    "file_map = {}\n",
    "\n",
    "\n",
    "def process_dir_entry(dir_entry, directory):\n",
    "    if dir_entry.is_dir():\n",
    "        #        print('Directory:', dir_entry.name, dir_entry.path, type(dir_entry))\n",
    "        recurseword(os.scandir(dir_entry), directory+dir_entry.name+'/')\n",
    "    else:\n",
    "        if dir_entry.name not in file_map:\n",
    "            file_map[dir_entry.name] = 0\n",
    "        file_map[dir_entry.name] += 1\n",
    "\n",
    "\n",
    "twist = {\n",
    "    type([]): iter_list,\n",
    "    type(()): iter_list,\n",
    "    type({}): iter_vals\n",
    "}\n",
    "\n",
    "\n",
    "def recurseword(thingy, directory):\n",
    "    twist.get(type(thingy), unknown_type)(thingy, directory)\n",
    "\n",
    "\n",
    "scandir_iter = os.scandir('../../../active')\n",
    "dir_entry = next(scandir_iter)\n",
    "twist[type(scandir_iter)] = iter_list\n",
    "twist[type(dir_entry)] = process_dir_entry\n",
    "\n",
    "recurseword(scandir_iter, './')\n",
    "new_set = {}\n",
    "for k, v in file_map.items():\n",
    "    if v > 10:\n",
    "        new_set[k] = v\n",
    "print(len(file_map.keys()))\n",
    "print(len(new_set.keys()))\n",
    "\n",
    "pd.DataFrame(new_set, new_set.values())"
   ]
  },
  {
   "cell_type": "code",
   "execution_count": 18,
   "outputs": [
    {
     "data": {
      "text/plain": "'{\"1b1cc40f07ed871f7ee76d172e3e7adb\": \"Raphaël Hertzog <hertzog@debian.org>\"}'"
     },
     "execution_count": 18,
     "metadata": {},
     "output_type": "execute_result"
    }
   ],
   "source": [
    "import json\n",
    "name = 'Raphaël Hertzog <hertzog@debian.org>'\n",
    "kv = {'1b1cc40f07ed871f7ee76d172e3e7adb':name}\n",
    "json.dumps(kv, ensure_ascii=False)"
   ],
   "metadata": {
    "collapsed": false,
    "pycharm": {
     "name": "#%%\n"
    }
   }
  },
  {
   "cell_type": "code",
   "execution_count": null,
   "outputs": [],
   "source": [],
   "metadata": {
    "collapsed": false,
    "pycharm": {
     "name": "#%%\n"
    }
   }
  }
 ],
 "metadata": {
  "kernelspec": {
   "display_name": "Python 3",
   "language": "python",
   "name": "python3"
  },
  "language_info": {
   "codemirror_mode": {
    "name": "ipython",
    "version": 2
   },
   "file_extension": ".py",
   "mimetype": "text/x-python",
   "name": "python",
   "nbconvert_exporter": "python",
   "pygments_lexer": "ipython2",
   "version": "2.7.6"
  }
 },
 "nbformat": 4,
 "nbformat_minor": 0
}