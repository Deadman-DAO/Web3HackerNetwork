{
 "cells": [
  {
   "cell_type": "code",
   "execution_count": 38,
   "outputs": [
    {
     "name": "stdout",
     "output_type": "stream",
     "text": [
      "Mon May 30 15:08:11.27: Ralph Sleeping\n",
      "Mon May 30 15:08:14.30: Ralph Awake\n",
      "Mon May 30 15:08:14.30: Mary Sleeping\n",
      "Mon May 30 15:08:16.32: Mary Awake\n",
      "Mon May 30 15:08:16.32: Ralph Sleeping\n",
      "Mon May 30 15:08:19.34: Ralph Awake\n",
      "Mon May 30 15:08:19.34: Mary Sleeping\n",
      "Mon May 30 15:08:21.36: Mary Awake\n",
      "Mon May 30 15:08:21.36: Ralph Sleeping\n",
      "Mon May 30 15:08:24.38: Ralph Awake\n",
      "Mon May 30 15:08:24.38: Mary Sleeping\n",
      "Mon May 30 15:08:26.40: Mary Awake\n",
      "Mon May 30 15:08:26.40: Ralph Sleeping\n",
      "Mon May 30 15:08:29.41: Ralph Awake\n",
      "Mon May 30 15:08:29.41: Mary Sleeping\n",
      "Mon May 30 15:08:31.42: Mary Awake\n",
      "Mon May 30 15:08:31.42: Ralph Sleeping\n",
      "Mon May 30 15:08:34.43: Ralph Awake\n",
      "Mon May 30 15:08:34.43: Mary Sleeping\n",
      "Mon May 30 15:08:36.45: Mary Awake\n",
      "Mon May 30 15:08:36.45: Ralph Sleeping\n",
      "Mon May 30 15:08:39.47: Ralph Awake\n",
      "Mon May 30 15:08:39.47: Mary Sleeping\n",
      "Mon May 30 15:08:41.49: Mary Awake\n",
      "Mon May 30 15:08:41.49: Ralph Sleeping\n",
      "Mon May 30 15:08:44.50: Ralph Awake\n",
      "Mon May 30 15:08:44.50: Mary Sleeping\n",
      "Mon May 30 15:08:46.52: Mary Awake\n",
      "Mon May 30 15:08:46.52: Ralph Sleeping\n",
      "Mon May 30 15:08:49.54: Ralph Awake\n",
      "Mon May 30 15:08:49.54: Mary Sleeping\n",
      "Mon May 30 15:08:51.56: Mary Awake\n",
      "Mon May 30 15:08:51.56: Ralph Sleeping\n",
      "Mon May 30 15:08:54.58: Ralph Awake\n",
      "Mon May 30 15:08:54.58: Mary Sleeping\n",
      "Mon May 30 15:08:56.59: Mary Awake\n",
      "Leaving\n"
     ]
    }
   ],
   "source": [
    "import multiprocessing\n",
    "import threading\n",
    "import time\n",
    "from datetime import datetime as datingdays\n",
    "\n",
    "def log():\n",
    "    return datingdays.now().strftime('%a %b %d %H:%M:%S.%f')[:-4]+':'\n",
    "\n",
    "class A:\n",
    "    def __init__(self, name, freq, lock):\n",
    "        self.name = name\n",
    "        self.freq = freq\n",
    "        self.lock = lock\n",
    "        self.thread = threading.Thread(target=self.run, daemon=True)\n",
    "        self.thread.start()\n",
    "\n",
    "    def run(self):\n",
    "        for n in range(1, 10):\n",
    "            self.lock.acquire()\n",
    "            try:\n",
    "                print(log(), self.name, 'Sleeping')\n",
    "                time.sleep(self.freq)\n",
    "                print(log(), self.name, 'Awake')\n",
    "            finally:\n",
    "                self.lock.release()\n",
    "\n",
    "lock = multiprocessing.RLock()\n",
    "a = A('Ralph', 3, lock)\n",
    "b = A('Mary', 2, lock)\n",
    "time.sleep(60)\n",
    "print('Leaving')"
   ],
   "metadata": {
    "collapsed": false,
    "pycharm": {
     "name": "#%%\n"
    }
   }
  },
  {
   "cell_type": "code",
   "execution_count": 35,
   "outputs": [
    {
     "name": "stdout",
     "output_type": "stream",
     "text": [
      "{'a': 'b', 'c': 'd', 'd': 'e'}\n",
      "a c d\n",
      "something 1\n",
      "other five\n",
      "newish True\n",
      "something 1\n",
      "other five\n"
     ]
    }
   ],
   "source": [
    "def print_it(**kwargs):\n",
    "    for k, v in kwargs.items():\n",
    "        print(k, v)\n",
    "    return kwargs\n",
    "\n",
    "k = {'a': 'b', 'c': 'd', 'd': 'e'}\n",
    "print(k)\n",
    "print(*k)\n",
    "ret = print_it(something=1, other='five')\n",
    "ret = print_it(newish=True, **ret)"
   ],
   "metadata": {
    "collapsed": false,
    "pycharm": {
     "name": "#%%\n"
    }
   }
  },
  {
   "cell_type": "code",
   "execution_count": 37,
   "outputs": [
    {
     "name": "stdout",
     "output_type": "stream",
     "text": [
      "initial start\n",
      "pair True\n",
      "apple fruit\n",
      "initial start\n",
      "pair True\n"
     ]
    }
   ],
   "source": [
    "class Multi:\n",
    "    def __init__(self, **kwargs):\n",
    "        self.kwargs = kwargs\n",
    "    def set_new_kwargs(self, **kwargs):\n",
    "        self.kwargs = kwargs\n",
    "    def append_kwargs(self, **kwargs):\n",
    "        self.set_new_kwargs(**kwargs, **self.kwargs)\n",
    "    def print(self):\n",
    "        for k, v in self.kwargs.items():\n",
    "            print(k,v)\n",
    "\n",
    "m = Multi(initial='start', pair=True)\n",
    "m.print()\n",
    "m.append_kwargs(apple='fruit')\n",
    "m.print()\n",
    "\n"
   ],
   "metadata": {
    "collapsed": false,
    "pycharm": {
     "name": "#%%\n"
    }
   }
  },
  {
   "cell_type": "code",
   "execution_count": 45,
   "outputs": [],
   "source": [
    "import sys\n",
    "import json\n",
    "local_lib_dir = '../../../python/lib/'\n",
    "sys.path.append(local_lib_dir)\n",
    "from repository_investigator import Contributor\n",
    "import random\n",
    "import pyperclip\n",
    "\n",
    "a = []\n",
    "a.append(Contributor('Ralph'))\n",
    "a.append(Contributor('Mary'))\n",
    "a.append(Contributor('Joe'))\n",
    "a.append(Contributor('Fred'))\n",
    "date = 0\n",
    "for c in a:\n",
    "    for n in range(0, 10):\n",
    "        n += random.randint(10000, 36500*86400)\n",
    "        c.add_week(n, random.randint(0, 100))\n",
    "\n",
    "pyperclip.copy(json.dumps(a, default=lambda o: o.__dict__,\n",
    "      sort_keys=True, indent=2))"
   ],
   "metadata": {
    "collapsed": false,
    "pycharm": {
     "name": "#%%\n"
    }
   }
  },
  {
   "cell_type": "code",
   "execution_count": null,
   "outputs": [],
   "source": [],
   "metadata": {
    "collapsed": false,
    "pycharm": {
     "name": "#%%\n"
    }
   }
  }
 ],
 "metadata": {
  "kernelspec": {
   "display_name": "Python 3",
   "language": "python",
   "name": "python3"
  },
  "language_info": {
   "codemirror_mode": {
    "name": "ipython",
    "version": 2
   },
   "file_extension": ".py",
   "mimetype": "text/x-python",
   "name": "python",
   "nbconvert_exporter": "python",
   "pygments_lexer": "ipython2",
   "version": "2.7.6"
  }
 },
 "nbformat": 4,
 "nbformat_minor": 0
}