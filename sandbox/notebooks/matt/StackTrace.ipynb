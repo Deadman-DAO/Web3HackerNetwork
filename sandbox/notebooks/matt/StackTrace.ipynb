{
 "cells": [
  {
   "cell_type": "code",
   "execution_count": 18,
   "outputs": [
    {
     "name": "stdout",
     "output_type": "stream",
     "text": [
      "Hi There\n",
      "87860 <frame at 0x0000022B10557920, file 'E:\\\\Users\\\\enigm\\\\AppData\\\\Local\\\\Temp\\\\ipykernel_59108\\\\1852620102.py', line 8, code that>\n",
      "66956 <frame at 0x0000022B10557C60, file 'E:\\\\Users\\\\enigm\\\\AppData\\\\Local\\\\Temp\\\\ipykernel_59108\\\\1852620102.py', line 8, code that>\n",
      "120348 <frame at 0x0000022B0E6DF840, file 'J:\\\\temp\\\\ignore_me\\\\Python310\\\\lib\\\\site-packages\\\\ipykernel\\\\parentpoller.py', line 89, code run>\n",
      "119032 <frame at 0x0000022B0EA40EC0, file 'J:\\\\temp\\\\ignore_me\\\\Python310\\\\lib\\\\site-packages\\\\IPython\\\\core\\\\history.py', line 787, code _writeout_input_cache>\n",
      "8952 <frame at 0x0000022B0DD70510, file 'J:\\\\temp\\\\ignore_me\\\\Python310\\\\lib\\\\selectors.py', line 315, code _select>\n",
      "115156 <frame at 0x0000022B0E993C40, file 'J:\\\\temp\\\\ignore_me\\\\Python310\\\\lib\\\\site-packages\\\\ipykernel\\\\heartbeat.py', line 103, code run>\n",
      "117420 <frame at 0x0000022B0EA8B6A0, file 'J:\\\\temp\\\\ignore_me\\\\Python310\\\\lib\\\\selectors.py', line 315, code _select>\n",
      "101700 <frame at 0x0000022B0DB20FB0, file 'E:\\\\Users\\\\enigm\\\\AppData\\\\Local\\\\Temp\\\\ipykernel_59108\\\\3755748488.py', line 8, code <cell line: 7>>\n"
     ]
    },
    {
     "data": {
      "text/plain": "\"\\na = ChildProcessContainer(DoThis(), 'Fred')\\nb = ChildProcessContainer(DoThat(), 'George')\\n\""
     },
     "execution_count": 18,
     "metadata": {},
     "output_type": "execute_result"
    }
   ],
   "source": [
    "import sys, time, traceback\n",
    "local_lib_dir = '../../../python/lib/'\n",
    "sys.path.append(local_lib_dir)\n",
    "\n",
    "\n",
    "print('Hi There')\n",
    "for threadId, stack in sys._current_frames().items():\n",
    "    print(threadId, stack)\n",
    "'''\n",
    "a = ChildProcessContainer(DoThis(), 'Fred')\n",
    "b = ChildProcessContainer(DoThat(), 'George')\n",
    "'''"
   ],
   "metadata": {
    "collapsed": false,
    "pycharm": {
     "name": "#%%\n"
    }
   }
  },
  {
   "cell_type": "code",
   "execution_count": null,
   "outputs": [],
   "source": [],
   "metadata": {
    "collapsed": false,
    "pycharm": {
     "name": "#%%\n"
    }
   }
  },
  {
   "cell_type": "code",
   "execution_count": null,
   "outputs": [],
   "source": [],
   "metadata": {
    "collapsed": false,
    "pycharm": {
     "name": "#%%\n"
    }
   }
  }
 ],
 "metadata": {
  "kernelspec": {
   "display_name": "Python 3",
   "language": "python",
   "name": "python3"
  },
  "language_info": {
   "codemirror_mode": {
    "name": "ipython",
    "version": 2
   },
   "file_extension": ".py",
   "mimetype": "text/x-python",
   "name": "python",
   "nbconvert_exporter": "python",
   "pygments_lexer": "ipython2",
   "version": "2.7.6"
  }
 },
 "nbformat": 4,
 "nbformat_minor": 0
}