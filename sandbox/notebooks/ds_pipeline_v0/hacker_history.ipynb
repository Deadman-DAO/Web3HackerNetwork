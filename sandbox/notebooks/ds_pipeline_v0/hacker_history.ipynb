{
 "cells": [
  {
   "cell_type": "markdown",
   "id": "9610a4cf-b430-4648-83d6-c60659d111f4",
   "metadata": {},
   "source": [
    "### Load the Commit Features"
   ]
  },
  {
   "cell_type": "code",
   "execution_count": null,
   "id": "6fa2545b-7983-43c7-8690-c46cea777289",
   "metadata": {},
   "outputs": [],
   "source": [
    "project_root_path = '../../..'\n",
    "lib_path = project_root_path + '/python/lib/'\n",
    "import json\n",
    "import sys\n",
    "sys.path.append(lib_path)\n",
    "import commit_features"
   ]
  },
  {
   "cell_type": "code",
   "execution_count": 3,
   "id": "d6a0145a-6156-4114-a996-c65bd08ff1b5",
   "metadata": {},
   "outputs": [],
   "source": [
    "import json\n",
    "in_path = project_root_path + '/python/cfg/ds_pipeline.json'\n",
    "config_map = json.loads(open(in_path, 'r').read())\n",
    "config_map\n",
    "\n",
    "cfg = config_map['99_problems']"
   ]
  },
  {
   "cell_type": "code",
   "execution_count": 4,
   "id": "57d3d205-7b80-4cbb-ba88-21a135092460",
   "metadata": {},
   "outputs": [],
   "source": [
    "project_stats_dir = project_root_path + '/' + cfg['stats_dir']\n",
    "file_name = cfg['stat_file_name']\n",
    "all_commit_features = commit_features.load_all(project_root_path, project_stats_dir, file_name)"
   ]
  },
  {
   "cell_type": "code",
   "execution_count": 6,
   "id": "36c9b35d-e570-4881-8335-debe311abefb",
   "metadata": {},
   "outputs": [],
   "source": [
    "X = commit_features.make_matrix(all_commit_features, cfg['classifier']['features'])"
   ]
  },
  {
   "cell_type": "code",
   "execution_count": 1,
   "id": "fae1a880-4372-4c3c-80c7-4bbec7e20483",
   "metadata": {},
   "outputs": [],
   "source": [
    "project_root_path = '../../..'\n",
    "lib_path = project_root_path + '/python/lib/'\n",
    "import json\n",
    "import sys\n",
    "sys.path.append(lib_path)\n",
    "import commit_features\n",
    "\n",
    "dataset_dir = project_root_path + '/sandbox/data/bob'\n",
    "project_stats_dir = dataset_dir + '/ocean_repos'\n",
    "file_name = 'commit_stat.json'\n",
    "classifier_features = [\n",
    "    'textFiles', 'textLines', 'configurationLines',\n",
    "    'htmlLines', 'javascriptLines', 'jsonLines',\n",
    "    'markdownLines', 'pythonLines',\n",
    "    'solidityLines', 'yarnLines'\n",
    "]\n",
    "\n",
    "all_commit_features = commit_features.load_all(project_stats_dir, file_name)\n",
    "X = commit_features.make_matrix(all_commit_features, classifier_features)"
   ]
  },
  {
   "cell_type": "markdown",
   "id": "b54e23da-8e01-4351-8d23-f7dbff400377",
   "metadata": {},
   "source": [
    "### Load the Trained Model"
   ]
  },
  {
   "cell_type": "code",
   "execution_count": 2,
   "id": "a5141a76-8957-4b6e-a083-0b40d95f0e0e",
   "metadata": {},
   "outputs": [
    {
     "name": "stdout",
     "output_type": "stream",
     "text": [
      "93960\n"
     ]
    }
   ],
   "source": [
    "import pickle\n",
    "model_path = project_root_path + '/sandbox/data/bob/logit-clf.dat'\n",
    "fin = open(model_path, 'rb')\n",
    "model_deserial = pickle.load(fin)\n",
    "fin.close()\n",
    "y_pred = model_deserial.predict(X)\n",
    "print(len(y_pred))"
   ]
  },
  {
   "cell_type": "markdown",
   "id": "efb08b61-c79a-462c-bb20-263165bd4475",
   "metadata": {},
   "source": [
    "### Compile Hacker Histories"
   ]
  },
  {
   "cell_type": "code",
   "execution_count": 3,
   "id": "757799ef-8ffc-4ae7-9d77-fda7d8a05a8a",
   "metadata": {},
   "outputs": [],
   "source": [
    "hacker_histories = {}\n",
    "for i in range(len(y_pred)):\n",
    "    features = all_commit_features[i]\n",
    "    pred = y_pred[i]\n",
    "    author = features['author']\n",
    "    features['predicted_class'] = pred\n",
    "    if author not in hacker_histories: hacker_histories[author] = []\n",
    "    hacker_commits = hacker_histories[author]\n",
    "    hacker_commits.append(features)"
   ]
  },
  {
   "cell_type": "markdown",
   "id": "1894fcc7-10c2-4c40-8839-422e3bc37392",
   "metadata": {},
   "source": [
    "### Show Hacker Commit Types"
   ]
  },
  {
   "cell_type": "code",
   "execution_count": 8,
   "id": "7c7eec33-e7f7-46dd-a38a-91396ee107f8",
   "metadata": {},
   "outputs": [
    {
     "name": "stdout",
     "output_type": "stream",
     "text": [
      "alexcos20 <alex.coseru@gmail.com>\n",
      "3006\tjs\n",
      "2810\tminor_js\n",
      "2394\tsolidity\n",
      "952\tminor_py\n",
      "939\tbulk\n",
      "756\tmd\n",
      "738\tjson\n",
      "679\tpython\n",
      "453\tminor_yarn\n",
      "306\tbig_js\n",
      "216\tminor_json\n",
      "90\tmarkdown\n",
      "54\tyarn\n",
      "54\tminor_md\n",
      "54\tbig_solidity\n",
      "38\tbig_py\n",
      "36\tconfig\n",
      "18\tminor\n",
      "\n",
      "Bogdan Fazakas <bogdan.fazakas@gmail.com>\n",
      "2214\tjs\n",
      "774\tminor_js\n",
      "504\tbulk\n",
      "486\tbig_js\n",
      "90\tinterface\n",
      "72\tjson\n",
      "36\tbig_json\n",
      "18\tminor_yarn\n",
      "18\tmarkdown\n",
      "18\tminor_html\n",
      "\n",
      "lacoop6tu <burzi.andrea@gmail.com>\n",
      "2772\tbulk\n",
      "1440\tsolidity\n",
      "774\tjs\n",
      "666\tbig_js\n",
      "450\tminor_js\n",
      "126\tbig_solidity\n",
      "90\tmarkdown\n",
      "72\tminor_md\n",
      "\n",
      "Matthias Kretschmann <m@kretschmann.io>\n",
      "7902\tjs\n",
      "4086\tminor_js\n",
      "3546\tinterface\n",
      "1638\tbulk\n",
      "1170\tjson\n",
      "954\tmd\n",
      "486\tbig_js\n",
      "468\tbig_json\n",
      "252\tmarkdown\n",
      "236\tminor_md\n",
      "235\tminor_yarn\n",
      "180\tminor_html\n",
      "109\tminor_py\n",
      "54\tyarn\n",
      "38\tpython\n",
      "36\tminor\n",
      "18\tbig_markdown\n",
      "\n",
      "ssallam <travis@travis-ci.org>\n",
      "2954\tminor_py\n",
      "2861\tpython\n",
      "780\tbulk\n",
      "398\tminor_yarn\n",
      "364\tminor_js\n",
      "291\tbig_py\n",
      "162\tjs\n",
      "145\tmarkdown\n",
      "144\tpy\n",
      "91\tminor_md\n",
      "73\tconfig\n",
      "56\tminor\n",
      "18\tbig_js\n",
      "18\tjson\n",
      "\n",
      "Trent McConaghy <5305452+trentmc@users.noreply.github.com>\n",
      "2727\tminor_md\n",
      "739\tmarkdown\n",
      "108\tminor_py\n",
      "108\tbulk\n",
      "72\tpython\n",
      "54\tbig_markdown\n",
      "54\tbig_py\n",
      "18\tminor_js\n",
      "18\tpy\n",
      "18\tbig_solidity\n",
      "\n"
     ]
    }
   ],
   "source": [
    "import matplotlib.pyplot as plt\n",
    "\n",
    "hacker_histograms = []\n",
    "for hacker in hacker_histories.keys():\n",
    "    commits = hacker_histories[hacker]\n",
    "    commit_types = [commit['predicted_class'] for commit in commits]\n",
    "    observed_types = list(set(commit_types))\n",
    "    hacker_commit_types = []\n",
    "    for observed_type in observed_types:\n",
    "        observations = [1 for commit_type in commit_types if commit_type == observed_type]\n",
    "        count = len(observations)\n",
    "        hacker_commit_types.append(dict(num_commits=count, commit_type=observed_type))\n",
    "    sorted_list = sorted(hacker_commit_types, key=lambda d: d['num_commits'])\n",
    "    sorted_list.reverse()\n",
    "    hacker_histograms.append(dict(hacker=hacker, commit_stats=sorted_list))\n",
    "\n",
    "sorted_histograms = sorted(hacker_histograms, key=lambda d: d['hacker'].lower())\n",
    "for histo in sorted_histograms:\n",
    "    if histo['commit_stats'][0]['num_commits'] > 2000:\n",
    "        print(histo['hacker'])\n",
    "        for row in histo['commit_stats']:\n",
    "            print(str(row['num_commits']) + \"\\t\" + str(row['commit_type']))\n",
    "        print()\n",
    "        #break"
   ]
  },
  {
   "cell_type": "code",
   "execution_count": 5,
   "id": "a882a6f6-06d2-49a8-ac23-e7fb02f9793c",
   "metadata": {},
   "outputs": [],
   "source": [
    "import json\n",
    "\n",
    "out_path = project_root_path + '/sandbox/data/bob/hacker_history_2.json'\n",
    "out_handle = open(out_path, \"w\");\n",
    "out_handle.write(json.dumps(sorted_histograms, indent=2));\n",
    "out_handle.flush()\n",
    "out_handle.close()"
   ]
  }
 ],
 "metadata": {
  "kernelspec": {
   "display_name": "Python 3 (ipykernel)",
   "language": "python",
   "name": "python3"
  },
  "language_info": {
   "codemirror_mode": {
    "name": "ipython",
    "version": 3
   },
   "file_extension": ".py",
   "mimetype": "text/x-python",
   "name": "python",
   "nbconvert_exporter": "python",
   "pygments_lexer": "ipython3",
   "version": "3.8.10"
  }
 },
 "nbformat": 4,
 "nbformat_minor": 5
}
