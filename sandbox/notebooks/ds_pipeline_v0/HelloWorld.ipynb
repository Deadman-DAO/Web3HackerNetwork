{
 "cells": [
  {
   "cell_type": "code",
   "execution_count": 4,
   "id": "4cdc841d-1ee0-403c-858a-07ad41117765",
   "metadata": {},
   "outputs": [
    {
     "name": "stdout",
     "output_type": "stream",
     "text": [
      "Hello, World!\n",
      "false is false!\n"
     ]
    }
   ],
   "source": [
    "print(\"Hello, World!\")\n",
    "\n",
    "if (False):\n",
    "    print(\"false is true!\")\n",
    "print(\"false is false!\")"
   ]
  },
  {
   "cell_type": "code",
   "execution_count": null,
   "id": "6029ff08-2e4a-44ac-af4a-f3adaf1c6fa8",
   "metadata": {},
   "outputs": [],
   "source": []
  }
 ],
 "metadata": {
  "kernelspec": {
   "display_name": "Python 3 (ipykernel)",
   "language": "python",
   "name": "python3"
  },
  "language_info": {
   "codemirror_mode": {
    "name": "ipython",
    "version": 3
   },
   "file_extension": ".py",
   "mimetype": "text/x-python",
   "name": "python",
   "nbconvert_exporter": "python",
   "pygments_lexer": "ipython3",
   "version": "3.8.10"
  }
 },
 "nbformat": 4,
 "nbformat_minor": 5
}
