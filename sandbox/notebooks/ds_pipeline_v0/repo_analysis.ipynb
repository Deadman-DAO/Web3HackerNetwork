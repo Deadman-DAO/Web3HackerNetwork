{
 "cells": [
  {
   "cell_type": "code",
   "execution_count": 3,
   "id": "4bce7923-fe4e-4b2d-b4f2-681f96da1f0e",
   "metadata": {},
   "outputs": [],
   "source": [
    "title = 'Days of our lives\\n'\n",
    "root = '/home/bob/projects/Web3HackerNetwork'\n",
    "dataset_dir = root + \"/data/github/2022-04-07-marine-search\"\n",
    "stats_dir = dataset_dir + \"/projects\""
   ]
  },
  {
   "cell_type": "markdown",
   "id": "36a950d4-e0aa-45e9-bbb6-1fef9c95422a",
   "metadata": {},
   "source": [
    "### read the stats from JSON on disk"
   ]
  },
  {
   "cell_type": "code",
   "execution_count": 4,
   "id": "41110942-3b95-466f-ac0b-8079b47cb3af",
   "metadata": {},
   "outputs": [
    {
     "name": "stdout",
     "output_type": "stream",
     "text": [
      "[{'login': 'PhilippeMts', 'project': 'hackfs-fragment', 'num_files': 156, 'num_commits': 396, 'num_locs': 26906, 'num_rust_files': 1, 'num_react_files': 39, 'num_markdown_files': 7, 'num_binary_files': 36, 'num_rust_locs': 26, 'num_react_locs': 8404, 'num_markdown_locs': 532, 'num_binary_bytes': 10912860}, {'login': 'amrosaeed', 'project': 'fluence', 'num_files': 779, 'num_commits': 4, 'num_locs': 402144, 'num_rust_files': 99, 'num_react_files': 114, 'num_markdown_files': 37, 'num_binary_files': 58, 'num_rust_locs': 13854, 'num_react_locs': 19844, 'num_markdown_locs': 12142, 'num_binary_bytes': 7268734}, {'login': 'KirSerz', 'project': 'hackathon_wallet', 'num_files': 53, 'num_commits': 21, 'num_locs': 80798, 'num_rust_files': 3, 'num_react_files': 10, 'num_markdown_files': 3, 'num_binary_files': 4, 'num_rust_locs': 436, 'num_react_locs': 1458, 'num_markdown_locs': 372, 'num_binary_bytes': 87982}]\n"
     ]
    }
   ],
   "source": [
    "import json\n",
    "in_path = dataset_dir + \"/all_repo_stats.json\"\n",
    "in_stats = json.loads(open(in_path, 'r').read());\n",
    "print(in_stats[slice(3)])"
   ]
  },
  {
   "cell_type": "markdown",
   "id": "222c1ac0-213e-43eb-bf5c-f2dd12e4a3e6",
   "metadata": {},
   "source": [
    "### convert the raw stats to basic features"
   ]
  },
  {
   "cell_type": "code",
   "execution_count": 5,
   "id": "d3ccfaeb-c045-4b03-b455-a7600eebc9c1",
   "metadata": {},
   "outputs": [
    {
     "name": "stdout",
     "output_type": "stream",
     "text": [
      "0.00641025641025641, 0.25\n",
      "0.12708600770218229, 0.14634146341463414\n",
      "0.05660377358490566, 0.18867924528301888\n",
      "0.023255813953488372, 0.3488372093023256\n",
      "0.011904761904761904, 0.49404761904761907\n",
      "0.011976047904191617, 0.49700598802395207\n",
      "0.08333333333333333, 0.0\n",
      "0.18461538461538463, 0.0\n",
      "0.18461538461538463, 0.0\n",
      "0.040983606557377046, 0.5081967213114754\n",
      "0.029411764705882353, 0.5882352941176471\n",
      "0.13485477178423236, 0.14522821576763487\n",
      "0.023809523809523808, 0.16666666666666666\n",
      "0.12244897959183673, 0.12244897959183673\n",
      "0.038461538461538464, 0.23076923076923078\n",
      "0.03686635944700461, 0.5253456221198156\n",
      "0.12661498708010335, 0.14728682170542637\n",
      "0.03333333333333333, 0.13333333333333333\n",
      "0.79375, 0.003125\n",
      "0.4, 0.02857142857142857\n",
      "0.45454545454545453, 0.01818181818181818\n",
      "0.3902439024390244, 0.024390243902439025\n",
      "0.6395348837209303, 0.023255813953488372\n",
      "0.1590909090909091, 0.0\n",
      "0.037037037037037035, 0.25925925925925924\n",
      "0.8210526315789474, 0.0\n",
      "0.13485477178423236, 0.14522821576763487\n",
      "0.18604651162790697, 0.023255813953488372\n",
      "0.0, 0.0\n",
      "0.06060606060606061, 0.24242424242424243\n",
      "0.21052631578947367, 0.05263157894736842\n",
      "0.015151515151515152, 0.3484848484848485\n",
      "0.12894736842105264, 0.15\n",
      "0.2, 0.0\n",
      "0.12345679012345678, 0.1506172839506173\n",
      "0.004761904761904762, 0.05238095238095238\n",
      "0.0392156862745098, 0.1568627450980392\n",
      "0.005076142131979695, 0.025380710659898477\n",
      "0.00510204081632653, 0.025510204081632654\n",
      "0.08163265306122448, 0.20408163265306123\n"
     ]
    }
   ],
   "source": [
    "for stat in in_stats:\n",
    "    stat['pct_rust_files'] = stat['num_rust_files'] / stat['num_files']\n",
    "    stat['pct_react_files'] = stat['num_react_files'] / stat['num_files']\n",
    "    print(str(stat['pct_rust_files']) + ', ' + str(stat['pct_react_files']))"
   ]
  },
  {
   "cell_type": "code",
   "execution_count": 6,
   "id": "0289c31f-b9f8-464d-b9c4-4a7c07cec45c",
   "metadata": {},
   "outputs": [
    {
     "name": "stdout",
     "output_type": "stream",
     "text": [
      "[{'login': 'PhilippeMts', 'project': 'hackfs-fragment', 'num_files': 156, 'num_commits': 396, 'num_locs': 26906, 'num_rust_files': 1, 'num_react_files': 39, 'num_markdown_files': 7, 'num_binary_files': 36, 'num_rust_locs': 26, 'num_react_locs': 8404, 'num_markdown_locs': 532, 'num_binary_bytes': 10912860, 'pct_rust_files': 0.00641025641025641, 'pct_react_files': 0.25}, {'login': 'amrosaeed', 'project': 'fluence', 'num_files': 779, 'num_commits': 4, 'num_locs': 402144, 'num_rust_files': 99, 'num_react_files': 114, 'num_markdown_files': 37, 'num_binary_files': 58, 'num_rust_locs': 13854, 'num_react_locs': 19844, 'num_markdown_locs': 12142, 'num_binary_bytes': 7268734, 'pct_rust_files': 0.12708600770218229, 'pct_react_files': 0.14634146341463414}]\n"
     ]
    }
   ],
   "source": [
    "print(in_stats[slice(2)])"
   ]
  },
  {
   "cell_type": "code",
   "execution_count": 7,
   "id": "355be770-7dbc-4eed-b771-6c18ab7b83a0",
   "metadata": {},
   "outputs": [
    {
     "data": {
      "image/png": "[encoded data removed]",
      "text/plain": [
       "<Figure size 432x288 with 1 Axes>"
      ]
     },
     "metadata": {
      "needs_background": "light"
     },
     "output_type": "display_data"
    }
   ],
   "source": [
    "import matplotlib.pyplot as plt\n",
    "import numpy as np\n",
    "\n",
    "pct_rust_array = [(1+(100*val['pct_rust_files'])) for val in in_stats]\n",
    "pct_react_array = [(1+(100*val['pct_react_files'])) for val in in_stats]\n",
    "xpoints = np.array(pct_rust_array)\n",
    "ypoints = np.array(pct_react_array)\n",
    "\n",
    "plt.scatter(xpoints, ypoints)\n",
    "plt.show()"
   ]
  },
  {
   "cell_type": "code",
   "execution_count": 12,
   "id": "9c7247ea-7c23-49f8-be2d-6d5042dd0462",
   "metadata": {},
   "outputs": [
    {
     "data": {
      "text/plain": [
       "(array([17.,  3.,  2.,  7.,  4.,  1.,  0.,  0.,  0.,  2.,  0.,  1.,  0.,\n",
       "         0.,  0.,  1.,  0.,  0.,  0.,  2.]),\n",
       " array([ 0.        ,  4.10526316,  8.21052632, 12.31578947, 16.42105263,\n",
       "        20.52631579, 24.63157895, 28.73684211, 32.84210526, 36.94736842,\n",
       "        41.05263158, 45.15789474, 49.26315789, 53.36842105, 57.47368421,\n",
       "        61.57894737, 65.68421053, 69.78947368, 73.89473684, 78.        ,\n",
       "        82.10526316]),\n",
       " <BarContainer object of 20 artists>)"
      ]
     },
     "execution_count": 12,
     "metadata": {},
     "output_type": "execute_result"
    },
    {
     "data": {
      "image/png": "[encoded data removed]",
      "text/plain": [
       "<Figure size 432x288 with 1 Axes>"
      ]
     },
     "metadata": {
      "needs_background": "light"
     },
     "output_type": "display_data"
    }
   ],
   "source": [
    "import matplotlib.pyplot as plt\n",
    "import numpy as np\n",
    "pct_rust_array = [100*val['pct_rust_files'] for val in in_stats]\n",
    "plt.hist(np.array(pct_rust_array), 20)"
   ]
  },
  {
   "cell_type": "markdown",
   "id": "6c9d6682-29fc-44df-bc30-e8e4ed2f281c",
   "metadata": {},
   "source": [
    "### Lognormalization\n",
    "I am pretty sure this is a lognormal distribution, though there are not enough datapoints to really see it.\n",
    "\n",
    "I use log1p which armors against zero values."
   ]
  },
  {
   "cell_type": "code",
   "execution_count": 11,
   "id": "cc04a117-9fc6-4aeb-bf74-dfdb0b557a5c",
   "metadata": {},
   "outputs": [
    {
     "data": {
      "text/plain": [
       "(array([ 1.,  0.,  1.,  0.,  2.,  4., 10.,  3.,  1.,  1.,  8.,  2.,  4.,\n",
       "         2.,  1.]),\n",
       " array([1.79175947, 2.11626177, 2.44076406, 2.76526636, 3.08976866,\n",
       "        3.41427095, 3.73877325, 4.06327555, 4.38777784, 4.71228014,\n",
       "        5.03678244, 5.36128473, 5.68578703, 6.01028933, 6.33479162,\n",
       "        6.65929392]),\n",
       " <BarContainer object of 15 artists>)"
      ]
     },
     "execution_count": 11,
     "metadata": {},
     "output_type": "execute_result"
    },
    {
     "data": {
      "image/png": "[encoded data removed]",
      "text/plain": [
       "<Figure size 432x288 with 1 Axes>"
      ]
     },
     "metadata": {
      "needs_background": "light"
     },
     "output_type": "display_data"
    }
   ],
   "source": [
    "import matplotlib.pyplot as plt\n",
    "import numpy as np\n",
    "array = [np.log1p(val['num_files']) for val in in_stats]\n",
    "#array = [val['num_files'] for val in in_stats]\n",
    "plt.hist(np.array(array), 15)"
   ]
  },
  {
   "cell_type": "code",
   "execution_count": null,
   "id": "9946d610-e7d9-4633-9f5b-348152b2ef0b",
   "metadata": {},
   "outputs": [],
   "source": []
  },
  {
   "cell_type": "code",
   "execution_count": null,
   "id": "b9e17922-12de-445e-99e3-157a30da2abd",
   "metadata": {},
   "outputs": [],
   "source": []
  },
  {
   "cell_type": "code",
   "execution_count": null,
   "id": "a1d43b08-e642-4d31-9578-d5eb592a94d3",
   "metadata": {},
   "outputs": [],
   "source": []
  },
  {
   "cell_type": "code",
   "execution_count": null,
   "id": "600d0dd8-cf0f-4976-b589-6f5464b0642a",
   "metadata": {},
   "outputs": [],
   "source": []
  },
  {
   "cell_type": "code",
   "execution_count": null,
   "id": "93ce63e9-7695-4c0e-8972-56f06f9c506a",
   "metadata": {},
   "outputs": [],
   "source": []
  },
  {
   "cell_type": "code",
   "execution_count": null,
   "id": "7d1d4ce3-ed60-4396-9dd6-8750e16f9424",
   "metadata": {},
   "outputs": [],
   "source": []
  },
  {
   "cell_type": "code",
   "execution_count": null,
   "id": "10d85046-6df7-4203-a29b-9641faa7004a",
   "metadata": {},
   "outputs": [],
   "source": []
  },
  {
   "cell_type": "code",
   "execution_count": null,
   "id": "4ffab005-d1d5-42ea-a2e6-0ca56a3348be",
   "metadata": {},
   "outputs": [],
   "source": []
  }
 ],
 "metadata": {
  "kernelspec": {
   "display_name": "Python 3 (ipykernel)",
   "language": "python",
   "name": "python3"
  },
  "language_info": {
   "codemirror_mode": {
    "name": "ipython",
    "version": 3
   },
   "file_extension": ".py",
   "mimetype": "text/x-python",
   "name": "python",
   "nbconvert_exporter": "python",
   "pygments_lexer": "ipython3",
   "version": "3.8.10"
  }
 },
 "nbformat": 4,
 "nbformat_minor": 5
}
