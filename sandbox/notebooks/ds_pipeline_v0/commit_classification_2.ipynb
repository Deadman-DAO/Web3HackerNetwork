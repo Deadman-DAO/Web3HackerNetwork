{
 "cells": [
  {
   "cell_type": "markdown",
   "id": "9610a4cf-b430-4648-83d6-c60659d111f4",
   "metadata": {},
   "source": [
    "### Load the Commit Statistics"
   ]
  },
  {
   "cell_type": "code",
   "execution_count": 5,
   "id": "f8b0fe3f-b091-44c9-84e6-4641cf623c1c",
   "metadata": {
    "tags": []
   },
   "outputs": [],
   "source": [
    "project_root_path = '../../..'\n",
    "lib_path = project_root_path + '/python/lib/'\n",
    "import json\n",
    "import sys\n",
    "sys.path.append(lib_path)\n",
    "import commit_features\n",
    "\n",
    "dataset_dir = project_root_path + '/sandbox/data/bob'\n",
    "project_stats_dir = dataset_dir + '/ocean_repos'\n",
    "file_name = 'commit_stat.json'\n",
    "all_commit_features = commit_features.load_all(project_stats_dir, file_name)"
   ]
  },
  {
   "cell_type": "markdown",
   "id": "9546a463-9563-49e6-8783-dfbadbc802d8",
   "metadata": {},
   "source": [
    "### Load the Manual Labels\n",
    "commit_labelling.csv is a manual labelling of 160 commits, done with an assist from the output of the clustering notebook."
   ]
  },
  {
   "cell_type": "code",
   "execution_count": 6,
   "id": "b2d9cb57-c542-4de4-b7e8-d3f591a16468",
   "metadata": {},
   "outputs": [],
   "source": [
    "import commit_features\n",
    "\n",
    "classifier_features = [\n",
    "    'textFiles', 'textLines', 'configurationLines',\n",
    "    'htmlLines', 'javascriptLines', 'jsonLines',\n",
    "    'markdownLines', 'pythonLines',\n",
    "    'solidityLines', 'yarnLines'\n",
    "]\n",
    "\n",
    "labeling_path = project_root_path + '/sandbox/data/bob/commit_labeling.csv'\n",
    "X, y = commit_features.make_training_set(labeling_path, all_commit_features, classifier_features)"
   ]
  },
  {
   "cell_type": "code",
   "execution_count": 7,
   "id": "39fcef56-5bf5-4da6-b44c-3454f1017b81",
   "metadata": {},
   "outputs": [
    {
     "data": {
      "text/html": [
       "<div>\n",
       "<style scoped>\n",
       "    .dataframe tbody tr th:only-of-type {\n",
       "        vertical-align: middle;\n",
       "    }\n",
       "\n",
       "    .dataframe tbody tr th {\n",
       "        vertical-align: top;\n",
       "    }\n",
       "\n",
       "    .dataframe thead th {\n",
       "        text-align: right;\n",
       "    }\n",
       "</style>\n",
       "<table border=\"1\" class=\"dataframe\">\n",
       "  <thead>\n",
       "    <tr style=\"text-align: right;\">\n",
       "      <th></th>\n",
       "      <th>label</th>\n",
       "      <th>cluster</th>\n",
       "      <th>textFiles</th>\n",
       "      <th>textLines</th>\n",
       "      <th>cfg</th>\n",
       "      <th>html</th>\n",
       "      <th>js</th>\n",
       "      <th>json</th>\n",
       "      <th>md</th>\n",
       "      <th>noext</th>\n",
       "      <th>pydata</th>\n",
       "      <th>python</th>\n",
       "      <th>solidity</th>\n",
       "      <th>txt</th>\n",
       "      <th>yarn</th>\n",
       "    </tr>\n",
       "    <tr>\n",
       "      <th>commit id</th>\n",
       "      <th></th>\n",
       "      <th></th>\n",
       "      <th></th>\n",
       "      <th></th>\n",
       "      <th></th>\n",
       "      <th></th>\n",
       "      <th></th>\n",
       "      <th></th>\n",
       "      <th></th>\n",
       "      <th></th>\n",
       "      <th></th>\n",
       "      <th></th>\n",
       "      <th></th>\n",
       "      <th></th>\n",
       "      <th></th>\n",
       "    </tr>\n",
       "  </thead>\n",
       "  <tbody>\n",
       "    <tr>\n",
       "      <th>2756f5a019de502fcced015268b07180d9ec1ac3</th>\n",
       "      <td>bulk</td>\n",
       "      <td>11</td>\n",
       "      <td>3</td>\n",
       "      <td>13954</td>\n",
       "      <td>0.00</td>\n",
       "      <td>0.0</td>\n",
       "      <td>0.01</td>\n",
       "      <td>0.00</td>\n",
       "      <td>0.00</td>\n",
       "      <td>0.00</td>\n",
       "      <td>0</td>\n",
       "      <td>0.00</td>\n",
       "      <td>0.00</td>\n",
       "      <td>99.98</td>\n",
       "      <td>0.00</td>\n",
       "    </tr>\n",
       "    <tr>\n",
       "      <th>91fa3284a4486abeef236f36f42d097da33037bd</th>\n",
       "      <td>python</td>\n",
       "      <td>3</td>\n",
       "      <td>8</td>\n",
       "      <td>73</td>\n",
       "      <td>12.32</td>\n",
       "      <td>0.0</td>\n",
       "      <td>0.00</td>\n",
       "      <td>0.00</td>\n",
       "      <td>0.00</td>\n",
       "      <td>0.00</td>\n",
       "      <td>0</td>\n",
       "      <td>80.82</td>\n",
       "      <td>0.00</td>\n",
       "      <td>5.47</td>\n",
       "      <td>1.36</td>\n",
       "    </tr>\n",
       "    <tr>\n",
       "      <th>3ee3e8501fef64768d380e94f923d969db395f82</th>\n",
       "      <td>python</td>\n",
       "      <td>3</td>\n",
       "      <td>3</td>\n",
       "      <td>74</td>\n",
       "      <td>0.00</td>\n",
       "      <td>0.0</td>\n",
       "      <td>0.00</td>\n",
       "      <td>0.00</td>\n",
       "      <td>0.00</td>\n",
       "      <td>0.00</td>\n",
       "      <td>0</td>\n",
       "      <td>94.59</td>\n",
       "      <td>0.00</td>\n",
       "      <td>5.40</td>\n",
       "      <td>0.00</td>\n",
       "    </tr>\n",
       "    <tr>\n",
       "      <th>e4e90e4fbb101dfb93b84d24c27334e9547ec57d</th>\n",
       "      <td>py</td>\n",
       "      <td>3</td>\n",
       "      <td>9</td>\n",
       "      <td>234</td>\n",
       "      <td>1.70</td>\n",
       "      <td>0.0</td>\n",
       "      <td>0.00</td>\n",
       "      <td>0.00</td>\n",
       "      <td>3.84</td>\n",
       "      <td>0.00</td>\n",
       "      <td>0</td>\n",
       "      <td>67.09</td>\n",
       "      <td>0.00</td>\n",
       "      <td>1.70</td>\n",
       "      <td>25.64</td>\n",
       "    </tr>\n",
       "    <tr>\n",
       "      <th>eac05984ac7d460e87fd0235c9a6b60d6b510d15</th>\n",
       "      <td>bulk</td>\n",
       "      <td>4</td>\n",
       "      <td>24</td>\n",
       "      <td>56786</td>\n",
       "      <td>0.13</td>\n",
       "      <td>0.0</td>\n",
       "      <td>0.00</td>\n",
       "      <td>97.25</td>\n",
       "      <td>0.39</td>\n",
       "      <td>0.06</td>\n",
       "      <td>0</td>\n",
       "      <td>1.17</td>\n",
       "      <td>0.69</td>\n",
       "      <td>0.04</td>\n",
       "      <td>0.00</td>\n",
       "    </tr>\n",
       "    <tr>\n",
       "      <th>...</th>\n",
       "      <td>...</td>\n",
       "      <td>...</td>\n",
       "      <td>...</td>\n",
       "      <td>...</td>\n",
       "      <td>...</td>\n",
       "      <td>...</td>\n",
       "      <td>...</td>\n",
       "      <td>...</td>\n",
       "      <td>...</td>\n",
       "      <td>...</td>\n",
       "      <td>...</td>\n",
       "      <td>...</td>\n",
       "      <td>...</td>\n",
       "      <td>...</td>\n",
       "      <td>...</td>\n",
       "    </tr>\n",
       "    <tr>\n",
       "      <th>35b2f1bc83fac76cd8d71ec83dc5d9e23edabac4</th>\n",
       "      <td>minor_yarn</td>\n",
       "      <td>10</td>\n",
       "      <td>1</td>\n",
       "      <td>3</td>\n",
       "      <td>0.00</td>\n",
       "      <td>0.0</td>\n",
       "      <td>0.00</td>\n",
       "      <td>0.00</td>\n",
       "      <td>0.00</td>\n",
       "      <td>0.00</td>\n",
       "      <td>0</td>\n",
       "      <td>0.00</td>\n",
       "      <td>0.00</td>\n",
       "      <td>0.00</td>\n",
       "      <td>100.00</td>\n",
       "    </tr>\n",
       "    <tr>\n",
       "      <th>e4592017909962c21aba7bff888564f4aeea6cf2</th>\n",
       "      <td>minor_yarn</td>\n",
       "      <td>10</td>\n",
       "      <td>1</td>\n",
       "      <td>3</td>\n",
       "      <td>0.00</td>\n",
       "      <td>0.0</td>\n",
       "      <td>0.00</td>\n",
       "      <td>0.00</td>\n",
       "      <td>0.00</td>\n",
       "      <td>0.00</td>\n",
       "      <td>0</td>\n",
       "      <td>0.00</td>\n",
       "      <td>0.00</td>\n",
       "      <td>0.00</td>\n",
       "      <td>100.00</td>\n",
       "    </tr>\n",
       "    <tr>\n",
       "      <th>d265eb11f7c613b24acc44d08f212bcf160d6dfe</th>\n",
       "      <td>minor_yarn</td>\n",
       "      <td>10</td>\n",
       "      <td>1</td>\n",
       "      <td>2</td>\n",
       "      <td>0.00</td>\n",
       "      <td>0.0</td>\n",
       "      <td>0.00</td>\n",
       "      <td>0.00</td>\n",
       "      <td>0.00</td>\n",
       "      <td>0.00</td>\n",
       "      <td>0</td>\n",
       "      <td>0.00</td>\n",
       "      <td>0.00</td>\n",
       "      <td>0.00</td>\n",
       "      <td>100.00</td>\n",
       "    </tr>\n",
       "    <tr>\n",
       "      <th>8215d18c0996117ad9f92523f951fd371752b6e2</th>\n",
       "      <td>yarn</td>\n",
       "      <td>0</td>\n",
       "      <td>1</td>\n",
       "      <td>50</td>\n",
       "      <td>0.00</td>\n",
       "      <td>0.0</td>\n",
       "      <td>0.00</td>\n",
       "      <td>0.00</td>\n",
       "      <td>0.00</td>\n",
       "      <td>0.00</td>\n",
       "      <td>0</td>\n",
       "      <td>0.00</td>\n",
       "      <td>0.00</td>\n",
       "      <td>0.00</td>\n",
       "      <td>100.00</td>\n",
       "    </tr>\n",
       "    <tr>\n",
       "      <th>8215d18c0996117ad9f92523f951fd371752b6e2</th>\n",
       "      <td>yarn</td>\n",
       "      <td>0</td>\n",
       "      <td>1</td>\n",
       "      <td>50</td>\n",
       "      <td>0.00</td>\n",
       "      <td>0.0</td>\n",
       "      <td>0.00</td>\n",
       "      <td>0.00</td>\n",
       "      <td>0.00</td>\n",
       "      <td>0.00</td>\n",
       "      <td>0</td>\n",
       "      <td>0.00</td>\n",
       "      <td>0.00</td>\n",
       "      <td>0.00</td>\n",
       "      <td>100.00</td>\n",
       "    </tr>\n",
       "  </tbody>\n",
       "</table>\n",
       "<p>600 rows × 15 columns</p>\n",
       "</div>"
      ],
      "text/plain": [
       "                                               label  cluster  textFiles  \\\n",
       "commit id                                                                  \n",
       "2756f5a019de502fcced015268b07180d9ec1ac3        bulk       11          3   \n",
       "91fa3284a4486abeef236f36f42d097da33037bd      python        3          8   \n",
       "3ee3e8501fef64768d380e94f923d969db395f82      python        3          3   \n",
       "e4e90e4fbb101dfb93b84d24c27334e9547ec57d          py        3          9   \n",
       "eac05984ac7d460e87fd0235c9a6b60d6b510d15        bulk        4         24   \n",
       "...                                              ...      ...        ...   \n",
       "35b2f1bc83fac76cd8d71ec83dc5d9e23edabac4  minor_yarn       10          1   \n",
       "e4592017909962c21aba7bff888564f4aeea6cf2  minor_yarn       10          1   \n",
       "d265eb11f7c613b24acc44d08f212bcf160d6dfe  minor_yarn       10          1   \n",
       "8215d18c0996117ad9f92523f951fd371752b6e2        yarn        0          1   \n",
       "8215d18c0996117ad9f92523f951fd371752b6e2        yarn        0          1   \n",
       "\n",
       "                                          textLines    cfg  html    js   json  \\\n",
       "commit id                                                                       \n",
       "2756f5a019de502fcced015268b07180d9ec1ac3      13954   0.00   0.0  0.01   0.00   \n",
       "91fa3284a4486abeef236f36f42d097da33037bd         73  12.32   0.0  0.00   0.00   \n",
       "3ee3e8501fef64768d380e94f923d969db395f82         74   0.00   0.0  0.00   0.00   \n",
       "e4e90e4fbb101dfb93b84d24c27334e9547ec57d        234   1.70   0.0  0.00   0.00   \n",
       "eac05984ac7d460e87fd0235c9a6b60d6b510d15      56786   0.13   0.0  0.00  97.25   \n",
       "...                                             ...    ...   ...   ...    ...   \n",
       "35b2f1bc83fac76cd8d71ec83dc5d9e23edabac4          3   0.00   0.0  0.00   0.00   \n",
       "e4592017909962c21aba7bff888564f4aeea6cf2          3   0.00   0.0  0.00   0.00   \n",
       "d265eb11f7c613b24acc44d08f212bcf160d6dfe          2   0.00   0.0  0.00   0.00   \n",
       "8215d18c0996117ad9f92523f951fd371752b6e2         50   0.00   0.0  0.00   0.00   \n",
       "8215d18c0996117ad9f92523f951fd371752b6e2         50   0.00   0.0  0.00   0.00   \n",
       "\n",
       "                                            md  noext  pydata  python  \\\n",
       "commit id                                                               \n",
       "2756f5a019de502fcced015268b07180d9ec1ac3  0.00   0.00       0    0.00   \n",
       "91fa3284a4486abeef236f36f42d097da33037bd  0.00   0.00       0   80.82   \n",
       "3ee3e8501fef64768d380e94f923d969db395f82  0.00   0.00       0   94.59   \n",
       "e4e90e4fbb101dfb93b84d24c27334e9547ec57d  3.84   0.00       0   67.09   \n",
       "eac05984ac7d460e87fd0235c9a6b60d6b510d15  0.39   0.06       0    1.17   \n",
       "...                                        ...    ...     ...     ...   \n",
       "35b2f1bc83fac76cd8d71ec83dc5d9e23edabac4  0.00   0.00       0    0.00   \n",
       "e4592017909962c21aba7bff888564f4aeea6cf2  0.00   0.00       0    0.00   \n",
       "d265eb11f7c613b24acc44d08f212bcf160d6dfe  0.00   0.00       0    0.00   \n",
       "8215d18c0996117ad9f92523f951fd371752b6e2  0.00   0.00       0    0.00   \n",
       "8215d18c0996117ad9f92523f951fd371752b6e2  0.00   0.00       0    0.00   \n",
       "\n",
       "                                          solidity    txt    yarn  \n",
       "commit id                                                          \n",
       "2756f5a019de502fcced015268b07180d9ec1ac3      0.00  99.98    0.00  \n",
       "91fa3284a4486abeef236f36f42d097da33037bd      0.00   5.47    1.36  \n",
       "3ee3e8501fef64768d380e94f923d969db395f82      0.00   5.40    0.00  \n",
       "e4e90e4fbb101dfb93b84d24c27334e9547ec57d      0.00   1.70   25.64  \n",
       "eac05984ac7d460e87fd0235c9a6b60d6b510d15      0.69   0.04    0.00  \n",
       "...                                            ...    ...     ...  \n",
       "35b2f1bc83fac76cd8d71ec83dc5d9e23edabac4      0.00   0.00  100.00  \n",
       "e4592017909962c21aba7bff888564f4aeea6cf2      0.00   0.00  100.00  \n",
       "d265eb11f7c613b24acc44d08f212bcf160d6dfe      0.00   0.00  100.00  \n",
       "8215d18c0996117ad9f92523f951fd371752b6e2      0.00   0.00  100.00  \n",
       "8215d18c0996117ad9f92523f951fd371752b6e2      0.00   0.00  100.00  \n",
       "\n",
       "[600 rows x 15 columns]"
      ]
     },
     "execution_count": 7,
     "metadata": {},
     "output_type": "execute_result"
    }
   ],
   "source": [
    "import pandas as pd\n",
    "\n",
    "labeling_path = project_root_path + '/sandbox/data/bob/commit_labeling.csv'\n",
    "data_df = pd.read_csv(labeling_path, sep='\\t', index_col=0)\n",
    "data_df"
   ]
  },
  {
   "cell_type": "markdown",
   "id": "5e265b05-91d4-48c6-b0a3-a15d59ea4f8a",
   "metadata": {
    "tags": []
   },
   "source": [
    "### Link Manual Labels to Feature Stats\n",
    "Supervised learning traditionally uses X for features and y for targets. Matrices are notated in capital letters, vectors in lowercase.\n",
    "\n",
    "X is the matrix of input features, with one row per observation and one column per feature.\n",
    "\n",
    "y is the vector of labeled target values with one value for each observation. In some multiclass and multioutput cases, we would use a matrix Y instead."
   ]
  },
  {
   "cell_type": "code",
   "execution_count": 9,
   "id": "c1334520-578f-4b66-9d2a-b7bff76e97ba",
   "metadata": {},
   "outputs": [],
   "source": [
    "import numpy as np\n",
    "\n",
    "features = ['binFiles','textFiles','textLines','javascriptLines','rustLines',\n",
    "            'lockLines','htmlLines','jsonLines','markdownLines','imgFiles']\n",
    "classifier_features = [\n",
    "    'textFiles', 'textLines', 'configurationLines',\n",
    "    'htmlLines', 'javascriptLines', 'jsonLines',\n",
    "    'markdownLines', 'pythonLines',\n",
    "    'solidityLines', 'yarnLines'\n",
    "]\n",
    "\n",
    "features = classifier_features\n",
    "def make_feature_vector(commit_features):\n",
    "    return [np.log1p(commit_features[feature]) for feature in features]\n",
    "\n",
    "features_dict = {}\n",
    "X_full = []\n",
    "for commit_features in all_commit_features:\n",
    "    commit_id = commit_features['commit']\n",
    "    features_dict[commit_id] = commit_features\n",
    "    feature_vector = make_feature_vector(commit_features)\n",
    "    X_full.append(feature_vector)\n",
    "\n",
    "X = []\n",
    "y = []\n",
    "for commit_id, labelling_spreadsheet_row in data_df.iterrows():\n",
    "    commit_features = features_dict[commit_id]\n",
    "    feature_vector = make_feature_vector(commit_features)\n",
    "    target_label = labelling_spreadsheet_row[0]\n",
    "    X.append(feature_vector)\n",
    "    y.append(target_label)"
   ]
  },
  {
   "cell_type": "markdown",
   "id": "5e14acfe-a4e4-4a28-bb66-12cb38a9200f",
   "metadata": {},
   "source": [
    "### Neural Network Classifier\n",
    "Multilayer Perceptrons (MLPs) are cool. They are neural networks with hidden layers that identify subtle patterns in data across multiple input features. Think about looking at multiple pixels in an image simultaneously to recognize a shape, like a wheel. That is the kind of problem at which neural networks justify their high training cost.\n",
    "\n",
    "This is not that kind of problem. But NNs are fun, so I'm training one anyway. :)"
   ]
  },
  {
   "cell_type": "code",
   "execution_count": 10,
   "id": "593b2d65-48cd-4bad-94d7-253edd7ffd8e",
   "metadata": {},
   "outputs": [
    {
     "name": "stdout",
     "output_type": "stream",
     "text": [
      "Score: 0.8484848484848485\n"
     ]
    }
   ],
   "source": [
    "from sklearn.model_selection import train_test_split\n",
    "from sklearn.neural_network import MLPClassifier\n",
    "\n",
    "random_state = 0\n",
    "split = train_test_split(X, y, test_size=0.33, random_state=random_state)\n",
    "X_train, X_test, y_train, y_test = split\n",
    "clf = MLPClassifier(solver='lbfgs', alpha=1e-3,\n",
    "                    hidden_layer_sizes=(20,20,20,20),\n",
    "                    random_state=random_state, max_iter=10000)\n",
    "clf.fit(X_train, y_train)\n",
    "score = clf.score(X_test, y_test)\n",
    "y_pred = clf.predict(X)\n",
    "print('Score: ' + str(score))"
   ]
  },
  {
   "cell_type": "markdown",
   "id": "8d6d61b5-04a6-4e7e-bf71-9f0c35805855",
   "metadata": {},
   "source": [
    "### Reliable Workhorse Classifier\n",
    "If neural networks are the awesome hotness of ML algorithms, Linear Regression and it's classifier sibling, Logistic Regression (sometimes abbreviated as Logit), are the reliable workhorses. Even in data science projects that end with a more advanced classifier, Logit is frequently used to give a baseline score during early analysis.\n",
    "\n",
    "In cases like we have here, with independent features that are mostly correlated to one or two classes, LogisticRegression gets a good answer with very little compute."
   ]
  },
  {
   "cell_type": "code",
   "execution_count": 11,
   "id": "e1e51094-3c18-4f3b-a122-3c8db06d1ca0",
   "metadata": {},
   "outputs": [
    {
     "name": "stdout",
     "output_type": "stream",
     "text": [
      "Score: 0.8585858585858586\n",
      "size: 600\n"
     ]
    }
   ],
   "source": [
    "from sklearn.linear_model import LogisticRegression\n",
    "from sklearn.model_selection import train_test_split\n",
    "\n",
    "random_state = 0\n",
    "split = train_test_split(X, y, test_size=0.33, random_state=random_state)\n",
    "X_train, X_test, y_train, y_test = split\n",
    "clf = LogisticRegression(random_state=random_state, max_iter=10000)\n",
    "clf.fit(X_train, y_train)\n",
    "score = clf.score(X_test, y_test)\n",
    "y_pred = clf.predict(X_test)\n",
    "print('Score: ' + str(score))\n",
    "print('size: ' + str(len(X)))"
   ]
  },
  {
   "cell_type": "markdown",
   "id": "3259839f-8aab-4725-a50f-5b76485d20ae",
   "metadata": {},
   "source": [
    "### Cross Validation"
   ]
  },
  {
   "cell_type": "code",
   "execution_count": 12,
   "id": "6214c62b-0110-463a-bae7-15d831ebe6fe",
   "metadata": {},
   "outputs": [
    {
     "name": "stderr",
     "output_type": "stream",
     "text": [
      "/home/bob/.local/lib/python3.8/site-packages/sklearn/model_selection/_split.py:676: UserWarning: The least populated class in y has only 1 members, which is less than n_splits=5.\n",
      "  warnings.warn(\n"
     ]
    },
    {
     "data": {
      "text/plain": [
       "array([0.55      , 0.86666667, 0.825     , 0.84166667, 0.64166667])"
      ]
     },
     "execution_count": 12,
     "metadata": {},
     "output_type": "execute_result"
    }
   ],
   "source": [
    "from sklearn.linear_model import LogisticRegression\n",
    "from sklearn.model_selection import cross_validate\n",
    "random_state = 0\n",
    "clf = LogisticRegression(random_state = random_state, max_iter=10000)\n",
    "cv_results = cross_validate(clf, X, y, cv=5)\n",
    "cv_results['test_score']"
   ]
  },
  {
   "cell_type": "markdown",
   "id": "529eea39-77f7-4711-8bf3-fd84c4736755",
   "metadata": {},
   "source": [
    "### Confusion Matrix\n",
    "Each row of a confusion matrix shows statistics about one of the target classes. The values in the columns show the number of times that the classifier thought a commit of that type was something else."
   ]
  },
  {
   "cell_type": "code",
   "execution_count": 13,
   "id": "4d7a42a0-8cc9-4c26-9d29-5514a26db069",
   "metadata": {},
   "outputs": [
    {
     "name": "stdout",
     "output_type": "stream",
     "text": [
      "['json', 'solidity', 'minor', 'yarn', 'python', 'minor_yarn', 'minor_json', 'minor_md', 'interface', 'minor_py', 'big_solidity', 'md', 'big_js', 'markdown', 'minor_sol', 'big_markdown', 'py', 'bulk', 'minor_js', 'js', 'big_py', 'config', 'minor_html', 'big_json']\n"
     ]
    },
    {
     "data": {
      "text/plain": [
       "array([[11,  0,  0,  0,  0,  0,  0,  0,  0,  0,  0,  0,  0,  0,  0,  0,\n",
       "         0,  0,  0,  0,  0,  1],\n",
       "       [ 0, 18,  0,  0,  0,  0,  0,  0,  0,  0,  0,  0,  0,  0,  0,  0,\n",
       "         1,  0,  0,  0,  0,  0],\n",
       "       [ 0,  0,  0,  0,  0,  0,  0,  0,  0,  0,  0,  0,  0,  0,  0,  0,\n",
       "         0,  2,  0,  0,  0,  0],\n",
       "       [ 0,  0,  0,  1,  0,  0,  0,  0,  0,  0,  0,  0,  0,  0,  0,  0,\n",
       "         0,  0,  0,  0,  0,  0],\n",
       "       [ 0,  0,  0,  0, 14,  0,  0,  0,  0,  0,  0,  0,  0,  0,  0,  0,\n",
       "         0,  0,  0,  0,  0,  0],\n",
       "       [ 0,  0,  0,  0,  0,  2,  0,  0,  0,  0,  0,  0,  0,  0,  0,  0,\n",
       "         0,  0,  0,  0,  0,  0],\n",
       "       [ 0,  0,  0,  0,  0,  0,  0,  0,  0,  0,  0,  0,  0,  0,  0,  0,\n",
       "         0,  1,  0,  0,  0,  0],\n",
       "       [ 0,  0,  0,  0,  0,  0,  0,  7,  0,  0,  0,  0,  0,  0,  0,  0,\n",
       "         0,  0,  0,  0,  0,  0],\n",
       "       [ 0,  0,  0,  0,  0,  0,  0,  0, 17,  0,  0,  0,  0,  0,  0,  0,\n",
       "         0,  0,  0,  0,  0,  0],\n",
       "       [ 0,  0,  0,  0,  0,  0,  0,  0,  0,  7,  0,  0,  0,  0,  0,  0,\n",
       "         0,  0,  0,  0,  0,  0],\n",
       "       [ 0,  0,  0,  0,  0,  0,  0,  0,  0,  0,  1,  0,  0,  0,  0,  0,\n",
       "         0,  0,  0,  0,  0,  0],\n",
       "       [ 0,  0,  0,  0,  0,  0,  0,  0,  0,  0,  0,  3,  0,  0,  0,  0,\n",
       "         0,  0,  0,  0,  0,  0],\n",
       "       [ 0,  0,  0,  0,  0,  0,  0,  0,  0,  0,  0,  0,  4,  0,  0,  0,\n",
       "         2,  0,  1,  0,  0,  0],\n",
       "       [ 0,  0,  0,  0,  0,  0,  0,  0,  0,  0,  0,  0,  0, 10,  0,  0,\n",
       "         0,  0,  0,  0,  0,  0],\n",
       "       [ 0,  0,  0,  0,  0,  0,  0,  0,  0,  0,  0,  0,  0,  1,  0,  0,\n",
       "         1,  0,  0,  0,  0,  0],\n",
       "       [ 0,  0,  0,  0,  2,  0,  0,  0,  0,  0,  0,  0,  0,  0,  0,  1,\n",
       "         0,  0,  0,  0,  0,  0],\n",
       "       [ 0,  0,  0,  0,  0,  0,  0,  0,  0,  0,  1,  0,  2,  0,  0,  0,\n",
       "        44,  0,  0,  0,  0,  0],\n",
       "       [ 0,  0,  0,  0,  0,  0,  0,  0,  0,  0,  0,  0,  0,  0,  0,  0,\n",
       "         0,  8,  0,  0,  0,  0],\n",
       "       [ 0,  0,  0,  0,  0,  0,  0,  0,  2,  0,  0,  0,  0,  0,  0,  0,\n",
       "         0,  4, 19,  0,  0,  0],\n",
       "       [ 0,  0,  0,  0,  1,  0,  0,  0,  0,  0,  0,  0,  0,  0,  0,  0,\n",
       "         1,  0,  0,  0,  0,  0],\n",
       "       [ 0,  0,  0,  0,  0,  0,  0,  0,  0,  0,  0,  0,  0,  0,  0,  0,\n",
       "         0,  0,  0,  0,  1,  0],\n",
       "       [ 1,  0,  0,  0,  0,  0,  0,  0,  0,  0,  0,  0,  0,  0,  0,  0,\n",
       "         4,  0,  0,  0,  0,  2]])"
      ]
     },
     "execution_count": 13,
     "metadata": {},
     "output_type": "execute_result"
    }
   ],
   "source": [
    "from sklearn.metrics import confusion_matrix\n",
    "target_names = list(set(y))\n",
    "y_test_numeric = [target_names.index(prediction) for prediction in y_test]\n",
    "y_pred_numeric = [target_names.index(prediction) for prediction in y_pred]\n",
    "confusion_mx = confusion_matrix(y_test_numeric, y_pred_numeric)\n",
    "print(target_names)\n",
    "confusion_mx"
   ]
  },
  {
   "cell_type": "markdown",
   "id": "88467589-5008-41ab-9587-fd9fcefb7ab2",
   "metadata": {},
   "source": [
    "### Beautiful Confusion\n",
    "The numbers above are fine if you want something that can be sent over telex, but we can make it a bit prettier.\n",
    "\n",
    "The diagonal of accurate predictions is nice and solid. The confusion points are reasonable and we're not seeing major errors, like confusing Rust commits with Javascript. This result is very good. We can proceed to adding a broader selection of project types in the next iteration."
   ]
  },
  {
   "cell_type": "code",
   "execution_count": 14,
   "id": "595590e4-81f7-488f-80e5-e8d5e9edb9f5",
   "metadata": {},
   "outputs": [
    {
     "ename": "ValueError",
     "evalue": "Shape of passed values is (22, 22), indices imply (24, 24)",
     "output_type": "error",
     "traceback": [
      "\u001b[0;31m---------------------------------------------------------------------------\u001b[0m",
      "\u001b[0;31mValueError\u001b[0m                                Traceback (most recent call last)",
      "Input \u001b[0;32mIn [14]\u001b[0m, in \u001b[0;36m<cell line: 4>\u001b[0;34m()\u001b[0m\n\u001b[1;32m      2\u001b[0m \u001b[38;5;28;01mimport\u001b[39;00m \u001b[38;5;21;01mpandas\u001b[39;00m \u001b[38;5;28;01mas\u001b[39;00m \u001b[38;5;21;01mpd\u001b[39;00m\n\u001b[1;32m      3\u001b[0m \u001b[38;5;28;01mimport\u001b[39;00m \u001b[38;5;21;01mmatplotlib\u001b[39;00m\u001b[38;5;21;01m.\u001b[39;00m\u001b[38;5;21;01mpyplot\u001b[39;00m \u001b[38;5;28;01mas\u001b[39;00m \u001b[38;5;21;01mplt\u001b[39;00m\n\u001b[0;32m----> 4\u001b[0m confusion_df \u001b[38;5;241m=\u001b[39m \u001b[43mpd\u001b[49m\u001b[38;5;241;43m.\u001b[39;49m\u001b[43mDataFrame\u001b[49m\u001b[43m(\u001b[49m\u001b[43mconfusion_mx\u001b[49m\u001b[43m,\u001b[49m\u001b[43m \u001b[49m\u001b[43mindex\u001b[49m\u001b[38;5;241;43m=\u001b[39;49m\u001b[43mtarget_names\u001b[49m\u001b[43m,\u001b[49m\u001b[43m \u001b[49m\u001b[43mcolumns\u001b[49m\u001b[38;5;241;43m=\u001b[39;49m\u001b[43mtarget_names\u001b[49m\u001b[43m)\u001b[49m\n\u001b[1;32m      5\u001b[0m plt\u001b[38;5;241m.\u001b[39mfigure(figsize \u001b[38;5;241m=\u001b[39m (\u001b[38;5;241m7\u001b[39m,\u001b[38;5;241m3\u001b[39m))\n\u001b[1;32m      6\u001b[0m ax \u001b[38;5;241m=\u001b[39m sn\u001b[38;5;241m.\u001b[39mheatmap(confusion_df, annot\u001b[38;5;241m=\u001b[39m\u001b[38;5;28;01mTrue\u001b[39;00m)\n",
      "File \u001b[0;32m~/.local/lib/python3.8/site-packages/pandas/core/frame.py:694\u001b[0m, in \u001b[0;36mDataFrame.__init__\u001b[0;34m(self, data, index, columns, dtype, copy)\u001b[0m\n\u001b[1;32m    684\u001b[0m         mgr \u001b[38;5;241m=\u001b[39m dict_to_mgr(\n\u001b[1;32m    685\u001b[0m             \u001b[38;5;66;03m# error: Item \"ndarray\" of \"Union[ndarray, Series, Index]\" has no\u001b[39;00m\n\u001b[1;32m    686\u001b[0m             \u001b[38;5;66;03m# attribute \"name\"\u001b[39;00m\n\u001b[0;32m   (...)\u001b[0m\n\u001b[1;32m    691\u001b[0m             typ\u001b[38;5;241m=\u001b[39mmanager,\n\u001b[1;32m    692\u001b[0m         )\n\u001b[1;32m    693\u001b[0m     \u001b[38;5;28;01melse\u001b[39;00m:\n\u001b[0;32m--> 694\u001b[0m         mgr \u001b[38;5;241m=\u001b[39m \u001b[43mndarray_to_mgr\u001b[49m\u001b[43m(\u001b[49m\n\u001b[1;32m    695\u001b[0m \u001b[43m            \u001b[49m\u001b[43mdata\u001b[49m\u001b[43m,\u001b[49m\n\u001b[1;32m    696\u001b[0m \u001b[43m            \u001b[49m\u001b[43mindex\u001b[49m\u001b[43m,\u001b[49m\n\u001b[1;32m    697\u001b[0m \u001b[43m            \u001b[49m\u001b[43mcolumns\u001b[49m\u001b[43m,\u001b[49m\n\u001b[1;32m    698\u001b[0m \u001b[43m            \u001b[49m\u001b[43mdtype\u001b[49m\u001b[38;5;241;43m=\u001b[39;49m\u001b[43mdtype\u001b[49m\u001b[43m,\u001b[49m\n\u001b[1;32m    699\u001b[0m \u001b[43m            \u001b[49m\u001b[43mcopy\u001b[49m\u001b[38;5;241;43m=\u001b[39;49m\u001b[43mcopy\u001b[49m\u001b[43m,\u001b[49m\n\u001b[1;32m    700\u001b[0m \u001b[43m            \u001b[49m\u001b[43mtyp\u001b[49m\u001b[38;5;241;43m=\u001b[39;49m\u001b[43mmanager\u001b[49m\u001b[43m,\u001b[49m\n\u001b[1;32m    701\u001b[0m \u001b[43m        \u001b[49m\u001b[43m)\u001b[49m\n\u001b[1;32m    703\u001b[0m \u001b[38;5;66;03m# For data is list-like, or Iterable (will consume into list)\u001b[39;00m\n\u001b[1;32m    704\u001b[0m \u001b[38;5;28;01melif\u001b[39;00m is_list_like(data):\n",
      "File \u001b[0;32m~/.local/lib/python3.8/site-packages/pandas/core/internals/construction.py:351\u001b[0m, in \u001b[0;36mndarray_to_mgr\u001b[0;34m(values, index, columns, dtype, copy, typ)\u001b[0m\n\u001b[1;32m    346\u001b[0m \u001b[38;5;66;03m# _prep_ndarray ensures that values.ndim == 2 at this point\u001b[39;00m\n\u001b[1;32m    347\u001b[0m index, columns \u001b[38;5;241m=\u001b[39m _get_axes(\n\u001b[1;32m    348\u001b[0m     values\u001b[38;5;241m.\u001b[39mshape[\u001b[38;5;241m0\u001b[39m], values\u001b[38;5;241m.\u001b[39mshape[\u001b[38;5;241m1\u001b[39m], index\u001b[38;5;241m=\u001b[39mindex, columns\u001b[38;5;241m=\u001b[39mcolumns\n\u001b[1;32m    349\u001b[0m )\n\u001b[0;32m--> 351\u001b[0m \u001b[43m_check_values_indices_shape_match\u001b[49m\u001b[43m(\u001b[49m\u001b[43mvalues\u001b[49m\u001b[43m,\u001b[49m\u001b[43m \u001b[49m\u001b[43mindex\u001b[49m\u001b[43m,\u001b[49m\u001b[43m \u001b[49m\u001b[43mcolumns\u001b[49m\u001b[43m)\u001b[49m\n\u001b[1;32m    353\u001b[0m \u001b[38;5;28;01mif\u001b[39;00m typ \u001b[38;5;241m==\u001b[39m \u001b[38;5;124m\"\u001b[39m\u001b[38;5;124marray\u001b[39m\u001b[38;5;124m\"\u001b[39m:\n\u001b[1;32m    355\u001b[0m     \u001b[38;5;28;01mif\u001b[39;00m \u001b[38;5;28missubclass\u001b[39m(values\u001b[38;5;241m.\u001b[39mdtype\u001b[38;5;241m.\u001b[39mtype, \u001b[38;5;28mstr\u001b[39m):\n",
      "File \u001b[0;32m~/.local/lib/python3.8/site-packages/pandas/core/internals/construction.py:422\u001b[0m, in \u001b[0;36m_check_values_indices_shape_match\u001b[0;34m(values, index, columns)\u001b[0m\n\u001b[1;32m    420\u001b[0m passed \u001b[38;5;241m=\u001b[39m values\u001b[38;5;241m.\u001b[39mshape\n\u001b[1;32m    421\u001b[0m implied \u001b[38;5;241m=\u001b[39m (\u001b[38;5;28mlen\u001b[39m(index), \u001b[38;5;28mlen\u001b[39m(columns))\n\u001b[0;32m--> 422\u001b[0m \u001b[38;5;28;01mraise\u001b[39;00m \u001b[38;5;167;01mValueError\u001b[39;00m(\u001b[38;5;124mf\u001b[39m\u001b[38;5;124m\"\u001b[39m\u001b[38;5;124mShape of passed values is \u001b[39m\u001b[38;5;132;01m{\u001b[39;00mpassed\u001b[38;5;132;01m}\u001b[39;00m\u001b[38;5;124m, indices imply \u001b[39m\u001b[38;5;132;01m{\u001b[39;00mimplied\u001b[38;5;132;01m}\u001b[39;00m\u001b[38;5;124m\"\u001b[39m)\n",
      "\u001b[0;31mValueError\u001b[0m: Shape of passed values is (22, 22), indices imply (24, 24)"
     ]
    }
   ],
   "source": [
    "import seaborn as sn\n",
    "import pandas as pd\n",
    "import matplotlib.pyplot as plt\n",
    "confusion_df = pd.DataFrame(confusion_mx, index=target_names, columns=target_names)\n",
    "plt.figure(figsize = (7,3))\n",
    "ax = sn.heatmap(confusion_df, annot=True)\n",
    "ax.set_xlabel(\"\\nPredicted Class\")\n",
    "ax.set_ylabel(\"Actual Class\\n\")\n",
    "plt.show()"
   ]
  },
  {
   "cell_type": "code",
   "execution_count": 15,
   "id": "6f700c90-3bed-4642-9d9f-ca2d8f62b2a2",
   "metadata": {},
   "outputs": [
    {
     "name": "stdout",
     "output_type": "stream",
     "text": [
      "93960\n"
     ]
    }
   ],
   "source": [
    "from sklearn.linear_model import LogisticRegression\n",
    "import pickle\n",
    "\n",
    "random_state = 0\n",
    "clf = LogisticRegression(random_state=random_state, max_iter=10000)\n",
    "clf.fit(X, y)\n",
    "y_pred = clf.predict(X_full)\n",
    "print(len(y_pred))\n",
    "model_path = project_root_path + '/sandbox/data/bob/logit-clf.dat'\n",
    "fout = open(model_path, 'wb')\n",
    "model_serial = pickle.dump(clf, fout)\n",
    "fout.close()"
   ]
  },
  {
   "cell_type": "code",
   "execution_count": 16,
   "id": "26ade470-2733-400a-90ab-ed9a7eb9c96e",
   "metadata": {},
   "outputs": [
    {
     "name": "stdout",
     "output_type": "stream",
     "text": [
      "93960\n"
     ]
    }
   ],
   "source": [
    "fin = open(model_path, 'rb')\n",
    "model_deserial = pickle.load(fin)\n",
    "fin.close()\n",
    "y_pred = clf.predict(X_full)\n",
    "print(len(y_pred))"
   ]
  }
 ],
 "metadata": {
  "kernelspec": {
   "display_name": "Python 3 (ipykernel)",
   "language": "python",
   "name": "python3"
  },
  "language_info": {
   "codemirror_mode": {
    "name": "ipython",
    "version": 3
   },
   "file_extension": ".py",
   "mimetype": "text/x-python",
   "name": "python",
   "nbconvert_exporter": "python",
   "pygments_lexer": "ipython3",
   "version": "3.8.10"
  }
 },
 "nbformat": 4,
 "nbformat_minor": 5
}
