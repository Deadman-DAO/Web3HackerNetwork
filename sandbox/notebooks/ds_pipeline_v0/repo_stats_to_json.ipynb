{
 "cells": [
  {
   "cell_type": "code",
   "execution_count": 3,
   "id": "4bce7923-fe4e-4b2d-b4f2-681f96da1f0e",
   "metadata": {},
   "outputs": [],
   "source": [
    "title = 'Days of our lives\\n'\n",
    "root = '/home/bob/projects/Web3HackerNetwork'\n",
    "dataset_dir = root + \"/data/github/2022-04-07-marine-search\"\n",
    "stats_dir = dataset_dir + \"/projects\""
   ]
  },
  {
   "cell_type": "code",
   "execution_count": 39,
   "id": "44028b65-9f9c-4b96-a0b7-7828b950c6d7",
   "metadata": {},
   "outputs": [],
   "source": [
    "def read_repo_stats(login, project, filename):\n",
    "    path = stats_dir + \"/\" + login + \"/\" + project + \"/\" + filename\n",
    "    stats = dict(login=login, project=project)\n",
    "    with open(path, 'r') as f:\n",
    "        for line in f:\n",
    "            line = line.strip()\n",
    "            (name, val) = line.split()\n",
    "            # print(\"name: \" + name + \", val: \" + val);\n",
    "            stats[name] = int(val)\n",
    "    return stats"
   ]
  },
  {
   "cell_type": "code",
   "execution_count": 44,
   "id": "2d9172ea-d48a-4f56-89bd-5086e638dcd9",
   "metadata": {},
   "outputs": [],
   "source": [
    "import os\n",
    "start = stats_dir\n",
    "all_stats = []\n",
    "for root, logins, files in os.walk(start):\n",
    "    # print(root);\n",
    "    for login in logins:\n",
    "        #print('login '+login);\n",
    "        for r2, projects, f2 in os.walk(root+'/'+login):\n",
    "            for project in projects:\n",
    "                #print(\"project: \" + project);\n",
    "                for r3, d3, filenames in os.walk(root + \"/\" + login + \"/\" + project):\n",
    "                    for filename in filenames:\n",
    "                        if (filename == \"repo-stat.log\"):\n",
    "                            # read_stats\n",
    "                            # print(\"login: \" + login + \", project: \" + project + \", file: \" + filename);\n",
    "                            stats = read_repo_stats(login, project, filename);\n",
    "                            all_stats.append(stats)"
   ]
  },
  {
   "cell_type": "code",
   "execution_count": 54,
   "id": "66d3d3ad-9abe-466e-a7c6-2c9abf66b41f",
   "metadata": {},
   "outputs": [
    {
     "name": "stdout",
     "output_type": "stream",
     "text": [
      "{'login': 'KirSerz', 'project': 'hackathon_wallet', 'num_files': 53, 'num_commits': 21, 'num_locs': 80798, 'num_rust_files': 3, 'num_react_files': 10, 'num_markdown_files': 3, 'num_binary_files': 4, 'num_rust_locs': 436, 'num_react_locs': 1458, 'num_markdown_locs': 372, 'num_binary_bytes': 87982}\n",
      "{'login': 'cbonoz', 'project': 'hackfs21', 'num_files': 168, 'num_commits': 31, 'num_locs': 153737, 'num_rust_files': 2, 'num_react_files': 83, 'num_markdown_files': 3, 'num_binary_files': 25, 'num_rust_locs': 260, 'num_react_locs': 17902, 'num_markdown_locs': 750, 'num_binary_bytes': 4152837}\n"
     ]
    }
   ],
   "source": [
    "for stats in all_stats[slice(2,6,2)]: # begin (inclusive), end (exclusive), stepsize\n",
    "    print(stats)"
   ]
  },
  {
   "cell_type": "markdown",
   "id": "acfe7a2f-d3c4-4245-a6f7-62d88ee3189d",
   "metadata": {},
   "source": [
    "### write the stats to JSON on disk"
   ]
  },
  {
   "cell_type": "code",
   "execution_count": 104,
   "id": "2d8b42ff-74aa-436b-aca3-13fda06bc2e8",
   "metadata": {},
   "outputs": [],
   "source": [
    "import json\n",
    "\n",
    "out_path = dataset_dir + \"/all_repo_stats.json\"\n",
    "out_handle = open(out_path, \"w\");\n",
    "out_handle.write(json.dumps(all_stats, indent=2));\n",
    "out_handle.flush()\n",
    "out_handle.close()"
   ]
  },
  {
   "cell_type": "code",
   "execution_count": null,
   "id": "4ffab005-d1d5-42ea-a2e6-0ca56a3348be",
   "metadata": {},
   "outputs": [],
   "source": []
  }
 ],
 "metadata": {
  "kernelspec": {
   "display_name": "Python 3 (ipykernel)",
   "language": "python",
   "name": "python3"
  },
  "language_info": {
   "codemirror_mode": {
    "name": "ipython",
    "version": 3
   },
   "file_extension": ".py",
   "mimetype": "text/x-python",
   "name": "python",
   "nbconvert_exporter": "python",
   "pygments_lexer": "ipython3",
   "version": "3.8.10"
  }
 },
 "nbformat": 4,
 "nbformat_minor": 5
}
